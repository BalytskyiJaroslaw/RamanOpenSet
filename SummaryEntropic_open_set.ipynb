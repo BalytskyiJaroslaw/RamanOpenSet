{
  "nbformat": 4,
  "nbformat_minor": 0,
  "metadata": {
    "colab": {
      "name": "SummaryEntropic_open_set.ipynb",
      "provenance": [],
      "collapsed_sections": []
    },
    "kernelspec": {
      "name": "python3",
      "display_name": "Python 3"
    },
    "language_info": {
      "name": "python"
    },
    "accelerator": "TPU"
  },
  "cells": [
    {
      "cell_type": "code",
      "metadata": {
        "id": "9Dvb3Nvz6Tl1"
      },
      "source": [
        "import numpy as np\n",
        "from numpy import genfromtxt\n",
        "\n",
        "import pandas as pd\n",
        "from pandas import ExcelWriter\n",
        "from pandas import ExcelFile\n",
        "from pandas import read_csv\n",
        "\n",
        "import csv\n",
        "import pprint\n",
        "\n",
        "import tensorflow as tf\n",
        "from tensorflow import keras \n",
        "from tensorflow.keras import layers, models\n",
        "\n",
        "import keras\n",
        "#from keras.utils import to_categorical\n",
        "from pandas import read_csv\n",
        "from keras.models import Sequential\n",
        "from keras import layers\n",
        "#from keras.optimizers import SGD\n",
        "from keras import regularizers\n",
        "from keras.models import Sequential\n",
        "from keras.layers import Dense\n",
        "#from keras.optimizers import SGD\n",
        "\n",
        "from sklearn.preprocessing import LabelEncoder\n",
        "from sklearn.model_selection import train_test_split\n",
        "\n",
        "import matplotlib.pyplot as plt\n",
        "import seaborn as sns\n",
        "import random\n",
        "from pprint import pprint\n",
        "\n",
        "from sklearn.preprocessing import LabelEncoder\n",
        "import gspread\n",
        "import pandas as pd\n",
        "import pickle \n",
        "import pywt\n",
        "import matplotlib.pyplot as plt\n",
        "from tensorflow.keras import regularizers\n",
        "#from keras.utils import to_categorical\n",
        "\n",
        "from time import time\n",
        "t00 = time()\n",
        "import os\n",
        "from tensorflow.keras import layers\n",
        "from keras.layers import Input, Dense, concatenate\n",
        "from keras.models import Model"
      ],
      "execution_count": null,
      "outputs": []
    },
    {
      "cell_type": "code",
      "metadata": {
        "id": "UKytys-66czl",
        "colab": {
          "base_uri": "https://localhost:8080/"
        },
        "outputId": "55750842-c76c-46d5-9274-bb96da1cd04a"
      },
      "source": [
        "# Initialize the TPU and spread the computations across the 8 cores\n",
        "import tensorflow as tf \n",
        "resolver = tf.distribute.cluster_resolver.TPUClusterResolver(tpu='')\n",
        "tf.config.experimental_connect_to_cluster(resolver)\n",
        "# This is the TPU initialization code that has to be at the beginning.\n",
        "tf.tpu.experimental.initialize_tpu_system(resolver)\n",
        "tf.config.list_logical_devices('TPU')\n",
        "#print(\"All devices: \", tf.config.list_logical_devices('TPU'))\n",
        "\n",
        "strategy = tf.distribute.TPUStrategy(resolver)"
      ],
      "execution_count": null,
      "outputs": [
        {
          "output_type": "stream",
          "name": "stdout",
          "text": [
            "INFO:tensorflow:Clearing out eager caches\n"
          ]
        },
        {
          "output_type": "stream",
          "name": "stderr",
          "text": [
            "INFO:tensorflow:Clearing out eager caches\n"
          ]
        },
        {
          "output_type": "stream",
          "name": "stdout",
          "text": [
            "INFO:tensorflow:Initializing the TPU system: grpc://10.35.20.2:8470\n"
          ]
        },
        {
          "output_type": "stream",
          "name": "stderr",
          "text": [
            "INFO:tensorflow:Initializing the TPU system: grpc://10.35.20.2:8470\n"
          ]
        },
        {
          "output_type": "stream",
          "name": "stdout",
          "text": [
            "INFO:tensorflow:Finished initializing TPU system.\n"
          ]
        },
        {
          "output_type": "stream",
          "name": "stderr",
          "text": [
            "INFO:tensorflow:Finished initializing TPU system.\n"
          ]
        },
        {
          "output_type": "stream",
          "name": "stdout",
          "text": [
            "INFO:tensorflow:Found TPU system:\n"
          ]
        },
        {
          "output_type": "stream",
          "name": "stderr",
          "text": [
            "INFO:tensorflow:Found TPU system:\n"
          ]
        },
        {
          "output_type": "stream",
          "name": "stdout",
          "text": [
            "INFO:tensorflow:*** Num TPU Cores: 8\n"
          ]
        },
        {
          "output_type": "stream",
          "name": "stderr",
          "text": [
            "INFO:tensorflow:*** Num TPU Cores: 8\n"
          ]
        },
        {
          "output_type": "stream",
          "name": "stdout",
          "text": [
            "INFO:tensorflow:*** Num TPU Workers: 1\n"
          ]
        },
        {
          "output_type": "stream",
          "name": "stderr",
          "text": [
            "INFO:tensorflow:*** Num TPU Workers: 1\n"
          ]
        },
        {
          "output_type": "stream",
          "name": "stdout",
          "text": [
            "INFO:tensorflow:*** Num TPU Cores Per Worker: 8\n"
          ]
        },
        {
          "output_type": "stream",
          "name": "stderr",
          "text": [
            "INFO:tensorflow:*** Num TPU Cores Per Worker: 8\n"
          ]
        },
        {
          "output_type": "stream",
          "name": "stdout",
          "text": [
            "INFO:tensorflow:*** Available Device: _DeviceAttributes(/job:localhost/replica:0/task:0/device:CPU:0, CPU, 0, 0)\n"
          ]
        },
        {
          "output_type": "stream",
          "name": "stderr",
          "text": [
            "INFO:tensorflow:*** Available Device: _DeviceAttributes(/job:localhost/replica:0/task:0/device:CPU:0, CPU, 0, 0)\n"
          ]
        },
        {
          "output_type": "stream",
          "name": "stdout",
          "text": [
            "INFO:tensorflow:*** Available Device: _DeviceAttributes(/job:worker/replica:0/task:0/device:CPU:0, CPU, 0, 0)\n"
          ]
        },
        {
          "output_type": "stream",
          "name": "stderr",
          "text": [
            "INFO:tensorflow:*** Available Device: _DeviceAttributes(/job:worker/replica:0/task:0/device:CPU:0, CPU, 0, 0)\n"
          ]
        },
        {
          "output_type": "stream",
          "name": "stdout",
          "text": [
            "INFO:tensorflow:*** Available Device: _DeviceAttributes(/job:worker/replica:0/task:0/device:TPU:0, TPU, 0, 0)\n"
          ]
        },
        {
          "output_type": "stream",
          "name": "stderr",
          "text": [
            "INFO:tensorflow:*** Available Device: _DeviceAttributes(/job:worker/replica:0/task:0/device:TPU:0, TPU, 0, 0)\n"
          ]
        },
        {
          "output_type": "stream",
          "name": "stdout",
          "text": [
            "INFO:tensorflow:*** Available Device: _DeviceAttributes(/job:worker/replica:0/task:0/device:TPU:1, TPU, 0, 0)\n"
          ]
        },
        {
          "output_type": "stream",
          "name": "stderr",
          "text": [
            "INFO:tensorflow:*** Available Device: _DeviceAttributes(/job:worker/replica:0/task:0/device:TPU:1, TPU, 0, 0)\n"
          ]
        },
        {
          "output_type": "stream",
          "name": "stdout",
          "text": [
            "INFO:tensorflow:*** Available Device: _DeviceAttributes(/job:worker/replica:0/task:0/device:TPU:2, TPU, 0, 0)\n"
          ]
        },
        {
          "output_type": "stream",
          "name": "stderr",
          "text": [
            "INFO:tensorflow:*** Available Device: _DeviceAttributes(/job:worker/replica:0/task:0/device:TPU:2, TPU, 0, 0)\n"
          ]
        },
        {
          "output_type": "stream",
          "name": "stdout",
          "text": [
            "INFO:tensorflow:*** Available Device: _DeviceAttributes(/job:worker/replica:0/task:0/device:TPU:3, TPU, 0, 0)\n"
          ]
        },
        {
          "output_type": "stream",
          "name": "stderr",
          "text": [
            "INFO:tensorflow:*** Available Device: _DeviceAttributes(/job:worker/replica:0/task:0/device:TPU:3, TPU, 0, 0)\n"
          ]
        },
        {
          "output_type": "stream",
          "name": "stdout",
          "text": [
            "INFO:tensorflow:*** Available Device: _DeviceAttributes(/job:worker/replica:0/task:0/device:TPU:4, TPU, 0, 0)\n"
          ]
        },
        {
          "output_type": "stream",
          "name": "stderr",
          "text": [
            "INFO:tensorflow:*** Available Device: _DeviceAttributes(/job:worker/replica:0/task:0/device:TPU:4, TPU, 0, 0)\n"
          ]
        },
        {
          "output_type": "stream",
          "name": "stdout",
          "text": [
            "INFO:tensorflow:*** Available Device: _DeviceAttributes(/job:worker/replica:0/task:0/device:TPU:5, TPU, 0, 0)\n"
          ]
        },
        {
          "output_type": "stream",
          "name": "stderr",
          "text": [
            "INFO:tensorflow:*** Available Device: _DeviceAttributes(/job:worker/replica:0/task:0/device:TPU:5, TPU, 0, 0)\n"
          ]
        },
        {
          "output_type": "stream",
          "name": "stdout",
          "text": [
            "INFO:tensorflow:*** Available Device: _DeviceAttributes(/job:worker/replica:0/task:0/device:TPU:6, TPU, 0, 0)\n"
          ]
        },
        {
          "output_type": "stream",
          "name": "stderr",
          "text": [
            "INFO:tensorflow:*** Available Device: _DeviceAttributes(/job:worker/replica:0/task:0/device:TPU:6, TPU, 0, 0)\n"
          ]
        },
        {
          "output_type": "stream",
          "name": "stdout",
          "text": [
            "INFO:tensorflow:*** Available Device: _DeviceAttributes(/job:worker/replica:0/task:0/device:TPU:7, TPU, 0, 0)\n"
          ]
        },
        {
          "output_type": "stream",
          "name": "stderr",
          "text": [
            "INFO:tensorflow:*** Available Device: _DeviceAttributes(/job:worker/replica:0/task:0/device:TPU:7, TPU, 0, 0)\n"
          ]
        },
        {
          "output_type": "stream",
          "name": "stdout",
          "text": [
            "INFO:tensorflow:*** Available Device: _DeviceAttributes(/job:worker/replica:0/task:0/device:TPU_SYSTEM:0, TPU_SYSTEM, 0, 0)\n"
          ]
        },
        {
          "output_type": "stream",
          "name": "stderr",
          "text": [
            "INFO:tensorflow:*** Available Device: _DeviceAttributes(/job:worker/replica:0/task:0/device:TPU_SYSTEM:0, TPU_SYSTEM, 0, 0)\n"
          ]
        },
        {
          "output_type": "stream",
          "name": "stdout",
          "text": [
            "INFO:tensorflow:*** Available Device: _DeviceAttributes(/job:worker/replica:0/task:0/device:XLA_CPU:0, XLA_CPU, 0, 0)\n"
          ]
        },
        {
          "output_type": "stream",
          "name": "stderr",
          "text": [
            "INFO:tensorflow:*** Available Device: _DeviceAttributes(/job:worker/replica:0/task:0/device:XLA_CPU:0, XLA_CPU, 0, 0)\n"
          ]
        }
      ]
    },
    {
      "cell_type": "code",
      "metadata": {
        "id": "6vrPVsRp6fvO",
        "colab": {
          "base_uri": "https://localhost:8080/"
        },
        "outputId": "04858fd0-5cae-4c36-ad1e-e49a2d785e1a"
      },
      "source": [
        "from google.colab import drive\n",
        "\n",
        "drive.mount(\"/content/gdrive\")"
      ],
      "execution_count": null,
      "outputs": [
        {
          "output_type": "stream",
          "name": "stdout",
          "text": [
            "Mounted at /content/gdrive\n"
          ]
        }
      ]
    },
    {
      "cell_type": "code",
      "metadata": {
        "id": "iRsWZqVK6kwr"
      },
      "source": [
        "N_cut = 52\n",
        "\n",
        "# Aminoacids\n",
        "\n",
        "# 0 - 4 \n",
        "DL_Alpha_Alanine_Train = genfromtxt(\"/content/gdrive/MyDrive/6_21_2021_run/DL_Alpha_Alanine_Train.csv\", delimiter=',', names=True, dtype=float)\n",
        "DL_Alpha_Alanine_Test = genfromtxt(\"/content/gdrive/MyDrive/6_21_2021_run/DL_Alpha_Alanine_Test.csv\", delimiter=',', names=True, dtype=float)\n",
        "\n",
        "DL_Aspartic_Acid_Train = genfromtxt(\"/content/gdrive/MyDrive/6_21_2021_run/DL_Aspartic_Acid_Train.csv\", delimiter=',', names=True, dtype=float)\n",
        "DL_Aspartic_Acid_Test = genfromtxt(\"/content/gdrive/MyDrive/6_21_2021_run/DL_Aspartic_Acid_Test.csv\", delimiter=',', names=True, dtype=float)\n",
        "\n",
        "DL_Isoleucine_Train = genfromtxt(\"/content/gdrive/MyDrive/6_21_2021_run/DL_Isoleucine_Train.csv\", delimiter=',', names=True, dtype=float)\n",
        "DL_Isoleucine_Test = genfromtxt(\"/content/gdrive/MyDrive/6_21_2021_run/DL_Isoleucine_Test.csv\", delimiter=',', names=True, dtype=float)\n",
        "\n",
        "DL_Leucine_Train = genfromtxt(\"/content/gdrive/MyDrive/6_21_2021_run/DL_Leucine_Train.csv\", delimiter=',', names=True, dtype=float)\n",
        "DL_Leucine_Test = genfromtxt(\"/content/gdrive/MyDrive/6_21_2021_run/DL_Leucine_Test.csv\", delimiter=',', names=True, dtype=float)\n",
        "\n",
        "DL_Methionine_Train = genfromtxt(\"/content/gdrive/MyDrive/6_21_2021_run/DL_Methionine_Train.csv\", delimiter=',', names=True, dtype=float)\n",
        "DL_Methionine_Test = genfromtxt(\"/content/gdrive/MyDrive/6_21_2021_run/DL_Methionine_Test.csv\", delimiter=',', names=True, dtype=float)\n",
        "\n",
        "# 5 - 9 \n",
        "\n",
        "DL_Phenylalanine_Train = genfromtxt(\"/content/gdrive/MyDrive/6_21_2021_run/DL_Phenylalanine_Train.csv\", delimiter=',', names=True, dtype=float)\n",
        "DL_Phenylalanine_Test = genfromtxt(\"/content/gdrive/MyDrive/6_21_2021_run/DL_Phenylalanine_Test.csv\", delimiter=',', names=True, dtype=float)\n",
        "\n",
        "DL_Serine_Train = genfromtxt(\"/content/gdrive/MyDrive/6_21_2021_run/DL_Serine_Train.csv\", delimiter=',', names=True, dtype=float)\n",
        "DL_Serine_Test = genfromtxt(\"/content/gdrive/MyDrive/6_21_2021_run/DL_Serine_Test.csv\", delimiter=',', names=True, dtype=float)\n",
        "\n",
        "DL_Threonine_Train = genfromtxt(\"/content/gdrive/MyDrive/6_21_2021_run/DL_Threonine_Train.csv\", delimiter=',', names=True, dtype=float)\n",
        "DL_Threonine_Test = genfromtxt(\"/content/gdrive/MyDrive/6_21_2021_run/DL_Threonine_Test.csv\", delimiter=',', names=True, dtype=float)\n",
        "\n",
        "DL_Tyrosine_Train = genfromtxt(\"/content/gdrive/MyDrive/6_21_2021_run/DL_Tyrosine_Train.csv\", delimiter=',', names=True, dtype=float)\n",
        "DL_Tyrosine_Test = genfromtxt(\"/content/gdrive/MyDrive/6_21_2021_run/DL_Tyrosine_Test.csv\", delimiter=',', names=True, dtype=float)\n",
        "\n",
        "DL_Valine_Train = genfromtxt(\"/content/gdrive/MyDrive/6_21_2021_run/DL_Valine_Train.csv\", delimiter=',', names=True, dtype=float)\n",
        "DL_Valine_Test = genfromtxt(\"/content/gdrive/MyDrive/6_21_2021_run/DL_Valine_Test.csv\", delimiter=',', names=True, dtype=float)\n",
        "\n",
        "# 10 - 14\n",
        "\n",
        "Glycine_Train = genfromtxt(\"/content/gdrive/MyDrive/6_21_2021_run/Glycine_Train.csv\", delimiter=',', names=True, dtype=float)\n",
        "Glycine_Test = genfromtxt(\"/content/gdrive/MyDrive/6_21_2021_run/Glycine_Test.csv\", delimiter=',', names=True, dtype=float)\n",
        "\n",
        "L_Arginine_HCl_Train = genfromtxt(\"/content/gdrive/MyDrive/6_21_2021_run/L_Arginine_HCl_Train.csv\", delimiter=',', names=True, dtype=float)\n",
        "L_Arginine_HCl_Test = genfromtxt(\"/content/gdrive/MyDrive/6_21_2021_run/L_Arginine_HCl_Test.csv\", delimiter=',', names=True, dtype=float)\n",
        "\n",
        "L_Asparagine_Monohydrate_Train = genfromtxt(\"/content/gdrive/MyDrive/6_21_2021_run/L_Asparagine_Monohydrate_Train.csv\", delimiter=',', names=True, dtype=float)\n",
        "L_Asparagine_Monohydrate_Test = genfromtxt(\"/content/gdrive/MyDrive/6_21_2021_run/L_Asparagine_Monohydrate_Test.csv\", delimiter=',', names=True, dtype=float)\n",
        "\n",
        "L_Cystine_Train = genfromtxt(\"/content/gdrive/MyDrive/6_21_2021_run/L_Cystine_Train.csv\", delimiter=',', names=True, dtype=float)\n",
        "L_Cystine_Test = genfromtxt(\"/content/gdrive/MyDrive/6_21_2021_run/L_Cystine_Test.csv\", delimiter=',', names=True, dtype=float)\n",
        "\n",
        "L_Glutamic_Acid_Train = genfromtxt(\"/content/gdrive/MyDrive/6_21_2021_run/L_Glutamic_Acid_Train.csv\", delimiter=',', names=True, dtype=float)\n",
        "L_Glutamic_Acid_Test = genfromtxt(\"/content/gdrive/MyDrive/6_21_2021_run/L_Glutamic_Acid_Test.csv\", delimiter=',', names=True, dtype=float)\n",
        "\n",
        "# 15 - 19\n",
        "\n",
        "L_Histidine_HCl_Train = genfromtxt(\"/content/gdrive/MyDrive/6_21_2021_run/L_Histidine_HCl_Train.csv\", delimiter=',', names=True, dtype=float)\n",
        "L_Histidine_HCl_Test = genfromtxt(\"/content/gdrive/MyDrive/6_21_2021_run/L_Histidine_HCl_Test.csv\", delimiter=',', names=True, dtype=float)\n",
        "\n",
        "L_Lysine_HCl_Train = genfromtxt(\"/content/gdrive/MyDrive/6_21_2021_run/L_Lysine_HCl_Train.csv\", delimiter=',', names=True, dtype=float)\n",
        "L_Lysine_HCl_Test = genfromtxt(\"/content/gdrive/MyDrive/6_21_2021_run/L_Lysine_HCl_Test.csv\", delimiter=',', names=True, dtype=float)\n",
        "\n",
        "L_PLUS_Cysteine_HCl_Train = genfromtxt(\"/content/gdrive/MyDrive/6_21_2021_run/L_PLUS_Cysteine_HCl_Train.csv\", delimiter=',', names=True, dtype=float)\n",
        "L_PLUS_Cysteine_HCl_Test = genfromtxt(\"/content/gdrive/MyDrive/6_21_2021_run/L_PLUS_CysteineHydrochloride_Test.csv\", delimiter=',', names=True, dtype=float)\n",
        "\n",
        "L_Proline_Train = genfromtxt(\"/content/gdrive/MyDrive/6_21_2021_run/L_Proline_Train.csv\", delimiter=',', names=True, dtype=float)\n",
        "L_Proline_Test = genfromtxt(\"/content/gdrive/MyDrive/6_21_2021_run/L_Proline_Test.csv\", delimiter=',', names=True, dtype=float)\n",
        "\n",
        "L_Tryptophan_Train = genfromtxt(\"/content/gdrive/MyDrive/6_21_2021_run/L_Tryptophan_Train.csv\", delimiter=',', names=True, dtype=float)\n",
        "L_Tryptophan_Test = genfromtxt(\"/content/gdrive/MyDrive/6_21_2021_run/L_Tryptophan_Test.csv\", delimiter=',', names=True, dtype=float)\n",
        "\n",
        "# Other chemicals\n",
        "# 20 - 24\n",
        "\n",
        "Ampicillin_Sodium_Train = genfromtxt(\"/content/gdrive/MyDrive/6_21_2021_run/Ampicillin_Sodium_Train.csv\", delimiter=',', names=True, dtype=float)\n",
        "Ampicillin_Sodium_Test = genfromtxt(\"/content/gdrive/MyDrive/6_21_2021_run/Ampicillin_Sodium_Test.csv\", delimiter=',', names=True, dtype=float)\n",
        "\n",
        "Anthrone_Train = genfromtxt(\"/content/gdrive/MyDrive/6_21_2021_run/Anthrone_Train.csv\", delimiter=',', names=True, dtype=float)\n",
        "Anthrone_Test = genfromtxt(\"/content/gdrive/MyDrive/6_21_2021_run/Anthrone_Test.csv\", delimiter=',', names=True, dtype=float)\n",
        "\n",
        "beta_Estradiol_Train = genfromtxt(\"/content/gdrive/MyDrive/6_21_2021_run/beta_Estradiol_Train.csv\", delimiter=',', names=True, dtype=float)\n",
        "beta_Estradiol_Test = genfromtxt(\"/content/gdrive/MyDrive/6_21_2021_run/beta_Estradiol_Test.csv\", delimiter=',', names=True, dtype=float)\n",
        "\n",
        "CHAPS_Train = genfromtxt(\"/content/gdrive/MyDrive/6_21_2021_run/CHAPS_Train.csv\", delimiter=',', names=True, dtype=float)\n",
        "CHAPS_Test = genfromtxt(\"/content/gdrive/MyDrive/6_21_2021_run/CHAPS_Test.csv\", delimiter=',', names=True, dtype=float)\n",
        "\n",
        "Chloroquine_Train = genfromtxt(\"/content/gdrive/MyDrive/6_21_2021_run/Chloroquine_Train.csv\", delimiter=',', names=True, dtype=float)\n",
        "Chloroquine_Test = genfromtxt(\"/content/gdrive/MyDrive/6_21_2021_run/Chloroquine_Test.csv\", delimiter=',', names=True, dtype=float)\n",
        "\n",
        "# 25 - 29\n",
        "\n",
        "D_PLUS_Maltose_Monohydrate_Train = genfromtxt(\"/content/gdrive/MyDrive/6_21_2021_run/D_PLUS_Maltose_Monohydrate_Train.csv\", delimiter=',', names=True, dtype=float)\n",
        "D_PLUS_Maltose_Monohydrate_Test = genfromtxt(\"/content/gdrive/MyDrive/6_21_2021_run/D_PLUS_MaltoseMonohydrate_Test.csv\", delimiter=',', names=True, dtype=float)\n",
        "\n",
        "Fluconazole_Train = genfromtxt(\"/content/gdrive/MyDrive/6_21_2021_run/Fluconazole_Train.csv\", delimiter=',', names=True, dtype=float)\n",
        "Fluconazole_Test = genfromtxt(\"/content/gdrive/MyDrive/6_21_2021_run/Fluconazole_Test.csv\", delimiter=',', names=True, dtype=float)\n",
        "\n",
        "Forskolin_Train = genfromtxt(\"/content/gdrive/MyDrive/6_21_2021_run/Forskolin_Train.csv\", delimiter=',', names=True, dtype=float)\n",
        "Forskolin_Test = genfromtxt(\"/content/gdrive/MyDrive/6_21_2021_run/Forskolin_Test.csv\", delimiter=',', names=True, dtype=float)\n",
        "\n",
        "Laminarin_Train = genfromtxt(\"/content/gdrive/MyDrive/6_21_2021_run/Laminarin_Train.csv\", delimiter=',', names=True, dtype=float)\n",
        "Laminarin_Test = genfromtxt(\"/content/gdrive/MyDrive/6_21_2021_run/Laminarin_Test.csv\", delimiter=',', names=True, dtype=float)\n",
        "\n",
        "Lauric_Acid_Train = genfromtxt(\"/content/gdrive/MyDrive/6_21_2021_run/Lauric_Acid_Train.csv\", delimiter=',', names=True, dtype=float)\n",
        "Lauric_Acid_Test = genfromtxt(\"/content/gdrive/MyDrive/6_21_2021_run/Lauric_Acid_Test.csv\", delimiter=',', names=True, dtype=float)\n",
        "\n",
        "# 30 - 34\n",
        "\n",
        "Methyl_Viologen_Train = genfromtxt(\"/content/gdrive/MyDrive/6_21_2021_run/Methyl_Viologen_Train.csv\", delimiter=',', names=True, dtype=float)\n",
        "Methyl_Viologen_Test = genfromtxt(\"/content/gdrive/MyDrive/6_21_2021_run/Methyl_Viologen_Test.csv\", delimiter=',', names=True, dtype=float)\n",
        "\n",
        "MOPS_Train = genfromtxt(\"/content/gdrive/MyDrive/6_21_2021_run/MOPS_Train.csv\", delimiter=',', names=True, dtype=float)\n",
        "MOPS_Test = genfromtxt(\"/content/gdrive/MyDrive/6_21_2021_run/MOPS_Test.csv\", delimiter=',', names=True, dtype=float)\n",
        "\n",
        "Na_Salt_Train = genfromtxt(\"/content/gdrive/MyDrive/6_21_2021_run/Na_Salt_Train.csv\", delimiter=',', names=True, dtype=float)\n",
        "Na_Salt_Test = genfromtxt(\"/content/gdrive/MyDrive/6_21_2021_run/Na_Salt_Test.csv\", delimiter=',', names=True, dtype=float)\n",
        "\n",
        "Polyvinyl_Pyrrolidone_Train = genfromtxt(\"/content/gdrive/MyDrive/6_21_2021_run/Polyvinyl_Pyrrolidone_Train.csv\", delimiter=',', names=True, dtype=float)\n",
        "Polyvinyl_Pyrrolidone_Test = genfromtxt(\"/content/gdrive/MyDrive/6_21_2021_run/Polyvinyl_Pyrrolidone_Test.csv\", delimiter=',', names=True, dtype=float)\n",
        "\n",
        "Potato_Starch_Train = genfromtxt(\"/content/gdrive/MyDrive/6_21_2021_run/Potato_Starch_Train.csv\", delimiter=',', names=True, dtype=float)\n",
        "Potato_Starch_Test = genfromtxt(\"/content/gdrive/MyDrive/6_21_2021_run/Potato_Starch_Test.csv\", delimiter=',', names=True, dtype=float)\n",
        "\n",
        "# 35 - 39\n",
        "\n",
        "Progesterone_Train = genfromtxt(\"/content/gdrive/MyDrive/6_21_2021_run/Progesterone_Train.csv\", delimiter=',', names=True, dtype=float)\n",
        "Progesterone_Test = genfromtxt(\"/content/gdrive/MyDrive/6_21_2021_run/Progesterone_Test.csv\", delimiter=',', names=True, dtype=float)\n",
        "\n",
        "Sodium_Deoxycholate_Train = genfromtxt(\"/content/gdrive/MyDrive/6_21_2021_run/Sodium_Deoxycholate_Train.csv\", delimiter=',', names=True, dtype=float)\n",
        "Sodium_Deoxycholate_Test = genfromtxt(\"/content/gdrive/MyDrive/6_21_2021_run/Sodium_Deoxycholate_Test.csv\", delimiter=',', names=True, dtype=float)\n",
        "\n",
        "Sodium_Dodecylsulfate_Train = genfromtxt(\"/content/gdrive/MyDrive/6_21_2021_run/Sodium_Dodecylsulfate_Train.csv\", delimiter=',', names=True, dtype=float)\n",
        "Sodium_Dodecylsulfate_Test = genfromtxt(\"/content/gdrive/MyDrive/6_21_2021_run/Sodium_Dodecylsulfate_Test.csv\", delimiter=',', names=True, dtype=float)\n",
        "\n",
        "Uridine_Train = genfromtxt(\"/content/gdrive/MyDrive/6_21_2021_run/Uridine_Train.csv\", delimiter=',', names=True, dtype=float)\n",
        "Uridine_Test = genfromtxt(\"/content/gdrive/MyDrive/6_21_2021_run/Uridine_Test.csv\", delimiter=',', names=True, dtype=float)\n",
        "\n",
        "Silver_Nitrate_Train = genfromtxt(\"/content/gdrive/MyDrive/6_21_2021_run/Silver_Nitrate_Train.csv\", delimiter=',', names=True, dtype=float)\n",
        "Silver_Nitrate_Test = genfromtxt(\"/content/gdrive/MyDrive/6_21_2021_run/Silver_Nitrate_Test.csv\", delimiter=',', names=True, dtype=float)"
      ],
      "execution_count": null,
      "outputs": []
    },
    {
      "cell_type": "code",
      "metadata": {
        "id": "-s2MeWIY7MNh"
      },
      "source": [
        "N_cut = 52\n",
        "N_classes = 20\n",
        "N_ignored = 10\n",
        "\n",
        "train_data = np.zeros(((N_classes + N_ignored)*2500, 1024 - N_cut))\n",
        "train_label = np.zeros((N_classes + N_ignored)*2500)\n",
        "\n",
        "for i in range(1024 - N_cut - 1):\n",
        "    for j in range(2500):\n",
        "        \n",
        "        # DL_Alpha_Alanine_Train, label 0\n",
        "        train_data[j][i] = (DL_Alpha_Alanine_Train[i + N_cut][j])\n",
        "        train_label[j] = 0\n",
        "        \n",
        "        # DL_Aspartic_Acid_Train, label 1\n",
        "        train_data[j + 1*2500][i] = (DL_Aspartic_Acid_Train[i + N_cut][j])\n",
        "        train_label[j + 1*2500] = 1\n",
        "        \n",
        "        # DL_Isoleucine_Train, label 2\n",
        "        train_data[j + 2*2500][i] = (DL_Isoleucine_Train[i + N_cut][j])\n",
        "        train_label[j + 2*2500] = 2\n",
        "        \n",
        "        # DL_Leucine_Train, label 3\n",
        "        train_data[j + 3*2500][i] = (DL_Leucine_Train[i + N_cut][j])\n",
        "        train_label[j + 3*2500] = 3\n",
        "        \n",
        "        # DL_Methionine_Train, label 4\n",
        "        train_data[j + 4*2500][i] = (DL_Methionine_Train[i + N_cut][j])\n",
        "        train_label[j + 4*2500] = 4\n",
        "        \n",
        "        # DL_Phenylalanine_Train, label 5\n",
        "        train_data[j + 5*2500][i] = (DL_Phenylalanine_Train[i + N_cut][j])\n",
        "        train_label[j + 5*2500] = 5\n",
        "        \n",
        "        # DL_Serine_Train, label 6\n",
        "        train_data[j + 6*2500][i] = (DL_Serine_Train[i + N_cut][j])\n",
        "        train_label[j + 6*2500] = 6\n",
        "        \n",
        "        # DL_Serine_Train, label 7\n",
        "        train_data[j + 7*2500][i] = (DL_Threonine_Train[i + N_cut][j])\n",
        "        train_label[j + 7*2500] = 7\n",
        "        \n",
        "        # DL_Tyrosine_Train, label 8\n",
        "        train_data[j + 8*2500][i] = (DL_Tyrosine_Train[i + N_cut][j])\n",
        "        train_label[j + 8*2500] = 8\n",
        "        \n",
        "        # DL_Valine_Train, label 9\n",
        "        train_data[j + 9*2500][i] = (DL_Valine_Train[i + N_cut][j])\n",
        "        train_label[j + 9*2500] = 9\n",
        "        \n",
        "        # Glycine_Train, label 10\n",
        "        train_data[j + 10*2500][i] = (Glycine_Train[i + N_cut][j])\n",
        "        train_label[j + 10*2500] = 10\n",
        "        \n",
        "        # L_Arginine_HCl_Train, label 11\n",
        "        train_data[j + 11*2500][i] = (L_Arginine_HCl_Train[i + N_cut][j])\n",
        "        train_label[j + 11*2500] = 11\n",
        "        \n",
        "        # L_Asparagine_Monohydrate_Train, label 12\n",
        "        train_data[j + 12*2500][i] = (L_Asparagine_Monohydrate_Train[i + N_cut][j])\n",
        "        train_label[j + 12*2500] = 12\n",
        "        \n",
        "        # L_Cystine_Train, label 13\n",
        "        train_data[j + 13*2500][i] = (L_Cystine_Train[i + N_cut][j])\n",
        "        train_label[j + 13*2500] = 13\n",
        "        \n",
        "        # L_Glutamic_Acid_Train, label 14\n",
        "        train_data[j + 14*2500][i] = (L_Glutamic_Acid_Train[i + N_cut][j])\n",
        "        train_label[j + 14*2500] = 14\n",
        "        \n",
        "        # L_Histidine_HCl_Train, label 15\n",
        "        train_data[j + 15*2500][i] = (L_Histidine_HCl_Train[i + N_cut][j])\n",
        "        train_label[j + 15*2500] = 15\n",
        "        \n",
        "        # L_Lysine_HCl_Train, label 16\n",
        "        train_data[j + 16*2500][i] = (L_Lysine_HCl_Train[i + N_cut][j])\n",
        "        train_label[j + 16*2500] = 16\n",
        "        \n",
        "        # L_PLUS_Cysteine_HCl_Train, label 17\n",
        "        train_data[j + 17*2500][i] = (L_PLUS_Cysteine_HCl_Train[i + N_cut][j])\n",
        "        train_label[j + 17*2500] = 17\n",
        "        \n",
        "        # L_Proline_Train, label 18\n",
        "        train_data[j + 18*2500][i] = (L_Proline_Train[i + N_cut][j])\n",
        "        train_label[j + 18*2500] = 18\n",
        "        \n",
        "        # L_Tryptophan_Train, label 19\n",
        "        train_data[j + 19*2500][i] = (L_Tryptophan_Train[i + N_cut][j])\n",
        "        train_label[j + 19*2500] = 19\n",
        "\n",
        "        # Ignored\n",
        "        # Ignored 1\n",
        "\n",
        "        # Anthrone_Train, label 21\n",
        "        train_data[j + 20*2500][i] = (Anthrone_Train[i + N_cut][j])\n",
        "        train_label[j + 20*2500] = 20\n",
        "\n",
        "        # Ignore 2\n",
        "        \n",
        "        # beta_Estradiol_Train, label 22\n",
        "        train_data[j + 21*2500][i] = (beta_Estradiol_Train[i + N_cut][j])\n",
        "        train_label[j + 21*2500] = 20\n",
        "\n",
        "        # Ignore 3\n",
        "        \n",
        "        # Chloroquine_Train, label 24\n",
        "        train_data[j + 22*2500][i] = (Chloroquine_Train[i + N_cut][j])\n",
        "        train_label[j + 22*2500] = 20\n",
        "\n",
        "        # Ignore 4\n",
        "        \n",
        "        # Fluconazole_Train, label 26\n",
        "        train_data[j + 23*2500][i] = (Fluconazole_Train[i + N_cut][j])\n",
        "        train_label[j + 23*2500] = 20\n",
        "\n",
        "        # Ignore 5\n",
        "        \n",
        "        # Laminarin_Train, label 28\n",
        "        train_data[j + 24*2500][i] = (Laminarin_Train[i + N_cut][j])\n",
        "        train_label[j + 24*2500] = 20\n",
        "\n",
        "        # Ignore 6\n",
        "        \n",
        "        # Lauric_Acid_Train, label 29\n",
        "        train_data[j + 25*2500][i] = (Lauric_Acid_Train[i + N_cut][j])\n",
        "        train_label[j + 25*2500] = 20\n",
        "\n",
        "        # Ignore 7\n",
        "        \n",
        "        # Methyl_Viologen_Train, label 30\n",
        "        train_data[j + 26*2500][i] = (Methyl_Viologen_Train[i + N_cut][j])\n",
        "        train_label[j + 26*2500] = 20\n",
        "\n",
        "        # Ignore 8\n",
        "        \n",
        "        # MOPS_Train, label 31\n",
        "        train_data[j + 27*2500][i] = (MOPS_Train[i + N_cut][j])\n",
        "        train_label[j + 27*2500] = 20\n",
        "\n",
        "        # Ignore 9\n",
        "        \n",
        "        # Progesterone_Train, label 35\n",
        "        train_data[j + 28*2500][i] = (Progesterone_Train[i + N_cut][j])\n",
        "        train_label[j + 28*2500] = 20\n",
        "\n",
        "        # Ignore 10\n",
        "        \n",
        "        # Uridine_Train, label 38\n",
        "        train_data[j + 29*2500][i] = (Uridine_Train[i + N_cut][j])\n",
        "        train_label[j + 29*2500] = 20\n",
        "        \n",
        "train_rescaled = np.zeros(((N_classes + N_ignored)*2500, 1024 - N_cut))\n",
        "train_maximum = np.zeros((N_classes + N_ignored)*2500)\n",
        "train_minimum = np.zeros((N_classes + N_ignored)*2500)\n",
        "\n",
        "for j in range(1, (N_classes + N_ignored)*2500):\n",
        "    train_maximum[j] = np.amin(train_data[j][:])\n",
        "    train_maximum[j] = np.amax(train_data[j][:])\n",
        "\n",
        "for i in range(1,1024 - N_cut):\n",
        "    for j in range(1,(N_classes + N_ignored)*2500):\n",
        "        train_rescaled[j][i] = (train_data[j][i] - train_minimum[j])\n",
        "        train_rescaled[j][i] = train_rescaled[j][i]/(train_maximum[j] - train_minimum[j])\n",
        "\n",
        "train_rescaled = train_rescaled.reshape(((N_classes + N_ignored)*2500, 1024 - N_cut, 1))\n",
        "train_rescaled = train_rescaled.astype('float32')\n",
        "train_label = train_label.reshape((N_classes + N_ignored)*2500)\n",
        "\n",
        "train_label = tf.keras.utils.to_categorical(train_label)\n",
        "\n",
        "train_rescaled_last = np.ones(((N_classes + N_ignored)*2500, 1024 - N_cut))\n",
        "train_minimum = []\n",
        "\n",
        "for j in range((N_classes + N_ignored)*2500):\n",
        "    train_minimum.append(np.amin(train_data[j][:-1]))\n",
        "\n",
        "for i in range(1024 - N_cut):\n",
        "    for j in range(N_classes*2500):\n",
        "        train_rescaled_last[j][i] = (train_data[j][i] - train_minimum[j])\n",
        "\n",
        "train_rescaled = np.zeros(((N_classes + N_ignored)*2500, 1024 - N_cut - 1))\n",
        "\n",
        "for i in range(1024 - N_cut - 1):\n",
        "    for j in range((N_classes + N_ignored)*2500):\n",
        "      train_rescaled[j][i] = train_rescaled_last[j][i]\n",
        "\n",
        "train_maximum = []\n",
        "\n",
        "for j in range((N_classes + N_ignored)*2500):\n",
        "    train_maximum.append(np.amax(train_rescaled[j][:-1]))\n",
        "for i in range(1024 - N_cut - 1):\n",
        "    for j in range(N_classes*2500):\n",
        "      train_rescaled[j][i] = train_rescaled[j][i]/train_maximum[j]"
      ],
      "execution_count": null,
      "outputs": []
    },
    {
      "cell_type": "code",
      "metadata": {
        "colab": {
          "base_uri": "https://localhost:8080/"
        },
        "id": "1dIsH5vyZlnH",
        "outputId": "b8831fa2-8186-47fc-a9d3-d7e1d1894985"
      },
      "source": [
        "test_data = np.zeros((N_classes*500, 1024 - N_cut))\n",
        "test_label = np.zeros(N_classes*500)\n",
        "\n",
        "for i in range(1024 - N_cut - 1):\n",
        "    for j in range(500):\n",
        "        \n",
        "        # DL_Alpha_Alanine_Test, label 0\n",
        "        test_data[j][i] = (DL_Alpha_Alanine_Test[i + N_cut][j])\n",
        "        test_label[j] = 0\n",
        "        \n",
        "        # DL_Aspartic_Acid_Test, label 1\n",
        "        test_data[j + 1*500][i] = (DL_Aspartic_Acid_Test[i + N_cut][j])\n",
        "        test_label[j + 1*500] = 1\n",
        "        \n",
        "        # DL_Isoleucine_Test, label 2\n",
        "        test_data[j + 2*500][i] = (DL_Isoleucine_Test[i + N_cut][j])\n",
        "        test_label[j + 2*500] = 2\n",
        "        \n",
        "        # DL_Leucine_Test, label 3\n",
        "        test_data[j + 3*500][i] = (DL_Leucine_Test[i + N_cut][j])\n",
        "        test_label[j + 3*500] = 3\n",
        "        \n",
        "        # DL_Methionine_Test, label 4\n",
        "        test_data[j + 4*500][i] = (DL_Methionine_Test[i + N_cut][j])\n",
        "        test_label[j + 4*500] = 4\n",
        "        \n",
        "        # DL_Phenylalanine_Test, label 5\n",
        "        test_data[j + 5*500][i] = (DL_Phenylalanine_Test[i + N_cut][j])\n",
        "        test_label[j + 5*500] = 5\n",
        "        \n",
        "        # DL_Serine_Test, label 6\n",
        "        test_data[j + 6*500][i] = (DL_Serine_Test[i + N_cut][j])\n",
        "        test_label[j + 6*500] = 6\n",
        "        \n",
        "        # DL_Serine_Test, label 7\n",
        "        test_data[j + 7*500][i] = (DL_Threonine_Test[i + N_cut][j])\n",
        "        test_label[j + 7*500] = 7\n",
        "        \n",
        "        # DL_Tyrosine_Test, label 8\n",
        "        test_data[j + 8*500][i] = (DL_Tyrosine_Test[i + N_cut][j])\n",
        "        test_label[j + 8*500] = 8\n",
        "        \n",
        "        # DL_Valine_Test, label 9\n",
        "        test_data[j + 9*500][i] = (DL_Valine_Test[i + N_cut][j])\n",
        "        test_label[j + 9*500] = 9\n",
        "        \n",
        "        # Glycine_Test, label 10\n",
        "        test_data[j + 10*500][i] = (Glycine_Test[i + N_cut][j])\n",
        "        test_label[j + 10*500] = 10\n",
        "        \n",
        "        # L_Arginine_HCl_Test, label 11\n",
        "        test_data[j + 11*500][i] = (L_Arginine_HCl_Test[i + N_cut][j])\n",
        "        test_label[j + 11*500] = 11\n",
        "        \n",
        "        # L_Asparagine_Monohydrate_Test, label 12\n",
        "        test_data[j + 12*500][i] = (L_Asparagine_Monohydrate_Test[i + N_cut][j])\n",
        "        test_label[j + 12*500] = 12\n",
        "        \n",
        "        # L_Cystine_Test, label 13\n",
        "        test_data[j + 13*500][i] = (L_Cystine_Test[i + N_cut][j])\n",
        "        test_label[j + 13*500] = 13\n",
        "        \n",
        "        # L_Glutamic_Acid_Test, label 14\n",
        "        test_data[j + 14*500][i] = (L_Glutamic_Acid_Test[i + N_cut][j])\n",
        "        test_label[j + 14*500] = 14\n",
        "        \n",
        "        # L_Histidine_HCl_Test, label 15\n",
        "        test_data[j + 15*500][i] = (L_Histidine_HCl_Test[i + N_cut][j])\n",
        "        test_label[j + 15*500] = 15\n",
        "        \n",
        "        # L_Lysine_HCl_Test, label 16\n",
        "        test_data[j + 16*500][i] = (L_Lysine_HCl_Test[i + N_cut][j])\n",
        "        test_label[j + 16*500] = 16\n",
        "        \n",
        "        # L_PLUS_Cysteine_HCl_Test, label 17\n",
        "        test_data[j + 17*500][i] = (L_PLUS_Cysteine_HCl_Test[i + N_cut][j])\n",
        "        test_label[j + 17*500] = 17\n",
        "        \n",
        "        # L_Proline_Test, label 18\n",
        "        test_data[j + 18*500][i] = (L_Proline_Test[i + N_cut][j])\n",
        "        test_label[j + 18*500] = 18\n",
        "        \n",
        "        # L_Tryptophan_Test, label 19\n",
        "        test_data[j + 19*500][i] = (L_Tryptophan_Test[i + N_cut][j])\n",
        "        test_label[j + 19*500] = 19\n",
        "\n",
        "test_rescaled_last = np.ones((N_classes*500, 1024 - N_cut))\n",
        "test_minimum = []\n",
        "\n",
        "for j in range(N_classes*500):\n",
        "    test_minimum.append(np.amin(test_data[j][:-1]))\n",
        "\n",
        "for i in range(1024 - N_cut):\n",
        "    for j in range(N_classes*500):\n",
        "        test_rescaled_last[j][i] = (test_data[j][i] - test_minimum[j])\n",
        "\n",
        "test_rescaled = np.zeros((N_classes*500, 1024 - N_cut - 1))\n",
        "\n",
        "for i in range(1024 - N_cut - 1):\n",
        "    for j in range(N_classes*500):\n",
        "      test_rescaled[j][i] = test_rescaled_last[j][i]\n",
        "\n",
        "test_maximum = []\n",
        "\n",
        "for j in range(N_classes*500):\n",
        "    test_maximum.append(np.amax(test_rescaled[j][:-1]))\n",
        "\n",
        "for i in range(1024 - N_cut - 1):\n",
        "    for j in range(N_classes*500):\n",
        "      test_rescaled[j][i] = test_rescaled[j][i]/test_maximum[j]\n",
        "\n",
        "test_rescaled = test_rescaled.reshape((N_classes*500, 1024 - N_cut - 1))\n",
        "test_rescaled = test_rescaled.astype('float32')\n",
        "test_label = test_label.reshape(N_classes*500)\n",
        "#test_label = tf.keras.utils.to_categorical(test_label)\n",
        "\n",
        "print(\"Rescaling finished\")"
      ],
      "execution_count": null,
      "outputs": [
        {
          "output_type": "stream",
          "name": "stdout",
          "text": [
            "Rescaling finished\n"
          ]
        }
      ]
    },
    {
      "cell_type": "code",
      "metadata": {
        "id": "R_zaqwxkACCY"
      },
      "source": [
        "ignored_data = np.zeros((N_ignored*2500, 1024 - N_cut))\n",
        "\n",
        "for i in range(1024 - N_cut - 1):\n",
        "    for j in range(2500):\n",
        "        # Ignored\n",
        "        # Ignored 1\n",
        "\n",
        "        # Anthrone_Train, label 21\n",
        "        ignored_data[j + 0*2500][i] = (Anthrone_Train[i + N_cut][j])\n",
        "\n",
        "        # Ignore 2\n",
        "      \n",
        "        # beta_Estradiol_Train, label 22\n",
        "        ignored_data[j + 1*2500][i] = (beta_Estradiol_Train[i + N_cut][j])\n",
        "\n",
        "        # Ignore 3\n",
        "        \n",
        "        # Chloroquine_Train, label 24\n",
        "        ignored_data[j + 2*2500][i] = (Chloroquine_Train[i + N_cut][j])\n",
        "\n",
        "        # Ignore 4\n",
        "        \n",
        "        # Fluconazole_Train, label 26\n",
        "        ignored_data[j + 3*2500][i] = (Fluconazole_Train[i + N_cut][j])\n",
        "\n",
        "        # Ignore 5\n",
        "        \n",
        "        # Laminarin_Train, label 28\n",
        "        ignored_data[j + 4*2500][i] = (Laminarin_Train[i + N_cut][j])\n",
        "\n",
        "        # Ignore 6\n",
        "        \n",
        "        # Lauric_Acid_Train, label 29\n",
        "        ignored_data[j + 5*2500][i] = (Lauric_Acid_Train[i + N_cut][j])\n",
        "\n",
        "        # Ignore 7\n",
        "        \n",
        "        # Methyl_Viologen_Train, label 30\n",
        "        ignored_data[j + 6*2500][i] = (Methyl_Viologen_Train[i + N_cut][j])\n",
        "\n",
        "        # Ignore 8\n",
        "        \n",
        "        # MOPS_Train, label 31\n",
        "        ignored_data[j + 7*2500][i] = (MOPS_Train[i + N_cut][j])\n",
        "\n",
        "        # Ignore 9\n",
        "        \n",
        "        # Progesterone_Train, label 35\n",
        "        ignored_data[j + 8*2500][i] = (Progesterone_Train[i + N_cut][j])\n",
        "\n",
        "        # Ignore 10\n",
        "        \n",
        "        # Uridine_Train, label 38\n",
        "        ignored_data[j + 9*2500][i] = (Uridine_Train[i + N_cut][j])\n",
        "        \n",
        "ignored_data_rescaled = np.zeros((N_ignored*2500, 1024 - N_cut))\n",
        "ignored_data_maximum = np.zeros(N_ignored*2500)\n",
        "ignored_data_minimum = np.zeros(N_ignored*2500)\n",
        "\n",
        "for j in range(1, N_ignored*2500):\n",
        "    ignored_data_maximum[j] = np.amin(ignored_data[j][:])\n",
        "    ignored_data_maximum[j] = np.amax(ignored_data[j][:])\n",
        "\n",
        "for i in range(1,1024 - N_cut):\n",
        "    for j in range(1,N_ignored*2500):\n",
        "        ignored_data_rescaled[j][i] = (ignored_data[j][i] - ignored_data_minimum[j])\n",
        "        ignored_data_rescaled[j][i] = ignored_data_rescaled[j][i]/(ignored_data_maximum[j] - ignored_data_minimum[j])\n",
        "\n",
        "ignored_data_rescaled = ignored_data_rescaled.reshape((N_ignored*2500, 1024 - N_cut, 1))\n",
        "ignored_data_rescaled = ignored_data_rescaled.astype('float32')\n",
        "\n",
        "ignored_data_rescaled_last = np.ones((N_ignored*2500, 1024 - N_cut))\n",
        "ignored_data_minimum = []\n",
        "\n",
        "for j in range(N_ignored*2500):\n",
        "    ignored_data_minimum.append(np.amin(ignored_data[j][:-1]))\n",
        "\n",
        "for i in range(1024 - N_cut):\n",
        "    for j in range(N_ignored*2500):\n",
        "        ignored_data_rescaled_last[j][i] = (ignored_data[j][i] - ignored_data_minimum[j])\n",
        "\n",
        "ignored_data_rescaled = np.zeros((N_ignored*2500, 1024 - N_cut - 1))\n",
        "\n",
        "for i in range(1024 - N_cut - 1):\n",
        "    for j in range(N_ignored*2500):\n",
        "      ignored_data_rescaled[j][i] = ignored_data_rescaled_last[j][i]\n",
        "\n",
        "ignored_data_maximum = []\n",
        "\n",
        "for j in range(N_ignored*2500):\n",
        "    ignored_data_maximum.append(np.amax(ignored_data_rescaled[j][:-1]))\n",
        "for i in range(1024 - N_cut - 1):\n",
        "    for j in range(N_ignored*2500):\n",
        "      ignored_data_rescaled[j][i] = ignored_data_rescaled[j][i]/ignored_data_maximum[j]"
      ],
      "execution_count": null,
      "outputs": []
    },
    {
      "cell_type": "code",
      "metadata": {
        "id": "nqQhAmb1hkv6"
      },
      "source": [
        "KnownLabels = []\n",
        "KnownLabels.append(train_label[1 + 0*2500])\n",
        "KnownLabels.append(train_label[1 + 1*2500])   \n",
        "KnownLabels.append(train_label[1 + 2*2500])\n",
        "KnownLabels.append(train_label[1 + 3*2500])\n",
        "KnownLabels.append(train_label[1 + 4*2500])\n",
        "KnownLabels.append(train_label[1 + 5*2500])\n",
        "KnownLabels.append(train_label[1 + 6*2500])\n",
        "KnownLabels.append(train_label[1 + 7*2500])\n",
        "KnownLabels.append(train_label[1 + 8*2500])\n",
        "KnownLabels.append(train_label[1 + 9*2500])\n",
        "KnownLabels.append(train_label[1 + 10*2500])\n",
        "KnownLabels.append(train_label[1 + 11*2500])\n",
        "KnownLabels.append(train_label[1 + 12*2500])\n",
        "KnownLabels.append(train_label[1 + 13*2500])\n",
        "KnownLabels.append(train_label[1 + 14*2500])\n",
        "KnownLabels.append(train_label[1 + 15*2500])\n",
        "KnownLabels.append(train_label[1 + 16*2500])\n",
        "KnownLabels.append(train_label[1 + 17*2500])\n",
        "KnownLabels.append(train_label[1 + 18*2500])\n",
        "KnownLabels.append(train_label[1 + 19*2500])\n",
        "\n",
        "Ignored_label = train_label[23*2500]\n",
        "from sklearn.utils import shuffle\n",
        "import numpy as np\n",
        "train_rescaled, train_label = shuffle(train_rescaled, train_label)\n",
        "#Ignored_label = tf.convert_to_tensor(Ignored_label)"
      ],
      "execution_count": null,
      "outputs": []
    },
    {
      "cell_type": "code",
      "metadata": {
        "id": "sRQpn32rIdrS"
      },
      "source": [
        "# Define the Identity and Convolutional Blocks\n",
        "\n",
        "from tensorflow.keras.layers import Conv1D, BatchNormalization, Activation, Add\n",
        "from tensorflow.keras import models, layers\n",
        "from tensorflow.keras import regularizers\n",
        "\n",
        "initializer = tf.keras.initializers.GlorotUniform(seed=0)\n",
        "initializer2 = tf.keras.initializers.HeUniform(seed=0)\n",
        "Stride=1\n",
        "\n",
        "def identity_block(X, f, filters, stage, block):\n",
        "\n",
        "  #defining name basis\n",
        "  ConvNameBase = 'res' + str(stage) + block + '_branch'\n",
        "  BatchNormBase = 'bn' + str(stage) + block + '_branch'\n",
        "\n",
        "  #retrieve filters\n",
        "  F1,F2,F3 = filters\n",
        "\n",
        "  #save the input value. You'll need this later to add back the main path\n",
        "  x_shortcut = X\n",
        "\n",
        "  ### First component of the main path ###\n",
        "  X = tf.keras.layers.Conv1D(filters=F1, kernel_size=1, strides=Stride, padding='same', \n",
        "             kernel_initializer=initializer#, name=ConvNameBase\n",
        "             )(X)\n",
        "  X = tf.keras.layers.BatchNormalization(axis=2, momentum=0.99, trainable=False,\n",
        "                         )(X)\n",
        "  X = tf.keras.layers.Activation('relu')(X)\n",
        "\n",
        "  ### Second component of main path ###\n",
        "  X = tf.keras.layers.Conv1D(filters=F2, kernel_size=f, strides=Stride, padding='same', \n",
        "             kernel_initializer=initializer, #name=ConvNameBase\n",
        "             )(X)\n",
        "  X = tf.keras.layers.BatchNormalization(axis=2, momentum=0.99, trainable=False,\n",
        "                         )(X)\n",
        "  X = tf.keras.layers.Activation('relu')(X)\n",
        "\n",
        "  #Third Component of main path\n",
        "  X = tf.keras.layers.Conv1D(filters=F3, kernel_size=1, strides=Stride, padding='same',\n",
        "             kernel_initializer=initializer#,name=ConvNameBase\n",
        "             )(X)\n",
        "  X = tf.keras.layers.BatchNormalization(axis=2, momentum=0.99, trainable=False,\n",
        "                         )(X)\n",
        "  \n",
        "  #Final step: add shortcut to the main path, and pass it through ReLU activation\n",
        "  X = tf.keras.layers.Add()([X, x_shortcut])\n",
        "  X = tf.keras.layers.Activation('relu')(X)\n",
        "\n",
        "  return X\n",
        "\n",
        "def convolutional_block(X, f, filters, stage, block, s=2):\n",
        "\n",
        "  #Defining name bases\n",
        "  ConvNameBase = 'res' + str(stage) + block + '_branch'\n",
        "  BatchNormBase = 'res' + str(stage) + block + '_branch'\n",
        "\n",
        "  #retrive n_filters\n",
        "  F1, F2, F3 = filters\n",
        "\n",
        "  #Save the input value\n",
        "  x_shortcut = X\n",
        "\n",
        "  #First component of the main path\n",
        "  X = tf.keras.layers.Conv1D(F1, strides=s, kernel_size=f, kernel_initializer=initializer,\n",
        "             padding='same'#, name=ConvNameBase\n",
        "             )(X)\n",
        "  X = tf.keras.layers.BatchNormalization(axis=2, momentum=0.99, trainable=False,\n",
        "                         )(X)\n",
        "  X = tf.keras.layers.Activation('relu')(X)\n",
        "\n",
        "  #Second Component of main path\n",
        "  X = tf.keras.layers.Conv1D(filters=F2, kernel_size=f, strides=Stride, padding='same',\n",
        "             kernel_initializer=initializer#, name=ConvNameBase\n",
        "             )(X)\n",
        "  X = tf.keras.layers.BatchNormalization(axis=2, momentum=0.99, trainable=False,\n",
        "                         )(X)\n",
        "  X = tf.keras.layers.Activation('relu')(X)\n",
        "\n",
        "  #Third component of main path\n",
        "  X = tf.keras.layers.Conv1D(filters=F3, kernel_size=f, strides=Stride, padding='same',\n",
        "             kernel_initializer=initializer, name=ConvNameBase)(X)\n",
        "  X = tf.keras.layers.BatchNormalization(axis=2, momentum=0.99, trainable=False,\n",
        "  )(X)\n",
        "\n",
        "  ###### SHORTCUT PATH ######\n",
        "  x_shortcut = tf.keras.layers.Conv1D(filters = F3, kernel_size=1, strides=s, \n",
        "                      padding='same', #name=ConvNameBase,\n",
        "                      kernel_initializer=initializer)(x_shortcut)\n",
        "  x_shortcut = tf.keras.layers.BatchNormalization(axis=2, momentum=0.99, trainable=False,\n",
        "                                  )(x_shortcut)\n",
        "\n",
        "  #Add shortcut to main path and pass in through ReLU activation\n",
        "  X = tf.keras.layers.Add()([X, x_shortcut])\n",
        "  X = tf.keras.layers.Activation('relu')(X)\n",
        "\n",
        "  return X"
      ],
      "execution_count": null,
      "outputs": []
    },
    {
      "cell_type": "code",
      "metadata": {
        "id": "u0-4YGJXIuih"
      },
      "source": [
        "# ResNet26\n",
        "nb_classes = N_classes + 1\n",
        "\n",
        "def create_model():\n",
        "\n",
        "    # Maybe the problem is here?\n",
        "    \n",
        "    input_shape = (1024 - N_cut - 1, 1,) \n",
        "    classes = N_classes\n",
        "    x_input = tf.keras.layers.Input(input_shape)\n",
        "\n",
        "    X = tf.keras.layers.ZeroPadding1D(padding=3)(x_input)\n",
        "\n",
        "     #### stage 1 ####\n",
        "    X = tf.keras.layers.Conv1D(NoF, kernel_size=7, strides=2,\n",
        "              name='Convolution1', kernel_initializer=initializer)(X)\n",
        "    X = tf.keras.layers.BatchNormalization(name=\"BatchNormStage1\")(X)\n",
        "    X = tf.keras.layers.Activation('relu')(X)\n",
        "    X = tf.keras.layers.MaxPooling1D(3, strides=2)(X)\n",
        "\n",
        "    #### Stage 2 ####\n",
        "    X = convolutional_block(X, f=3, filters=[NoF, NoF, NoF*4], stage=2, block='a', s=1)\n",
        "    X = identity_block(X, 3, [NoF, NoF, NoF*4], stage=2, block='b')\n",
        "\n",
        "    #### Stage 3 ####\n",
        "    X = convolutional_block(X, f=3, filters=[NoF*2, NoF*2, NoF*8], stage=3, block='a')\n",
        "    X = identity_block(X, 3, [NoF*2, NoF*2, NoF*8], stage=3, block='b')\n",
        "\n",
        "    #### Stage 4 ####\n",
        "    X = convolutional_block(X, f=3, filters=[NoF*4, NoF*4, NoF*16], stage=4, block='a')\n",
        "    X = identity_block(X, 3, [NoF*4, NoF*4, NoF*16], stage=4, block='b')\n",
        "\n",
        "    #### Stage 5 ####\n",
        "    X = convolutional_block(X, f=3, filters=[NoF*4, NoF*4, NoF*32], stage=5, block='a')\n",
        "    X = identity_block(X, f=3, filters=[NoF*4, NoF*4, NoF*32], stage=5, block='b')\n",
        "\n",
        "    #### Stage 6 ####\n",
        "    X = tf.keras.layers.GlobalAveragePooling1D(name=\"GAP1D\")(X)\n",
        "\n",
        "    #### OUTPUT LAYER ####\n",
        "    X = tf.keras.layers.Flatten()(X)\n",
        "\n",
        "    X = tf.keras.layers.Dense(nb_classes, activation='softmax',kernel_regularizer=regularizers.l1_l2(l1=1e-5, l2=1e-4),\n",
        "    bias_regularizer=regularizers.l2(1e-4),\n",
        "    activity_regularizer=regularizers.l2(1e-5))(X)\n",
        "\n",
        "    res_net = tf.keras.Model(inputs = x_input, outputs=X, name='ResNet29')\n",
        "\n",
        "    return res_net"
      ],
      "execution_count": null,
      "outputs": []
    },
    {
      "cell_type": "code",
      "metadata": {
        "id": "iu6A9Tswp3_F",
        "colab": {
          "base_uri": "https://localhost:8080/"
        },
        "outputId": "a950dd16-8e9e-47ee-d0ba-650e6a769503"
      },
      "source": [
        "from tensorflow.keras.layers import ZeroPadding1D, MaxPooling1D, AveragePooling1D, GlobalAveragePooling1D, Flatten, Dense\n",
        "from tensorflow.keras.models import Model\n",
        "from tensorflow.keras import initializers\n",
        "from keras.utils.vis_utils import plot_model\n",
        "\n",
        "# Create a checkpoint directory to store the checkpoints.\n",
        "checkpoint_dir = './training_checkpoints'\n",
        "checkpoint_prefix = os.path.join(checkpoint_dir, \"ckpt\")\n",
        "\n",
        "NoF = 64\n",
        "\n",
        "with strategy.scope():\n",
        "  # Alternative\n",
        "  def Open_set_categorical_crossentropy_trial_total(target,output):\n",
        "    def Open_set_categorical_crossentropy_trial_first(target,output):\n",
        "      output = tf.convert_to_tensor(output)\n",
        "      target = tf.cast(target, target.dtype)\n",
        "\n",
        "      epsilon = tf.keras.backend.epsilon()\n",
        "      output = tf.clip_by_value(output, epsilon, 1. - epsilon)\n",
        "\n",
        "      Sum = tf.math.reduce_sum(output,axis=-1,keepdims=True)\n",
        "\n",
        "      output = tf.math.divide(output, Sum)\n",
        "\n",
        "      Checker = tf.math.reduce_sum(tf.math.multiply(Ignored_label, target),axis=-1)\n",
        "      One = tf.math.reduce_sum(tf.math.multiply(Ignored_label, Ignored_label),axis=-1)\n",
        "\n",
        "      output = - tf.math.reduce_sum(tf.math.multiply(target,tf.math.log(output)),axis=-1)\n",
        "      output = tf.math.multiply(tf.math.subtract(One,Checker),output)\n",
        "\n",
        "      return output\n",
        "\n",
        "    def Open_set_categorical_crossentropy_trial_second(target,output):\n",
        "      output = tf.convert_to_tensor(output)\n",
        "      target = tf.cast(target, target.dtype)\n",
        "\n",
        "      epsilon = tf.keras.backend.epsilon()\n",
        "      output = tf.clip_by_value(output, epsilon, 1. - epsilon)\n",
        "\n",
        "      Sum = tf.math.reduce_sum(output,axis=-1,keepdims=True)\n",
        "\n",
        "      output = tf.math.divide(output, Sum)\n",
        "\n",
        "      Checker = tf.math.reduce_sum(tf.math.multiply(Ignored_label, target),axis=-1)\n",
        "      One = tf.math.reduce_sum(tf.math.multiply(Ignored_label, Ignored_label),axis=-1)\n",
        "      Zero = tf.math.reduce_sum(tf.math.multiply(KnownLabels[1], KnownLabels[2]),axis=-1)\n",
        "      \n",
        "      for i in range(N_classes):\n",
        "        addon = - tf.math.reduce_sum(tf.math.multiply(KnownLabels[i], tf.math.log(output)),axis=-1)\n",
        "        addon = tf.math.divide(addon,N_classes)\n",
        "        Zero = tf.math.add(addon,Zero)\n",
        "      Zero = tf.math.multiply(Checker, Zero)\n",
        "\n",
        "      return Zero\n",
        "\n",
        "    output1 = Open_set_categorical_crossentropy_trial_first(target,output)\n",
        "    output2 = Open_set_categorical_crossentropy_trial_second(target,output)\n",
        "    output3 = Open_set_categorical_crossentropy_trial_second(target,output)\n",
        "\n",
        "    output = tf.math.add(output1,output2)\n",
        "    output = tf.math.add(output,output3)\n",
        "\n",
        "    return output\n",
        "  \n",
        "  res_net = create_model()\n",
        "\n",
        "  res_net.compile(loss=Open_set_categorical_crossentropy_trial_total,optimizer=tf.keras.optimizers.Adam(learning_rate=.00001),\n",
        "             metrics=None)\n",
        "  \n",
        "  res_net.summary()\n",
        "\n",
        "  #trained = res_net.fit(train_rescaled, train_label, epochs = 30, batch_size=32, validation_split=.2,verbose=1)\n",
        "\n"
      ],
      "execution_count": null,
      "outputs": [
        {
          "output_type": "stream",
          "name": "stdout",
          "text": [
            "Model: \"ResNet29\"\n",
            "__________________________________________________________________________________________________\n",
            "Layer (type)                    Output Shape         Param #     Connected to                     \n",
            "==================================================================================================\n",
            "input_2 (InputLayer)            [(None, 971, 1)]     0                                            \n",
            "__________________________________________________________________________________________________\n",
            "zero_padding1d_1 (ZeroPadding1D (None, 977, 1)       0           input_2[0][0]                    \n",
            "__________________________________________________________________________________________________\n",
            "Convolution1 (Conv1D)           (None, 486, 64)      512         zero_padding1d_1[0][0]           \n",
            "__________________________________________________________________________________________________\n",
            "BatchNormStage1 (BatchNormaliza (None, 486, 64)      256         Convolution1[0][0]               \n",
            "__________________________________________________________________________________________________\n",
            "activation_25 (Activation)      (None, 486, 64)      0           BatchNormStage1[0][0]            \n",
            "__________________________________________________________________________________________________\n",
            "max_pooling1d_1 (MaxPooling1D)  (None, 242, 64)      0           activation_25[0][0]              \n",
            "__________________________________________________________________________________________________\n",
            "conv1d_24 (Conv1D)              (None, 242, 64)      12352       max_pooling1d_1[0][0]            \n",
            "__________________________________________________________________________________________________\n",
            "batch_normalization_28 (BatchNo (None, 242, 64)      256         conv1d_24[0][0]                  \n",
            "__________________________________________________________________________________________________\n",
            "activation_26 (Activation)      (None, 242, 64)      0           batch_normalization_28[0][0]     \n",
            "__________________________________________________________________________________________________\n",
            "conv1d_25 (Conv1D)              (None, 242, 64)      12352       activation_26[0][0]              \n",
            "__________________________________________________________________________________________________\n",
            "batch_normalization_29 (BatchNo (None, 242, 64)      256         conv1d_25[0][0]                  \n",
            "__________________________________________________________________________________________________\n",
            "activation_27 (Activation)      (None, 242, 64)      0           batch_normalization_29[0][0]     \n",
            "__________________________________________________________________________________________________\n",
            "res2a_branch (Conv1D)           (None, 242, 256)     49408       activation_27[0][0]              \n",
            "__________________________________________________________________________________________________\n",
            "conv1d_26 (Conv1D)              (None, 242, 256)     16640       max_pooling1d_1[0][0]            \n",
            "__________________________________________________________________________________________________\n",
            "batch_normalization_30 (BatchNo (None, 242, 256)     1024        res2a_branch[0][0]               \n",
            "__________________________________________________________________________________________________\n",
            "batch_normalization_31 (BatchNo (None, 242, 256)     1024        conv1d_26[0][0]                  \n",
            "__________________________________________________________________________________________________\n",
            "add_8 (Add)                     (None, 242, 256)     0           batch_normalization_30[0][0]     \n",
            "                                                                 batch_normalization_31[0][0]     \n",
            "__________________________________________________________________________________________________\n",
            "activation_28 (Activation)      (None, 242, 256)     0           add_8[0][0]                      \n",
            "__________________________________________________________________________________________________\n",
            "conv1d_27 (Conv1D)              (None, 242, 64)      16448       activation_28[0][0]              \n",
            "__________________________________________________________________________________________________\n",
            "batch_normalization_32 (BatchNo (None, 242, 64)      256         conv1d_27[0][0]                  \n",
            "__________________________________________________________________________________________________\n",
            "activation_29 (Activation)      (None, 242, 64)      0           batch_normalization_32[0][0]     \n",
            "__________________________________________________________________________________________________\n",
            "conv1d_28 (Conv1D)              (None, 242, 64)      12352       activation_29[0][0]              \n",
            "__________________________________________________________________________________________________\n",
            "batch_normalization_33 (BatchNo (None, 242, 64)      256         conv1d_28[0][0]                  \n",
            "__________________________________________________________________________________________________\n",
            "activation_30 (Activation)      (None, 242, 64)      0           batch_normalization_33[0][0]     \n",
            "__________________________________________________________________________________________________\n",
            "conv1d_29 (Conv1D)              (None, 242, 256)     16640       activation_30[0][0]              \n",
            "__________________________________________________________________________________________________\n",
            "batch_normalization_34 (BatchNo (None, 242, 256)     1024        conv1d_29[0][0]                  \n",
            "__________________________________________________________________________________________________\n",
            "add_9 (Add)                     (None, 242, 256)     0           batch_normalization_34[0][0]     \n",
            "                                                                 activation_28[0][0]              \n",
            "__________________________________________________________________________________________________\n",
            "activation_31 (Activation)      (None, 242, 256)     0           add_9[0][0]                      \n",
            "__________________________________________________________________________________________________\n",
            "conv1d_30 (Conv1D)              (None, 121, 128)     98432       activation_31[0][0]              \n",
            "__________________________________________________________________________________________________\n",
            "batch_normalization_35 (BatchNo (None, 121, 128)     512         conv1d_30[0][0]                  \n",
            "__________________________________________________________________________________________________\n",
            "activation_32 (Activation)      (None, 121, 128)     0           batch_normalization_35[0][0]     \n",
            "__________________________________________________________________________________________________\n",
            "conv1d_31 (Conv1D)              (None, 121, 128)     49280       activation_32[0][0]              \n",
            "__________________________________________________________________________________________________\n",
            "batch_normalization_36 (BatchNo (None, 121, 128)     512         conv1d_31[0][0]                  \n",
            "__________________________________________________________________________________________________\n",
            "activation_33 (Activation)      (None, 121, 128)     0           batch_normalization_36[0][0]     \n",
            "__________________________________________________________________________________________________\n",
            "res3a_branch (Conv1D)           (None, 121, 512)     197120      activation_33[0][0]              \n",
            "__________________________________________________________________________________________________\n",
            "conv1d_32 (Conv1D)              (None, 121, 512)     131584      activation_31[0][0]              \n",
            "__________________________________________________________________________________________________\n",
            "batch_normalization_37 (BatchNo (None, 121, 512)     2048        res3a_branch[0][0]               \n",
            "__________________________________________________________________________________________________\n",
            "batch_normalization_38 (BatchNo (None, 121, 512)     2048        conv1d_32[0][0]                  \n",
            "__________________________________________________________________________________________________\n",
            "add_10 (Add)                    (None, 121, 512)     0           batch_normalization_37[0][0]     \n",
            "                                                                 batch_normalization_38[0][0]     \n",
            "__________________________________________________________________________________________________\n",
            "activation_34 (Activation)      (None, 121, 512)     0           add_10[0][0]                     \n",
            "__________________________________________________________________________________________________\n",
            "conv1d_33 (Conv1D)              (None, 121, 128)     65664       activation_34[0][0]              \n",
            "__________________________________________________________________________________________________\n",
            "batch_normalization_39 (BatchNo (None, 121, 128)     512         conv1d_33[0][0]                  \n",
            "__________________________________________________________________________________________________\n",
            "activation_35 (Activation)      (None, 121, 128)     0           batch_normalization_39[0][0]     \n",
            "__________________________________________________________________________________________________\n",
            "conv1d_34 (Conv1D)              (None, 121, 128)     49280       activation_35[0][0]              \n",
            "__________________________________________________________________________________________________\n",
            "batch_normalization_40 (BatchNo (None, 121, 128)     512         conv1d_34[0][0]                  \n",
            "__________________________________________________________________________________________________\n",
            "activation_36 (Activation)      (None, 121, 128)     0           batch_normalization_40[0][0]     \n",
            "__________________________________________________________________________________________________\n",
            "conv1d_35 (Conv1D)              (None, 121, 512)     66048       activation_36[0][0]              \n",
            "__________________________________________________________________________________________________\n",
            "batch_normalization_41 (BatchNo (None, 121, 512)     2048        conv1d_35[0][0]                  \n",
            "__________________________________________________________________________________________________\n",
            "add_11 (Add)                    (None, 121, 512)     0           batch_normalization_41[0][0]     \n",
            "                                                                 activation_34[0][0]              \n",
            "__________________________________________________________________________________________________\n",
            "activation_37 (Activation)      (None, 121, 512)     0           add_11[0][0]                     \n",
            "__________________________________________________________________________________________________\n",
            "conv1d_36 (Conv1D)              (None, 61, 256)      393472      activation_37[0][0]              \n",
            "__________________________________________________________________________________________________\n",
            "batch_normalization_42 (BatchNo (None, 61, 256)      1024        conv1d_36[0][0]                  \n",
            "__________________________________________________________________________________________________\n",
            "activation_38 (Activation)      (None, 61, 256)      0           batch_normalization_42[0][0]     \n",
            "__________________________________________________________________________________________________\n",
            "conv1d_37 (Conv1D)              (None, 61, 256)      196864      activation_38[0][0]              \n",
            "__________________________________________________________________________________________________\n",
            "batch_normalization_43 (BatchNo (None, 61, 256)      1024        conv1d_37[0][0]                  \n",
            "__________________________________________________________________________________________________\n",
            "activation_39 (Activation)      (None, 61, 256)      0           batch_normalization_43[0][0]     \n",
            "__________________________________________________________________________________________________\n",
            "res4a_branch (Conv1D)           (None, 61, 1024)     787456      activation_39[0][0]              \n",
            "__________________________________________________________________________________________________\n",
            "conv1d_38 (Conv1D)              (None, 61, 1024)     525312      activation_37[0][0]              \n",
            "__________________________________________________________________________________________________\n",
            "batch_normalization_44 (BatchNo (None, 61, 1024)     4096        res4a_branch[0][0]               \n",
            "__________________________________________________________________________________________________\n",
            "batch_normalization_45 (BatchNo (None, 61, 1024)     4096        conv1d_38[0][0]                  \n",
            "__________________________________________________________________________________________________\n",
            "add_12 (Add)                    (None, 61, 1024)     0           batch_normalization_44[0][0]     \n",
            "                                                                 batch_normalization_45[0][0]     \n",
            "__________________________________________________________________________________________________\n",
            "activation_40 (Activation)      (None, 61, 1024)     0           add_12[0][0]                     \n",
            "__________________________________________________________________________________________________\n",
            "conv1d_39 (Conv1D)              (None, 61, 256)      262400      activation_40[0][0]              \n",
            "__________________________________________________________________________________________________\n",
            "batch_normalization_46 (BatchNo (None, 61, 256)      1024        conv1d_39[0][0]                  \n",
            "__________________________________________________________________________________________________\n",
            "activation_41 (Activation)      (None, 61, 256)      0           batch_normalization_46[0][0]     \n",
            "__________________________________________________________________________________________________\n",
            "conv1d_40 (Conv1D)              (None, 61, 256)      196864      activation_41[0][0]              \n",
            "__________________________________________________________________________________________________\n",
            "batch_normalization_47 (BatchNo (None, 61, 256)      1024        conv1d_40[0][0]                  \n",
            "__________________________________________________________________________________________________\n",
            "activation_42 (Activation)      (None, 61, 256)      0           batch_normalization_47[0][0]     \n",
            "__________________________________________________________________________________________________\n",
            "conv1d_41 (Conv1D)              (None, 61, 1024)     263168      activation_42[0][0]              \n",
            "__________________________________________________________________________________________________\n",
            "batch_normalization_48 (BatchNo (None, 61, 1024)     4096        conv1d_41[0][0]                  \n",
            "__________________________________________________________________________________________________\n",
            "add_13 (Add)                    (None, 61, 1024)     0           batch_normalization_48[0][0]     \n",
            "                                                                 activation_40[0][0]              \n",
            "__________________________________________________________________________________________________\n",
            "activation_43 (Activation)      (None, 61, 1024)     0           add_13[0][0]                     \n",
            "__________________________________________________________________________________________________\n",
            "conv1d_42 (Conv1D)              (None, 31, 256)      786688      activation_43[0][0]              \n",
            "__________________________________________________________________________________________________\n",
            "batch_normalization_49 (BatchNo (None, 31, 256)      1024        conv1d_42[0][0]                  \n",
            "__________________________________________________________________________________________________\n",
            "activation_44 (Activation)      (None, 31, 256)      0           batch_normalization_49[0][0]     \n",
            "__________________________________________________________________________________________________\n",
            "conv1d_43 (Conv1D)              (None, 31, 256)      196864      activation_44[0][0]              \n",
            "__________________________________________________________________________________________________\n",
            "batch_normalization_50 (BatchNo (None, 31, 256)      1024        conv1d_43[0][0]                  \n",
            "__________________________________________________________________________________________________\n",
            "activation_45 (Activation)      (None, 31, 256)      0           batch_normalization_50[0][0]     \n",
            "__________________________________________________________________________________________________\n",
            "res5a_branch (Conv1D)           (None, 31, 2048)     1574912     activation_45[0][0]              \n",
            "__________________________________________________________________________________________________\n",
            "conv1d_44 (Conv1D)              (None, 31, 2048)     2099200     activation_43[0][0]              \n",
            "__________________________________________________________________________________________________\n",
            "batch_normalization_51 (BatchNo (None, 31, 2048)     8192        res5a_branch[0][0]               \n",
            "__________________________________________________________________________________________________\n",
            "batch_normalization_52 (BatchNo (None, 31, 2048)     8192        conv1d_44[0][0]                  \n",
            "__________________________________________________________________________________________________\n",
            "add_14 (Add)                    (None, 31, 2048)     0           batch_normalization_51[0][0]     \n",
            "                                                                 batch_normalization_52[0][0]     \n",
            "__________________________________________________________________________________________________\n",
            "activation_46 (Activation)      (None, 31, 2048)     0           add_14[0][0]                     \n",
            "__________________________________________________________________________________________________\n",
            "conv1d_45 (Conv1D)              (None, 31, 256)      524544      activation_46[0][0]              \n",
            "__________________________________________________________________________________________________\n",
            "batch_normalization_53 (BatchNo (None, 31, 256)      1024        conv1d_45[0][0]                  \n",
            "__________________________________________________________________________________________________\n",
            "activation_47 (Activation)      (None, 31, 256)      0           batch_normalization_53[0][0]     \n",
            "__________________________________________________________________________________________________\n",
            "conv1d_46 (Conv1D)              (None, 31, 256)      196864      activation_47[0][0]              \n",
            "__________________________________________________________________________________________________\n",
            "batch_normalization_54 (BatchNo (None, 31, 256)      1024        conv1d_46[0][0]                  \n",
            "__________________________________________________________________________________________________\n",
            "activation_48 (Activation)      (None, 31, 256)      0           batch_normalization_54[0][0]     \n",
            "__________________________________________________________________________________________________\n",
            "conv1d_47 (Conv1D)              (None, 31, 2048)     526336      activation_48[0][0]              \n",
            "__________________________________________________________________________________________________\n",
            "batch_normalization_55 (BatchNo (None, 31, 2048)     8192        conv1d_47[0][0]                  \n",
            "__________________________________________________________________________________________________\n",
            "add_15 (Add)                    (None, 31, 2048)     0           batch_normalization_55[0][0]     \n",
            "                                                                 activation_46[0][0]              \n",
            "__________________________________________________________________________________________________\n",
            "activation_49 (Activation)      (None, 31, 2048)     0           add_15[0][0]                     \n",
            "__________________________________________________________________________________________________\n",
            "GAP1D (GlobalAveragePooling1D)  (None, 2048)         0           activation_49[0][0]              \n",
            "__________________________________________________________________________________________________\n",
            "flatten_1 (Flatten)             (None, 2048)         0           GAP1D[0][0]                      \n",
            "__________________________________________________________________________________________________\n",
            "dense_1 (Dense)                 (None, 21)           43029       flatten_1[0][0]                  \n",
            "==================================================================================================\n",
            "Total params: 9,425,685\n",
            "Trainable params: 9,368,213\n",
            "Non-trainable params: 57,472\n",
            "__________________________________________________________________________________________________\n"
          ]
        }
      ]
    },
    {
      "cell_type": "code",
      "metadata": {
        "id": "f683-ggIgr8Q"
      },
      "source": [
        "NoF = 64"
      ],
      "execution_count": null,
      "outputs": []
    },
    {
      "cell_type": "code",
      "metadata": {
        "id": "OQxauNyLspPh"
      },
      "source": [
        "#res_net.save_weights(\"/content/gdrive/MyDrive/6_21_2021_run/EntropicOpenSet_FirstOptimizer_Run5.h5\", overwrite=True)"
      ],
      "execution_count": null,
      "outputs": []
    },
    {
      "cell_type": "code",
      "metadata": {
        "id": "bBUR309hACEt"
      },
      "source": [
        "from keras import backend as K\n",
        "\n",
        "res_net1 = create_model()\n",
        "res_net2 = create_model()\n",
        "res_net3 = create_model()\n",
        "res_net4 = create_model()\n",
        "res_net5 = create_model()\n",
        "\n",
        "res_net1.load_weights(\"/content/gdrive/MyDrive/6_21_2021_run/EntropicOpenSet_FirstOptimizer_Run1.h5\")\n",
        "res_net2.load_weights(\"/content/gdrive/MyDrive/6_21_2021_run/EntropicOpenSet_FirstOptimizer_Run2.h5\")\n",
        "res_net3.load_weights(\"/content/gdrive/MyDrive/6_21_2021_run/EntropicOpenSet_FirstOptimizer_Run3.h5\")\n",
        "res_net4.load_weights(\"/content/gdrive/MyDrive/6_21_2021_run/EntropicOpenSet_FirstOptimizer_Run4.h5\")\n",
        "res_net5.load_weights(\"/content/gdrive/MyDrive/6_21_2021_run/EntropicOpenSet_FirstOptimizer_Run5.h5\")"
      ],
      "execution_count": null,
      "outputs": []
    },
    {
      "cell_type": "code",
      "metadata": {
        "id": "ScQefULTiEME"
      },
      "source": [
        "prediction1 = res_net1.predict(test_rescaled)\n",
        "prediction2 = res_net2.predict(test_rescaled)\n",
        "prediction3 = res_net3.predict(test_rescaled)\n",
        "prediction4 = res_net4.predict(test_rescaled)\n",
        "prediction5 = res_net5.predict(test_rescaled)\n",
        "\n",
        "prediction_test = (prediction1 + prediction2 + prediction3 + prediction4 + prediction5)/5"
      ],
      "execution_count": null,
      "outputs": []
    },
    {
      "cell_type": "code",
      "metadata": {
        "colab": {
          "base_uri": "https://localhost:8080/"
        },
        "id": "UKzrmvniiHkd",
        "outputId": "aedab3e8-13a2-4732-cdd5-b4179a06ab57"
      },
      "source": [
        "true = 0\n",
        "for i in range(20*500):\n",
        "  if prediction_test.argmax(axis=1)[i] == int(test_label[i]):\n",
        "    true += 1\n",
        "true/(20*500)"
      ],
      "execution_count": null,
      "outputs": [
        {
          "output_type": "execute_result",
          "data": {
            "text/plain": [
              "0.9997"
            ]
          },
          "metadata": {},
          "execution_count": 18
        }
      ]
    },
    {
      "cell_type": "code",
      "metadata": {
        "id": "jKLVwtP5XSyP"
      },
      "source": [
        "prediction1_ignored = res_net1.predict(ignored_data_rescaled)\n",
        "prediction2_ignored = res_net2.predict(ignored_data_rescaled)\n",
        "prediction3_ignored = res_net3.predict(ignored_data_rescaled)\n",
        "prediction4_ignored = res_net4.predict(ignored_data_rescaled)\n",
        "prediction5_ignored = res_net5.predict(ignored_data_rescaled)\n",
        "\n",
        "prediction_ignored = (prediction1_ignored + prediction2_ignored + prediction3_ignored + prediction4_ignored + prediction5_ignored)/5"
      ],
      "execution_count": null,
      "outputs": []
    },
    {
      "cell_type": "code",
      "metadata": {
        "id": "fq4nuUhTjDXM"
      },
      "source": [
        "def misclassifyignore(threshold):\n",
        "  misclassifyignore = 0\n",
        "  for i in range(prediction_ignored.shape[0]):\n",
        "    if max(prediction_ignored[i]) > threshold:\n",
        "      misclassifyignore += 1\n",
        "  return misclassifyignore/(prediction_ignored.shape[0])"
      ],
      "execution_count": null,
      "outputs": []
    },
    {
      "cell_type": "code",
      "metadata": {
        "colab": {
          "base_uri": "https://localhost:8080/"
        },
        "id": "aD32Fe3DjWL_",
        "outputId": "1695a16b-90b1-47d4-ea4d-a374fb41bd29"
      },
      "source": [
        "misclassifyignore(0.99)"
      ],
      "execution_count": null,
      "outputs": [
        {
          "output_type": "execute_result",
          "data": {
            "text/plain": [
              "0.00712"
            ]
          },
          "metadata": {
            "tags": []
          },
          "execution_count": 20
        }
      ]
    },
    {
      "cell_type": "code",
      "metadata": {
        "id": "RPp_F1WfjyJh"
      },
      "source": [
        "prediction1_unknown = res_net1.predict(unseen_data_rescaled)\n",
        "prediction2_unknown = res_net2.predict(unseen_data_rescaled)\n",
        "prediction3_unknown = res_net3.predict(unseen_data_rescaled)\n",
        "prediction4_unknown = res_net4.predict(unseen_data_rescaled)\n",
        "prediction5_unknown = res_net5.predict(unseen_data_rescaled)\n",
        "prediction_unknown = (prediction1_unknown + prediction2_unknown + prediction3_unknown + prediction4_unknown + prediction5_unknown)/5"
      ],
      "execution_count": null,
      "outputs": []
    },
    {
      "cell_type": "code",
      "metadata": {
        "id": "B2w4i1L0kE_G"
      },
      "source": [
        "def misclassifyunknown(threshold):\n",
        "  misclassifyunknown = 0\n",
        "  for i in range(prediction_unknown.shape[0]):\n",
        "    if max(prediction_unknown[i]) > threshold:\n",
        "      misclassifyunknown += 1\n",
        "  return misclassifyunknown/(prediction_unknown.shape[0])"
      ],
      "execution_count": null,
      "outputs": []
    },
    {
      "cell_type": "code",
      "metadata": {
        "colab": {
          "base_uri": "https://localhost:8080/"
        },
        "id": "pLSkRVTBkMzD",
        "outputId": "9ad5dcab-ada6-46f9-e438-3e8cde33e27a"
      },
      "source": [
        "misclassifyunknown(0.995)*100"
      ],
      "execution_count": null,
      "outputs": [
        {
          "output_type": "execute_result",
          "data": {
            "text/plain": [
              "0.32"
            ]
          },
          "metadata": {},
          "execution_count": 28
        }
      ]
    },
    {
      "cell_type": "code",
      "metadata": {
        "id": "n7pCMneNzwvL"
      },
      "source": [
        "def thresholding(threshold):\n",
        "  true = 0\n",
        "  for i in range(prediction_test.shape[0]):\n",
        "    if prediction_test.argmax(axis=1)[i] == int(test_label[i]) and max(prediction_test[i]) > threshold:\n",
        "      true += 1\n",
        "  return true/(prediction_test.shape[0])"
      ],
      "execution_count": null,
      "outputs": []
    },
    {
      "cell_type": "code",
      "metadata": {
        "colab": {
          "base_uri": "https://localhost:8080/"
        },
        "id": "BHoa1UKgz8Xj",
        "outputId": "27b386e7-bf47-4397-c8ad-61e92d047aac"
      },
      "source": [
        " thresholding(0.995)"
      ],
      "execution_count": null,
      "outputs": [
        {
          "output_type": "execute_result",
          "data": {
            "text/plain": [
              "0.9305"
            ]
          },
          "metadata": {},
          "execution_count": 32
        }
      ]
    },
    {
      "cell_type": "code",
      "metadata": {
        "colab": {
          "base_uri": "https://localhost:8080/"
        },
        "id": "D9WK8VK_8deT",
        "outputId": "68025cf2-8899-4f6b-b153-5665480f9645"
      },
      "source": [
        "for i in range(9):\n",
        "  print(\"Threshold\", 0.1 + 0.1*i)\n",
        "  print(\"Value of threshold\",100*thresholding(0.1 + 0.1*i))\n",
        "\n",
        "for i in range(9):\n",
        "  print(\"Threshold\", 0.9 + 0.01*i)\n",
        "  print(\"Value of threshold\",100*thresholding(0.9 + 0.01*i))"
      ],
      "execution_count": null,
      "outputs": [
        {
          "output_type": "stream",
          "name": "stdout",
          "text": [
            "Threshold 0.1\n",
            "Value of threshold 99.97\n",
            "Threshold 0.2\n",
            "Value of threshold 99.97\n",
            "Threshold 0.30000000000000004\n",
            "Value of threshold 99.97\n",
            "Threshold 0.4\n",
            "Value of threshold 99.97\n",
            "Threshold 0.5\n",
            "Value of threshold 99.97\n",
            "Threshold 0.6\n",
            "Value of threshold 99.95\n",
            "Threshold 0.7000000000000001\n",
            "Value of threshold 99.74\n",
            "Threshold 0.8\n",
            "Value of threshold 97.50999999999999\n",
            "Threshold 0.9\n",
            "Value of threshold 94.89999999999999\n",
            "Threshold 0.9\n",
            "Value of threshold 94.89999999999999\n",
            "Threshold 0.91\n",
            "Value of threshold 94.89999999999999\n",
            "Threshold 0.92\n",
            "Value of threshold 94.89\n",
            "Threshold 0.93\n",
            "Value of threshold 94.89\n",
            "Threshold 0.9400000000000001\n",
            "Value of threshold 94.87\n",
            "Threshold 0.9500000000000001\n",
            "Value of threshold 94.86\n",
            "Threshold 0.96\n",
            "Value of threshold 94.82000000000001\n",
            "Threshold 0.97\n",
            "Value of threshold 94.81\n",
            "Threshold 0.98\n",
            "Value of threshold 94.78999999999999\n"
          ]
        }
      ]
    },
    {
      "cell_type": "code",
      "metadata": {
        "colab": {
          "base_uri": "https://localhost:8080/"
        },
        "id": "n4f9zMtnBQCN",
        "outputId": "56fbeaf9-55e3-43ab-d194-a6b0a71c1edd"
      },
      "source": [
        "CorrectThresholding = []\n",
        "for i in range(90):\n",
        "  CorrectThresholding.append([0.1 + 0.01*i,100*thresholding(0.1 + 0.01*i)])\n",
        "CorrectThresholding"
      ],
      "execution_count": null,
      "outputs": [
        {
          "output_type": "execute_result",
          "data": {
            "text/plain": [
              "[[0.1, 99.97],\n",
              " [0.11, 99.97],\n",
              " [0.12000000000000001, 99.97],\n",
              " [0.13, 99.97],\n",
              " [0.14, 99.97],\n",
              " [0.15000000000000002, 99.97],\n",
              " [0.16, 99.97],\n",
              " [0.17, 99.97],\n",
              " [0.18, 99.97],\n",
              " [0.19, 99.97],\n",
              " [0.2, 99.97],\n",
              " [0.21000000000000002, 99.97],\n",
              " [0.22, 99.97],\n",
              " [0.23, 99.97],\n",
              " [0.24000000000000002, 99.97],\n",
              " [0.25, 99.97],\n",
              " [0.26, 99.97],\n",
              " [0.27, 99.97],\n",
              " [0.28, 99.97],\n",
              " [0.29000000000000004, 99.97],\n",
              " [0.30000000000000004, 99.97],\n",
              " [0.31, 99.97],\n",
              " [0.32, 99.97],\n",
              " [0.33, 99.97],\n",
              " [0.33999999999999997, 99.97],\n",
              " [0.35, 99.97],\n",
              " [0.36, 99.97],\n",
              " [0.37, 99.97],\n",
              " [0.38, 99.97],\n",
              " [0.39, 99.97],\n",
              " [0.4, 99.97],\n",
              " [0.41000000000000003, 99.97],\n",
              " [0.42000000000000004, 99.97],\n",
              " [0.43000000000000005, 99.97],\n",
              " [0.44000000000000006, 99.97],\n",
              " [0.45000000000000007, 99.97],\n",
              " [0.45999999999999996, 99.97],\n",
              " [0.47, 99.97],\n",
              " [0.48, 99.97],\n",
              " [0.49, 99.97],\n",
              " [0.5, 99.97],\n",
              " [0.51, 99.97],\n",
              " [0.52, 99.96000000000001],\n",
              " [0.53, 99.96000000000001],\n",
              " [0.54, 99.96000000000001],\n",
              " [0.55, 99.95],\n",
              " [0.56, 99.95],\n",
              " [0.5700000000000001, 99.95],\n",
              " [0.58, 99.95],\n",
              " [0.59, 99.95],\n",
              " [0.6, 99.95],\n",
              " [0.61, 99.95],\n",
              " [0.62, 99.95],\n",
              " [0.63, 99.95],\n",
              " [0.64, 99.92],\n",
              " [0.65, 99.89],\n",
              " [0.66, 99.88],\n",
              " [0.67, 99.86],\n",
              " [0.6799999999999999, 99.82],\n",
              " [0.69, 99.8],\n",
              " [0.7, 99.74],\n",
              " [0.71, 99.69],\n",
              " [0.72, 99.63],\n",
              " [0.73, 99.52],\n",
              " [0.74, 99.47],\n",
              " [0.75, 99.33],\n",
              " [0.76, 99.15],\n",
              " [0.77, 99.00999999999999],\n",
              " [0.78, 98.8],\n",
              " [0.79, 98.39],\n",
              " [0.8, 97.50999999999999],\n",
              " [0.8099999999999999, 96.31],\n",
              " [0.82, 95.53],\n",
              " [0.83, 95.11],\n",
              " [0.84, 94.95],\n",
              " [0.85, 94.93],\n",
              " [0.86, 94.93],\n",
              " [0.87, 94.92],\n",
              " [0.88, 94.91000000000001],\n",
              " [0.89, 94.89999999999999],\n",
              " [0.9, 94.89999999999999],\n",
              " [0.91, 94.89999999999999],\n",
              " [0.92, 94.89],\n",
              " [0.93, 94.89],\n",
              " [0.94, 94.87],\n",
              " [0.95, 94.86],\n",
              " [0.96, 94.82000000000001],\n",
              " [0.97, 94.81],\n",
              " [0.98, 94.78999999999999],\n",
              " [0.99, 94.53]]"
            ]
          },
          "metadata": {},
          "execution_count": 34
        }
      ]
    },
    {
      "cell_type": "code",
      "metadata": {
        "colab": {
          "base_uri": "https://localhost:8080/"
        },
        "id": "szTezjiiHMNC",
        "outputId": "0ebddb15-b6be-4dc2-acdb-f49b28d47427"
      },
      "source": [
        "for i in range(9):\n",
        "  CorrectThresholding.append([0.99 + 0.001*i,100*thresholding(0.99 + 0.001*i)])\n",
        "CorrectThresholding"
      ],
      "execution_count": null,
      "outputs": [
        {
          "output_type": "execute_result",
          "data": {
            "text/plain": [
              "[[0.1, 99.97],\n",
              " [0.11, 99.97],\n",
              " [0.12000000000000001, 99.97],\n",
              " [0.13, 99.97],\n",
              " [0.14, 99.97],\n",
              " [0.15000000000000002, 99.97],\n",
              " [0.16, 99.97],\n",
              " [0.17, 99.97],\n",
              " [0.18, 99.97],\n",
              " [0.19, 99.97],\n",
              " [0.2, 99.97],\n",
              " [0.21000000000000002, 99.97],\n",
              " [0.22, 99.97],\n",
              " [0.23, 99.97],\n",
              " [0.24000000000000002, 99.97],\n",
              " [0.25, 99.97],\n",
              " [0.26, 99.97],\n",
              " [0.27, 99.97],\n",
              " [0.28, 99.97],\n",
              " [0.29000000000000004, 99.97],\n",
              " [0.30000000000000004, 99.97],\n",
              " [0.31, 99.97],\n",
              " [0.32, 99.97],\n",
              " [0.33, 99.97],\n",
              " [0.33999999999999997, 99.97],\n",
              " [0.35, 99.97],\n",
              " [0.36, 99.97],\n",
              " [0.37, 99.97],\n",
              " [0.38, 99.97],\n",
              " [0.39, 99.97],\n",
              " [0.4, 99.97],\n",
              " [0.41000000000000003, 99.97],\n",
              " [0.42000000000000004, 99.97],\n",
              " [0.43000000000000005, 99.97],\n",
              " [0.44000000000000006, 99.97],\n",
              " [0.45000000000000007, 99.97],\n",
              " [0.45999999999999996, 99.97],\n",
              " [0.47, 99.97],\n",
              " [0.48, 99.97],\n",
              " [0.49, 99.97],\n",
              " [0.5, 99.97],\n",
              " [0.51, 99.97],\n",
              " [0.52, 99.96000000000001],\n",
              " [0.53, 99.96000000000001],\n",
              " [0.54, 99.96000000000001],\n",
              " [0.55, 99.95],\n",
              " [0.56, 99.95],\n",
              " [0.5700000000000001, 99.95],\n",
              " [0.58, 99.95],\n",
              " [0.59, 99.95],\n",
              " [0.6, 99.95],\n",
              " [0.61, 99.95],\n",
              " [0.62, 99.95],\n",
              " [0.63, 99.95],\n",
              " [0.64, 99.92],\n",
              " [0.65, 99.89],\n",
              " [0.66, 99.88],\n",
              " [0.67, 99.86],\n",
              " [0.6799999999999999, 99.82],\n",
              " [0.69, 99.8],\n",
              " [0.7, 99.74],\n",
              " [0.71, 99.69],\n",
              " [0.72, 99.63],\n",
              " [0.73, 99.52],\n",
              " [0.74, 99.47],\n",
              " [0.75, 99.33],\n",
              " [0.76, 99.15],\n",
              " [0.77, 99.00999999999999],\n",
              " [0.78, 98.8],\n",
              " [0.79, 98.39],\n",
              " [0.8, 97.50999999999999],\n",
              " [0.8099999999999999, 96.31],\n",
              " [0.82, 95.53],\n",
              " [0.83, 95.11],\n",
              " [0.84, 94.95],\n",
              " [0.85, 94.93],\n",
              " [0.86, 94.93],\n",
              " [0.87, 94.92],\n",
              " [0.88, 94.91000000000001],\n",
              " [0.89, 94.89999999999999],\n",
              " [0.9, 94.89999999999999],\n",
              " [0.91, 94.89999999999999],\n",
              " [0.92, 94.89],\n",
              " [0.93, 94.89],\n",
              " [0.94, 94.87],\n",
              " [0.95, 94.86],\n",
              " [0.96, 94.82000000000001],\n",
              " [0.97, 94.81],\n",
              " [0.98, 94.78999999999999],\n",
              " [0.99, 94.53],\n",
              " [0.99, 94.53],\n",
              " [0.991, 94.39999999999999],\n",
              " [0.992, 94.24],\n",
              " [0.993, 93.97999999999999],\n",
              " [0.994, 93.55],\n",
              " [0.995, 93.05],\n",
              " [0.996, 92.32000000000001],\n",
              " [0.997, 91.24],\n",
              " [0.998, 89.56]]"
            ]
          },
          "metadata": {},
          "execution_count": 35
        }
      ]
    },
    {
      "cell_type": "code",
      "metadata": {
        "id": "3JH5fkxL0GsQ"
      },
      "source": [
        "def dontknow(threshold):\n",
        "  notknown = 0\n",
        "  for i in range(prediction_test.shape[0]):\n",
        "    if max(prediction_test[i]) <= threshold:\n",
        "      notknown += 1\n",
        "  return notknown/(prediction_test.shape[0])"
      ],
      "execution_count": null,
      "outputs": []
    },
    {
      "cell_type": "code",
      "metadata": {
        "colab": {
          "base_uri": "https://localhost:8080/"
        },
        "id": "3TlUU79V0fsg",
        "outputId": "bc63cdb0-52a8-4904-d42e-9ab89cff58df"
      },
      "source": [
        "DontKnowThresholding = []\n",
        "for i in range(90):\n",
        "  DontKnowThresholding.append([0.1 + 0.01*i,100*dontknow(0.1 + 0.01*i)])\n",
        "DontKnowThresholding"
      ],
      "execution_count": null,
      "outputs": [
        {
          "output_type": "execute_result",
          "data": {
            "text/plain": [
              "[[0.1, 0.0],\n",
              " [0.11, 0.0],\n",
              " [0.12000000000000001, 0.0],\n",
              " [0.13, 0.0],\n",
              " [0.14, 0.0],\n",
              " [0.15000000000000002, 0.0],\n",
              " [0.16, 0.0],\n",
              " [0.17, 0.0],\n",
              " [0.18, 0.0],\n",
              " [0.19, 0.0],\n",
              " [0.2, 0.0],\n",
              " [0.21000000000000002, 0.0],\n",
              " [0.22, 0.0],\n",
              " [0.23, 0.0],\n",
              " [0.24000000000000002, 0.0],\n",
              " [0.25, 0.0],\n",
              " [0.26, 0.0],\n",
              " [0.27, 0.0],\n",
              " [0.28, 0.0],\n",
              " [0.29000000000000004, 0.0],\n",
              " [0.30000000000000004, 0.0],\n",
              " [0.31, 0.0],\n",
              " [0.32, 0.0],\n",
              " [0.33, 0.0],\n",
              " [0.33999999999999997, 0.0],\n",
              " [0.35, 0.0],\n",
              " [0.36, 0.0],\n",
              " [0.37, 0.0],\n",
              " [0.38, 0.0],\n",
              " [0.39, 0.0],\n",
              " [0.4, 0.0],\n",
              " [0.41000000000000003, 0.0],\n",
              " [0.42000000000000004, 0.0],\n",
              " [0.43000000000000005, 0.0],\n",
              " [0.44000000000000006, 0.0],\n",
              " [0.45000000000000007, 0.0],\n",
              " [0.45999999999999996, 0.01],\n",
              " [0.47, 0.01],\n",
              " [0.48, 0.01],\n",
              " [0.49, 0.01],\n",
              " [0.5, 0.01],\n",
              " [0.51, 0.01],\n",
              " [0.52, 0.02],\n",
              " [0.53, 0.02],\n",
              " [0.54, 0.02],\n",
              " [0.55, 0.03],\n",
              " [0.56, 0.03],\n",
              " [0.5700000000000001, 0.03],\n",
              " [0.58, 0.03],\n",
              " [0.59, 0.03],\n",
              " [0.6, 0.03],\n",
              " [0.61, 0.03],\n",
              " [0.62, 0.03],\n",
              " [0.63, 0.04],\n",
              " [0.64, 0.06999999999999999],\n",
              " [0.65, 0.1],\n",
              " [0.66, 0.11],\n",
              " [0.67, 0.13],\n",
              " [0.6799999999999999, 0.16999999999999998],\n",
              " [0.69, 0.19],\n",
              " [0.7, 0.25],\n",
              " [0.71, 0.3],\n",
              " [0.72, 0.36],\n",
              " [0.73, 0.47000000000000003],\n",
              " [0.74, 0.52],\n",
              " [0.75, 0.66],\n",
              " [0.76, 0.84],\n",
              " [0.77, 0.98],\n",
              " [0.78, 1.1900000000000002],\n",
              " [0.79, 1.6],\n",
              " [0.8, 2.48],\n",
              " [0.8099999999999999, 3.6799999999999997],\n",
              " [0.82, 4.46],\n",
              " [0.83, 4.88],\n",
              " [0.84, 5.04],\n",
              " [0.85, 5.06],\n",
              " [0.86, 5.06],\n",
              " [0.87, 5.07],\n",
              " [0.88, 5.08],\n",
              " [0.89, 5.09],\n",
              " [0.9, 5.09],\n",
              " [0.91, 5.09],\n",
              " [0.92, 5.1],\n",
              " [0.93, 5.1],\n",
              " [0.94, 5.13],\n",
              " [0.95, 5.140000000000001],\n",
              " [0.96, 5.18],\n",
              " [0.97, 5.19],\n",
              " [0.98, 5.21],\n",
              " [0.99, 5.47]]"
            ]
          },
          "metadata": {},
          "execution_count": 37
        }
      ]
    },
    {
      "cell_type": "code",
      "metadata": {
        "colab": {
          "base_uri": "https://localhost:8080/"
        },
        "id": "Tb5uiHJOIFM5",
        "outputId": "26808d69-97ea-45a6-ecc9-0a8f9700f6d3"
      },
      "source": [
        "for i in range(9):\n",
        "  DontKnowThresholding.append([0.99 + 0.001*i,100*dontknow(0.99 + 0.001*i)])\n",
        "DontKnowThresholding"
      ],
      "execution_count": null,
      "outputs": [
        {
          "output_type": "execute_result",
          "data": {
            "text/plain": [
              "[[0.1, 0.0],\n",
              " [0.11, 0.0],\n",
              " [0.12000000000000001, 0.0],\n",
              " [0.13, 0.0],\n",
              " [0.14, 0.0],\n",
              " [0.15000000000000002, 0.0],\n",
              " [0.16, 0.0],\n",
              " [0.17, 0.0],\n",
              " [0.18, 0.0],\n",
              " [0.19, 0.0],\n",
              " [0.2, 0.0],\n",
              " [0.21000000000000002, 0.0],\n",
              " [0.22, 0.0],\n",
              " [0.23, 0.0],\n",
              " [0.24000000000000002, 0.0],\n",
              " [0.25, 0.0],\n",
              " [0.26, 0.0],\n",
              " [0.27, 0.0],\n",
              " [0.28, 0.0],\n",
              " [0.29000000000000004, 0.0],\n",
              " [0.30000000000000004, 0.0],\n",
              " [0.31, 0.0],\n",
              " [0.32, 0.0],\n",
              " [0.33, 0.0],\n",
              " [0.33999999999999997, 0.0],\n",
              " [0.35, 0.0],\n",
              " [0.36, 0.0],\n",
              " [0.37, 0.0],\n",
              " [0.38, 0.0],\n",
              " [0.39, 0.0],\n",
              " [0.4, 0.0],\n",
              " [0.41000000000000003, 0.0],\n",
              " [0.42000000000000004, 0.0],\n",
              " [0.43000000000000005, 0.0],\n",
              " [0.44000000000000006, 0.0],\n",
              " [0.45000000000000007, 0.0],\n",
              " [0.45999999999999996, 0.01],\n",
              " [0.47, 0.01],\n",
              " [0.48, 0.01],\n",
              " [0.49, 0.01],\n",
              " [0.5, 0.01],\n",
              " [0.51, 0.01],\n",
              " [0.52, 0.02],\n",
              " [0.53, 0.02],\n",
              " [0.54, 0.02],\n",
              " [0.55, 0.03],\n",
              " [0.56, 0.03],\n",
              " [0.5700000000000001, 0.03],\n",
              " [0.58, 0.03],\n",
              " [0.59, 0.03],\n",
              " [0.6, 0.03],\n",
              " [0.61, 0.03],\n",
              " [0.62, 0.03],\n",
              " [0.63, 0.04],\n",
              " [0.64, 0.06999999999999999],\n",
              " [0.65, 0.1],\n",
              " [0.66, 0.11],\n",
              " [0.67, 0.13],\n",
              " [0.6799999999999999, 0.16999999999999998],\n",
              " [0.69, 0.19],\n",
              " [0.7, 0.25],\n",
              " [0.71, 0.3],\n",
              " [0.72, 0.36],\n",
              " [0.73, 0.47000000000000003],\n",
              " [0.74, 0.52],\n",
              " [0.75, 0.66],\n",
              " [0.76, 0.84],\n",
              " [0.77, 0.98],\n",
              " [0.78, 1.1900000000000002],\n",
              " [0.79, 1.6],\n",
              " [0.8, 2.48],\n",
              " [0.8099999999999999, 3.6799999999999997],\n",
              " [0.82, 4.46],\n",
              " [0.83, 4.88],\n",
              " [0.84, 5.04],\n",
              " [0.85, 5.06],\n",
              " [0.86, 5.06],\n",
              " [0.87, 5.07],\n",
              " [0.88, 5.08],\n",
              " [0.89, 5.09],\n",
              " [0.9, 5.09],\n",
              " [0.91, 5.09],\n",
              " [0.92, 5.1],\n",
              " [0.93, 5.1],\n",
              " [0.94, 5.13],\n",
              " [0.95, 5.140000000000001],\n",
              " [0.96, 5.18],\n",
              " [0.97, 5.19],\n",
              " [0.98, 5.21],\n",
              " [0.99, 5.47],\n",
              " [0.99, 5.47],\n",
              " [0.991, 5.6000000000000005],\n",
              " [0.992, 5.76],\n",
              " [0.993, 6.02],\n",
              " [0.994, 6.45],\n",
              " [0.995, 6.950000000000001],\n",
              " [0.996, 7.68],\n",
              " [0.997, 8.76],\n",
              " [0.998, 10.440000000000001]]"
            ]
          },
          "metadata": {},
          "execution_count": 38
        }
      ]
    },
    {
      "cell_type": "code",
      "metadata": {
        "id": "hjw_HQgH2rMY"
      },
      "source": [
        "def false_identify(threshold):\n",
        "  false_identify = 0\n",
        "  for i in range(prediction_test.shape[0]):\n",
        "    if prediction_test.argmax(axis=1)[i] != int(test_label[i]) and max(prediction_test[i]) > threshold:\n",
        "      false_identify += 1\n",
        "  return false_identify/(prediction_test.shape[0])"
      ],
      "execution_count": null,
      "outputs": []
    },
    {
      "cell_type": "code",
      "metadata": {
        "colab": {
          "base_uri": "https://localhost:8080/"
        },
        "id": "St8CaF1w4VL5",
        "outputId": "d8cfa4c9-8769-47c3-8266-0cefc4591ab7"
      },
      "source": [
        "FalseIdentifyThresholding = []\n",
        "for i in range(90):\n",
        "  FalseIdentifyThresholding.append([0.1 + 0.01*i,100*false_identify(0.1 + 0.01*i)])\n",
        "FalseIdentifyThresholding"
      ],
      "execution_count": null,
      "outputs": [
        {
          "output_type": "execute_result",
          "data": {
            "text/plain": [
              "[[0.1, 0.03],\n",
              " [0.11, 0.03],\n",
              " [0.12000000000000001, 0.03],\n",
              " [0.13, 0.03],\n",
              " [0.14, 0.03],\n",
              " [0.15000000000000002, 0.03],\n",
              " [0.16, 0.03],\n",
              " [0.17, 0.03],\n",
              " [0.18, 0.03],\n",
              " [0.19, 0.03],\n",
              " [0.2, 0.03],\n",
              " [0.21000000000000002, 0.03],\n",
              " [0.22, 0.03],\n",
              " [0.23, 0.03],\n",
              " [0.24000000000000002, 0.03],\n",
              " [0.25, 0.03],\n",
              " [0.26, 0.03],\n",
              " [0.27, 0.03],\n",
              " [0.28, 0.03],\n",
              " [0.29000000000000004, 0.03],\n",
              " [0.30000000000000004, 0.03],\n",
              " [0.31, 0.03],\n",
              " [0.32, 0.03],\n",
              " [0.33, 0.03],\n",
              " [0.33999999999999997, 0.03],\n",
              " [0.35, 0.03],\n",
              " [0.36, 0.03],\n",
              " [0.37, 0.03],\n",
              " [0.38, 0.03],\n",
              " [0.39, 0.03],\n",
              " [0.4, 0.03],\n",
              " [0.41000000000000003, 0.03],\n",
              " [0.42000000000000004, 0.03],\n",
              " [0.43000000000000005, 0.03],\n",
              " [0.44000000000000006, 0.03],\n",
              " [0.45000000000000007, 0.03],\n",
              " [0.45999999999999996, 0.02],\n",
              " [0.47, 0.02],\n",
              " [0.48, 0.02],\n",
              " [0.49, 0.02],\n",
              " [0.5, 0.02],\n",
              " [0.51, 0.02],\n",
              " [0.52, 0.02],\n",
              " [0.53, 0.02],\n",
              " [0.54, 0.02],\n",
              " [0.55, 0.02],\n",
              " [0.56, 0.02],\n",
              " [0.5700000000000001, 0.02],\n",
              " [0.58, 0.02],\n",
              " [0.59, 0.02],\n",
              " [0.6, 0.02],\n",
              " [0.61, 0.02],\n",
              " [0.62, 0.02],\n",
              " [0.63, 0.01],\n",
              " [0.64, 0.01],\n",
              " [0.65, 0.01],\n",
              " [0.66, 0.01],\n",
              " [0.67, 0.01],\n",
              " [0.6799999999999999, 0.01],\n",
              " [0.69, 0.01],\n",
              " [0.7, 0.01],\n",
              " [0.71, 0.01],\n",
              " [0.72, 0.01],\n",
              " [0.73, 0.01],\n",
              " [0.74, 0.01],\n",
              " [0.75, 0.01],\n",
              " [0.76, 0.01],\n",
              " [0.77, 0.01],\n",
              " [0.78, 0.01],\n",
              " [0.79, 0.01],\n",
              " [0.8, 0.01],\n",
              " [0.8099999999999999, 0.01],\n",
              " [0.82, 0.01],\n",
              " [0.83, 0.01],\n",
              " [0.84, 0.01],\n",
              " [0.85, 0.01],\n",
              " [0.86, 0.01],\n",
              " [0.87, 0.01],\n",
              " [0.88, 0.01],\n",
              " [0.89, 0.01],\n",
              " [0.9, 0.01],\n",
              " [0.91, 0.01],\n",
              " [0.92, 0.01],\n",
              " [0.93, 0.01],\n",
              " [0.94, 0.0],\n",
              " [0.95, 0.0],\n",
              " [0.96, 0.0],\n",
              " [0.97, 0.0],\n",
              " [0.98, 0.0],\n",
              " [0.99, 0.0]]"
            ]
          },
          "metadata": {},
          "execution_count": 42
        }
      ]
    },
    {
      "cell_type": "code",
      "metadata": {
        "colab": {
          "base_uri": "https://localhost:8080/"
        },
        "id": "IFHlcg7qL44a",
        "outputId": "ac4c7f59-8e76-4e84-ff6f-392e582211dd"
      },
      "source": [
        "for i in range(9):\n",
        "  FalseIdentifyThresholding.append([0.99 + 0.001*i,100*false_identify(0.99 + 0.001*i)])\n",
        "FalseIdentifyThresholding"
      ],
      "execution_count": null,
      "outputs": [
        {
          "output_type": "execute_result",
          "data": {
            "text/plain": [
              "[[0.1, 0.03],\n",
              " [0.11, 0.03],\n",
              " [0.12000000000000001, 0.03],\n",
              " [0.13, 0.03],\n",
              " [0.14, 0.03],\n",
              " [0.15000000000000002, 0.03],\n",
              " [0.16, 0.03],\n",
              " [0.17, 0.03],\n",
              " [0.18, 0.03],\n",
              " [0.19, 0.03],\n",
              " [0.2, 0.03],\n",
              " [0.21000000000000002, 0.03],\n",
              " [0.22, 0.03],\n",
              " [0.23, 0.03],\n",
              " [0.24000000000000002, 0.03],\n",
              " [0.25, 0.03],\n",
              " [0.26, 0.03],\n",
              " [0.27, 0.03],\n",
              " [0.28, 0.03],\n",
              " [0.29000000000000004, 0.03],\n",
              " [0.30000000000000004, 0.03],\n",
              " [0.31, 0.03],\n",
              " [0.32, 0.03],\n",
              " [0.33, 0.03],\n",
              " [0.33999999999999997, 0.03],\n",
              " [0.35, 0.03],\n",
              " [0.36, 0.03],\n",
              " [0.37, 0.03],\n",
              " [0.38, 0.03],\n",
              " [0.39, 0.03],\n",
              " [0.4, 0.03],\n",
              " [0.41000000000000003, 0.03],\n",
              " [0.42000000000000004, 0.03],\n",
              " [0.43000000000000005, 0.03],\n",
              " [0.44000000000000006, 0.03],\n",
              " [0.45000000000000007, 0.03],\n",
              " [0.45999999999999996, 0.02],\n",
              " [0.47, 0.02],\n",
              " [0.48, 0.02],\n",
              " [0.49, 0.02],\n",
              " [0.5, 0.02],\n",
              " [0.51, 0.02],\n",
              " [0.52, 0.02],\n",
              " [0.53, 0.02],\n",
              " [0.54, 0.02],\n",
              " [0.55, 0.02],\n",
              " [0.56, 0.02],\n",
              " [0.5700000000000001, 0.02],\n",
              " [0.58, 0.02],\n",
              " [0.59, 0.02],\n",
              " [0.6, 0.02],\n",
              " [0.61, 0.02],\n",
              " [0.62, 0.02],\n",
              " [0.63, 0.01],\n",
              " [0.64, 0.01],\n",
              " [0.65, 0.01],\n",
              " [0.66, 0.01],\n",
              " [0.67, 0.01],\n",
              " [0.6799999999999999, 0.01],\n",
              " [0.69, 0.01],\n",
              " [0.7, 0.01],\n",
              " [0.71, 0.01],\n",
              " [0.72, 0.01],\n",
              " [0.73, 0.01],\n",
              " [0.74, 0.01],\n",
              " [0.75, 0.01],\n",
              " [0.76, 0.01],\n",
              " [0.77, 0.01],\n",
              " [0.78, 0.01],\n",
              " [0.79, 0.01],\n",
              " [0.8, 0.01],\n",
              " [0.8099999999999999, 0.01],\n",
              " [0.82, 0.01],\n",
              " [0.83, 0.01],\n",
              " [0.84, 0.01],\n",
              " [0.85, 0.01],\n",
              " [0.86, 0.01],\n",
              " [0.87, 0.01],\n",
              " [0.88, 0.01],\n",
              " [0.89, 0.01],\n",
              " [0.9, 0.01],\n",
              " [0.91, 0.01],\n",
              " [0.92, 0.01],\n",
              " [0.93, 0.01],\n",
              " [0.94, 0.0],\n",
              " [0.95, 0.0],\n",
              " [0.96, 0.0],\n",
              " [0.97, 0.0],\n",
              " [0.98, 0.0],\n",
              " [0.99, 0.0],\n",
              " [0.99, 0.0],\n",
              " [0.991, 0.0],\n",
              " [0.992, 0.0],\n",
              " [0.993, 0.0],\n",
              " [0.994, 0.0],\n",
              " [0.995, 0.0],\n",
              " [0.996, 0.0],\n",
              " [0.997, 0.0],\n",
              " [0.998, 0.0]]"
            ]
          },
          "metadata": {},
          "execution_count": 43
        }
      ]
    },
    {
      "cell_type": "code",
      "metadata": {
        "colab": {
          "base_uri": "https://localhost:8080/"
        },
        "id": "dbRu3TL7PBU-",
        "outputId": "75e1256e-0dfb-4dde-eec1-8ccaff606d0d"
      },
      "source": [
        "UnknownMisclassify = []\n",
        "for i in range(90):\n",
        "  UnknownMisclassify.append([0.1 + 0.01*i,100*misclassifyunknown(0.1 + 0.01*i)])\n",
        "UnknownMisclassify"
      ],
      "execution_count": null,
      "outputs": [
        {
          "output_type": "execute_result",
          "data": {
            "text/plain": [
              "[[0.1, 100.0],\n",
              " [0.11, 100.0],\n",
              " [0.12000000000000001, 100.0],\n",
              " [0.13, 100.0],\n",
              " [0.14, 100.0],\n",
              " [0.15000000000000002, 100.0],\n",
              " [0.16, 100.0],\n",
              " [0.17, 100.0],\n",
              " [0.18, 100.0],\n",
              " [0.19, 100.0],\n",
              " [0.2, 100.0],\n",
              " [0.21000000000000002, 100.0],\n",
              " [0.22, 100.0],\n",
              " [0.23, 99.98],\n",
              " [0.24000000000000002, 99.98],\n",
              " [0.25, 99.98],\n",
              " [0.26, 99.98],\n",
              " [0.27, 99.98],\n",
              " [0.28, 99.94],\n",
              " [0.29000000000000004, 99.9],\n",
              " [0.30000000000000004, 99.9],\n",
              " [0.31, 99.88],\n",
              " [0.32, 99.83999999999999],\n",
              " [0.33, 99.76],\n",
              " [0.33999999999999997, 99.68],\n",
              " [0.35, 99.53999999999999],\n",
              " [0.36, 99.4],\n",
              " [0.37, 99.1],\n",
              " [0.38, 98.74000000000001],\n",
              " [0.39, 98.04],\n",
              " [0.4, 97.18],\n",
              " [0.41000000000000003, 96.04],\n",
              " [0.42000000000000004, 94.96],\n",
              " [0.43000000000000005, 93.82000000000001],\n",
              " [0.44000000000000006, 92.4],\n",
              " [0.45000000000000007, 91.25999999999999],\n",
              " [0.45999999999999996, 90.28],\n",
              " [0.47, 89.24],\n",
              " [0.48, 88.38000000000001],\n",
              " [0.49, 87.62],\n",
              " [0.5, 86.83999999999999],\n",
              " [0.51, 86.06],\n",
              " [0.52, 84.98],\n",
              " [0.53, 83.88],\n",
              " [0.54, 82.58],\n",
              " [0.55, 80.92],\n",
              " [0.56, 79.4],\n",
              " [0.5700000000000001, 77.24],\n",
              " [0.58, 74.68],\n",
              " [0.59, 72.04],\n",
              " [0.6, 69.88],\n",
              " [0.61, 68.16],\n",
              " [0.62, 66.58],\n",
              " [0.63, 65.34],\n",
              " [0.64, 64.2],\n",
              " [0.65, 62.580000000000005],\n",
              " [0.66, 61.3],\n",
              " [0.67, 59.699999999999996],\n",
              " [0.6799999999999999, 57.78],\n",
              " [0.69, 56.26],\n",
              " [0.7, 54.279999999999994],\n",
              " [0.71, 52.580000000000005],\n",
              " [0.72, 51.4],\n",
              " [0.73, 50.28],\n",
              " [0.74, 49.74],\n",
              " [0.75, 49.1],\n",
              " [0.76, 48.5],\n",
              " [0.77, 47.86],\n",
              " [0.78, 47.54],\n",
              " [0.79, 47.24],\n",
              " [0.8, 46.82],\n",
              " [0.8099999999999999, 46.54],\n",
              " [0.82, 46.32],\n",
              " [0.83, 45.96],\n",
              " [0.84, 45.62],\n",
              " [0.85, 45.12],\n",
              " [0.86, 44.48],\n",
              " [0.87, 42.9],\n",
              " [0.88, 40.42],\n",
              " [0.89, 37.68],\n",
              " [0.9, 34.38],\n",
              " [0.91, 32.300000000000004],\n",
              " [0.92, 30.56],\n",
              " [0.93, 29.2],\n",
              " [0.94, 27.939999999999998],\n",
              " [0.95, 26.479999999999997],\n",
              " [0.96, 24.92],\n",
              " [0.97, 22.86],\n",
              " [0.98, 16.98],\n",
              " [0.99, 6.02]]"
            ]
          },
          "metadata": {},
          "execution_count": 44
        }
      ]
    },
    {
      "cell_type": "code",
      "metadata": {
        "colab": {
          "base_uri": "https://localhost:8080/"
        },
        "id": "bQQuIgRoPjIF",
        "outputId": "1974c427-af08-4ebd-d4ec-7c97a013f5c2"
      },
      "source": [
        "for i in range(9):\n",
        "  UnknownMisclassify.append([0.99 + 0.001*i,100*misclassifyunknown(0.99 + 0.001*i)])\n",
        "UnknownMisclassify"
      ],
      "execution_count": null,
      "outputs": [
        {
          "output_type": "execute_result",
          "data": {
            "text/plain": [
              "[[0.1, 100.0],\n",
              " [0.11, 100.0],\n",
              " [0.12000000000000001, 100.0],\n",
              " [0.13, 100.0],\n",
              " [0.14, 100.0],\n",
              " [0.15000000000000002, 100.0],\n",
              " [0.16, 100.0],\n",
              " [0.17, 100.0],\n",
              " [0.18, 100.0],\n",
              " [0.19, 100.0],\n",
              " [0.2, 100.0],\n",
              " [0.21000000000000002, 100.0],\n",
              " [0.22, 100.0],\n",
              " [0.23, 99.98],\n",
              " [0.24000000000000002, 99.98],\n",
              " [0.25, 99.98],\n",
              " [0.26, 99.98],\n",
              " [0.27, 99.98],\n",
              " [0.28, 99.94],\n",
              " [0.29000000000000004, 99.9],\n",
              " [0.30000000000000004, 99.9],\n",
              " [0.31, 99.88],\n",
              " [0.32, 99.83999999999999],\n",
              " [0.33, 99.76],\n",
              " [0.33999999999999997, 99.68],\n",
              " [0.35, 99.53999999999999],\n",
              " [0.36, 99.4],\n",
              " [0.37, 99.1],\n",
              " [0.38, 98.74000000000001],\n",
              " [0.39, 98.04],\n",
              " [0.4, 97.18],\n",
              " [0.41000000000000003, 96.04],\n",
              " [0.42000000000000004, 94.96],\n",
              " [0.43000000000000005, 93.82000000000001],\n",
              " [0.44000000000000006, 92.4],\n",
              " [0.45000000000000007, 91.25999999999999],\n",
              " [0.45999999999999996, 90.28],\n",
              " [0.47, 89.24],\n",
              " [0.48, 88.38000000000001],\n",
              " [0.49, 87.62],\n",
              " [0.5, 86.83999999999999],\n",
              " [0.51, 86.06],\n",
              " [0.52, 84.98],\n",
              " [0.53, 83.88],\n",
              " [0.54, 82.58],\n",
              " [0.55, 80.92],\n",
              " [0.56, 79.4],\n",
              " [0.5700000000000001, 77.24],\n",
              " [0.58, 74.68],\n",
              " [0.59, 72.04],\n",
              " [0.6, 69.88],\n",
              " [0.61, 68.16],\n",
              " [0.62, 66.58],\n",
              " [0.63, 65.34],\n",
              " [0.64, 64.2],\n",
              " [0.65, 62.580000000000005],\n",
              " [0.66, 61.3],\n",
              " [0.67, 59.699999999999996],\n",
              " [0.6799999999999999, 57.78],\n",
              " [0.69, 56.26],\n",
              " [0.7, 54.279999999999994],\n",
              " [0.71, 52.580000000000005],\n",
              " [0.72, 51.4],\n",
              " [0.73, 50.28],\n",
              " [0.74, 49.74],\n",
              " [0.75, 49.1],\n",
              " [0.76, 48.5],\n",
              " [0.77, 47.86],\n",
              " [0.78, 47.54],\n",
              " [0.79, 47.24],\n",
              " [0.8, 46.82],\n",
              " [0.8099999999999999, 46.54],\n",
              " [0.82, 46.32],\n",
              " [0.83, 45.96],\n",
              " [0.84, 45.62],\n",
              " [0.85, 45.12],\n",
              " [0.86, 44.48],\n",
              " [0.87, 42.9],\n",
              " [0.88, 40.42],\n",
              " [0.89, 37.68],\n",
              " [0.9, 34.38],\n",
              " [0.91, 32.300000000000004],\n",
              " [0.92, 30.56],\n",
              " [0.93, 29.2],\n",
              " [0.94, 27.939999999999998],\n",
              " [0.95, 26.479999999999997],\n",
              " [0.96, 24.92],\n",
              " [0.97, 22.86],\n",
              " [0.98, 16.98],\n",
              " [0.99, 6.02],\n",
              " [0.99, 6.02],\n",
              " [0.991, 4.24],\n",
              " [0.992, 2.74],\n",
              " [0.993, 1.54],\n",
              " [0.994, 0.5599999999999999],\n",
              " [0.995, 0.32],\n",
              " [0.996, 0.16],\n",
              " [0.997, 0.08],\n",
              " [0.998, 0.08]]"
            ]
          },
          "metadata": {},
          "execution_count": 45
        }
      ]
    },
    {
      "cell_type": "code",
      "metadata": {
        "id": "0-Ki_TC16QW3"
      },
      "source": [
        "from scipy.stats import entropy"
      ],
      "execution_count": null,
      "outputs": []
    },
    {
      "cell_type": "code",
      "metadata": {
        "colab": {
          "base_uri": "https://localhost:8080/"
        },
        "id": "rSlAZYPD6UjV",
        "outputId": "1bf02408-f27e-48e5-9649-7d1db4e21727"
      },
      "source": [
        "entropy(prediction_test[1], base=2)"
      ],
      "execution_count": null,
      "outputs": [
        {
          "output_type": "execute_result",
          "data": {
            "text/plain": [
              "0.00019581534824829132"
            ]
          },
          "metadata": {},
          "execution_count": 47
        }
      ]
    },
    {
      "cell_type": "code",
      "metadata": {
        "id": "jYMcCDWK6hLq"
      },
      "source": [
        "def entropy_counter(threshold1,threshold2):\n",
        "  true = 0\n",
        "  for i in range(5000):\n",
        "    if threshold1 <= entropy(prediction_unknown[i]) < threshold2:\n",
        "      true += 1\n",
        "  return  true/prediction_unknown.shape[0]"
      ],
      "execution_count": null,
      "outputs": []
    },
    {
      "cell_type": "code",
      "metadata": {
        "colab": {
          "base_uri": "https://localhost:8080/"
        },
        "id": "jp0GsqmejiP4",
        "outputId": "47d1a3b5-e11d-429e-f0bc-4ec102d46fa0"
      },
      "source": [
        "prediction_unknown.shape"
      ],
      "execution_count": null,
      "outputs": [
        {
          "output_type": "execute_result",
          "data": {
            "text/plain": [
              "(5000, 21)"
            ]
          },
          "metadata": {},
          "execution_count": 49
        }
      ]
    },
    {
      "cell_type": "code",
      "metadata": {
        "colab": {
          "base_uri": "https://localhost:8080/"
        },
        "id": "V1VwnI6VbJ_f",
        "outputId": "f75fef1b-be74-4a4f-f12c-547f59967d7f"
      },
      "source": [
        "Entropy_Test = []\n",
        "for i in range(100):\n",
        "  Entropy_Test.append([(4.33/100)*(i + 1/2), entropy_counter((4.33/100)*i,(4.33/100)*(i+1))])\n",
        "Entropy_Test\n",
        "  "
      ],
      "execution_count": null,
      "outputs": [
        {
          "output_type": "execute_result",
          "data": {
            "text/plain": [
              "[[0.02165, 0.0074],\n",
              " [0.06495, 0.1192],\n",
              " [0.10825, 0.081],\n",
              " [0.15155, 0.0206],\n",
              " [0.19485, 0.0166],\n",
              " [0.23815, 0.015],\n",
              " [0.28145, 0.0172],\n",
              " [0.32475, 0.0476],\n",
              " [0.36805, 0.0564],\n",
              " [0.41135, 0.0278],\n",
              " [0.45465, 0.0118],\n",
              " [0.49795, 0.0118],\n",
              " [0.54125, 0.0098],\n",
              " [0.58455, 0.0074],\n",
              " [0.62785, 0.0086],\n",
              " [0.67115, 0.0102],\n",
              " [0.7144499999999999, 0.0078],\n",
              " [0.7577499999999999, 0.0102],\n",
              " [0.8010499999999999, 0.0098],\n",
              " [0.8443499999999999, 0.0114],\n",
              " [0.8876499999999999, 0.0158],\n",
              " [0.9309499999999999, 0.022],\n",
              " [0.97425, 0.037],\n",
              " [1.01755, 0.0542],\n",
              " [1.0608499999999998, 0.0526],\n",
              " [1.10415, 0.041],\n",
              " [1.1474499999999999, 0.032],\n",
              " [1.19075, 0.0328],\n",
              " [1.2340499999999999, 0.0374],\n",
              " [1.27735, 0.0296],\n",
              " [1.3206499999999999, 0.02],\n",
              " [1.36395, 0.0136],\n",
              " [1.40725, 0.0106],\n",
              " [1.45055, 0.0194],\n",
              " [1.49385, 0.028],\n",
              " [1.53715, 0.0262],\n",
              " [1.58045, 0.0146],\n",
              " [1.62375, 0.0042],\n",
              " [1.66705, 0.0008],\n",
              " [1.71035, 0.0002],\n",
              " [1.75365, 0.0004],\n",
              " [1.7969499999999998, 0.0],\n",
              " [1.84025, 0.0],\n",
              " [1.8835499999999998, 0.0],\n",
              " [1.92685, 0.0],\n",
              " [1.9701499999999998, 0.0],\n",
              " [2.0134499999999997, 0.0],\n",
              " [2.05675, 0.0],\n",
              " [2.10005, 0.0],\n",
              " [2.14335, 0.0],\n",
              " [2.1866499999999998, 0.0],\n",
              " [2.22995, 0.0],\n",
              " [2.27325, 0.0],\n",
              " [2.31655, 0.0],\n",
              " [2.35985, 0.0],\n",
              " [2.40315, 0.0],\n",
              " [2.44645, 0.0],\n",
              " [2.48975, 0.0],\n",
              " [2.53305, 0.0],\n",
              " [2.5763499999999997, 0.0],\n",
              " [2.61965, 0.0],\n",
              " [2.66295, 0.0],\n",
              " [2.70625, 0.0],\n",
              " [2.7495499999999997, 0.0],\n",
              " [2.79285, 0.0],\n",
              " [2.83615, 0.0],\n",
              " [2.87945, 0.0],\n",
              " [2.9227499999999997, 0.0],\n",
              " [2.96605, 0.0],\n",
              " [3.00935, 0.0],\n",
              " [3.05265, 0.0],\n",
              " [3.0959499999999998, 0.0],\n",
              " [3.1392499999999997, 0.0],\n",
              " [3.18255, 0.0],\n",
              " [3.22585, 0.0],\n",
              " [3.26915, 0.0],\n",
              " [3.3124499999999997, 0.0],\n",
              " [3.35575, 0.0],\n",
              " [3.39905, 0.0],\n",
              " [3.44235, 0.0],\n",
              " [3.4856499999999997, 0.0],\n",
              " [3.52895, 0.0],\n",
              " [3.57225, 0.0],\n",
              " [3.61555, 0.0],\n",
              " [3.6588499999999997, 0.0],\n",
              " [3.70215, 0.0],\n",
              " [3.74545, 0.0],\n",
              " [3.78875, 0.0],\n",
              " [3.8320499999999997, 0.0],\n",
              " [3.8753499999999996, 0.0],\n",
              " [3.91865, 0.0],\n",
              " [3.96195, 0.0],\n",
              " [4.00525, 0.0],\n",
              " [4.04855, 0.0],\n",
              " [4.09185, 0.0],\n",
              " [4.135149999999999, 0.0],\n",
              " [4.17845, 0.0],\n",
              " [4.22175, 0.0],\n",
              " [4.26505, 0.0],\n",
              " [4.30835, 0.0]]"
            ]
          },
          "metadata": {},
          "execution_count": 50
        }
      ]
    },
    {
      "cell_type": "code",
      "metadata": {
        "colab": {
          "base_uri": "https://localhost:8080/"
        },
        "id": "42gw5jqqfY1n",
        "outputId": "14bda121-98a3-4c4e-d0e7-cbaf195f29cb"
      },
      "source": [
        "Entropy_Ignored_Train = []\n",
        "for i in range(100):\n",
        "  Entropy_Ignored_Train.append([(4.33/100)*(i + 1/2), entropy_counter((4.33/100)*i,(4.33/100)*(i+1))])\n",
        "Entropy_Ignored_Train"
      ],
      "execution_count": null,
      "outputs": [
        {
          "output_type": "execute_result",
          "data": {
            "text/plain": [
              "[[0.02165, 0.022],\n",
              " [0.06495, 0.026],\n",
              " [0.10825, 0.0228],\n",
              " [0.15155, 0.0212],\n",
              " [0.19485, 0.0266],\n",
              " [0.23815, 0.0244],\n",
              " [0.28145, 0.0212],\n",
              " [0.32475, 0.0238],\n",
              " [0.36805, 0.0326],\n",
              " [0.41135, 0.0462],\n",
              " [0.45465, 0.0632],\n",
              " [0.49795, 0.0826],\n",
              " [0.54125, 0.104],\n",
              " [0.58455, 0.1322],\n",
              " [0.62785, 0.137],\n",
              " [0.67115, 0.2184],\n",
              " [0.7144499999999999, 0.3316],\n",
              " [0.7577499999999999, 0.3658],\n",
              " [0.8010499999999999, 0.187],\n",
              " [0.8443499999999999, 0.1264],\n",
              " [0.8876499999999999, 0.1374],\n",
              " [0.9309499999999999, 0.1462],\n",
              " [0.97425, 0.1562],\n",
              " [1.01755, 0.2908],\n",
              " [1.0608499999999998, 0.4196],\n",
              " [1.10415, 0.145],\n",
              " [1.1474499999999999, 0.1328],\n",
              " [1.19075, 0.0928],\n",
              " [1.2340499999999999, 0.0742],\n",
              " [1.27735, 0.0662],\n",
              " [1.3206499999999999, 0.0576],\n",
              " [1.36395, 0.0542],\n",
              " [1.40725, 0.0524],\n",
              " [1.45055, 0.058],\n",
              " [1.49385, 0.105],\n",
              " [1.53715, 0.1546],\n",
              " [1.58045, 0.1488],\n",
              " [1.62375, 0.217],\n",
              " [1.66705, 0.1798],\n",
              " [1.71035, 0.0574],\n",
              " [1.75365, 0.05],\n",
              " [1.7969499999999998, 0.0402],\n",
              " [1.84025, 0.0308],\n",
              " [1.8835499999999998, 0.0294],\n",
              " [1.92685, 0.021],\n",
              " [1.9701499999999998, 0.018],\n",
              " [2.0134499999999997, 0.0146],\n",
              " [2.05675, 0.0116],\n",
              " [2.10005, 0.0062],\n",
              " [2.14335, 0.0068],\n",
              " [2.1866499999999998, 0.0048],\n",
              " [2.22995, 0.0024],\n",
              " [2.27325, 0.0012],\n",
              " [2.31655, 0.0016],\n",
              " [2.35985, 0.0002],\n",
              " [2.40315, 0.0002],\n",
              " [2.44645, 0.0],\n",
              " [2.48975, 0.0],\n",
              " [2.53305, 0.0],\n",
              " [2.5763499999999997, 0.0],\n",
              " [2.61965, 0.0],\n",
              " [2.66295, 0.0],\n",
              " [2.70625, 0.0],\n",
              " [2.7495499999999997, 0.0],\n",
              " [2.79285, 0.0],\n",
              " [2.83615, 0.0],\n",
              " [2.87945, 0.0],\n",
              " [2.9227499999999997, 0.0],\n",
              " [2.96605, 0.0],\n",
              " [3.00935, 0.0],\n",
              " [3.05265, 0.0],\n",
              " [3.0959499999999998, 0.0],\n",
              " [3.1392499999999997, 0.0],\n",
              " [3.18255, 0.0],\n",
              " [3.22585, 0.0],\n",
              " [3.26915, 0.0],\n",
              " [3.3124499999999997, 0.0],\n",
              " [3.35575, 0.0],\n",
              " [3.39905, 0.0],\n",
              " [3.44235, 0.0],\n",
              " [3.4856499999999997, 0.0],\n",
              " [3.52895, 0.0],\n",
              " [3.57225, 0.0],\n",
              " [3.61555, 0.0],\n",
              " [3.6588499999999997, 0.0],\n",
              " [3.70215, 0.0],\n",
              " [3.74545, 0.0],\n",
              " [3.78875, 0.0],\n",
              " [3.8320499999999997, 0.0],\n",
              " [3.8753499999999996, 0.0],\n",
              " [3.91865, 0.0],\n",
              " [3.96195, 0.0],\n",
              " [4.00525, 0.0],\n",
              " [4.04855, 0.0],\n",
              " [4.09185, 0.0],\n",
              " [4.135149999999999, 0.0],\n",
              " [4.17845, 0.0],\n",
              " [4.22175, 0.0],\n",
              " [4.26505, 0.0],\n",
              " [4.30835, 0.0]]"
            ]
          },
          "metadata": {
            "tags": []
          },
          "execution_count": 111
        }
      ]
    },
    {
      "cell_type": "code",
      "metadata": {
        "colab": {
          "base_uri": "https://localhost:8080/"
        },
        "id": "aY6j9nAdi7ZF",
        "outputId": "82b926b3-38fb-4a6a-8f51-1a450d814e33"
      },
      "source": [
        "Entropy_Unknown_Test = []\n",
        "for i in range(101):\n",
        "  Entropy_Unknown_Test.append([(4.33/100)*(i + 1/2), entropy_counter((4.33/100)*i,(4.33/100)*(i+1))])\n",
        "Entropy_Unknown_Test"
      ],
      "execution_count": null,
      "outputs": [
        {
          "output_type": "execute_result",
          "data": {
            "text/plain": [
              "[[0.02165, 0.0074],\n",
              " [0.06495, 0.1192],\n",
              " [0.10825, 0.081],\n",
              " [0.15155, 0.0206],\n",
              " [0.19485, 0.0166],\n",
              " [0.23815, 0.015],\n",
              " [0.28145, 0.0172],\n",
              " [0.32475, 0.0476],\n",
              " [0.36805, 0.0564],\n",
              " [0.41135, 0.0278],\n",
              " [0.45465, 0.0118],\n",
              " [0.49795, 0.0118],\n",
              " [0.54125, 0.0098],\n",
              " [0.58455, 0.0074],\n",
              " [0.62785, 0.0086],\n",
              " [0.67115, 0.0102],\n",
              " [0.7144499999999999, 0.0078],\n",
              " [0.7577499999999999, 0.0102],\n",
              " [0.8010499999999999, 0.0098],\n",
              " [0.8443499999999999, 0.0114],\n",
              " [0.8876499999999999, 0.0158],\n",
              " [0.9309499999999999, 0.022],\n",
              " [0.97425, 0.037],\n",
              " [1.01755, 0.0542],\n",
              " [1.0608499999999998, 0.0526],\n",
              " [1.10415, 0.041],\n",
              " [1.1474499999999999, 0.032],\n",
              " [1.19075, 0.0328],\n",
              " [1.2340499999999999, 0.0374],\n",
              " [1.27735, 0.0296],\n",
              " [1.3206499999999999, 0.02],\n",
              " [1.36395, 0.0136],\n",
              " [1.40725, 0.0106],\n",
              " [1.45055, 0.0194],\n",
              " [1.49385, 0.028],\n",
              " [1.53715, 0.0262],\n",
              " [1.58045, 0.0146],\n",
              " [1.62375, 0.0042],\n",
              " [1.66705, 0.0008],\n",
              " [1.71035, 0.0002],\n",
              " [1.75365, 0.0004],\n",
              " [1.7969499999999998, 0.0],\n",
              " [1.84025, 0.0],\n",
              " [1.8835499999999998, 0.0],\n",
              " [1.92685, 0.0],\n",
              " [1.9701499999999998, 0.0],\n",
              " [2.0134499999999997, 0.0],\n",
              " [2.05675, 0.0],\n",
              " [2.10005, 0.0],\n",
              " [2.14335, 0.0],\n",
              " [2.1866499999999998, 0.0],\n",
              " [2.22995, 0.0],\n",
              " [2.27325, 0.0],\n",
              " [2.31655, 0.0],\n",
              " [2.35985, 0.0],\n",
              " [2.40315, 0.0],\n",
              " [2.44645, 0.0],\n",
              " [2.48975, 0.0],\n",
              " [2.53305, 0.0],\n",
              " [2.5763499999999997, 0.0],\n",
              " [2.61965, 0.0],\n",
              " [2.66295, 0.0],\n",
              " [2.70625, 0.0],\n",
              " [2.7495499999999997, 0.0],\n",
              " [2.79285, 0.0],\n",
              " [2.83615, 0.0],\n",
              " [2.87945, 0.0],\n",
              " [2.9227499999999997, 0.0],\n",
              " [2.96605, 0.0],\n",
              " [3.00935, 0.0],\n",
              " [3.05265, 0.0],\n",
              " [3.0959499999999998, 0.0],\n",
              " [3.1392499999999997, 0.0],\n",
              " [3.18255, 0.0],\n",
              " [3.22585, 0.0],\n",
              " [3.26915, 0.0],\n",
              " [3.3124499999999997, 0.0],\n",
              " [3.35575, 0.0],\n",
              " [3.39905, 0.0],\n",
              " [3.44235, 0.0],\n",
              " [3.4856499999999997, 0.0],\n",
              " [3.52895, 0.0],\n",
              " [3.57225, 0.0],\n",
              " [3.61555, 0.0],\n",
              " [3.6588499999999997, 0.0],\n",
              " [3.70215, 0.0],\n",
              " [3.74545, 0.0],\n",
              " [3.78875, 0.0],\n",
              " [3.8320499999999997, 0.0],\n",
              " [3.8753499999999996, 0.0],\n",
              " [3.91865, 0.0],\n",
              " [3.96195, 0.0],\n",
              " [4.00525, 0.0],\n",
              " [4.04855, 0.0],\n",
              " [4.09185, 0.0],\n",
              " [4.135149999999999, 0.0],\n",
              " [4.17845, 0.0],\n",
              " [4.22175, 0.0],\n",
              " [4.26505, 0.0],\n",
              " [4.30835, 0.0],\n",
              " [4.35165, 0.0]]"
            ]
          },
          "metadata": {
            "tags": []
          },
          "execution_count": 143
        }
      ]
    },
    {
      "cell_type": "code",
      "metadata": {
        "colab": {
          "base_uri": "https://localhost:8080/"
        },
        "id": "OeX4fyZseN6j",
        "outputId": "fe49b5f1-3b12-4235-827c-f88236a62c89"
      },
      "source": [
        "Entropy_Unknown_Test[:][0]"
      ],
      "execution_count": null,
      "outputs": [
        {
          "output_type": "execute_result",
          "data": {
            "text/plain": [
              "[0.02165, 0.0074]"
            ]
          },
          "metadata": {
            "tags": []
          },
          "execution_count": 152
        }
      ]
    },
    {
      "cell_type": "code",
      "metadata": {
        "id": "pO-tWgnteOCl"
      },
      "source": [
        ""
      ],
      "execution_count": null,
      "outputs": []
    },
    {
      "cell_type": "code",
      "metadata": {
        "colab": {
          "base_uri": "https://localhost:8080/"
        },
        "id": "qRqOkJW2TcAH",
        "outputId": "516263c3-10b0-4c7b-d85c-80aa9c8851db"
      },
      "source": [
        "entropy_counter(0.01,4)"
      ],
      "execution_count": null,
      "outputs": [
        {
          "output_type": "execute_result",
          "data": {
            "text/plain": [
              "0.9996"
            ]
          },
          "metadata": {
            "tags": []
          },
          "execution_count": 145
        }
      ]
    },
    {
      "cell_type": "code",
      "metadata": {
        "id": "5hYrL3b46ppu"
      },
      "source": [
        "def misclassifyignore(threshold):\n",
        "  misclassifyignore = 0\n",
        "  for i in range(prediction_ignored.shape[0]):\n",
        "    if max(prediction_ignored[i]) > threshold:\n",
        "      misclassifyignore += 1\n",
        "  return misclassifyignore/(prediction_ignored.shape[0])"
      ],
      "execution_count": null,
      "outputs": []
    },
    {
      "cell_type": "code",
      "metadata": {
        "colab": {
          "base_uri": "https://localhost:8080/"
        },
        "id": "ULNDf9FkWVod",
        "outputId": "15965c86-d39f-47b4-c9b3-bfa5cf5e9d30"
      },
      "source": [
        "IgnoreMisclassify = []\n",
        "for i in range(90):\n",
        "  IgnoreMisclassify.append([0.1 + 0.01*i,100*misclassifyignore(0.1 + 0.01*i)])\n",
        "IgnoreMisclassify"
      ],
      "execution_count": null,
      "outputs": [
        {
          "output_type": "execute_result",
          "data": {
            "text/plain": [
              "[[0.1, 100.0],\n",
              " [0.11, 100.0],\n",
              " [0.12000000000000001, 100.0],\n",
              " [0.13, 100.0],\n",
              " [0.14, 100.0],\n",
              " [0.15000000000000002, 100.0],\n",
              " [0.16, 100.0],\n",
              " [0.17, 100.0],\n",
              " [0.18, 100.0],\n",
              " [0.19, 100.0],\n",
              " [0.2, 100.0],\n",
              " [0.21000000000000002, 100.0],\n",
              " [0.22, 100.0],\n",
              " [0.23, 99.992],\n",
              " [0.24000000000000002, 99.988],\n",
              " [0.25, 99.97200000000001],\n",
              " [0.26, 99.932],\n",
              " [0.27, 99.864],\n",
              " [0.28, 99.764],\n",
              " [0.29000000000000004, 99.64],\n",
              " [0.30000000000000004, 99.408],\n",
              " [0.31, 99.168],\n",
              " [0.32, 98.892],\n",
              " [0.33, 98.592],\n",
              " [0.33999999999999997, 98.172],\n",
              " [0.35, 97.712],\n",
              " [0.36, 97.028],\n",
              " [0.37, 96.012],\n",
              " [0.38, 94.768],\n",
              " [0.39, 93.228],\n",
              " [0.4, 91.57600000000001],\n",
              " [0.41000000000000003, 89.916],\n",
              " [0.42000000000000004, 88.116],\n",
              " [0.43000000000000005, 85.736],\n",
              " [0.44000000000000006, 82.16799999999999],\n",
              " [0.45000000000000007, 77.988],\n",
              " [0.45999999999999996, 73.812],\n",
              " [0.47, 69.828],\n",
              " [0.48, 66.268],\n",
              " [0.49, 63.332],\n",
              " [0.5, 60.536],\n",
              " [0.51, 58.135999999999996],\n",
              " [0.52, 56.02],\n",
              " [0.53, 53.74],\n",
              " [0.54, 51.544000000000004],\n",
              " [0.55, 49.652],\n",
              " [0.56, 47.54],\n",
              " [0.5700000000000001, 45.588],\n",
              " [0.58, 43.604],\n",
              " [0.59, 42.112],\n",
              " [0.6, 40.952],\n",
              " [0.61, 39.76],\n",
              " [0.62, 38.568000000000005],\n",
              " [0.63, 37.496],\n",
              " [0.64, 36.46],\n",
              " [0.65, 35.536],\n",
              " [0.66, 34.599999999999994],\n",
              " [0.67, 33.635999999999996],\n",
              " [0.6799999999999999, 32.568000000000005],\n",
              " [0.69, 31.336000000000002],\n",
              " [0.7, 29.976000000000003],\n",
              " [0.71, 28.152],\n",
              " [0.72, 26.119999999999997],\n",
              " [0.73, 24.124000000000002],\n",
              " [0.74, 21.964],\n",
              " [0.75, 20.0],\n",
              " [0.76, 17.876],\n",
              " [0.77, 15.7],\n",
              " [0.78, 13.819999999999999],\n",
              " [0.79, 12.139999999999999],\n",
              " [0.8, 11.032],\n",
              " [0.8099999999999999, 10.312000000000001],\n",
              " [0.82, 9.64],\n",
              " [0.83, 8.992],\n",
              " [0.84, 8.315999999999999],\n",
              " [0.85, 7.596],\n",
              " [0.86, 6.904000000000001],\n",
              " [0.87, 6.239999999999999],\n",
              " [0.88, 5.42],\n",
              " [0.89, 4.728000000000001],\n",
              " [0.9, 4.192],\n",
              " [0.91, 3.816],\n",
              " [0.92, 3.5000000000000004],\n",
              " [0.93, 3.16],\n",
              " [0.94, 2.828],\n",
              " [0.95, 2.432],\n",
              " [0.96, 2.024],\n",
              " [0.97, 1.616],\n",
              " [0.98, 1.232],\n",
              " [0.99, 0.712]]"
            ]
          },
          "metadata": {
            "tags": []
          },
          "execution_count": 99
        }
      ]
    },
    {
      "cell_type": "code",
      "metadata": {
        "colab": {
          "base_uri": "https://localhost:8080/"
        },
        "id": "HLePnGIPWniH",
        "outputId": "538a3571-16be-4516-fc5d-8ccd17f3bf23"
      },
      "source": [
        "for i in range(9):\n",
        "  IgnoreMisclassify.append([0.99 + 0.001*i,100*misclassifyignore(0.99 + 0.001*i)])\n",
        "IgnoreMisclassify"
      ],
      "execution_count": null,
      "outputs": [
        {
          "output_type": "execute_result",
          "data": {
            "text/plain": [
              "[[0.1, 100.0],\n",
              " [0.11, 100.0],\n",
              " [0.12000000000000001, 100.0],\n",
              " [0.13, 100.0],\n",
              " [0.14, 100.0],\n",
              " [0.15000000000000002, 100.0],\n",
              " [0.16, 100.0],\n",
              " [0.17, 100.0],\n",
              " [0.18, 100.0],\n",
              " [0.19, 100.0],\n",
              " [0.2, 100.0],\n",
              " [0.21000000000000002, 100.0],\n",
              " [0.22, 100.0],\n",
              " [0.23, 99.992],\n",
              " [0.24000000000000002, 99.988],\n",
              " [0.25, 99.97200000000001],\n",
              " [0.26, 99.932],\n",
              " [0.27, 99.864],\n",
              " [0.28, 99.764],\n",
              " [0.29000000000000004, 99.64],\n",
              " [0.30000000000000004, 99.408],\n",
              " [0.31, 99.168],\n",
              " [0.32, 98.892],\n",
              " [0.33, 98.592],\n",
              " [0.33999999999999997, 98.172],\n",
              " [0.35, 97.712],\n",
              " [0.36, 97.028],\n",
              " [0.37, 96.012],\n",
              " [0.38, 94.768],\n",
              " [0.39, 93.228],\n",
              " [0.4, 91.57600000000001],\n",
              " [0.41000000000000003, 89.916],\n",
              " [0.42000000000000004, 88.116],\n",
              " [0.43000000000000005, 85.736],\n",
              " [0.44000000000000006, 82.16799999999999],\n",
              " [0.45000000000000007, 77.988],\n",
              " [0.45999999999999996, 73.812],\n",
              " [0.47, 69.828],\n",
              " [0.48, 66.268],\n",
              " [0.49, 63.332],\n",
              " [0.5, 60.536],\n",
              " [0.51, 58.135999999999996],\n",
              " [0.52, 56.02],\n",
              " [0.53, 53.74],\n",
              " [0.54, 51.544000000000004],\n",
              " [0.55, 49.652],\n",
              " [0.56, 47.54],\n",
              " [0.5700000000000001, 45.588],\n",
              " [0.58, 43.604],\n",
              " [0.59, 42.112],\n",
              " [0.6, 40.952],\n",
              " [0.61, 39.76],\n",
              " [0.62, 38.568000000000005],\n",
              " [0.63, 37.496],\n",
              " [0.64, 36.46],\n",
              " [0.65, 35.536],\n",
              " [0.66, 34.599999999999994],\n",
              " [0.67, 33.635999999999996],\n",
              " [0.6799999999999999, 32.568000000000005],\n",
              " [0.69, 31.336000000000002],\n",
              " [0.7, 29.976000000000003],\n",
              " [0.71, 28.152],\n",
              " [0.72, 26.119999999999997],\n",
              " [0.73, 24.124000000000002],\n",
              " [0.74, 21.964],\n",
              " [0.75, 20.0],\n",
              " [0.76, 17.876],\n",
              " [0.77, 15.7],\n",
              " [0.78, 13.819999999999999],\n",
              " [0.79, 12.139999999999999],\n",
              " [0.8, 11.032],\n",
              " [0.8099999999999999, 10.312000000000001],\n",
              " [0.82, 9.64],\n",
              " [0.83, 8.992],\n",
              " [0.84, 8.315999999999999],\n",
              " [0.85, 7.596],\n",
              " [0.86, 6.904000000000001],\n",
              " [0.87, 6.239999999999999],\n",
              " [0.88, 5.42],\n",
              " [0.89, 4.728000000000001],\n",
              " [0.9, 4.192],\n",
              " [0.91, 3.816],\n",
              " [0.92, 3.5000000000000004],\n",
              " [0.93, 3.16],\n",
              " [0.94, 2.828],\n",
              " [0.95, 2.432],\n",
              " [0.96, 2.024],\n",
              " [0.97, 1.616],\n",
              " [0.98, 1.232],\n",
              " [0.99, 0.712],\n",
              " [0.99, 0.712],\n",
              " [0.991, 0.64],\n",
              " [0.992, 0.5559999999999999],\n",
              " [0.993, 0.496],\n",
              " [0.994, 0.41200000000000003],\n",
              " [0.995, 0.364],\n",
              " [0.996, 0.256],\n",
              " [0.997, 0.18],\n",
              " [0.998, 0.104]]"
            ]
          },
          "metadata": {
            "tags": []
          },
          "execution_count": 100
        }
      ]
    },
    {
      "cell_type": "code",
      "metadata": {
        "id": "4YqmfJkEGifd"
      },
      "source": [
        "#res_net.save_weights(\"/content/gdrive/MyDrive/6_21_2021_run/Entropic_Run1.h5\", overwrite=True)"
      ],
      "execution_count": null,
      "outputs": []
    },
    {
      "cell_type": "code",
      "metadata": {
        "id": "WRAVoznRGbra"
      },
      "source": [
        "unseen_data = np.zeros((10*500, 1024 - N_cut))\n",
        "\n",
        "\n",
        "for i in range(1024 - N_cut - 1):\n",
        "    for j in range(500):\n",
        "        # Never Seen Before\n",
        "\n",
        "        # Never seen 1\n",
        "        # Ampicillin_Sodium_Test, label 20\n",
        "        unseen_data[j + 0*500][i] = (Ampicillin_Sodium_Test[i + N_cut][j])\n",
        "        \n",
        "        # Never seen 2\n",
        "        # CHAPS_Test, label 23\n",
        "        unseen_data[j + 1*500][i] = (CHAPS_Test[i + N_cut][j])\n",
        "\n",
        "        # Never seen 3\n",
        "        # D_PLUS_Maltose_Monohydrate_Test, label 25\n",
        "        unseen_data[j + 2*500][i] = (D_PLUS_Maltose_Monohydrate_Test[i + N_cut][j])\n",
        "        \n",
        "        # Never seen 4\n",
        "        # Forskolin_Test, label 27\n",
        "        unseen_data[j + 3*500][i] = (Forskolin_Test[i + N_cut][j])\n",
        "        \n",
        "        # Never seen 5\n",
        "        # Na_Salt_Test, label 32\n",
        "        unseen_data[j + 4*500][i] = (Na_Salt_Test[i + N_cut][j])\n",
        "\n",
        "        # Never seen 6\n",
        "        # Polyvinyl_Pyrrolidone_Test, label 33\n",
        "        unseen_data[j + 5*500][i] = (Polyvinyl_Pyrrolidone_Test[i + N_cut][j])\n",
        "\n",
        "        # Never seen 7\n",
        "        # Potato_Starch_Test, label 34\n",
        "        unseen_data[j + 6*500][i] = (Potato_Starch_Test[i + N_cut][j])\n",
        "\n",
        "        # Never seen 8\n",
        "        # Sodium_Deoxycholate_Test, label 36\n",
        "        unseen_data[j + 7*500][i] = (Sodium_Deoxycholate_Test[i + N_cut][j])\n",
        "        \n",
        "        # Never seen 9\n",
        "        # Sodium_Dodecylsulfate_Test, label 37\n",
        "        unseen_data[j + 8*500][i] = (Sodium_Dodecylsulfate_Test[i + N_cut][j])\n",
        "\n",
        "        # Never seen 10\n",
        "        # Silver_Nitrate_Test, label 39\n",
        "        unseen_data[j + 9*500][i] = (Silver_Nitrate_Test[i + N_cut][j])"
      ],
      "execution_count": null,
      "outputs": []
    },
    {
      "cell_type": "code",
      "metadata": {
        "id": "tB86ksqqG9Z7"
      },
      "source": [
        "unseen_data_rescaled = np.zeros((10*500, 1024 - N_cut))\n",
        "unseen_data_maximum = np.zeros(10*500)\n",
        "unseen_data_minimum = np.zeros(10*500)\n",
        "\n",
        "for j in range(1, 10*500):\n",
        "    unseen_data_minimum[j] = np.amin(unseen_data[j][:])\n",
        "    unseen_data_maximum[j] = np.amax(unseen_data[j][:])\n",
        "\n",
        "for i in range(1,1024 - N_cut):\n",
        "    for j in range(1,10*500):\n",
        "        unseen_data_rescaled[j][i] = (unseen_data[j][i] - unseen_data_minimum[j])\n",
        "        unseen_data_rescaled[j][i] = unseen_data_rescaled[j][i]/(unseen_data_maximum[j] - unseen_data_minimum[j])\n",
        "\n",
        "unseen_data_rescaled = unseen_data_rescaled.reshape((10*500, 1024 - N_cut, 1))\n",
        "unseen_data_rescaled = unseen_data_rescaled.astype('float32')\n",
        "\n",
        "unseen_data_rescaled_last = np.ones((10*500, 1024 - N_cut))\n",
        "unseen_data_rescaled_minimum = []\n",
        "\n",
        "for j in range(10*500):\n",
        "    unseen_data_rescaled_minimum.append(np.amin(unseen_data[j][:-1]))\n",
        "\n",
        "for i in range(1024 - N_cut):\n",
        "    for j in range(10*500):\n",
        "        unseen_data_rescaled_last[j][i] = (unseen_data[j][i] - unseen_data_rescaled_minimum[j])\n",
        "\n",
        "unseen_data_rescaled = np.zeros((10*500, 1024 - N_cut - 1))\n",
        "\n",
        "for i in range(1024 - N_cut - 1):\n",
        "    for j in range(10*500):\n",
        "      unseen_data_rescaled[j][i] = unseen_data_rescaled_last[j][i]\n",
        "\n",
        "unseen_data_rescaled_maximum = []\n",
        "\n",
        "for j in range(10*500):\n",
        "    unseen_data_rescaled_maximum.append(np.amax(unseen_data_rescaled_last[j][:-1]))\n",
        "for i in range(1024 - N_cut - 1):\n",
        "    for j in range(10*500):\n",
        "      unseen_data_rescaled[j][i] = unseen_data_rescaled_last[j][i]/unseen_data_rescaled_maximum[j]"
      ],
      "execution_count": null,
      "outputs": []
    },
    {
      "cell_type": "code",
      "metadata": {
        "id": "wUNeL8teJmf7"
      },
      "source": [
        "def misclassifyunknown(threshold):\n",
        "  misclassifyunknown = 0\n",
        "  for i in range(unseen_predictions.shape[0]):\n",
        "    if max(unseen_predictions[i]) > threshold:\n",
        "      misclassifyunknown += 1\n",
        "  return misclassifyunknown/(unseen_predictions.shape[0])"
      ],
      "execution_count": null,
      "outputs": []
    },
    {
      "cell_type": "code",
      "metadata": {
        "id": "zawba8oWLTvp"
      },
      "source": [
        "def misclassifyignored(threshold):\n",
        "  misclassifyunknown = 0\n",
        "  for i in range(ignored_predictions.shape[0]):\n",
        "    if max(ignored_predictions[i]) > threshold:\n",
        "      misclassifyunknown += 1\n",
        "  return misclassifyunknown/(ignored_predictions.shape[0])"
      ],
      "execution_count": null,
      "outputs": []
    },
    {
      "cell_type": "code",
      "metadata": {
        "id": "k_hqGoC0Kp-U"
      },
      "source": [
        "def Open_set_categorical_crossentropy_trial_first(target,output):\n",
        "  output = tf.convert_to_tensor(output)\n",
        "  target = tf.cast(target, target.dtype)\n",
        "\n",
        "  epsilon = tf.keras.backend.epsilon()\n",
        "  output = tf.clip_by_value(output, epsilon, 1. - epsilon)\n",
        "\n",
        "  Sum = tf.math.reduce_sum(output,axis=-1,keepdims=True)\n",
        "\n",
        "  output = tf.math.divide(output, Sum)\n",
        "\n",
        "  Checker = tf.math.reduce_sum(tf.math.multiply(Ignored_label, target),axis=-1)\n",
        "  One = tf.math.reduce_sum(tf.math.multiply(Ignored_label, Ignored_label),axis=-1)\n",
        "\n",
        "  output = - tf.math.reduce_sum(tf.math.multiply(target,tf.math.log(output)),axis=-1)\n",
        "  output = tf.math.multiply(tf.math.subtract(One,Checker),output)\n",
        "\n",
        "  return output"
      ],
      "execution_count": null,
      "outputs": []
    },
    {
      "cell_type": "code",
      "metadata": {
        "id": "KusEhptYN-jF"
      },
      "source": [
        "def Open_set_categorical_crossentropy_trial_second(target,output):\n",
        "  output = tf.convert_to_tensor(output)\n",
        "  target = tf.cast(target, target.dtype)\n",
        "\n",
        "  epsilon = tf.keras.backend.epsilon()\n",
        "  output = tf.clip_by_value(output, epsilon, 1. - epsilon)\n",
        "\n",
        "  Sum = tf.math.reduce_sum(output,axis=-1,keepdims=True)\n",
        "\n",
        "  output = tf.math.divide(output, Sum)\n",
        "\n",
        "  Checker = tf.math.reduce_sum(tf.math.multiply(Ignored_label, target),axis=-1)\n",
        "  One = tf.math.reduce_sum(tf.math.multiply(Ignored_label, Ignored_label),axis=-1)\n",
        "  Zero = tf.math.reduce_sum(tf.math.multiply(KnownLabels[1], KnownLabels[2]),axis=-1)\n",
        "  \n",
        "  for i in range(N_classes):\n",
        "    addon = - tf.math.reduce_sum(tf.math.multiply(KnownLabels[i], tf.math.log(output)),axis=-1)\n",
        "    addon = tf.math.divide(addon,N_classes)\n",
        "    Zero = tf.math.add(addon,Zero)\n",
        "  Zero = tf.math.multiply(Checker, Zero)\n",
        "\n",
        "  return Zero"
      ],
      "execution_count": null,
      "outputs": []
    },
    {
      "cell_type": "code",
      "metadata": {
        "id": "EFiVFI7tHhXd"
      },
      "source": [
        "def Open_set_categorical_crossentropy_trial_total(target,output):\n",
        "  def Open_set_categorical_crossentropy_trial_first(target,output):\n",
        "    output = tf.convert_to_tensor(output)\n",
        "    target = tf.cast(target, target.dtype)\n",
        "\n",
        "    epsilon = tf.keras.backend.epsilon()\n",
        "    output = tf.clip_by_value(output, epsilon, 1. - epsilon)\n",
        "\n",
        "    Sum = tf.math.reduce_sum(output,axis=-1,keepdims=True)\n",
        "\n",
        "    output = tf.math.divide(output, Sum)\n",
        "\n",
        "    Checker = tf.math.reduce_sum(tf.math.multiply(Ignored_label, target),axis=-1)\n",
        "    One = tf.math.reduce_sum(tf.math.multiply(Ignored_label, Ignored_label),axis=-1)\n",
        "\n",
        "    output = - tf.math.reduce_sum(tf.math.multiply(target,tf.math.log(output)),axis=-1)\n",
        "    output = tf.math.multiply(tf.math.subtract(One,Checker),output)\n",
        "\n",
        "    return output\n",
        "\n",
        "  def Open_set_categorical_crossentropy_trial_second(target,output):\n",
        "    output = tf.convert_to_tensor(output)\n",
        "    target = tf.cast(target, target.dtype)\n",
        "\n",
        "    epsilon = tf.keras.backend.epsilon()\n",
        "    output = tf.clip_by_value(output, epsilon, 1. - epsilon)\n",
        "\n",
        "    Sum = tf.math.reduce_sum(output,axis=-1,keepdims=True)\n",
        "\n",
        "    output = tf.math.divide(output, Sum)\n",
        "\n",
        "    Checker = tf.math.reduce_sum(tf.math.multiply(Ignored_label, target),axis=-1)\n",
        "    One = tf.math.reduce_sum(tf.math.multiply(Ignored_label, Ignored_label),axis=-1)\n",
        "    Zero = tf.math.reduce_sum(tf.math.multiply(KnownLabels[1], KnownLabels[2]),axis=-1)\n",
        "    \n",
        "    for i in range(N_classes):\n",
        "      addon = - tf.math.reduce_sum(tf.math.multiply(KnownLabels[i], tf.math.log(output)),axis=-1)\n",
        "      addon = tf.math.divide(addon,N_classes)\n",
        "      Zero = tf.math.add(addon,Zero)\n",
        "    Zero = tf.math.multiply(Checker, Zero)\n",
        "\n",
        "    return Zero\n",
        "\n",
        "  output1 = Open_set_categorical_crossentropy_trial_first(target,output)\n",
        "  output2 = Open_set_categorical_crossentropy_trial_second(target,output)\n",
        "  output = tf.math.add(output1,output2)\n",
        "\n",
        "  return output"
      ],
      "execution_count": null,
      "outputs": []
    },
    {
      "cell_type": "code",
      "metadata": {
        "colab": {
          "base_uri": "https://localhost:8080/"
        },
        "id": "oMUS1lU0sijy",
        "outputId": "d2a5b6c1-0ae0-42a6-ecaf-17c00a1966cc"
      },
      "source": [
        "!pip uninstall umap\n",
        "!pip install umap-learn\n",
        "import umap.umap_ as umap\n",
        "reducer = umap.UMAP()\n"
      ],
      "execution_count": null,
      "outputs": [
        {
          "output_type": "stream",
          "name": "stdout",
          "text": [
            "\u001b[33mWARNING: Skipping umap as it is not installed.\u001b[0m\n",
            "Collecting umap-learn\n",
            "  Downloading umap-learn-0.5.2.tar.gz (86 kB)\n",
            "\u001b[K     |████████████████████████████████| 86 kB 3.1 MB/s \n",
            "\u001b[?25hRequirement already satisfied: numpy>=1.17 in /usr/local/lib/python3.7/dist-packages (from umap-learn) (1.19.5)\n",
            "Requirement already satisfied: scikit-learn>=0.22 in /usr/local/lib/python3.7/dist-packages (from umap-learn) (0.22.2.post1)\n",
            "Requirement already satisfied: scipy>=1.0 in /usr/local/lib/python3.7/dist-packages (from umap-learn) (1.4.1)\n",
            "Requirement already satisfied: numba>=0.49 in /usr/local/lib/python3.7/dist-packages (from umap-learn) (0.51.2)\n",
            "Collecting pynndescent>=0.5\n",
            "  Downloading pynndescent-0.5.5.tar.gz (1.1 MB)\n",
            "\u001b[K     |████████████████████████████████| 1.1 MB 19.8 MB/s \n",
            "\u001b[?25hRequirement already satisfied: tqdm in /usr/local/lib/python3.7/dist-packages (from umap-learn) (4.62.3)\n",
            "Requirement already satisfied: llvmlite<0.35,>=0.34.0.dev0 in /usr/local/lib/python3.7/dist-packages (from numba>=0.49->umap-learn) (0.34.0)\n",
            "Requirement already satisfied: setuptools in /usr/local/lib/python3.7/dist-packages (from numba>=0.49->umap-learn) (57.4.0)\n",
            "Requirement already satisfied: joblib>=0.11 in /usr/local/lib/python3.7/dist-packages (from pynndescent>=0.5->umap-learn) (1.0.1)\n",
            "Building wheels for collected packages: umap-learn, pynndescent\n",
            "  Building wheel for umap-learn (setup.py) ... \u001b[?25l\u001b[?25hdone\n",
            "  Created wheel for umap-learn: filename=umap_learn-0.5.2-py3-none-any.whl size=82709 sha256=b37e49e3aabc65e3422d1800ef52d82bb867d4302fe767054c9da3112ecd1947\n",
            "  Stored in directory: /root/.cache/pip/wheels/84/1b/c6/aaf68a748122632967cef4dffef68224eb16798b6793257d82\n",
            "  Building wheel for pynndescent (setup.py) ... \u001b[?25l\u001b[?25hdone\n",
            "  Created wheel for pynndescent: filename=pynndescent-0.5.5-py3-none-any.whl size=52603 sha256=e0e2e61e1b99a50b69c2d87f8db41568bccd8672557b5ce050d254eadae7df96\n",
            "  Stored in directory: /root/.cache/pip/wheels/af/e9/33/04db1436df0757c42fda8ea6796d7a8586e23c85fac355f476\n",
            "Successfully built umap-learn pynndescent\n",
            "Installing collected packages: pynndescent, umap-learn\n",
            "Successfully installed pynndescent-0.5.5 umap-learn-0.5.2\n"
          ]
        }
      ]
    },
    {
      "cell_type": "code",
      "metadata": {
        "id": "-q_cUwB1y_b4",
        "colab": {
          "base_uri": "https://localhost:8080/"
        },
        "outputId": "046b4696-ef5c-4d5b-8148-ab1f6af2eac2"
      },
      "source": [
        "mapper2 = umap.UMAP().fit(predictions_total)"
      ],
      "execution_count": null,
      "outputs": [
        {
          "output_type": "stream",
          "name": "stderr",
          "text": [
            "/usr/local/lib/python3.7/dist-packages/numba/np/ufunc/parallel.py:363: NumbaWarning: The TBB threading layer requires TBB version 2019.5 or later i.e., TBB_INTERFACE_VERSION >= 11005. Found TBB_INTERFACE_VERSION = 9107. The TBB threading layer is disabled.\n",
            "  warnings.warn(problem)\n"
          ]
        }
      ]
    },
    {
      "cell_type": "code",
      "metadata": {
        "colab": {
          "base_uri": "https://localhost:8080/",
          "height": 1000
        },
        "id": "FbGmpVW7xq5N",
        "outputId": "077e0e09-caec-4aa6-e71a-0bae33bebfa3"
      },
      "source": [
        "import umap\n",
        "!pip install umap-learn[plot]\n",
        "\n",
        "import umap.plot"
      ],
      "execution_count": null,
      "outputs": [
        {
          "output_type": "stream",
          "name": "stdout",
          "text": [
            "Requirement already satisfied: umap-learn[plot] in /usr/local/lib/python3.7/dist-packages (0.5.2)\n",
            "Requirement already satisfied: numba>=0.49 in /usr/local/lib/python3.7/dist-packages (from umap-learn[plot]) (0.51.2)\n",
            "Requirement already satisfied: scikit-learn>=0.22 in /usr/local/lib/python3.7/dist-packages (from umap-learn[plot]) (0.22.2.post1)\n",
            "Requirement already satisfied: scipy>=1.0 in /usr/local/lib/python3.7/dist-packages (from umap-learn[plot]) (1.4.1)\n",
            "Requirement already satisfied: tqdm in /usr/local/lib/python3.7/dist-packages (from umap-learn[plot]) (4.62.3)\n",
            "Requirement already satisfied: pynndescent>=0.5 in /usr/local/lib/python3.7/dist-packages (from umap-learn[plot]) (0.5.5)\n",
            "Requirement already satisfied: numpy>=1.17 in /usr/local/lib/python3.7/dist-packages (from umap-learn[plot]) (1.19.5)\n",
            "Requirement already satisfied: bokeh in /usr/local/lib/python3.7/dist-packages (from umap-learn[plot]) (2.3.3)\n",
            "Collecting datashader\n",
            "  Downloading datashader-0.13.0-py2.py3-none-any.whl (15.8 MB)\n",
            "\u001b[K     |████████████████████████████████| 15.8 MB 600 bytes/s \n",
            "\u001b[?25hRequirement already satisfied: pandas in /usr/local/lib/python3.7/dist-packages (from umap-learn[plot]) (1.1.5)\n",
            "Requirement already satisfied: matplotlib in /usr/local/lib/python3.7/dist-packages (from umap-learn[plot]) (3.2.2)\n",
            "Requirement already satisfied: colorcet in /usr/local/lib/python3.7/dist-packages (from umap-learn[plot]) (2.0.6)\n",
            "Requirement already satisfied: seaborn in /usr/local/lib/python3.7/dist-packages (from umap-learn[plot]) (0.11.2)\n",
            "Requirement already satisfied: holoviews in /usr/local/lib/python3.7/dist-packages (from umap-learn[plot]) (1.14.6)\n",
            "Requirement already satisfied: scikit-image in /usr/local/lib/python3.7/dist-packages (from umap-learn[plot]) (0.16.2)\n",
            "Requirement already satisfied: setuptools in /usr/local/lib/python3.7/dist-packages (from numba>=0.49->umap-learn[plot]) (57.4.0)\n",
            "Requirement already satisfied: llvmlite<0.35,>=0.34.0.dev0 in /usr/local/lib/python3.7/dist-packages (from numba>=0.49->umap-learn[plot]) (0.34.0)\n",
            "Requirement already satisfied: joblib>=0.11 in /usr/local/lib/python3.7/dist-packages (from pynndescent>=0.5->umap-learn[plot]) (1.0.1)\n",
            "Requirement already satisfied: packaging>=16.8 in /usr/local/lib/python3.7/dist-packages (from bokeh->umap-learn[plot]) (21.0)\n",
            "Requirement already satisfied: python-dateutil>=2.1 in /usr/local/lib/python3.7/dist-packages (from bokeh->umap-learn[plot]) (2.8.2)\n",
            "Requirement already satisfied: tornado>=5.1 in /usr/local/lib/python3.7/dist-packages (from bokeh->umap-learn[plot]) (5.1.1)\n",
            "Requirement already satisfied: pillow>=7.1.0 in /usr/local/lib/python3.7/dist-packages (from bokeh->umap-learn[plot]) (7.1.2)\n",
            "Requirement already satisfied: PyYAML>=3.10 in /usr/local/lib/python3.7/dist-packages (from bokeh->umap-learn[plot]) (3.13)\n",
            "Requirement already satisfied: Jinja2>=2.9 in /usr/local/lib/python3.7/dist-packages (from bokeh->umap-learn[plot]) (2.11.3)\n",
            "Requirement already satisfied: typing-extensions>=3.7.4 in /usr/local/lib/python3.7/dist-packages (from bokeh->umap-learn[plot]) (3.7.4.3)\n",
            "Requirement already satisfied: MarkupSafe>=0.23 in /usr/local/lib/python3.7/dist-packages (from Jinja2>=2.9->bokeh->umap-learn[plot]) (2.0.1)\n",
            "Requirement already satisfied: pyparsing>=2.0.2 in /usr/local/lib/python3.7/dist-packages (from packaging>=16.8->bokeh->umap-learn[plot]) (2.4.7)\n",
            "Requirement already satisfied: six>=1.5 in /usr/local/lib/python3.7/dist-packages (from python-dateutil>=2.1->bokeh->umap-learn[plot]) (1.15.0)\n",
            "Requirement already satisfied: param>=1.7.0 in /usr/local/lib/python3.7/dist-packages (from colorcet->umap-learn[plot]) (1.11.1)\n",
            "Requirement already satisfied: pyct>=0.4.4 in /usr/local/lib/python3.7/dist-packages (from colorcet->umap-learn[plot]) (0.4.8)\n",
            "Collecting datashape>=0.5.1\n",
            "  Downloading datashape-0.5.2.tar.gz (76 kB)\n",
            "\u001b[K     |████████████████████████████████| 76 kB 4.0 MB/s \n",
            "\u001b[?25hRequirement already satisfied: dask[complete]>=0.18.0 in /usr/local/lib/python3.7/dist-packages (from datashader->umap-learn[plot]) (2.12.0)\n",
            "Requirement already satisfied: xarray>=0.9.6 in /usr/local/lib/python3.7/dist-packages (from datashader->umap-learn[plot]) (0.18.2)\n",
            "Collecting distributed>=2.0\n",
            "  Downloading distributed-2021.10.0-py3-none-any.whl (791 kB)\n",
            "\u001b[K     |████████████████████████████████| 791 kB 47.5 MB/s \n",
            "\u001b[?25hRequirement already satisfied: toolz>=0.7.3 in /usr/local/lib/python3.7/dist-packages (from dask[complete]>=0.18.0->datashader->umap-learn[plot]) (0.11.1)\n",
            "Collecting fsspec>=0.6.0\n",
            "  Downloading fsspec-2021.10.1-py3-none-any.whl (125 kB)\n",
            "\u001b[K     |████████████████████████████████| 125 kB 57.3 MB/s \n",
            "\u001b[?25hCollecting partd>=0.3.10\n",
            "  Downloading partd-1.2.0-py3-none-any.whl (19 kB)\n",
            "Requirement already satisfied: cloudpickle>=0.2.1 in /usr/local/lib/python3.7/dist-packages (from dask[complete]>=0.18.0->datashader->umap-learn[plot]) (1.3.0)\n",
            "Collecting multipledispatch>=0.4.7\n",
            "  Downloading multipledispatch-0.6.0-py3-none-any.whl (11 kB)\n",
            "Requirement already satisfied: sortedcontainers!=2.0.0,!=2.0.1 in /usr/local/lib/python3.7/dist-packages (from distributed>=2.0->dask[complete]>=0.18.0->datashader->umap-learn[plot]) (2.4.0)\n",
            "Requirement already satisfied: msgpack>=0.6.0 in /usr/local/lib/python3.7/dist-packages (from distributed>=2.0->dask[complete]>=0.18.0->datashader->umap-learn[plot]) (1.0.2)\n",
            "Requirement already satisfied: zict>=0.1.3 in /usr/local/lib/python3.7/dist-packages (from distributed>=2.0->dask[complete]>=0.18.0->datashader->umap-learn[plot]) (2.0.0)\n",
            "Requirement already satisfied: tblib>=1.6.0 in /usr/local/lib/python3.7/dist-packages (from distributed>=2.0->dask[complete]>=0.18.0->datashader->umap-learn[plot]) (1.7.0)\n",
            "Requirement already satisfied: psutil>=5.0 in /usr/local/lib/python3.7/dist-packages (from distributed>=2.0->dask[complete]>=0.18.0->datashader->umap-learn[plot]) (5.4.8)\n",
            "Requirement already satisfied: click>=6.6 in /usr/local/lib/python3.7/dist-packages (from distributed>=2.0->dask[complete]>=0.18.0->datashader->umap-learn[plot]) (7.1.2)\n",
            "Collecting distributed>=2.0\n",
            "  Downloading distributed-2021.9.1-py3-none-any.whl (786 kB)\n",
            "\u001b[K     |████████████████████████████████| 786 kB 56.4 MB/s \n",
            "\u001b[?25h  Downloading distributed-2021.9.0-py3-none-any.whl (779 kB)\n",
            "\u001b[K     |████████████████████████████████| 779 kB 52.6 MB/s \n",
            "\u001b[?25h  Downloading distributed-2021.8.1-py3-none-any.whl (778 kB)\n",
            "\u001b[K     |████████████████████████████████| 778 kB 57.4 MB/s \n",
            "\u001b[?25h  Downloading distributed-2021.8.0-py3-none-any.whl (776 kB)\n",
            "\u001b[K     |████████████████████████████████| 776 kB 50.3 MB/s \n",
            "\u001b[?25h  Downloading distributed-2021.7.2-py3-none-any.whl (769 kB)\n",
            "\u001b[K     |████████████████████████████████| 769 kB 41.1 MB/s \n",
            "\u001b[?25h  Downloading distributed-2021.7.1-py3-none-any.whl (766 kB)\n",
            "\u001b[K     |████████████████████████████████| 766 kB 38.5 MB/s \n",
            "\u001b[?25hCollecting cloudpickle>=0.2.1\n",
            "  Downloading cloudpickle-2.0.0-py3-none-any.whl (25 kB)\n",
            "Collecting distributed>=2.0\n",
            "  Downloading distributed-2021.7.0-py3-none-any.whl (1.0 MB)\n",
            "\u001b[K     |████████████████████████████████| 1.0 MB 59.1 MB/s \n",
            "\u001b[?25h  Downloading distributed-2021.6.2-py3-none-any.whl (722 kB)\n",
            "\u001b[K     |████████████████████████████████| 722 kB 59.5 MB/s \n",
            "\u001b[?25h  Downloading distributed-2021.6.1-py3-none-any.whl (722 kB)\n",
            "\u001b[K     |████████████████████████████████| 722 kB 55.6 MB/s \n",
            "\u001b[?25h  Downloading distributed-2021.6.0-py3-none-any.whl (715 kB)\n",
            "\u001b[K     |████████████████████████████████| 715 kB 51.5 MB/s \n",
            "\u001b[?25h  Downloading distributed-2021.5.1-py3-none-any.whl (705 kB)\n",
            "\u001b[K     |████████████████████████████████| 705 kB 48.0 MB/s \n",
            "\u001b[?25h  Downloading distributed-2021.5.0-py3-none-any.whl (699 kB)\n",
            "\u001b[K     |████████████████████████████████| 699 kB 55.9 MB/s \n",
            "\u001b[?25h  Downloading distributed-2021.4.1-py3-none-any.whl (696 kB)\n",
            "\u001b[K     |████████████████████████████████| 696 kB 49.2 MB/s \n",
            "\u001b[?25h  Downloading distributed-2021.4.0-py3-none-any.whl (684 kB)\n",
            "\u001b[K     |████████████████████████████████| 684 kB 28.9 MB/s \n",
            "\u001b[?25h  Downloading distributed-2021.3.1-py3-none-any.whl (679 kB)\n",
            "\u001b[K     |████████████████████████████████| 679 kB 23.5 MB/s \n",
            "\u001b[?25h  Downloading distributed-2021.3.0-py3-none-any.whl (675 kB)\n",
            "\u001b[K     |████████████████████████████████| 675 kB 51.2 MB/s \n",
            "\u001b[?25h  Downloading distributed-2021.2.0-py3-none-any.whl (675 kB)\n",
            "\u001b[K     |████████████████████████████████| 675 kB 60.8 MB/s \n",
            "\u001b[?25h  Downloading distributed-2021.1.1-py3-none-any.whl (672 kB)\n",
            "\u001b[K     |████████████████████████████████| 672 kB 55.2 MB/s \n",
            "\u001b[?25h  Downloading distributed-2021.1.0-py3-none-any.whl (671 kB)\n",
            "\u001b[K     |████████████████████████████████| 671 kB 49.8 MB/s \n",
            "\u001b[?25h  Downloading distributed-2020.12.0-py3-none-any.whl (669 kB)\n",
            "\u001b[K     |████████████████████████████████| 669 kB 57.2 MB/s \n",
            "\u001b[?25h  Downloading distributed-2.30.1-py3-none-any.whl (656 kB)\n",
            "\u001b[K     |████████████████████████████████| 656 kB 54.6 MB/s \n",
            "\u001b[?25hRequirement already satisfied: pytz>=2017.2 in /usr/local/lib/python3.7/dist-packages (from pandas->umap-learn[plot]) (2018.9)\n",
            "Collecting locket\n",
            "  Downloading locket-0.2.1-py2.py3-none-any.whl (4.1 kB)\n",
            "Requirement already satisfied: heapdict in /usr/local/lib/python3.7/dist-packages (from zict>=0.1.3->distributed>=2.0->dask[complete]>=0.18.0->datashader->umap-learn[plot]) (1.0.1)\n",
            "Requirement already satisfied: panel>=0.8.0 in /usr/local/lib/python3.7/dist-packages (from holoviews->umap-learn[plot]) (0.12.1)\n",
            "Requirement already satisfied: pyviz-comms>=0.7.4 in /usr/local/lib/python3.7/dist-packages (from holoviews->umap-learn[plot]) (2.1.0)\n",
            "Requirement already satisfied: requests in /usr/local/lib/python3.7/dist-packages (from panel>=0.8.0->holoviews->umap-learn[plot]) (2.23.0)\n",
            "Requirement already satisfied: markdown in /usr/local/lib/python3.7/dist-packages (from panel>=0.8.0->holoviews->umap-learn[plot]) (3.3.4)\n",
            "Requirement already satisfied: bleach in /usr/local/lib/python3.7/dist-packages (from panel>=0.8.0->holoviews->umap-learn[plot]) (4.1.0)\n",
            "Requirement already satisfied: webencodings in /usr/local/lib/python3.7/dist-packages (from bleach->panel>=0.8.0->holoviews->umap-learn[plot]) (0.5.1)\n",
            "Requirement already satisfied: importlib-metadata in /usr/local/lib/python3.7/dist-packages (from markdown->panel>=0.8.0->holoviews->umap-learn[plot]) (4.8.1)\n",
            "Requirement already satisfied: zipp>=0.5 in /usr/local/lib/python3.7/dist-packages (from importlib-metadata->markdown->panel>=0.8.0->holoviews->umap-learn[plot]) (3.6.0)\n",
            "Requirement already satisfied: kiwisolver>=1.0.1 in /usr/local/lib/python3.7/dist-packages (from matplotlib->umap-learn[plot]) (1.3.2)\n",
            "Requirement already satisfied: cycler>=0.10 in /usr/local/lib/python3.7/dist-packages (from matplotlib->umap-learn[plot]) (0.10.0)\n",
            "Requirement already satisfied: idna<3,>=2.5 in /usr/local/lib/python3.7/dist-packages (from requests->panel>=0.8.0->holoviews->umap-learn[plot]) (2.10)\n",
            "Requirement already satisfied: chardet<4,>=3.0.2 in /usr/local/lib/python3.7/dist-packages (from requests->panel>=0.8.0->holoviews->umap-learn[plot]) (3.0.4)\n",
            "Requirement already satisfied: urllib3!=1.25.0,!=1.25.1,<1.26,>=1.21.1 in /usr/local/lib/python3.7/dist-packages (from requests->panel>=0.8.0->holoviews->umap-learn[plot]) (1.24.3)\n",
            "Requirement already satisfied: certifi>=2017.4.17 in /usr/local/lib/python3.7/dist-packages (from requests->panel>=0.8.0->holoviews->umap-learn[plot]) (2021.5.30)\n",
            "Requirement already satisfied: networkx>=2.0 in /usr/local/lib/python3.7/dist-packages (from scikit-image->umap-learn[plot]) (2.6.3)\n",
            "Requirement already satisfied: PyWavelets>=0.4.0 in /usr/local/lib/python3.7/dist-packages (from scikit-image->umap-learn[plot]) (1.1.1)\n",
            "Requirement already satisfied: imageio>=2.3.0 in /usr/local/lib/python3.7/dist-packages (from scikit-image->umap-learn[plot]) (2.4.1)\n",
            "Building wheels for collected packages: datashape\n",
            "  Building wheel for datashape (setup.py) ... \u001b[?25l\u001b[?25hdone\n",
            "  Created wheel for datashape: filename=datashape-0.5.2-py3-none-any.whl size=59438 sha256=e7e81207618bfc08038e4e3f4c27cd9efc1ff688a2bb6f5690784c697f95d64f\n",
            "  Stored in directory: /root/.cache/pip/wheels/b5/b7/80/333a5c3312ed4cd54f5d5b869868c14e0c6002cb5c7238b52d\n",
            "Successfully built datashape\n",
            "Installing collected packages: locket, cloudpickle, partd, multipledispatch, fsspec, distributed, datashape, datashader\n",
            "  Attempting uninstall: cloudpickle\n",
            "    Found existing installation: cloudpickle 1.3.0\n",
            "    Uninstalling cloudpickle-1.3.0:\n",
            "      Successfully uninstalled cloudpickle-1.3.0\n",
            "  Attempting uninstall: distributed\n",
            "    Found existing installation: distributed 1.25.3\n",
            "    Uninstalling distributed-1.25.3:\n",
            "      Successfully uninstalled distributed-1.25.3\n",
            "\u001b[31mERROR: pip's dependency resolver does not currently take into account all the packages that are installed. This behaviour is the source of the following dependency conflicts.\n",
            "gym 0.17.3 requires cloudpickle<1.7.0,>=1.2.0, but you have cloudpickle 2.0.0 which is incompatible.\u001b[0m\n",
            "Successfully installed cloudpickle-2.0.0 datashader-0.13.0 datashape-0.5.2 distributed-2.30.1 fsspec-2021.10.1 locket-0.2.1 multipledispatch-0.6.0 partd-1.2.0\n"
          ]
        },
        {
          "output_type": "display_data",
          "data": {
            "application/vnd.colab-display-data+json": {
              "pip_warning": {
                "packages": [
                  "cloudpickle"
                ]
              }
            }
          },
          "metadata": {}
        }
      ]
    },
    {
      "cell_type": "code",
      "metadata": {
        "colab": {
          "base_uri": "https://localhost:8080/",
          "height": 655
        },
        "id": "atqp6J9myWdJ",
        "outputId": "062e86bf-394b-4338-b3c3-4e216335da1d"
      },
      "source": [
        "umap.plot.points(mapper2, labels=labels_total)"
      ],
      "execution_count": null,
      "outputs": [
        {
          "output_type": "execute_result",
          "data": {
            "text/plain": [
              "<matplotlib.axes._subplots.AxesSubplot at 0x7f6b48e83b50>"
            ]
          },
          "metadata": {},
          "execution_count": 58
        },
        {
          "output_type": "display_data",
          "data": {
            "image/png": "[encoded data removed]",
            "text/plain": [
              "<Figure size 800x800 with 1 Axes>"
            ]
          },
          "metadata": {}
        }
      ]
    },
    {
      "cell_type": "code",
      "metadata": {
        "id": "WYY70aXUsb9e"
      },
      "source": [
        "c = [\"DL Alpha Alanine\",\"DL Aspartic Acid\",\"DL Isoleucine\",\"DL Leucine\",\n",
        "\"DL Methionine\", \"DL Phenylalanine\"\n",
        ", \"DL Serine\"\n",
        ", \"DL Threonine\"\n",
        ", \"DL Tyrosine\"\n",
        ", \"DL Valine\", \"Glycine\"\n",
        ", \"L Arginine HCl\"\n",
        ",\"L Asparagine Monohydrate\"\n",
        ", \"L Cystine\", \"L Glutamic Acid\",\"L Histidine HCl\",\n",
        "\"L Lysine HCl\",\n",
        "\"L (+) Cysteine HCl\",\n",
        " \"L Proline\",\"L Tryptophan\", \"Never seen before\"]"
      ],
      "execution_count": null,
      "outputs": []
    },
    {
      "cell_type": "code",
      "metadata": {
        "colab": {
          "base_uri": "https://localhost:8080/",
          "height": 594
        },
        "id": "2nXWYfwBqjky",
        "outputId": "c776a845-ec23-4625-d0ab-4fd3f9d7ae96"
      },
      "source": [
        "embedding = umap.UMAP(n_neighbors=15,min_dist=0.1).fit_transform(predictions_total)\n",
        "\n",
        "target = np.hstack(labels_total)\n",
        "\n",
        "fig, ax = plt.subplots(1, figsize=(14, 10))\n",
        "plt.scatter(*embedding.T, s=0.3, c=target, cmap='Spectral', alpha=1.0)\n",
        "plt.setp(ax, xticks=[], yticks=[])\n",
        "cbar = plt.colorbar(boundaries=np.arange(22) -0.5)\n",
        "cbar.set_ticks(np.arange(21))\n",
        "cbar.set_ticklabels(c)\n",
        "plt.title('Entropic open set');"
      ],
      "execution_count": null,
      "outputs": [
        {
          "output_type": "display_data",
          "data": {
            "image/png": "[encoded data removed]",
            "text/plain": [
              "<Figure size 1008x720 with 2 Axes>"
            ]
          },
          "metadata": {
            "needs_background": "light"
          }
        }
      ]
    },
    {
      "cell_type": "code",
      "metadata": {
        "id": "yz7jbgdPk9gt"
      },
      "source": [
        "predictions_total = np.concatenate((prediction_test,prediction_unknown),axis=0)\n"
      ],
      "execution_count": null,
      "outputs": []
    },
    {
      "cell_type": "code",
      "metadata": {
        "id": "SO0mMwj3lnal"
      },
      "source": [
        "Ignored_labels_total = np.zeros(10*500)\n",
        "for i in range(10*500):\n",
        "  Ignored_labels_total[i] = 20\n",
        "  "
      ],
      "execution_count": null,
      "outputs": []
    },
    {
      "cell_type": "code",
      "metadata": {
        "colab": {
          "base_uri": "https://localhost:8080/"
        },
        "id": "CM8aOwfGllHr",
        "outputId": "272f2e84-1a67-429e-e755-4f0c1af791a0"
      },
      "source": [
        "predictions_total.shape"
      ],
      "execution_count": null,
      "outputs": [
        {
          "output_type": "execute_result",
          "data": {
            "text/plain": [
              "(15000, 21)"
            ]
          },
          "metadata": {},
          "execution_count": 55
        }
      ]
    },
    {
      "cell_type": "code",
      "metadata": {
        "id": "4cIiX-qSmy6g"
      },
      "source": [
        "labels_total = np.concatenate((test_label,Ignored_labels_total),axis=0)"
      ],
      "execution_count": null,
      "outputs": []
    }
  ]
}