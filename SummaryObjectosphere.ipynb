{
  "nbformat": 4,
  "nbformat_minor": 0,
  "metadata": {
    "accelerator": "TPU",
    "colab": {
      "name": "SummaryObjectosphere.ipynb",
      "provenance": [],
      "collapsed_sections": []
    },
    "kernelspec": {
      "display_name": "Python 3",
      "name": "python3"
    },
    "language_info": {
      "name": "python"
    }
  },
  "cells": [
    {
      "cell_type": "code",
      "metadata": {
        "id": "9Dvb3Nvz6Tl1"
      },
      "source": [
        "import numpy as np\n",
        "from numpy import genfromtxt\n",
        "\n",
        "import pandas as pd\n",
        "from pandas import ExcelWriter\n",
        "from pandas import ExcelFile\n",
        "from pandas import read_csv\n",
        "\n",
        "import csv\n",
        "import pprint\n",
        "\n",
        "import tensorflow as tf\n",
        "from tensorflow import keras \n",
        "from tensorflow.keras import layers, models\n",
        "\n",
        "import keras\n",
        "#from keras.utils import to_categorical\n",
        "from pandas import read_csv\n",
        "from keras.models import Sequential\n",
        "from keras import layers\n",
        "#from keras.optimizers import SGD\n",
        "from keras import regularizers\n",
        "from keras.models import Sequential\n",
        "from keras.layers import Dense\n",
        "#from keras.optimizers import SGD\n",
        "\n",
        "from sklearn.preprocessing import LabelEncoder\n",
        "from sklearn.model_selection import train_test_split\n",
        "\n",
        "import matplotlib.pyplot as plt\n",
        "import seaborn as sns\n",
        "import random\n",
        "from pprint import pprint\n",
        "\n",
        "from sklearn.preprocessing import LabelEncoder\n",
        "import gspread\n",
        "import pandas as pd\n",
        "import pickle \n",
        "import pywt\n",
        "import matplotlib.pyplot as plt\n",
        "from tensorflow.keras import regularizers\n",
        "#from keras.utils import to_categorical\n",
        "\n",
        "from time import time\n",
        "t00 = time()\n",
        "import os\n",
        "from tensorflow.keras import layers\n",
        "from keras.layers import Input, Dense, concatenate\n",
        "from keras.models import Model"
      ],
      "execution_count": 1,
      "outputs": []
    },
    {
      "cell_type": "code",
      "metadata": {
        "colab": {
          "base_uri": "https://localhost:8080/"
        },
        "id": "UKytys-66czl",
        "outputId": "920388eb-daf6-4553-82eb-eecc6fdbce6c"
      },
      "source": [
        "# Initialize the TPU and spread the computations across the 8 cores\n",
        "import tensorflow as tf \n",
        "resolver = tf.distribute.cluster_resolver.TPUClusterResolver(tpu='')\n",
        "tf.config.experimental_connect_to_cluster(resolver)\n",
        "# This is the TPU initialization code that has to be at the beginning.\n",
        "tf.tpu.experimental.initialize_tpu_system(resolver)\n",
        "tf.config.list_logical_devices('TPU')\n",
        "#print(\"All devices: \", tf.config.list_logical_devices('TPU'))\n",
        "\n",
        "strategy = tf.distribute.TPUStrategy(resolver)"
      ],
      "execution_count": 2,
      "outputs": [
        {
          "output_type": "stream",
          "name": "stdout",
          "text": [
            "INFO:tensorflow:Deallocate tpu buffers before initializing tpu system.\n"
          ]
        },
        {
          "output_type": "stream",
          "name": "stderr",
          "text": [
            "INFO:tensorflow:Deallocate tpu buffers before initializing tpu system.\n"
          ]
        },
        {
          "output_type": "stream",
          "name": "stdout",
          "text": [
            "INFO:tensorflow:Initializing the TPU system: grpc://10.101.210.218:8470\n"
          ]
        },
        {
          "output_type": "stream",
          "name": "stderr",
          "text": [
            "INFO:tensorflow:Initializing the TPU system: grpc://10.101.210.218:8470\n"
          ]
        },
        {
          "output_type": "stream",
          "name": "stdout",
          "text": [
            "INFO:tensorflow:Finished initializing TPU system.\n"
          ]
        },
        {
          "output_type": "stream",
          "name": "stderr",
          "text": [
            "INFO:tensorflow:Finished initializing TPU system.\n"
          ]
        },
        {
          "output_type": "stream",
          "name": "stdout",
          "text": [
            "INFO:tensorflow:Found TPU system:\n"
          ]
        },
        {
          "output_type": "stream",
          "name": "stderr",
          "text": [
            "INFO:tensorflow:Found TPU system:\n"
          ]
        },
        {
          "output_type": "stream",
          "name": "stdout",
          "text": [
            "INFO:tensorflow:*** Num TPU Cores: 8\n"
          ]
        },
        {
          "output_type": "stream",
          "name": "stderr",
          "text": [
            "INFO:tensorflow:*** Num TPU Cores: 8\n"
          ]
        },
        {
          "output_type": "stream",
          "name": "stdout",
          "text": [
            "INFO:tensorflow:*** Num TPU Workers: 1\n"
          ]
        },
        {
          "output_type": "stream",
          "name": "stderr",
          "text": [
            "INFO:tensorflow:*** Num TPU Workers: 1\n"
          ]
        },
        {
          "output_type": "stream",
          "name": "stdout",
          "text": [
            "INFO:tensorflow:*** Num TPU Cores Per Worker: 8\n"
          ]
        },
        {
          "output_type": "stream",
          "name": "stderr",
          "text": [
            "INFO:tensorflow:*** Num TPU Cores Per Worker: 8\n"
          ]
        },
        {
          "output_type": "stream",
          "name": "stdout",
          "text": [
            "INFO:tensorflow:*** Available Device: _DeviceAttributes(/job:localhost/replica:0/task:0/device:CPU:0, CPU, 0, 0)\n"
          ]
        },
        {
          "output_type": "stream",
          "name": "stderr",
          "text": [
            "INFO:tensorflow:*** Available Device: _DeviceAttributes(/job:localhost/replica:0/task:0/device:CPU:0, CPU, 0, 0)\n"
          ]
        },
        {
          "output_type": "stream",
          "name": "stdout",
          "text": [
            "INFO:tensorflow:*** Available Device: _DeviceAttributes(/job:worker/replica:0/task:0/device:CPU:0, CPU, 0, 0)\n"
          ]
        },
        {
          "output_type": "stream",
          "name": "stderr",
          "text": [
            "INFO:tensorflow:*** Available Device: _DeviceAttributes(/job:worker/replica:0/task:0/device:CPU:0, CPU, 0, 0)\n"
          ]
        },
        {
          "output_type": "stream",
          "name": "stdout",
          "text": [
            "INFO:tensorflow:*** Available Device: _DeviceAttributes(/job:worker/replica:0/task:0/device:TPU:0, TPU, 0, 0)\n"
          ]
        },
        {
          "output_type": "stream",
          "name": "stderr",
          "text": [
            "INFO:tensorflow:*** Available Device: _DeviceAttributes(/job:worker/replica:0/task:0/device:TPU:0, TPU, 0, 0)\n"
          ]
        },
        {
          "output_type": "stream",
          "name": "stdout",
          "text": [
            "INFO:tensorflow:*** Available Device: _DeviceAttributes(/job:worker/replica:0/task:0/device:TPU:1, TPU, 0, 0)\n"
          ]
        },
        {
          "output_type": "stream",
          "name": "stderr",
          "text": [
            "INFO:tensorflow:*** Available Device: _DeviceAttributes(/job:worker/replica:0/task:0/device:TPU:1, TPU, 0, 0)\n"
          ]
        },
        {
          "output_type": "stream",
          "name": "stdout",
          "text": [
            "INFO:tensorflow:*** Available Device: _DeviceAttributes(/job:worker/replica:0/task:0/device:TPU:2, TPU, 0, 0)\n"
          ]
        },
        {
          "output_type": "stream",
          "name": "stderr",
          "text": [
            "INFO:tensorflow:*** Available Device: _DeviceAttributes(/job:worker/replica:0/task:0/device:TPU:2, TPU, 0, 0)\n"
          ]
        },
        {
          "output_type": "stream",
          "name": "stdout",
          "text": [
            "INFO:tensorflow:*** Available Device: _DeviceAttributes(/job:worker/replica:0/task:0/device:TPU:3, TPU, 0, 0)\n"
          ]
        },
        {
          "output_type": "stream",
          "name": "stderr",
          "text": [
            "INFO:tensorflow:*** Available Device: _DeviceAttributes(/job:worker/replica:0/task:0/device:TPU:3, TPU, 0, 0)\n"
          ]
        },
        {
          "output_type": "stream",
          "name": "stdout",
          "text": [
            "INFO:tensorflow:*** Available Device: _DeviceAttributes(/job:worker/replica:0/task:0/device:TPU:4, TPU, 0, 0)\n"
          ]
        },
        {
          "output_type": "stream",
          "name": "stderr",
          "text": [
            "INFO:tensorflow:*** Available Device: _DeviceAttributes(/job:worker/replica:0/task:0/device:TPU:4, TPU, 0, 0)\n"
          ]
        },
        {
          "output_type": "stream",
          "name": "stdout",
          "text": [
            "INFO:tensorflow:*** Available Device: _DeviceAttributes(/job:worker/replica:0/task:0/device:TPU:5, TPU, 0, 0)\n"
          ]
        },
        {
          "output_type": "stream",
          "name": "stderr",
          "text": [
            "INFO:tensorflow:*** Available Device: _DeviceAttributes(/job:worker/replica:0/task:0/device:TPU:5, TPU, 0, 0)\n"
          ]
        },
        {
          "output_type": "stream",
          "name": "stdout",
          "text": [
            "INFO:tensorflow:*** Available Device: _DeviceAttributes(/job:worker/replica:0/task:0/device:TPU:6, TPU, 0, 0)\n"
          ]
        },
        {
          "output_type": "stream",
          "name": "stderr",
          "text": [
            "INFO:tensorflow:*** Available Device: _DeviceAttributes(/job:worker/replica:0/task:0/device:TPU:6, TPU, 0, 0)\n"
          ]
        },
        {
          "output_type": "stream",
          "name": "stdout",
          "text": [
            "INFO:tensorflow:*** Available Device: _DeviceAttributes(/job:worker/replica:0/task:0/device:TPU:7, TPU, 0, 0)\n"
          ]
        },
        {
          "output_type": "stream",
          "name": "stderr",
          "text": [
            "INFO:tensorflow:*** Available Device: _DeviceAttributes(/job:worker/replica:0/task:0/device:TPU:7, TPU, 0, 0)\n"
          ]
        },
        {
          "output_type": "stream",
          "name": "stdout",
          "text": [
            "INFO:tensorflow:*** Available Device: _DeviceAttributes(/job:worker/replica:0/task:0/device:TPU_SYSTEM:0, TPU_SYSTEM, 0, 0)\n"
          ]
        },
        {
          "output_type": "stream",
          "name": "stderr",
          "text": [
            "INFO:tensorflow:*** Available Device: _DeviceAttributes(/job:worker/replica:0/task:0/device:TPU_SYSTEM:0, TPU_SYSTEM, 0, 0)\n"
          ]
        },
        {
          "output_type": "stream",
          "name": "stdout",
          "text": [
            "INFO:tensorflow:*** Available Device: _DeviceAttributes(/job:worker/replica:0/task:0/device:XLA_CPU:0, XLA_CPU, 0, 0)\n"
          ]
        },
        {
          "output_type": "stream",
          "name": "stderr",
          "text": [
            "INFO:tensorflow:*** Available Device: _DeviceAttributes(/job:worker/replica:0/task:0/device:XLA_CPU:0, XLA_CPU, 0, 0)\n"
          ]
        }
      ]
    },
    {
      "cell_type": "code",
      "metadata": {
        "colab": {
          "base_uri": "https://localhost:8080/"
        },
        "id": "6vrPVsRp6fvO",
        "outputId": "7cf96cd2-279d-4de9-ce68-1392c4f631fd"
      },
      "source": [
        "from google.colab import drive\n",
        "\n",
        "drive.mount(\"/content/gdrive\")"
      ],
      "execution_count": 3,
      "outputs": [
        {
          "output_type": "stream",
          "name": "stdout",
          "text": [
            "Mounted at /content/gdrive\n"
          ]
        }
      ]
    },
    {
      "cell_type": "code",
      "metadata": {
        "id": "iRsWZqVK6kwr"
      },
      "source": [
        "N_cut = 52\n",
        "\n",
        "# Aminoacids\n",
        "\n",
        "# 0 - 4 \n",
        "DL_Alpha_Alanine_Train = genfromtxt(\"/content/gdrive/MyDrive/6_21_2021_run/DL_Alpha_Alanine_Train.csv\", delimiter=',', names=True, dtype=float)\n",
        "DL_Alpha_Alanine_Test = genfromtxt(\"/content/gdrive/MyDrive/6_21_2021_run/DL_Alpha_Alanine_Test.csv\", delimiter=',', names=True, dtype=float)\n",
        "\n",
        "DL_Aspartic_Acid_Train = genfromtxt(\"/content/gdrive/MyDrive/6_21_2021_run/DL_Aspartic_Acid_Train.csv\", delimiter=',', names=True, dtype=float)\n",
        "DL_Aspartic_Acid_Test = genfromtxt(\"/content/gdrive/MyDrive/6_21_2021_run/DL_Aspartic_Acid_Test.csv\", delimiter=',', names=True, dtype=float)\n",
        "\n",
        "DL_Isoleucine_Train = genfromtxt(\"/content/gdrive/MyDrive/6_21_2021_run/DL_Isoleucine_Train.csv\", delimiter=',', names=True, dtype=float)\n",
        "DL_Isoleucine_Test = genfromtxt(\"/content/gdrive/MyDrive/6_21_2021_run/DL_Isoleucine_Test.csv\", delimiter=',', names=True, dtype=float)\n",
        "\n",
        "DL_Leucine_Train = genfromtxt(\"/content/gdrive/MyDrive/6_21_2021_run/DL_Leucine_Train.csv\", delimiter=',', names=True, dtype=float)\n",
        "DL_Leucine_Test = genfromtxt(\"/content/gdrive/MyDrive/6_21_2021_run/DL_Leucine_Test.csv\", delimiter=',', names=True, dtype=float)\n",
        "\n",
        "DL_Methionine_Train = genfromtxt(\"/content/gdrive/MyDrive/6_21_2021_run/DL_Methionine_Train.csv\", delimiter=',', names=True, dtype=float)\n",
        "DL_Methionine_Test = genfromtxt(\"/content/gdrive/MyDrive/6_21_2021_run/DL_Methionine_Test.csv\", delimiter=',', names=True, dtype=float)\n",
        "\n",
        "# 5 - 9 \n",
        "\n",
        "DL_Phenylalanine_Train = genfromtxt(\"/content/gdrive/MyDrive/6_21_2021_run/DL_Phenylalanine_Train.csv\", delimiter=',', names=True, dtype=float)\n",
        "DL_Phenylalanine_Test = genfromtxt(\"/content/gdrive/MyDrive/6_21_2021_run/DL_Phenylalanine_Test.csv\", delimiter=',', names=True, dtype=float)\n",
        "\n",
        "DL_Serine_Train = genfromtxt(\"/content/gdrive/MyDrive/6_21_2021_run/DL_Serine_Train.csv\", delimiter=',', names=True, dtype=float)\n",
        "DL_Serine_Test = genfromtxt(\"/content/gdrive/MyDrive/6_21_2021_run/DL_Serine_Test.csv\", delimiter=',', names=True, dtype=float)\n",
        "\n",
        "DL_Threonine_Train = genfromtxt(\"/content/gdrive/MyDrive/6_21_2021_run/DL_Threonine_Train.csv\", delimiter=',', names=True, dtype=float)\n",
        "DL_Threonine_Test = genfromtxt(\"/content/gdrive/MyDrive/6_21_2021_run/DL_Threonine_Test.csv\", delimiter=',', names=True, dtype=float)\n",
        "\n",
        "DL_Tyrosine_Train = genfromtxt(\"/content/gdrive/MyDrive/6_21_2021_run/DL_Tyrosine_Train.csv\", delimiter=',', names=True, dtype=float)\n",
        "DL_Tyrosine_Test = genfromtxt(\"/content/gdrive/MyDrive/6_21_2021_run/DL_Tyrosine_Test.csv\", delimiter=',', names=True, dtype=float)\n",
        "\n",
        "DL_Valine_Train = genfromtxt(\"/content/gdrive/MyDrive/6_21_2021_run/DL_Valine_Train.csv\", delimiter=',', names=True, dtype=float)\n",
        "DL_Valine_Test = genfromtxt(\"/content/gdrive/MyDrive/6_21_2021_run/DL_Valine_Test.csv\", delimiter=',', names=True, dtype=float)\n",
        "\n",
        "# 10 - 14\n",
        "\n",
        "Glycine_Train = genfromtxt(\"/content/gdrive/MyDrive/6_21_2021_run/Glycine_Train.csv\", delimiter=',', names=True, dtype=float)\n",
        "Glycine_Test = genfromtxt(\"/content/gdrive/MyDrive/6_21_2021_run/Glycine_Test.csv\", delimiter=',', names=True, dtype=float)\n",
        "\n",
        "L_Arginine_HCl_Train = genfromtxt(\"/content/gdrive/MyDrive/6_21_2021_run/L_Arginine_HCl_Train.csv\", delimiter=',', names=True, dtype=float)\n",
        "L_Arginine_HCl_Test = genfromtxt(\"/content/gdrive/MyDrive/6_21_2021_run/L_Arginine_HCl_Test.csv\", delimiter=',', names=True, dtype=float)\n",
        "\n",
        "L_Asparagine_Monohydrate_Train = genfromtxt(\"/content/gdrive/MyDrive/6_21_2021_run/L_Asparagine_Monohydrate_Train.csv\", delimiter=',', names=True, dtype=float)\n",
        "L_Asparagine_Monohydrate_Test = genfromtxt(\"/content/gdrive/MyDrive/6_21_2021_run/L_Asparagine_Monohydrate_Test.csv\", delimiter=',', names=True, dtype=float)\n",
        "\n",
        "L_Cystine_Train = genfromtxt(\"/content/gdrive/MyDrive/6_21_2021_run/L_Cystine_Train.csv\", delimiter=',', names=True, dtype=float)\n",
        "L_Cystine_Test = genfromtxt(\"/content/gdrive/MyDrive/6_21_2021_run/L_Cystine_Test.csv\", delimiter=',', names=True, dtype=float)\n",
        "\n",
        "L_Glutamic_Acid_Train = genfromtxt(\"/content/gdrive/MyDrive/6_21_2021_run/L_Glutamic_Acid_Train.csv\", delimiter=',', names=True, dtype=float)\n",
        "L_Glutamic_Acid_Test = genfromtxt(\"/content/gdrive/MyDrive/6_21_2021_run/L_Glutamic_Acid_Test.csv\", delimiter=',', names=True, dtype=float)\n",
        "\n",
        "# 15 - 19\n",
        "\n",
        "L_Histidine_HCl_Train = genfromtxt(\"/content/gdrive/MyDrive/6_21_2021_run/L_Histidine_HCl_Train.csv\", delimiter=',', names=True, dtype=float)\n",
        "L_Histidine_HCl_Test = genfromtxt(\"/content/gdrive/MyDrive/6_21_2021_run/L_Histidine_HCl_Test.csv\", delimiter=',', names=True, dtype=float)\n",
        "\n",
        "L_Lysine_HCl_Train = genfromtxt(\"/content/gdrive/MyDrive/6_21_2021_run/L_Lysine_HCl_Train.csv\", delimiter=',', names=True, dtype=float)\n",
        "L_Lysine_HCl_Test = genfromtxt(\"/content/gdrive/MyDrive/6_21_2021_run/L_Lysine_HCl_Test.csv\", delimiter=',', names=True, dtype=float)\n",
        "\n",
        "L_PLUS_Cysteine_HCl_Train = genfromtxt(\"/content/gdrive/MyDrive/6_21_2021_run/L_PLUS_Cysteine_HCl_Train.csv\", delimiter=',', names=True, dtype=float)\n",
        "L_PLUS_Cysteine_HCl_Test = genfromtxt(\"/content/gdrive/MyDrive/6_21_2021_run/L_PLUS_CysteineHydrochloride_Test.csv\", delimiter=',', names=True, dtype=float)\n",
        "\n",
        "L_Proline_Train = genfromtxt(\"/content/gdrive/MyDrive/6_21_2021_run/L_Proline_Train.csv\", delimiter=',', names=True, dtype=float)\n",
        "L_Proline_Test = genfromtxt(\"/content/gdrive/MyDrive/6_21_2021_run/L_Proline_Test.csv\", delimiter=',', names=True, dtype=float)\n",
        "\n",
        "L_Tryptophan_Train = genfromtxt(\"/content/gdrive/MyDrive/6_21_2021_run/L_Tryptophan_Train.csv\", delimiter=',', names=True, dtype=float)\n",
        "L_Tryptophan_Test = genfromtxt(\"/content/gdrive/MyDrive/6_21_2021_run/L_Tryptophan_Test.csv\", delimiter=',', names=True, dtype=float)\n",
        "\n",
        "# Other chemicals\n",
        "# 20 - 24\n",
        "\n",
        "Ampicillin_Sodium_Train = genfromtxt(\"/content/gdrive/MyDrive/6_21_2021_run/Ampicillin_Sodium_Train.csv\", delimiter=',', names=True, dtype=float)\n",
        "Ampicillin_Sodium_Test = genfromtxt(\"/content/gdrive/MyDrive/6_21_2021_run/Ampicillin_Sodium_Test.csv\", delimiter=',', names=True, dtype=float)\n",
        "\n",
        "Anthrone_Train = genfromtxt(\"/content/gdrive/MyDrive/6_21_2021_run/Anthrone_Train.csv\", delimiter=',', names=True, dtype=float)\n",
        "Anthrone_Test = genfromtxt(\"/content/gdrive/MyDrive/6_21_2021_run/Anthrone_Test.csv\", delimiter=',', names=True, dtype=float)\n",
        "\n",
        "beta_Estradiol_Train = genfromtxt(\"/content/gdrive/MyDrive/6_21_2021_run/beta_Estradiol_Train.csv\", delimiter=',', names=True, dtype=float)\n",
        "beta_Estradiol_Test = genfromtxt(\"/content/gdrive/MyDrive/6_21_2021_run/beta_Estradiol_Test.csv\", delimiter=',', names=True, dtype=float)\n",
        "\n",
        "CHAPS_Train = genfromtxt(\"/content/gdrive/MyDrive/6_21_2021_run/CHAPS_Train.csv\", delimiter=',', names=True, dtype=float)\n",
        "CHAPS_Test = genfromtxt(\"/content/gdrive/MyDrive/6_21_2021_run/CHAPS_Test.csv\", delimiter=',', names=True, dtype=float)\n",
        "\n",
        "Chloroquine_Train = genfromtxt(\"/content/gdrive/MyDrive/6_21_2021_run/Chloroquine_Train.csv\", delimiter=',', names=True, dtype=float)\n",
        "Chloroquine_Test = genfromtxt(\"/content/gdrive/MyDrive/6_21_2021_run/Chloroquine_Test.csv\", delimiter=',', names=True, dtype=float)\n",
        "\n",
        "# 25 - 29\n",
        "\n",
        "D_PLUS_Maltose_Monohydrate_Train = genfromtxt(\"/content/gdrive/MyDrive/6_21_2021_run/D_PLUS_Maltose_Monohydrate_Train.csv\", delimiter=',', names=True, dtype=float)\n",
        "D_PLUS_Maltose_Monohydrate_Test = genfromtxt(\"/content/gdrive/MyDrive/6_21_2021_run/D_PLUS_MaltoseMonohydrate_Test.csv\", delimiter=',', names=True, dtype=float)\n",
        "\n",
        "Fluconazole_Train = genfromtxt(\"/content/gdrive/MyDrive/6_21_2021_run/Fluconazole_Train.csv\", delimiter=',', names=True, dtype=float)\n",
        "Fluconazole_Test = genfromtxt(\"/content/gdrive/MyDrive/6_21_2021_run/Fluconazole_Test.csv\", delimiter=',', names=True, dtype=float)\n",
        "\n",
        "Forskolin_Train = genfromtxt(\"/content/gdrive/MyDrive/6_21_2021_run/Forskolin_Train.csv\", delimiter=',', names=True, dtype=float)\n",
        "Forskolin_Test = genfromtxt(\"/content/gdrive/MyDrive/6_21_2021_run/Forskolin_Test.csv\", delimiter=',', names=True, dtype=float)\n",
        "\n",
        "Laminarin_Train = genfromtxt(\"/content/gdrive/MyDrive/6_21_2021_run/Laminarin_Train.csv\", delimiter=',', names=True, dtype=float)\n",
        "Laminarin_Test = genfromtxt(\"/content/gdrive/MyDrive/6_21_2021_run/Laminarin_Test.csv\", delimiter=',', names=True, dtype=float)\n",
        "\n",
        "Lauric_Acid_Train = genfromtxt(\"/content/gdrive/MyDrive/6_21_2021_run/Lauric_Acid_Train.csv\", delimiter=',', names=True, dtype=float)\n",
        "Lauric_Acid_Test = genfromtxt(\"/content/gdrive/MyDrive/6_21_2021_run/Lauric_Acid_Test.csv\", delimiter=',', names=True, dtype=float)\n",
        "\n",
        "# 30 - 34\n",
        "\n",
        "Methyl_Viologen_Train = genfromtxt(\"/content/gdrive/MyDrive/6_21_2021_run/Methyl_Viologen_Train.csv\", delimiter=',', names=True, dtype=float)\n",
        "Methyl_Viologen_Test = genfromtxt(\"/content/gdrive/MyDrive/6_21_2021_run/Methyl_Viologen_Test.csv\", delimiter=',', names=True, dtype=float)\n",
        "\n",
        "MOPS_Train = genfromtxt(\"/content/gdrive/MyDrive/6_21_2021_run/MOPS_Train.csv\", delimiter=',', names=True, dtype=float)\n",
        "MOPS_Test = genfromtxt(\"/content/gdrive/MyDrive/6_21_2021_run/MOPS_Test.csv\", delimiter=',', names=True, dtype=float)\n",
        "\n",
        "Na_Salt_Train = genfromtxt(\"/content/gdrive/MyDrive/6_21_2021_run/Na_Salt_Train.csv\", delimiter=',', names=True, dtype=float)\n",
        "Na_Salt_Test = genfromtxt(\"/content/gdrive/MyDrive/6_21_2021_run/Na_Salt_Test.csv\", delimiter=',', names=True, dtype=float)\n",
        "\n",
        "Polyvinyl_Pyrrolidone_Train = genfromtxt(\"/content/gdrive/MyDrive/6_21_2021_run/Polyvinyl_Pyrrolidone_Train.csv\", delimiter=',', names=True, dtype=float)\n",
        "Polyvinyl_Pyrrolidone_Test = genfromtxt(\"/content/gdrive/MyDrive/6_21_2021_run/Polyvinyl_Pyrrolidone_Test.csv\", delimiter=',', names=True, dtype=float)\n",
        "\n",
        "Potato_Starch_Train = genfromtxt(\"/content/gdrive/MyDrive/6_21_2021_run/Potato_Starch_Train.csv\", delimiter=',', names=True, dtype=float)\n",
        "Potato_Starch_Test = genfromtxt(\"/content/gdrive/MyDrive/6_21_2021_run/Potato_Starch_Test.csv\", delimiter=',', names=True, dtype=float)\n",
        "\n",
        "# 35 - 39\n",
        "\n",
        "Progesterone_Train = genfromtxt(\"/content/gdrive/MyDrive/6_21_2021_run/Progesterone_Train.csv\", delimiter=',', names=True, dtype=float)\n",
        "Progesterone_Test = genfromtxt(\"/content/gdrive/MyDrive/6_21_2021_run/Progesterone_Test.csv\", delimiter=',', names=True, dtype=float)\n",
        "\n",
        "Sodium_Deoxycholate_Train = genfromtxt(\"/content/gdrive/MyDrive/6_21_2021_run/Sodium_Deoxycholate_Train.csv\", delimiter=',', names=True, dtype=float)\n",
        "Sodium_Deoxycholate_Test = genfromtxt(\"/content/gdrive/MyDrive/6_21_2021_run/Sodium_Deoxycholate_Test.csv\", delimiter=',', names=True, dtype=float)\n",
        "\n",
        "Sodium_Dodecylsulfate_Train = genfromtxt(\"/content/gdrive/MyDrive/6_21_2021_run/Sodium_Dodecylsulfate_Train.csv\", delimiter=',', names=True, dtype=float)\n",
        "Sodium_Dodecylsulfate_Test = genfromtxt(\"/content/gdrive/MyDrive/6_21_2021_run/Sodium_Dodecylsulfate_Test.csv\", delimiter=',', names=True, dtype=float)\n",
        "\n",
        "Uridine_Train = genfromtxt(\"/content/gdrive/MyDrive/6_21_2021_run/Uridine_Train.csv\", delimiter=',', names=True, dtype=float)\n",
        "Uridine_Test = genfromtxt(\"/content/gdrive/MyDrive/6_21_2021_run/Uridine_Test.csv\", delimiter=',', names=True, dtype=float)\n",
        "\n",
        "Silver_Nitrate_Train = genfromtxt(\"/content/gdrive/MyDrive/6_21_2021_run/Silver_Nitrate_Train.csv\", delimiter=',', names=True, dtype=float)\n",
        "Silver_Nitrate_Test = genfromtxt(\"/content/gdrive/MyDrive/6_21_2021_run/Silver_Nitrate_Test.csv\", delimiter=',', names=True, dtype=float)"
      ],
      "execution_count": 4,
      "outputs": []
    },
    {
      "cell_type": "code",
      "metadata": {
        "id": "-s2MeWIY7MNh"
      },
      "source": [
        "N_cut = 52\n",
        "N_classes = 20\n",
        "N_ignored = 10\n",
        "\n",
        "train_data = np.zeros(((N_classes + N_ignored)*2500, 1024 - N_cut))\n",
        "train_label = np.zeros((N_classes + N_ignored)*2500)\n",
        "\n",
        "for i in range(1024 - N_cut - 1):\n",
        "    for j in range(2500):\n",
        "        \n",
        "        # DL_Alpha_Alanine_Train, label 0\n",
        "        train_data[j][i] = (DL_Alpha_Alanine_Train[i + N_cut][j])\n",
        "        train_label[j] = 0\n",
        "        \n",
        "        # DL_Aspartic_Acid_Train, label 1\n",
        "        train_data[j + 1*2500][i] = (DL_Aspartic_Acid_Train[i + N_cut][j])\n",
        "        train_label[j + 1*2500] = 1\n",
        "        \n",
        "        # DL_Isoleucine_Train, label 2\n",
        "        train_data[j + 2*2500][i] = (DL_Isoleucine_Train[i + N_cut][j])\n",
        "        train_label[j + 2*2500] = 2\n",
        "        \n",
        "        # DL_Leucine_Train, label 3\n",
        "        train_data[j + 3*2500][i] = (DL_Leucine_Train[i + N_cut][j])\n",
        "        train_label[j + 3*2500] = 3\n",
        "        \n",
        "        # DL_Methionine_Train, label 4\n",
        "        train_data[j + 4*2500][i] = (DL_Methionine_Train[i + N_cut][j])\n",
        "        train_label[j + 4*2500] = 4\n",
        "        \n",
        "        # DL_Phenylalanine_Train, label 5\n",
        "        train_data[j + 5*2500][i] = (DL_Phenylalanine_Train[i + N_cut][j])\n",
        "        train_label[j + 5*2500] = 5\n",
        "        \n",
        "        # DL_Serine_Train, label 6\n",
        "        train_data[j + 6*2500][i] = (DL_Serine_Train[i + N_cut][j])\n",
        "        train_label[j + 6*2500] = 6\n",
        "        \n",
        "        # DL_Serine_Train, label 7\n",
        "        train_data[j + 7*2500][i] = (DL_Threonine_Train[i + N_cut][j])\n",
        "        train_label[j + 7*2500] = 7\n",
        "        \n",
        "        # DL_Tyrosine_Train, label 8\n",
        "        train_data[j + 8*2500][i] = (DL_Tyrosine_Train[i + N_cut][j])\n",
        "        train_label[j + 8*2500] = 8\n",
        "        \n",
        "        # DL_Valine_Train, label 9\n",
        "        train_data[j + 9*2500][i] = (DL_Valine_Train[i + N_cut][j])\n",
        "        train_label[j + 9*2500] = 9\n",
        "        \n",
        "        # Glycine_Train, label 10\n",
        "        train_data[j + 10*2500][i] = (Glycine_Train[i + N_cut][j])\n",
        "        train_label[j + 10*2500] = 10\n",
        "        \n",
        "        # L_Arginine_HCl_Train, label 11\n",
        "        train_data[j + 11*2500][i] = (L_Arginine_HCl_Train[i + N_cut][j])\n",
        "        train_label[j + 11*2500] = 11\n",
        "        \n",
        "        # L_Asparagine_Monohydrate_Train, label 12\n",
        "        train_data[j + 12*2500][i] = (L_Asparagine_Monohydrate_Train[i + N_cut][j])\n",
        "        train_label[j + 12*2500] = 12\n",
        "        \n",
        "        # L_Cystine_Train, label 13\n",
        "        train_data[j + 13*2500][i] = (L_Cystine_Train[i + N_cut][j])\n",
        "        train_label[j + 13*2500] = 13\n",
        "        \n",
        "        # L_Glutamic_Acid_Train, label 14\n",
        "        train_data[j + 14*2500][i] = (L_Glutamic_Acid_Train[i + N_cut][j])\n",
        "        train_label[j + 14*2500] = 14\n",
        "        \n",
        "        # L_Histidine_HCl_Train, label 15\n",
        "        train_data[j + 15*2500][i] = (L_Histidine_HCl_Train[i + N_cut][j])\n",
        "        train_label[j + 15*2500] = 15\n",
        "        \n",
        "        # L_Lysine_HCl_Train, label 16\n",
        "        train_data[j + 16*2500][i] = (L_Lysine_HCl_Train[i + N_cut][j])\n",
        "        train_label[j + 16*2500] = 16\n",
        "        \n",
        "        # L_PLUS_Cysteine_HCl_Train, label 17\n",
        "        train_data[j + 17*2500][i] = (L_PLUS_Cysteine_HCl_Train[i + N_cut][j])\n",
        "        train_label[j + 17*2500] = 17\n",
        "        \n",
        "        # L_Proline_Train, label 18\n",
        "        train_data[j + 18*2500][i] = (L_Proline_Train[i + N_cut][j])\n",
        "        train_label[j + 18*2500] = 18\n",
        "        \n",
        "        # L_Tryptophan_Train, label 19\n",
        "        train_data[j + 19*2500][i] = (L_Tryptophan_Train[i + N_cut][j])\n",
        "        train_label[j + 19*2500] = 19\n",
        "\n",
        "        # Ignored\n",
        "        # Ignored 1\n",
        "\n",
        "        # Anthrone_Train, label 21\n",
        "        train_data[j + 20*2500][i] = (Anthrone_Train[i + N_cut][j])\n",
        "        train_label[j + 20*2500] = 20\n",
        "\n",
        "        # Ignore 2\n",
        "        \n",
        "        # beta_Estradiol_Train, label 22\n",
        "        train_data[j + 21*2500][i] = (beta_Estradiol_Train[i + N_cut][j])\n",
        "        train_label[j + 21*2500] = 20\n",
        "\n",
        "        # Ignore 3\n",
        "        \n",
        "        # Chloroquine_Train, label 24\n",
        "        train_data[j + 22*2500][i] = (Chloroquine_Train[i + N_cut][j])\n",
        "        train_label[j + 22*2500] = 20\n",
        "\n",
        "        # Ignore 4\n",
        "        \n",
        "        # Fluconazole_Train, label 26\n",
        "        train_data[j + 23*2500][i] = (Fluconazole_Train[i + N_cut][j])\n",
        "        train_label[j + 23*2500] = 20\n",
        "\n",
        "        # Ignore 5\n",
        "        \n",
        "        # Laminarin_Train, label 28\n",
        "        train_data[j + 24*2500][i] = (Laminarin_Train[i + N_cut][j])\n",
        "        train_label[j + 24*2500] = 20\n",
        "\n",
        "        # Ignore 6\n",
        "        \n",
        "        # Lauric_Acid_Train, label 29\n",
        "        train_data[j + 25*2500][i] = (Lauric_Acid_Train[i + N_cut][j])\n",
        "        train_label[j + 25*2500] = 20\n",
        "\n",
        "        # Ignore 7\n",
        "        \n",
        "        # Methyl_Viologen_Train, label 30\n",
        "        train_data[j + 26*2500][i] = (Methyl_Viologen_Train[i + N_cut][j])\n",
        "        train_label[j + 26*2500] = 20\n",
        "\n",
        "        # Ignore 8\n",
        "        \n",
        "        # MOPS_Train, label 31\n",
        "        train_data[j + 27*2500][i] = (MOPS_Train[i + N_cut][j])\n",
        "        train_label[j + 27*2500] = 20\n",
        "\n",
        "        # Ignore 9\n",
        "        \n",
        "        # Progesterone_Train, label 35\n",
        "        train_data[j + 28*2500][i] = (Progesterone_Train[i + N_cut][j])\n",
        "        train_label[j + 28*2500] = 20\n",
        "\n",
        "        # Ignore 10\n",
        "        \n",
        "        # Uridine_Train, label 38\n",
        "        train_data[j + 29*2500][i] = (Uridine_Train[i + N_cut][j])\n",
        "        train_label[j + 29*2500] = 20\n",
        "        \n",
        "train_rescaled = np.zeros(((N_classes + N_ignored)*2500, 1024 - N_cut))\n",
        "train_maximum = np.zeros((N_classes + N_ignored)*2500)\n",
        "train_minimum = np.zeros((N_classes + N_ignored)*2500)\n",
        "\n",
        "for j in range(1, (N_classes + N_ignored)*2500):\n",
        "    train_maximum[j] = np.amin(train_data[j][:])\n",
        "    train_maximum[j] = np.amax(train_data[j][:])\n",
        "\n",
        "for i in range(1,1024 - N_cut):\n",
        "    for j in range(1,(N_classes + N_ignored)*2500):\n",
        "        train_rescaled[j][i] = (train_data[j][i] - train_minimum[j])\n",
        "        train_rescaled[j][i] = train_rescaled[j][i]/(train_maximum[j] - train_minimum[j])\n",
        "\n",
        "train_rescaled = train_rescaled.reshape(((N_classes + N_ignored)*2500, 1024 - N_cut, 1))\n",
        "train_rescaled = train_rescaled.astype('float32')\n",
        "train_label = train_label.reshape((N_classes + N_ignored)*2500)\n",
        "\n",
        "train_label = tf.keras.utils.to_categorical(train_label)\n",
        "\n",
        "train_rescaled_last = np.ones(((N_classes + N_ignored)*2500, 1024 - N_cut))\n",
        "train_minimum = []\n",
        "\n",
        "for j in range((N_classes + N_ignored)*2500):\n",
        "    train_minimum.append(np.amin(train_data[j][:-1]))\n",
        "\n",
        "for i in range(1024 - N_cut):\n",
        "    for j in range(N_classes*2500):\n",
        "        train_rescaled_last[j][i] = (train_data[j][i] - train_minimum[j])\n",
        "\n",
        "train_rescaled = np.zeros(((N_classes + N_ignored)*2500, 1024 - N_cut - 1))\n",
        "\n",
        "for i in range(1024 - N_cut - 1):\n",
        "    for j in range((N_classes + N_ignored)*2500):\n",
        "      train_rescaled[j][i] = train_rescaled_last[j][i]\n",
        "\n",
        "train_maximum = []\n",
        "\n",
        "for j in range((N_classes + N_ignored)*2500):\n",
        "    train_maximum.append(np.amax(train_rescaled[j][:-1]))\n",
        "for i in range(1024 - N_cut - 1):\n",
        "    for j in range(N_classes*2500):\n",
        "      train_rescaled[j][i] = train_rescaled[j][i]/train_maximum[j]"
      ],
      "execution_count": 5,
      "outputs": []
    },
    {
      "cell_type": "code",
      "metadata": {
        "colab": {
          "base_uri": "https://localhost:8080/"
        },
        "id": "1dIsH5vyZlnH",
        "outputId": "e6da0bb2-42b3-475c-c64a-141d1679130f"
      },
      "source": [
        "test_data = np.zeros((N_classes*500, 1024 - N_cut))\n",
        "test_label = np.zeros(N_classes*500)\n",
        "\n",
        "for i in range(1024 - N_cut - 1):\n",
        "    for j in range(500):\n",
        "        \n",
        "        # DL_Alpha_Alanine_Test, label 0\n",
        "        test_data[j][i] = (DL_Alpha_Alanine_Test[i + N_cut][j])\n",
        "        test_label[j] = 0\n",
        "        \n",
        "        # DL_Aspartic_Acid_Test, label 1\n",
        "        test_data[j + 1*500][i] = (DL_Aspartic_Acid_Test[i + N_cut][j])\n",
        "        test_label[j + 1*500] = 1\n",
        "        \n",
        "        # DL_Isoleucine_Test, label 2\n",
        "        test_data[j + 2*500][i] = (DL_Isoleucine_Test[i + N_cut][j])\n",
        "        test_label[j + 2*500] = 2\n",
        "        \n",
        "        # DL_Leucine_Test, label 3\n",
        "        test_data[j + 3*500][i] = (DL_Leucine_Test[i + N_cut][j])\n",
        "        test_label[j + 3*500] = 3\n",
        "        \n",
        "        # DL_Methionine_Test, label 4\n",
        "        test_data[j + 4*500][i] = (DL_Methionine_Test[i + N_cut][j])\n",
        "        test_label[j + 4*500] = 4\n",
        "        \n",
        "        # DL_Phenylalanine_Test, label 5\n",
        "        test_data[j + 5*500][i] = (DL_Phenylalanine_Test[i + N_cut][j])\n",
        "        test_label[j + 5*500] = 5\n",
        "        \n",
        "        # DL_Serine_Test, label 6\n",
        "        test_data[j + 6*500][i] = (DL_Serine_Test[i + N_cut][j])\n",
        "        test_label[j + 6*500] = 6\n",
        "        \n",
        "        # DL_Serine_Test, label 7\n",
        "        test_data[j + 7*500][i] = (DL_Threonine_Test[i + N_cut][j])\n",
        "        test_label[j + 7*500] = 7\n",
        "        \n",
        "        # DL_Tyrosine_Test, label 8\n",
        "        test_data[j + 8*500][i] = (DL_Tyrosine_Test[i + N_cut][j])\n",
        "        test_label[j + 8*500] = 8\n",
        "        \n",
        "        # DL_Valine_Test, label 9\n",
        "        test_data[j + 9*500][i] = (DL_Valine_Test[i + N_cut][j])\n",
        "        test_label[j + 9*500] = 9\n",
        "        \n",
        "        # Glycine_Test, label 10\n",
        "        test_data[j + 10*500][i] = (Glycine_Test[i + N_cut][j])\n",
        "        test_label[j + 10*500] = 10\n",
        "        \n",
        "        # L_Arginine_HCl_Test, label 11\n",
        "        test_data[j + 11*500][i] = (L_Arginine_HCl_Test[i + N_cut][j])\n",
        "        test_label[j + 11*500] = 11\n",
        "        \n",
        "        # L_Asparagine_Monohydrate_Test, label 12\n",
        "        test_data[j + 12*500][i] = (L_Asparagine_Monohydrate_Test[i + N_cut][j])\n",
        "        test_label[j + 12*500] = 12\n",
        "        \n",
        "        # L_Cystine_Test, label 13\n",
        "        test_data[j + 13*500][i] = (L_Cystine_Test[i + N_cut][j])\n",
        "        test_label[j + 13*500] = 13\n",
        "        \n",
        "        # L_Glutamic_Acid_Test, label 14\n",
        "        test_data[j + 14*500][i] = (L_Glutamic_Acid_Test[i + N_cut][j])\n",
        "        test_label[j + 14*500] = 14\n",
        "        \n",
        "        # L_Histidine_HCl_Test, label 15\n",
        "        test_data[j + 15*500][i] = (L_Histidine_HCl_Test[i + N_cut][j])\n",
        "        test_label[j + 15*500] = 15\n",
        "        \n",
        "        # L_Lysine_HCl_Test, label 16\n",
        "        test_data[j + 16*500][i] = (L_Lysine_HCl_Test[i + N_cut][j])\n",
        "        test_label[j + 16*500] = 16\n",
        "        \n",
        "        # L_PLUS_Cysteine_HCl_Test, label 17\n",
        "        test_data[j + 17*500][i] = (L_PLUS_Cysteine_HCl_Test[i + N_cut][j])\n",
        "        test_label[j + 17*500] = 17\n",
        "        \n",
        "        # L_Proline_Test, label 18\n",
        "        test_data[j + 18*500][i] = (L_Proline_Test[i + N_cut][j])\n",
        "        test_label[j + 18*500] = 18\n",
        "        \n",
        "        # L_Tryptophan_Test, label 19\n",
        "        test_data[j + 19*500][i] = (L_Tryptophan_Test[i + N_cut][j])\n",
        "        test_label[j + 19*500] = 19\n",
        "\n",
        "test_rescaled_last = np.ones((N_classes*500, 1024 - N_cut))\n",
        "test_minimum = []\n",
        "\n",
        "for j in range(N_classes*500):\n",
        "    test_minimum.append(np.amin(test_data[j][:-1]))\n",
        "\n",
        "for i in range(1024 - N_cut):\n",
        "    for j in range(N_classes*500):\n",
        "        test_rescaled_last[j][i] = (test_data[j][i] - test_minimum[j])\n",
        "\n",
        "test_rescaled = np.zeros((N_classes*500, 1024 - N_cut - 1))\n",
        "\n",
        "for i in range(1024 - N_cut - 1):\n",
        "    for j in range(N_classes*500):\n",
        "      test_rescaled[j][i] = test_rescaled_last[j][i]\n",
        "\n",
        "test_maximum = []\n",
        "\n",
        "for j in range(N_classes*500):\n",
        "    test_maximum.append(np.amax(test_rescaled[j][:-1]))\n",
        "\n",
        "for i in range(1024 - N_cut - 1):\n",
        "    for j in range(N_classes*500):\n",
        "      test_rescaled[j][i] = test_rescaled[j][i]/test_maximum[j]\n",
        "\n",
        "test_rescaled = test_rescaled.reshape((N_classes*500, 1024 - N_cut - 1))\n",
        "test_rescaled = test_rescaled.astype('float32')\n",
        "test_label = test_label.reshape(N_classes*500)\n",
        "#test_label = tf.keras.utils.to_categorical(test_label)\n",
        "\n",
        "print(\"Rescaling finished\")"
      ],
      "execution_count": 6,
      "outputs": [
        {
          "output_type": "stream",
          "name": "stdout",
          "text": [
            "Rescaling finished\n"
          ]
        }
      ]
    },
    {
      "cell_type": "code",
      "metadata": {
        "id": "E1ak8njQ4FbF"
      },
      "source": [
        "#test_label = tf.keras.utils.to_categorical(test_label)"
      ],
      "execution_count": null,
      "outputs": []
    },
    {
      "cell_type": "markdown",
      "metadata": {
        "id": "or3dPr9CwpFY"
      },
      "source": [
        "# OK, the ignored and unknown data is the following:"
      ]
    },
    {
      "cell_type": "code",
      "metadata": {
        "id": "GOvn5Tkuaf7B"
      },
      "source": [
        "ignored_data = np.zeros((10*500, 1024 - N_cut))\n",
        "unseen_data = np.zeros((10*500, 1024 - N_cut))\n",
        "\n",
        "\n",
        "for i in range(1024 - N_cut - 1):\n",
        "    for j in range(500):\n",
        "\n",
        "        # Ignored\n",
        "\n",
        "        # Ignored 1\n",
        "        # Anthrone_Test, label 21\n",
        "        ignored_data[j + 0*500][i] = (Anthrone_Test[i + N_cut][j])\n",
        "        \n",
        "        # Ignore 2\n",
        "        # beta_Estradiol_Test, label 22\n",
        "        ignored_data[j + 1*500][i] = (beta_Estradiol_Test[i + N_cut][j])\n",
        "\n",
        "        # Ignore 3\n",
        "        # Chloroquine_Test, label 24\n",
        "        ignored_data[j + 2*500][i] = (Chloroquine_Test[i + N_cut][j])\n",
        "\n",
        "        # Ignore 4\n",
        "        # Fluconazole_Test, label 26\n",
        "        ignored_data[j + 3*500][i] = (Fluconazole_Test[i + N_cut][j])\n",
        "\n",
        "        # Ignore 5\n",
        "        # Laminarin_Test, label 28\n",
        "        ignored_data[j + 4*500][i] = (Laminarin_Test[i + N_cut][j])\n",
        "\n",
        "        # Ignore 6\n",
        "        # Lauric_Acid_Test, label 29\n",
        "        ignored_data[j + 5*500][i] = (Lauric_Acid_Test[i + N_cut][j])\n",
        "\n",
        "        # Ignore 7\n",
        "        # Methyl_Viologen_Test, label 30\n",
        "        ignored_data[j + 6*500][i] = (Methyl_Viologen_Test[i + N_cut][j])\n",
        "\n",
        "        # Ignore 8\n",
        "        # MOPS_Test, label 31\n",
        "        ignored_data[j + 7*500][i] = (MOPS_Test[i + N_cut][j])\n",
        "\n",
        "        # Ignore 9\n",
        "        # Progesterone_Test, label 35\n",
        "        ignored_data[j + 8*500][i] = (Progesterone_Test[i + N_cut][j])\n",
        "        \n",
        "        # Ignore 10  \n",
        "        # Uridine_Test, label 38\n",
        "        ignored_data[j + 9*500][i] = (Uridine_Test[i + N_cut][j])\n",
        "\n",
        "\n",
        "        # Never Seen Before\n",
        "\n",
        "        # Never seen 1\n",
        "        # Ampicillin_Sodium_Test, label 20\n",
        "        unseen_data[j + 0*500][i] = (Ampicillin_Sodium_Test[i + N_cut][j])\n",
        "        \n",
        "        # Never seen 2\n",
        "        # CHAPS_Test, label 23\n",
        "        unseen_data[j + 1*500][i] = (CHAPS_Test[i + N_cut][j])\n",
        "\n",
        "        # Never seen 3\n",
        "        # D_PLUS_Maltose_Monohydrate_Test, label 25\n",
        "        unseen_data[j + 2*500][i] = (D_PLUS_Maltose_Monohydrate_Test[i + N_cut][j])\n",
        "        \n",
        "        # Never seen 4\n",
        "        # Forskolin_Test, label 27\n",
        "        unseen_data[j + 3*500][i] = (Forskolin_Test[i + N_cut][j])\n",
        "        \n",
        "        # Never seen 5\n",
        "        # Na_Salt_Test, label 32\n",
        "        unseen_data[j + 4*500][i] = (Na_Salt_Test[i + N_cut][j])\n",
        "\n",
        "        # Never seen 6\n",
        "        # Polyvinyl_Pyrrolidone_Test, label 33\n",
        "        unseen_data[j + 5*500][i] = (Polyvinyl_Pyrrolidone_Test[i + N_cut][j])\n",
        "\n",
        "        # Never seen 7\n",
        "        # Potato_Starch_Test, label 34\n",
        "        unseen_data[j + 6*500][i] = (Potato_Starch_Test[i + N_cut][j])\n",
        "\n",
        "        # Never seen 8\n",
        "        # Sodium_Deoxycholate_Test, label 36\n",
        "        unseen_data[j + 7*500][i] = (Sodium_Deoxycholate_Test[i + N_cut][j])\n",
        "        \n",
        "        # Never seen 9\n",
        "        # Sodium_Dodecylsulfate_Test, label 37\n",
        "        unseen_data[j + 8*500][i] = (Sodium_Dodecylsulfate_Test[i + N_cut][j])\n",
        "\n",
        "        # Never seen 10\n",
        "        # Silver_Nitrate_Test, label 39\n",
        "        unseen_data[j + 9*500][i] = (Silver_Nitrate_Test[i + N_cut][j])\n",
        "\n",
        "ignored_data_rescaled = np.zeros((10*500, 1024 - N_cut))\n",
        "ignored_data_maximum = np.zeros(10*500)\n",
        "ignored_data_minimum = np.zeros(10*500)\n",
        "\n",
        "for j in range(1, 10*500):\n",
        "    ignored_data_minimum[j] = np.amin(ignored_data[j][:])\n",
        "    ignored_data_maximum[j] = np.amax(ignored_data[j][:])\n",
        "\n",
        "for i in range(1,1024 - N_cut):\n",
        "    for j in range(1,10*500):\n",
        "        ignored_data_rescaled[j][i] = (ignored_data[j][i] - ignored_data_minimum[j])\n",
        "        ignored_data_rescaled[j][i] = ignored_data_rescaled[j][i]/(ignored_data_maximum[j] - ignored_data_minimum[j])\n",
        "\n",
        "ignored_data_rescaled = ignored_data_rescaled.reshape((10*500, 1024 - N_cut, 1))\n",
        "ignored_data_rescaled = ignored_data_rescaled.astype('float32')\n",
        "\n",
        "ignored_data_rescaled_last = np.ones((10*500, 1024 - N_cut))\n",
        "ignored_data_rescaled_minimum = []\n",
        "\n",
        "for j in range(10*500):\n",
        "    ignored_data_rescaled_minimum.append(np.amin(ignored_data[j][:-1]))\n",
        "\n",
        "for i in range(1024 - N_cut):\n",
        "    for j in range(10*500):\n",
        "        ignored_data_rescaled_last[j][i] = (ignored_data[j][i] - ignored_data_rescaled_minimum[j])\n",
        "\n",
        "ignored_data_rescaled = np.zeros((10*500, 1024 - N_cut - 1))\n",
        "\n",
        "for i in range(1024 - N_cut - 1):\n",
        "    for j in range(10*500):\n",
        "      ignored_data_rescaled[j][i] = ignored_data_rescaled_last[j][i]\n",
        "\n",
        "ignored_data_rescaled_maximum = []\n",
        "\n",
        "for j in range(10*500):\n",
        "    ignored_data_rescaled_maximum.append(np.amax(ignored_data_rescaled_last[j][:-1]))\n",
        "for i in range(1024 - N_cut - 1):\n",
        "    for j in range(10*500):\n",
        "      ignored_data_rescaled[j][i] = ignored_data_rescaled_last[j][i]/ignored_data_rescaled_maximum[j]\n",
        "unseen_data_rescaled = np.zeros((10*500, 1024 - N_cut))\n",
        "unseen_data_maximum = np.zeros(10*500)\n",
        "unseen_data_minimum = np.zeros(10*500)\n",
        "\n",
        "for j in range(1, 10*500):\n",
        "    unseen_data_minimum[j] = np.amin(unseen_data[j][:])\n",
        "    unseen_data_maximum[j] = np.amax(unseen_data[j][:])\n",
        "\n",
        "for i in range(1,1024 - N_cut):\n",
        "    for j in range(1,10*500):\n",
        "        unseen_data_rescaled[j][i] = (unseen_data[j][i] - unseen_data_minimum[j])\n",
        "        unseen_data_rescaled[j][i] = unseen_data_rescaled[j][i]/(unseen_data_maximum[j] - unseen_data_minimum[j])\n",
        "\n",
        "unseen_data_rescaled = unseen_data_rescaled.reshape((10*500, 1024 - N_cut, 1))\n",
        "unseen_data_rescaled = unseen_data_rescaled.astype('float32')\n",
        "\n",
        "unseen_data_rescaled_last = np.ones((10*500, 1024 - N_cut))\n",
        "unseen_data_rescaled_minimum = []\n",
        "\n",
        "for j in range(10*500):\n",
        "    unseen_data_rescaled_minimum.append(np.amin(unseen_data[j][:-1]))\n",
        "\n",
        "for i in range(1024 - N_cut):\n",
        "    for j in range(10*500):\n",
        "        unseen_data_rescaled_last[j][i] = (unseen_data[j][i] - unseen_data_rescaled_minimum[j])\n",
        "\n",
        "unseen_data_rescaled = np.zeros((10*500, 1024 - N_cut - 1))\n",
        "\n",
        "for i in range(1024 - N_cut - 1):\n",
        "    for j in range(10*500):\n",
        "      unseen_data_rescaled[j][i] = unseen_data_rescaled_last[j][i]\n",
        "\n",
        "unseen_data_rescaled_maximum = []\n",
        "\n",
        "for j in range(10*500):\n",
        "    unseen_data_rescaled_maximum.append(np.amax(unseen_data_rescaled_last[j][:-1]))\n",
        "for i in range(1024 - N_cut - 1):\n",
        "    for j in range(10*500):\n",
        "      unseen_data_rescaled[j][i] = unseen_data_rescaled_last[j][i]/unseen_data_rescaled_maximum[j]"
      ],
      "execution_count": 7,
      "outputs": []
    },
    {
      "cell_type": "code",
      "metadata": {
        "colab": {
          "base_uri": "https://localhost:8080/"
        },
        "id": "q8D8mKs77K_F",
        "outputId": "08a8f4a8-aaff-41a8-8860-1ef8de6fd25d"
      },
      "source": [
        "test_label[1]"
      ],
      "execution_count": 8,
      "outputs": [
        {
          "output_type": "execute_result",
          "data": {
            "text/plain": [
              "0.0"
            ]
          },
          "metadata": {},
          "execution_count": 8
        }
      ]
    },
    {
      "cell_type": "code",
      "metadata": {
        "id": "nqQhAmb1hkv6"
      },
      "source": [
        "KnownLabels = []\n",
        "KnownLabels.append(train_label[1 + 0*2500])\n",
        "KnownLabels.append(train_label[1 + 1*2500])   \n",
        "KnownLabels.append(train_label[1 + 2*2500])\n",
        "KnownLabels.append(train_label[1 + 3*2500])\n",
        "KnownLabels.append(train_label[1 + 4*2500])\n",
        "KnownLabels.append(train_label[1 + 5*2500])\n",
        "KnownLabels.append(train_label[1 + 6*2500])\n",
        "KnownLabels.append(train_label[1 + 7*2500])\n",
        "KnownLabels.append(train_label[1 + 8*2500])\n",
        "KnownLabels.append(train_label[1 + 9*2500])\n",
        "KnownLabels.append(train_label[1 + 10*2500])\n",
        "KnownLabels.append(train_label[1 + 11*2500])\n",
        "KnownLabels.append(train_label[1 + 12*2500])\n",
        "KnownLabels.append(train_label[1 + 13*2500])\n",
        "KnownLabels.append(train_label[1 + 14*2500])\n",
        "KnownLabels.append(train_label[1 + 15*2500])\n",
        "KnownLabels.append(train_label[1 + 16*2500])\n",
        "KnownLabels.append(train_label[1 + 17*2500])\n",
        "KnownLabels.append(train_label[1 + 18*2500])\n",
        "KnownLabels.append(train_label[1 + 19*2500])\n",
        "\n",
        "Ignored_label = train_label[23*2500]\n",
        "from sklearn.utils import shuffle\n",
        "import numpy as np\n",
        "train_rescaled, train_label = shuffle(train_rescaled, train_label)\n",
        "#Ignored_label = tf.convert_to_tensor(Ignored_label)"
      ],
      "execution_count": 9,
      "outputs": []
    },
    {
      "cell_type": "code",
      "metadata": {
        "colab": {
          "base_uri": "https://localhost:8080/"
        },
        "id": "caGvG8guiCdx",
        "outputId": "4260dcc4-5200-420b-ef9f-7905ee6c9a95"
      },
      "source": [
        "KnownLabels[3]"
      ],
      "execution_count": 10,
      "outputs": [
        {
          "output_type": "execute_result",
          "data": {
            "text/plain": [
              "array([0., 0., 0., 1., 0., 0., 0., 0., 0., 0., 0., 0., 0., 0., 0., 0., 0.,\n",
              "       0., 0., 0., 0.], dtype=float32)"
            ]
          },
          "metadata": {},
          "execution_count": 10
        }
      ]
    },
    {
      "cell_type": "code",
      "metadata": {
        "id": "sRQpn32rIdrS"
      },
      "source": [
        "# Define the Identity and Convolutional Blocks\n",
        "\n",
        "from tensorflow.keras.layers import Conv1D, BatchNormalization, Activation, Add\n",
        "from tensorflow.keras import models, layers\n",
        "from tensorflow.keras import regularizers\n",
        "\n",
        "initializer = tf.keras.initializers.GlorotUniform(seed=0)\n",
        "initializer2 = tf.keras.initializers.HeUniform(seed=0)\n",
        "Stride=1\n",
        "\n",
        "def identity_block(X, f, filters, stage, block):\n",
        "\n",
        "  #defining name basis\n",
        "  ConvNameBase = 'res' + str(stage) + block + '_branch'\n",
        "  BatchNormBase = 'bn' + str(stage) + block + '_branch'\n",
        "\n",
        "  #retrieve filters\n",
        "  F1,F2,F3 = filters\n",
        "\n",
        "  #save the input value. You'll need this later to add back the main path\n",
        "  x_shortcut = X\n",
        "\n",
        "  ### First component of the main path ###\n",
        "  X = tf.keras.layers.Conv1D(filters=F1, kernel_size=1, strides=Stride, padding='same', \n",
        "             kernel_initializer=initializer#, name=ConvNameBase\n",
        "             )(X)\n",
        "  X = tf.keras.layers.BatchNormalization(axis=2, momentum=0.99, trainable=False,\n",
        "                         )(X)\n",
        "  X = tf.keras.layers.Activation('relu')(X)\n",
        "\n",
        "  ### Second component of main path ###\n",
        "  X = tf.keras.layers.Conv1D(filters=F2, kernel_size=f, strides=Stride, padding='same', \n",
        "             kernel_initializer=initializer, #name=ConvNameBase\n",
        "             )(X)\n",
        "  X = tf.keras.layers.BatchNormalization(axis=2, momentum=0.99, trainable=False,\n",
        "                         )(X)\n",
        "  X = tf.keras.layers.Activation('relu')(X)\n",
        "\n",
        "  #Third Component of main path\n",
        "  X = tf.keras.layers.Conv1D(filters=F3, kernel_size=1, strides=Stride, padding='same',\n",
        "             kernel_initializer=initializer#,name=ConvNameBase\n",
        "             )(X)\n",
        "  X = tf.keras.layers.BatchNormalization(axis=2, momentum=0.99, trainable=False,\n",
        "                         )(X)\n",
        "  \n",
        "  #Final step: add shortcut to the main path, and pass it through ReLU activation\n",
        "  X = tf.keras.layers.Add()([X, x_shortcut])\n",
        "  X = tf.keras.layers.Activation('relu')(X)\n",
        "\n",
        "  return X\n",
        "\n",
        "def convolutional_block(X, f, filters, stage, block, s=2):\n",
        "\n",
        "  #Defining name bases\n",
        "  ConvNameBase = 'res' + str(stage) + block + '_branch'\n",
        "  BatchNormBase = 'res' + str(stage) + block + '_branch'\n",
        "\n",
        "  #retrive n_filters\n",
        "  F1, F2, F3 = filters\n",
        "\n",
        "  #Save the input value\n",
        "  x_shortcut = X\n",
        "\n",
        "  #First component of the main path\n",
        "  X = tf.keras.layers.Conv1D(F1, strides=s, kernel_size=f, kernel_initializer=initializer,\n",
        "             padding='same'#, name=ConvNameBase\n",
        "             )(X)\n",
        "  X = tf.keras.layers.BatchNormalization(axis=2, momentum=0.99, trainable=False,\n",
        "                         )(X)\n",
        "  X = tf.keras.layers.Activation('relu')(X)\n",
        "\n",
        "  #Second Component of main path\n",
        "  X = tf.keras.layers.Conv1D(filters=F2, kernel_size=f, strides=Stride, padding='same',\n",
        "             kernel_initializer=initializer#, name=ConvNameBase\n",
        "             )(X)\n",
        "  X = tf.keras.layers.BatchNormalization(axis=2, momentum=0.99, trainable=False,\n",
        "                         )(X)\n",
        "  X = tf.keras.layers.Activation('relu')(X)\n",
        "\n",
        "  #Third component of main path\n",
        "  X = tf.keras.layers.Conv1D(filters=F3, kernel_size=f, strides=Stride, padding='same',\n",
        "             kernel_initializer=initializer, name=ConvNameBase)(X)\n",
        "  X = tf.keras.layers.BatchNormalization(axis=2, momentum=0.99, trainable=False,\n",
        "  )(X)\n",
        "\n",
        "  ###### SHORTCUT PATH ######\n",
        "  x_shortcut = tf.keras.layers.Conv1D(filters = F3, kernel_size=1, strides=s, \n",
        "                      padding='same', #name=ConvNameBase,\n",
        "                      kernel_initializer=initializer)(x_shortcut)\n",
        "  x_shortcut = tf.keras.layers.BatchNormalization(axis=2, momentum=0.99, trainable=False,\n",
        "                                  )(x_shortcut)\n",
        "\n",
        "  #Add shortcut to main path and pass in through ReLU activation\n",
        "  X = tf.keras.layers.Add()([X, x_shortcut])\n",
        "  X = tf.keras.layers.Activation('relu')(X)\n",
        "\n",
        "  return X"
      ],
      "execution_count": 11,
      "outputs": []
    },
    {
      "cell_type": "code",
      "metadata": {
        "id": "u0-4YGJXIuih"
      },
      "source": [
        "# ResNet26\n",
        "nb_classes = N_classes + 1\n",
        "\n",
        "def create_model():\n",
        "\n",
        "    # Maybe the problem is here?\n",
        "    \n",
        "    input_shape = (1024 - N_cut - 1, 1,) \n",
        "    classes = N_classes\n",
        "    x_input = tf.keras.layers.Input(input_shape)\n",
        "\n",
        "    X = tf.keras.layers.ZeroPadding1D(padding=3)(x_input)\n",
        "\n",
        "     #### stage 1 ####\n",
        "    X = tf.keras.layers.Conv1D(NoF, kernel_size=7, strides=2,\n",
        "              name='Convolution1', kernel_initializer=initializer)(X)\n",
        "    X = tf.keras.layers.BatchNormalization(name=\"BatchNormStage1\")(X)\n",
        "    X = tf.keras.layers.Activation('relu')(X)\n",
        "    X = tf.keras.layers.MaxPooling1D(3, strides=2)(X)\n",
        "\n",
        "    #### Stage 2 ####\n",
        "    X = convolutional_block(X, f=3, filters=[NoF, NoF, NoF*4], stage=2, block='a', s=1)\n",
        "    X = identity_block(X, 3, [NoF, NoF, NoF*4], stage=2, block='b')\n",
        "\n",
        "    #### Stage 3 ####\n",
        "    X = convolutional_block(X, f=3, filters=[NoF*2, NoF*2, NoF*8], stage=3, block='a')\n",
        "    X = identity_block(X, 3, [NoF*2, NoF*2, NoF*8], stage=3, block='b')\n",
        "\n",
        "    #### Stage 4 ####\n",
        "    X = convolutional_block(X, f=3, filters=[NoF*4, NoF*4, NoF*16], stage=4, block='a')\n",
        "    X = identity_block(X, 3, [NoF*4, NoF*4, NoF*16], stage=4, block='b')\n",
        "\n",
        "    #### Stage 5 ####\n",
        "    X = convolutional_block(X, f=3, filters=[NoF*4, NoF*4, NoF*32], stage=5, block='a')\n",
        "    X = identity_block(X, f=3, filters=[NoF*4, NoF*4, NoF*32], stage=5, block='b')\n",
        "\n",
        "    #### Stage 6 ####\n",
        "    X = tf.keras.layers.GlobalAveragePooling1D(name=\"GAP1D\")(X)\n",
        "\n",
        "    #### OUTPUT LAYER ####\n",
        "    X = tf.keras.layers.Flatten()(X)\n",
        "\n",
        "    F = tf.keras.layers.Dense(64, activation='relu',kernel_regularizer=regularizers.l1_l2(l1=1e-5, l2=1e-4),use_bias=False,activity_regularizer=regularizers.l2(1e-5))(X)\n",
        "\n",
        "    X = tf.keras.layers.Dense(nb_classes, activation='softmax',kernel_regularizer=regularizers.l1_l2(l1=1e-5, l2=1e-4),bias_regularizer=regularizers.l2(1e-4),activity_regularizer=regularizers.l2(1e-5))(F)\n",
        "\n",
        "    combined_model = tf.keras.Model(inputs = x_input, outputs = [X,F], name='Combined')\n",
        "\n",
        "    return combined_model"
      ],
      "execution_count": 12,
      "outputs": []
    },
    {
      "cell_type": "code",
      "metadata": {
        "id": "UrNYtMf7TqBh"
      },
      "source": [
        "from keras import backend as K"
      ],
      "execution_count": 13,
      "outputs": []
    },
    {
      "cell_type": "code",
      "metadata": {
        "colab": {
          "base_uri": "https://localhost:8080/"
        },
        "id": "BAJFJVrD2hZE",
        "outputId": "2719d70a-6599-4231-a6c6-b4dd8191df8d"
      },
      "source": [
        "from tensorflow.keras.layers import ZeroPadding1D, MaxPooling1D, AveragePooling1D, GlobalAveragePooling1D, Flatten, Dense\n",
        "from tensorflow.keras.models import Model\n",
        "from tensorflow.keras import initializers\n",
        "from keras.utils.vis_utils import plot_model\n",
        "\n",
        "# Create a checkpoint directory to store the checkpoints.\n",
        "checkpoint_dir = './training_checkpoints'\n",
        "checkpoint_prefix = os.path.join(checkpoint_dir, \"ckpt\")\n",
        "\n",
        "NoF = 64\n",
        "\n",
        "with strategy.scope():\n",
        "    \n",
        "  input_shape = (1024 - N_cut - 1, 1,) \n",
        "  x_input = tf.keras.layers.Input(input_shape)\n",
        "\n",
        "  X = tf.keras.layers.ZeroPadding1D(padding=3)(x_input)\n",
        "\n",
        "  #### stage 1 ####\n",
        "  X = tf.keras.layers.Conv1D(NoF, kernel_size=7, strides=2,name='Convolution1', kernel_initializer=initializer)(X)\n",
        "  X = tf.keras.layers.BatchNormalization(name=\"BatchNormStage1\")(X)\n",
        "  X = tf.keras.layers.Activation('relu')(X)\n",
        "  X = tf.keras.layers.MaxPooling1D(3, strides=2)(X)\n",
        "\n",
        "  #### Stage 2 ####\n",
        "  X = convolutional_block(X, f=3, filters=[NoF, NoF, NoF*4], stage=2, block='a', s=1)\n",
        "  X = identity_block(X, 3, [NoF, NoF, NoF*4], stage=2, block='b')\n",
        "\n",
        "  #### Stage 3 ####\n",
        "  X = convolutional_block(X, f=3, filters=[NoF*2, NoF*2, NoF*8], stage=3, block='a')\n",
        "  X = identity_block(X, 3, [NoF*2, NoF*2, NoF*8], stage=3, block='b')\n",
        "\n",
        "  #### Stage 4 ####\n",
        "  X = convolutional_block(X, f=3, filters=[NoF*4, NoF*4, NoF*16], stage=4, block='a')\n",
        "  X = identity_block(X, 3, [NoF*4, NoF*4, NoF*16], stage=4, block='b')\n",
        "\n",
        "  #### Stage 5 ####\n",
        "  X = convolutional_block(X, f=3, filters=[NoF*4, NoF*4, NoF*32], stage=5, block='a')\n",
        "  X = identity_block(X, f=3, filters=[NoF*4, NoF*4, NoF*32], stage=5, block='b')\n",
        "\n",
        "  #### Stage 6 ####\n",
        "  X = tf.keras.layers.GlobalAveragePooling1D(name=\"GAP1D\")(X)\n",
        "\n",
        "  #### OUTPUT LAYER ####\n",
        "  X = tf.keras.layers.Flatten()(X)\n",
        "\n",
        "  F = tf.keras.layers.Dense(64, activation='relu',kernel_regularizer=regularizers.l1_l2(l1=1e-5, l2=1e-4),use_bias=None,activity_regularizer=regularizers.l2(1e-5))(X)\n",
        "\n",
        "  X = tf.keras.layers.Dense(nb_classes, activation='softmax',kernel_regularizer=regularizers.l1_l2(l1=1e-5, l2=1e-4),bias_regularizer=regularizers.l2(1e-4),activity_regularizer=regularizers.l2(1e-5))(F)\n",
        "\n",
        "  DeepFeature = tf.keras.Model(inputs = x_input, outputs = F, name='DeepFeature')\n",
        "\n",
        "  combined_model = tf.keras.Model(inputs = x_input, outputs = [X,F], name='Combined')\n",
        "\n",
        "\n",
        "  # Additional contribution\n",
        "\n",
        "  def additional(target,output):\n",
        "\n",
        "    Checker = tf.math.reduce_sum(tf.math.multiply(Ignored_label, target),axis=-1)\n",
        "    Try = tf.math.square(output)\n",
        "    Try = tf.math.reduce_sum(Try,axis=-1,keepdims=True)\n",
        "\n",
        "    Try = tf.math.multiply(Checker,Try)\n",
        "\n",
        "    return Try\n",
        "    \n",
        "  # Entropic Open Set part\n",
        "\n",
        "  def Open_set_categorical_crossentropy_trial_total(target,output):\n",
        "    def Open_set_categorical_crossentropy_trial_first(target,output):\n",
        "      output = tf.convert_to_tensor(output)\n",
        "      target = tf.cast(target, target.dtype)\n",
        "\n",
        "      epsilon = tf.keras.backend.epsilon()\n",
        "      output = tf.clip_by_value(output, epsilon, 1. - epsilon)\n",
        "\n",
        "      Sum = tf.math.reduce_sum(output,axis=-1,keepdims=True)\n",
        "\n",
        "      output = tf.math.divide(output, Sum)\n",
        "\n",
        "      Checker = tf.math.reduce_sum(tf.math.multiply(Ignored_label, target),axis=-1)\n",
        "      One = tf.math.reduce_sum(tf.math.multiply(Ignored_label, Ignored_label),axis=-1)\n",
        "\n",
        "      output = - tf.math.reduce_sum(tf.math.multiply(target,tf.math.log(output)),axis=-1)\n",
        "      output = tf.math.multiply(tf.math.subtract(One,Checker),output)\n",
        "\n",
        "      return output\n",
        "\n",
        "    def Open_set_categorical_crossentropy_trial_second(target,output):\n",
        "      output = tf.convert_to_tensor(output)\n",
        "      target = tf.cast(target, target.dtype)\n",
        "\n",
        "      epsilon = tf.keras.backend.epsilon()\n",
        "      output = tf.clip_by_value(output, epsilon, 1. - epsilon)\n",
        "\n",
        "      Sum = tf.math.reduce_sum(output,axis=-1,keepdims=True)\n",
        "\n",
        "      output = tf.math.divide(output, Sum)\n",
        "\n",
        "      Checker = tf.math.reduce_sum(tf.math.multiply(Ignored_label, target),axis=-1)\n",
        "      One = tf.math.reduce_sum(tf.math.multiply(Ignored_label, Ignored_label),axis=-1)\n",
        "      Zero = tf.math.reduce_sum(tf.math.multiply(KnownLabels[1], KnownLabels[2]),axis=-1)\n",
        "      \n",
        "      for i in range(N_classes):\n",
        "        addon = - tf.math.reduce_sum(tf.math.multiply(KnownLabels[i], tf.math.log(output)),axis=-1)\n",
        "        addon = tf.math.divide(addon,N_classes)\n",
        "        Zero = tf.math.add(addon,Zero)\n",
        "\n",
        "      Zero = tf.math.multiply(Checker, Zero)\n",
        "\n",
        "      return Zero\n",
        "\n",
        "    output1 = Open_set_categorical_crossentropy_trial_first(target,output)\n",
        "    output2 = Open_set_categorical_crossentropy_trial_second(target,output)\n",
        "    output3 = Open_set_categorical_crossentropy_trial_second(target,output)\n",
        "\n",
        "    output = tf.math.add(output1,output2)\n",
        "    output = tf.math.add(output,output3)\n",
        "\n",
        "    return output\n",
        "\n",
        "  #combined_model.compile(loss=[Open_set_categorical_crossentropy_trial_total, additional],loss_weights=[1., 0.0000000000000001],optimizer=tf.keras.optimizers.Adam(learning_rate=.00001),\n",
        "             #metrics=None)\n",
        "  \n",
        "  combined_model.summary()\n",
        "\n",
        "  #trained = combined_model.fit(train_rescaled, train_label, epochs = 30, batch_size=32, validation_split=.2,verbose=1)\n",
        "\n",
        "#combined_model.save_weights(\"/content/gdrive/MyDrive/6_21_2021_run/Objectosphere_BiasFalse_Run4_alpha_0_0000000000000001.h5\", overwrite=True)"
      ],
      "execution_count": 14,
      "outputs": [
        {
          "output_type": "stream",
          "name": "stdout",
          "text": [
            "Model: \"Combined\"\n",
            "__________________________________________________________________________________________________\n",
            " Layer (type)                   Output Shape         Param #     Connected to                     \n",
            "==================================================================================================\n",
            " input_1 (InputLayer)           [(None, 971, 1)]     0           []                               \n",
            "                                                                                                  \n",
            " zero_padding1d (ZeroPadding1D)  (None, 977, 1)      0           ['input_1[0][0]']                \n",
            "                                                                                                  \n",
            " Convolution1 (Conv1D)          (None, 486, 64)      512         ['zero_padding1d[0][0]']         \n",
            "                                                                                                  \n",
            " BatchNormStage1 (BatchNormaliz  (None, 486, 64)     256         ['Convolution1[0][0]']           \n",
            " ation)                                                                                           \n",
            "                                                                                                  \n",
            " activation (Activation)        (None, 486, 64)      0           ['BatchNormStage1[0][0]']        \n",
            "                                                                                                  \n",
            " max_pooling1d (MaxPooling1D)   (None, 242, 64)      0           ['activation[0][0]']             \n",
            "                                                                                                  \n",
            " conv1d (Conv1D)                (None, 242, 64)      12352       ['max_pooling1d[0][0]']          \n",
            "                                                                                                  \n",
            " batch_normalization (BatchNorm  (None, 242, 64)     256         ['conv1d[0][0]']                 \n",
            " alization)                                                                                       \n",
            "                                                                                                  \n",
            " activation_1 (Activation)      (None, 242, 64)      0           ['batch_normalization[0][0]']    \n",
            "                                                                                                  \n",
            " conv1d_1 (Conv1D)              (None, 242, 64)      12352       ['activation_1[0][0]']           \n",
            "                                                                                                  \n",
            " batch_normalization_1 (BatchNo  (None, 242, 64)     256         ['conv1d_1[0][0]']               \n",
            " rmalization)                                                                                     \n",
            "                                                                                                  \n",
            " activation_2 (Activation)      (None, 242, 64)      0           ['batch_normalization_1[0][0]']  \n",
            "                                                                                                  \n",
            " res2a_branch (Conv1D)          (None, 242, 256)     49408       ['activation_2[0][0]']           \n",
            "                                                                                                  \n",
            " conv1d_2 (Conv1D)              (None, 242, 256)     16640       ['max_pooling1d[0][0]']          \n",
            "                                                                                                  \n",
            " batch_normalization_2 (BatchNo  (None, 242, 256)    1024        ['res2a_branch[0][0]']           \n",
            " rmalization)                                                                                     \n",
            "                                                                                                  \n",
            " batch_normalization_3 (BatchNo  (None, 242, 256)    1024        ['conv1d_2[0][0]']               \n",
            " rmalization)                                                                                     \n",
            "                                                                                                  \n",
            " add (Add)                      (None, 242, 256)     0           ['batch_normalization_2[0][0]',  \n",
            "                                                                  'batch_normalization_3[0][0]']  \n",
            "                                                                                                  \n",
            " activation_3 (Activation)      (None, 242, 256)     0           ['add[0][0]']                    \n",
            "                                                                                                  \n",
            " conv1d_3 (Conv1D)              (None, 242, 64)      16448       ['activation_3[0][0]']           \n",
            "                                                                                                  \n",
            " batch_normalization_4 (BatchNo  (None, 242, 64)     256         ['conv1d_3[0][0]']               \n",
            " rmalization)                                                                                     \n",
            "                                                                                                  \n",
            " activation_4 (Activation)      (None, 242, 64)      0           ['batch_normalization_4[0][0]']  \n",
            "                                                                                                  \n",
            " conv1d_4 (Conv1D)              (None, 242, 64)      12352       ['activation_4[0][0]']           \n",
            "                                                                                                  \n",
            " batch_normalization_5 (BatchNo  (None, 242, 64)     256         ['conv1d_4[0][0]']               \n",
            " rmalization)                                                                                     \n",
            "                                                                                                  \n",
            " activation_5 (Activation)      (None, 242, 64)      0           ['batch_normalization_5[0][0]']  \n",
            "                                                                                                  \n",
            " conv1d_5 (Conv1D)              (None, 242, 256)     16640       ['activation_5[0][0]']           \n",
            "                                                                                                  \n",
            " batch_normalization_6 (BatchNo  (None, 242, 256)    1024        ['conv1d_5[0][0]']               \n",
            " rmalization)                                                                                     \n",
            "                                                                                                  \n",
            " add_1 (Add)                    (None, 242, 256)     0           ['batch_normalization_6[0][0]',  \n",
            "                                                                  'activation_3[0][0]']           \n",
            "                                                                                                  \n",
            " activation_6 (Activation)      (None, 242, 256)     0           ['add_1[0][0]']                  \n",
            "                                                                                                  \n",
            " conv1d_6 (Conv1D)              (None, 121, 128)     98432       ['activation_6[0][0]']           \n",
            "                                                                                                  \n",
            " batch_normalization_7 (BatchNo  (None, 121, 128)    512         ['conv1d_6[0][0]']               \n",
            " rmalization)                                                                                     \n",
            "                                                                                                  \n",
            " activation_7 (Activation)      (None, 121, 128)     0           ['batch_normalization_7[0][0]']  \n",
            "                                                                                                  \n",
            " conv1d_7 (Conv1D)              (None, 121, 128)     49280       ['activation_7[0][0]']           \n",
            "                                                                                                  \n",
            " batch_normalization_8 (BatchNo  (None, 121, 128)    512         ['conv1d_7[0][0]']               \n",
            " rmalization)                                                                                     \n",
            "                                                                                                  \n",
            " activation_8 (Activation)      (None, 121, 128)     0           ['batch_normalization_8[0][0]']  \n",
            "                                                                                                  \n",
            " res3a_branch (Conv1D)          (None, 121, 512)     197120      ['activation_8[0][0]']           \n",
            "                                                                                                  \n",
            " conv1d_8 (Conv1D)              (None, 121, 512)     131584      ['activation_6[0][0]']           \n",
            "                                                                                                  \n",
            " batch_normalization_9 (BatchNo  (None, 121, 512)    2048        ['res3a_branch[0][0]']           \n",
            " rmalization)                                                                                     \n",
            "                                                                                                  \n",
            " batch_normalization_10 (BatchN  (None, 121, 512)    2048        ['conv1d_8[0][0]']               \n",
            " ormalization)                                                                                    \n",
            "                                                                                                  \n",
            " add_2 (Add)                    (None, 121, 512)     0           ['batch_normalization_9[0][0]',  \n",
            "                                                                  'batch_normalization_10[0][0]'] \n",
            "                                                                                                  \n",
            " activation_9 (Activation)      (None, 121, 512)     0           ['add_2[0][0]']                  \n",
            "                                                                                                  \n",
            " conv1d_9 (Conv1D)              (None, 121, 128)     65664       ['activation_9[0][0]']           \n",
            "                                                                                                  \n",
            " batch_normalization_11 (BatchN  (None, 121, 128)    512         ['conv1d_9[0][0]']               \n",
            " ormalization)                                                                                    \n",
            "                                                                                                  \n",
            " activation_10 (Activation)     (None, 121, 128)     0           ['batch_normalization_11[0][0]'] \n",
            "                                                                                                  \n",
            " conv1d_10 (Conv1D)             (None, 121, 128)     49280       ['activation_10[0][0]']          \n",
            "                                                                                                  \n",
            " batch_normalization_12 (BatchN  (None, 121, 128)    512         ['conv1d_10[0][0]']              \n",
            " ormalization)                                                                                    \n",
            "                                                                                                  \n",
            " activation_11 (Activation)     (None, 121, 128)     0           ['batch_normalization_12[0][0]'] \n",
            "                                                                                                  \n",
            " conv1d_11 (Conv1D)             (None, 121, 512)     66048       ['activation_11[0][0]']          \n",
            "                                                                                                  \n",
            " batch_normalization_13 (BatchN  (None, 121, 512)    2048        ['conv1d_11[0][0]']              \n",
            " ormalization)                                                                                    \n",
            "                                                                                                  \n",
            " add_3 (Add)                    (None, 121, 512)     0           ['batch_normalization_13[0][0]', \n",
            "                                                                  'activation_9[0][0]']           \n",
            "                                                                                                  \n",
            " activation_12 (Activation)     (None, 121, 512)     0           ['add_3[0][0]']                  \n",
            "                                                                                                  \n",
            " conv1d_12 (Conv1D)             (None, 61, 256)      393472      ['activation_12[0][0]']          \n",
            "                                                                                                  \n",
            " batch_normalization_14 (BatchN  (None, 61, 256)     1024        ['conv1d_12[0][0]']              \n",
            " ormalization)                                                                                    \n",
            "                                                                                                  \n",
            " activation_13 (Activation)     (None, 61, 256)      0           ['batch_normalization_14[0][0]'] \n",
            "                                                                                                  \n",
            " conv1d_13 (Conv1D)             (None, 61, 256)      196864      ['activation_13[0][0]']          \n",
            "                                                                                                  \n",
            " batch_normalization_15 (BatchN  (None, 61, 256)     1024        ['conv1d_13[0][0]']              \n",
            " ormalization)                                                                                    \n",
            "                                                                                                  \n",
            " activation_14 (Activation)     (None, 61, 256)      0           ['batch_normalization_15[0][0]'] \n",
            "                                                                                                  \n",
            " res4a_branch (Conv1D)          (None, 61, 1024)     787456      ['activation_14[0][0]']          \n",
            "                                                                                                  \n",
            " conv1d_14 (Conv1D)             (None, 61, 1024)     525312      ['activation_12[0][0]']          \n",
            "                                                                                                  \n",
            " batch_normalization_16 (BatchN  (None, 61, 1024)    4096        ['res4a_branch[0][0]']           \n",
            " ormalization)                                                                                    \n",
            "                                                                                                  \n",
            " batch_normalization_17 (BatchN  (None, 61, 1024)    4096        ['conv1d_14[0][0]']              \n",
            " ormalization)                                                                                    \n",
            "                                                                                                  \n",
            " add_4 (Add)                    (None, 61, 1024)     0           ['batch_normalization_16[0][0]', \n",
            "                                                                  'batch_normalization_17[0][0]'] \n",
            "                                                                                                  \n",
            " activation_15 (Activation)     (None, 61, 1024)     0           ['add_4[0][0]']                  \n",
            "                                                                                                  \n",
            " conv1d_15 (Conv1D)             (None, 61, 256)      262400      ['activation_15[0][0]']          \n",
            "                                                                                                  \n",
            " batch_normalization_18 (BatchN  (None, 61, 256)     1024        ['conv1d_15[0][0]']              \n",
            " ormalization)                                                                                    \n",
            "                                                                                                  \n",
            " activation_16 (Activation)     (None, 61, 256)      0           ['batch_normalization_18[0][0]'] \n",
            "                                                                                                  \n",
            " conv1d_16 (Conv1D)             (None, 61, 256)      196864      ['activation_16[0][0]']          \n",
            "                                                                                                  \n",
            " batch_normalization_19 (BatchN  (None, 61, 256)     1024        ['conv1d_16[0][0]']              \n",
            " ormalization)                                                                                    \n",
            "                                                                                                  \n",
            " activation_17 (Activation)     (None, 61, 256)      0           ['batch_normalization_19[0][0]'] \n",
            "                                                                                                  \n",
            " conv1d_17 (Conv1D)             (None, 61, 1024)     263168      ['activation_17[0][0]']          \n",
            "                                                                                                  \n",
            " batch_normalization_20 (BatchN  (None, 61, 1024)    4096        ['conv1d_17[0][0]']              \n",
            " ormalization)                                                                                    \n",
            "                                                                                                  \n",
            " add_5 (Add)                    (None, 61, 1024)     0           ['batch_normalization_20[0][0]', \n",
            "                                                                  'activation_15[0][0]']          \n",
            "                                                                                                  \n",
            " activation_18 (Activation)     (None, 61, 1024)     0           ['add_5[0][0]']                  \n",
            "                                                                                                  \n",
            " conv1d_18 (Conv1D)             (None, 31, 256)      786688      ['activation_18[0][0]']          \n",
            "                                                                                                  \n",
            " batch_normalization_21 (BatchN  (None, 31, 256)     1024        ['conv1d_18[0][0]']              \n",
            " ormalization)                                                                                    \n",
            "                                                                                                  \n",
            " activation_19 (Activation)     (None, 31, 256)      0           ['batch_normalization_21[0][0]'] \n",
            "                                                                                                  \n",
            " conv1d_19 (Conv1D)             (None, 31, 256)      196864      ['activation_19[0][0]']          \n",
            "                                                                                                  \n",
            " batch_normalization_22 (BatchN  (None, 31, 256)     1024        ['conv1d_19[0][0]']              \n",
            " ormalization)                                                                                    \n",
            "                                                                                                  \n",
            " activation_20 (Activation)     (None, 31, 256)      0           ['batch_normalization_22[0][0]'] \n",
            "                                                                                                  \n",
            " res5a_branch (Conv1D)          (None, 31, 2048)     1574912     ['activation_20[0][0]']          \n",
            "                                                                                                  \n",
            " conv1d_20 (Conv1D)             (None, 31, 2048)     2099200     ['activation_18[0][0]']          \n",
            "                                                                                                  \n",
            " batch_normalization_23 (BatchN  (None, 31, 2048)    8192        ['res5a_branch[0][0]']           \n",
            " ormalization)                                                                                    \n",
            "                                                                                                  \n",
            " batch_normalization_24 (BatchN  (None, 31, 2048)    8192        ['conv1d_20[0][0]']              \n",
            " ormalization)                                                                                    \n",
            "                                                                                                  \n",
            " add_6 (Add)                    (None, 31, 2048)     0           ['batch_normalization_23[0][0]', \n",
            "                                                                  'batch_normalization_24[0][0]'] \n",
            "                                                                                                  \n",
            " activation_21 (Activation)     (None, 31, 2048)     0           ['add_6[0][0]']                  \n",
            "                                                                                                  \n",
            " conv1d_21 (Conv1D)             (None, 31, 256)      524544      ['activation_21[0][0]']          \n",
            "                                                                                                  \n",
            " batch_normalization_25 (BatchN  (None, 31, 256)     1024        ['conv1d_21[0][0]']              \n",
            " ormalization)                                                                                    \n",
            "                                                                                                  \n",
            " activation_22 (Activation)     (None, 31, 256)      0           ['batch_normalization_25[0][0]'] \n",
            "                                                                                                  \n",
            " conv1d_22 (Conv1D)             (None, 31, 256)      196864      ['activation_22[0][0]']          \n",
            "                                                                                                  \n",
            " batch_normalization_26 (BatchN  (None, 31, 256)     1024        ['conv1d_22[0][0]']              \n",
            " ormalization)                                                                                    \n",
            "                                                                                                  \n",
            " activation_23 (Activation)     (None, 31, 256)      0           ['batch_normalization_26[0][0]'] \n",
            "                                                                                                  \n",
            " conv1d_23 (Conv1D)             (None, 31, 2048)     526336      ['activation_23[0][0]']          \n",
            "                                                                                                  \n",
            " batch_normalization_27 (BatchN  (None, 31, 2048)    8192        ['conv1d_23[0][0]']              \n",
            " ormalization)                                                                                    \n",
            "                                                                                                  \n",
            " add_7 (Add)                    (None, 31, 2048)     0           ['batch_normalization_27[0][0]', \n",
            "                                                                  'activation_21[0][0]']          \n",
            "                                                                                                  \n",
            " activation_24 (Activation)     (None, 31, 2048)     0           ['add_7[0][0]']                  \n",
            "                                                                                                  \n",
            " GAP1D (GlobalAveragePooling1D)  (None, 2048)        0           ['activation_24[0][0]']          \n",
            "                                                                                                  \n",
            " flatten (Flatten)              (None, 2048)         0           ['GAP1D[0][0]']                  \n",
            "                                                                                                  \n",
            " dense (Dense)                  (None, 64)           131072      ['flatten[0][0]']                \n",
            "                                                                                                  \n",
            " dense_1 (Dense)                (None, 21)           1365        ['dense[0][0]']                  \n",
            "                                                                                                  \n",
            "==================================================================================================\n",
            "Total params: 9,515,093\n",
            "Trainable params: 9,457,621\n",
            "Non-trainable params: 57,472\n",
            "__________________________________________________________________________________________________\n"
          ]
        }
      ]
    },
    {
      "cell_type": "markdown",
      "metadata": {
        "id": "wqGN3fV4z21t"
      },
      "source": [
        "#To train the model, uncomment and run."
      ]
    },
    {
      "cell_type": "code",
      "metadata": {
        "id": "f683-ggIgr8Q"
      },
      "source": [
        "NoF = 64"
      ],
      "execution_count": 15,
      "outputs": []
    },
    {
      "cell_type": "code",
      "metadata": {
        "id": "OQxauNyLspPh"
      },
      "source": [
        "#combined_model.save_weights(\"/content/gdrive/MyDrive/6_21_2021_run/Objectosphere_BiasFalse_Run5_alpha_0_0000000000000001.h5\", overwrite=True)"
      ],
      "execution_count": null,
      "outputs": []
    },
    {
      "cell_type": "code",
      "metadata": {
        "id": "du_g0FB3onn5",
        "colab": {
          "base_uri": "https://localhost:8080/"
        },
        "outputId": "624c64f5-e90c-41e2-b011-86068e370c61"
      },
      "source": [
        "prediction_test = combined_model.predict(test_rescaled)\n",
        "prediction_unknown = combined_model.predict(unseen_data_rescaled)"
      ],
      "execution_count": 16,
      "outputs": [
        {
          "output_type": "stream",
          "name": "stdout",
          "text": [
            "WARNING:tensorflow:From /usr/local/lib/python3.7/dist-packages/keras/engine/training.py:2975: StrategyBase.unwrap (from tensorflow.python.distribute.distribute_lib) is deprecated and will be removed in a future version.\n",
            "Instructions for updating:\n",
            "use `experimental_local_results` instead.\n"
          ]
        },
        {
          "output_type": "stream",
          "name": "stderr",
          "text": [
            "WARNING:tensorflow:From /usr/local/lib/python3.7/dist-packages/keras/engine/training.py:2975: StrategyBase.unwrap (from tensorflow.python.distribute.distribute_lib) is deprecated and will be removed in a future version.\n",
            "Instructions for updating:\n",
            "use `experimental_local_results` instead.\n"
          ]
        }
      ]
    },
    {
      "cell_type": "code",
      "metadata": {
        "colab": {
          "base_uri": "https://localhost:8080/"
        },
        "id": "hF0_RI3LAxId",
        "outputId": "b06d3e20-0f25-423e-8974-6fdeede7e754"
      },
      "source": [
        "prediction_test[1].shape"
      ],
      "execution_count": 17,
      "outputs": [
        {
          "output_type": "execute_result",
          "data": {
            "text/plain": [
              "(10000, 64)"
            ]
          },
          "metadata": {},
          "execution_count": 17
        }
      ]
    },
    {
      "cell_type": "code",
      "metadata": {
        "id": "bBUR309hACEt"
      },
      "source": [
        "from keras import backend as K\n",
        "\n",
        "res_net1 = create_model()\n",
        "res_net2 = create_model()\n",
        "res_net3 = create_model()\n",
        "res_net4 = create_model()\n",
        "res_net5 = create_model()\n",
        "\n",
        "res_net1.load_weights(\"/content/gdrive/MyDrive/6_21_2021_run/Objectosphere_BiasFalse_Run1_alpha_0_0000000000000001.h5\")\n",
        "res_net2.load_weights(\"/content/gdrive/MyDrive/6_21_2021_run/Objectosphere_BiasFalse_Run2_alpha_0_0000000000000001.h5\")\n",
        "res_net3.load_weights(\"/content/gdrive/MyDrive/6_21_2021_run/Objectosphere_BiasFalse_Run3_alpha_0_0000000000000001.h5\")\n",
        "res_net4.load_weights(\"/content/gdrive/MyDrive/6_21_2021_run/Objectosphere_BiasFalse_Run4_alpha_0_0000000000000001.h5\")\n",
        "res_net5.load_weights(\"/content/gdrive/MyDrive/6_21_2021_run/Objectosphere_BiasFalse_Run5_alpha_0_0000000000000001.h5\")\n",
        "\n",
        "prediction1 = res_net1.predict(test_rescaled)\n",
        "prediction2 = res_net2.predict(test_rescaled)\n",
        "prediction3 = res_net3.predict(test_rescaled)\n",
        "prediction4 = res_net4.predict(test_rescaled)\n",
        "prediction5 = res_net5.predict(test_rescaled)\n",
        "\n",
        "#prediction_test = (prediction1 + prediction2 + prediction3 + prediction4 + prediction5)/5\n",
        "\n",
        "prediction1_unknown = res_net1.predict(unseen_data_rescaled)\n",
        "prediction2_unknown = res_net2.predict(unseen_data_rescaled)\n",
        "prediction3_unknown = res_net3.predict(unseen_data_rescaled)\n",
        "prediction4_unknown = res_net4.predict(unseen_data_rescaled)\n",
        "prediction5_unknown = res_net5.predict(unseen_data_rescaled)\n",
        "\n",
        "#prediction_unknown = (prediction1_unknown + prediction2_unknown + prediction3_unknown + prediction4_unknown + prediction5_unknown)/5"
      ],
      "execution_count": null,
      "outputs": []
    },
    {
      "cell_type": "code",
      "metadata": {
        "id": "4mFCi9sjd6J8"
      },
      "source": [
        "prediction1_ignored = res_net1.predict(ignored_data_rescaled)\n",
        "prediction2_ignored = res_net2.predict(ignored_data_rescaled)\n",
        "prediction3_ignored = res_net3.predict(ignored_data_rescaled)\n",
        "prediction4_ignored = res_net4.predict(ignored_data_rescaled)\n",
        "prediction5_ignored = res_net5.predict(ignored_data_rescaled)"
      ],
      "execution_count": null,
      "outputs": []
    },
    {
      "cell_type": "code",
      "metadata": {
        "id": "-Q1_NdxaeE_G"
      },
      "source": [
        "prediction_ignored =  (prediction1_ignored[0] + prediction2_ignored[0] + prediction3_ignored[0] + prediction4_ignored[0] + prediction5_ignored[0])/5"
      ],
      "execution_count": null,
      "outputs": []
    },
    {
      "cell_type": "code",
      "metadata": {
        "id": "aZ_KD_AJ1Aef"
      },
      "source": [
        "prediction_test =  (prediction1[0] + prediction2[0] + prediction3[0] + prediction4[0] + prediction5[0])/5\n",
        "prediction_unknown = (prediction1_unknown[0] + prediction2_unknown[0] + prediction3_unknown[0] + prediction4_unknown[0] + prediction5_unknown[0])/5"
      ],
      "execution_count": null,
      "outputs": []
    },
    {
      "cell_type": "code",
      "metadata": {
        "id": "T8OodSLGjZiD"
      },
      "source": [
        "def thresholding(threshold):\n",
        "  true = 0\n",
        "  for i in range(prediction_test.shape[0]):\n",
        "    if prediction_test.argmax(axis=1)[i] == int(test_label[i]) and max(prediction_test[i]) > threshold:\n",
        "      true += 1\n",
        "  return true/(prediction_test.shape[0])"
      ],
      "execution_count": null,
      "outputs": []
    },
    {
      "cell_type": "code",
      "metadata": {
        "colab": {
          "base_uri": "https://localhost:8080/"
        },
        "id": "1ZQWqT7o3ytk",
        "outputId": "9c091a6e-bea2-45fe-8b92-81b6d7e99f66"
      },
      "source": [
        "# Tell me what is this, ASSUMING(!!!) it is one of the aminoacids, but nothing else.\n",
        "true = 0\n",
        "for i in range(20*500):\n",
        "  if prediction_test.argmax(axis=1)[i] == int(test_label[i]):\n",
        "    true += 1\n",
        "true/(20*500)"
      ],
      "execution_count": null,
      "outputs": [
        {
          "output_type": "execute_result",
          "data": {
            "text/plain": [
              "0.9999"
            ]
          },
          "metadata": {},
          "execution_count": 21
        }
      ]
    },
    {
      "cell_type": "markdown",
      "metadata": {
        "id": "Or0JuR6KeuNC"
      },
      "source": [
        "#OK, accuracy is 99.99% on the knowns. What about the unknowns?\n",
        "\n"
      ]
    },
    {
      "cell_type": "code",
      "metadata": {
        "colab": {
          "base_uri": "https://localhost:8080/"
        },
        "id": "NmJ5pgpnwr8O",
        "outputId": "ddc67a20-0eac-4a7c-8465-52837163a79c"
      },
      "source": [
        "# We tell that it is aminoacid only if we are sure by at least 91%\n",
        "thresholding(0.91)"
      ],
      "execution_count": null,
      "outputs": [
        {
          "output_type": "execute_result",
          "data": {
            "text/plain": [
              "0.9974"
            ]
          },
          "metadata": {},
          "execution_count": 22
        }
      ]
    },
    {
      "cell_type": "code",
      "metadata": {
        "id": "B2w4i1L0kE_G",
        "colab": {
          "base_uri": "https://localhost:8080/"
        },
        "outputId": "231865ca-1203-48ad-901f-c87ed6f10327"
      },
      "source": [
        "def misclassifyunknown(threshold):\n",
        "  misclassifyunknown = 0\n",
        "  for i in range(prediction_unknown.shape[0]):\n",
        "    if max(prediction_unknown[i]) > threshold:\n",
        "      misclassifyunknown += 1\n",
        "  return misclassifyunknown/(prediction_unknown.shape[0])\n",
        "  \n",
        "UnknownMisclassify = []\n",
        "for i in range(90):\n",
        "  UnknownMisclassify.append([0.1 + 0.01*i,100*misclassifyunknown(0.1 + 0.01*i)])\n",
        "for i in range(10):\n",
        "  UnknownMisclassify.append([0.99 + 0.001*i,100*misclassifyunknown(0.99 + 0.001*i)])\n",
        "UnknownMisclassify"
      ],
      "execution_count": null,
      "outputs": [
        {
          "output_type": "execute_result",
          "data": {
            "text/plain": [
              "[[0.1, 100.0],\n",
              " [0.11, 100.0],\n",
              " [0.12000000000000001, 100.0],\n",
              " [0.13, 100.0],\n",
              " [0.14, 100.0],\n",
              " [0.15000000000000002, 100.0],\n",
              " [0.16, 99.83999999999999],\n",
              " [0.17, 99.28],\n",
              " [0.18, 97.98],\n",
              " [0.19, 95.94],\n",
              " [0.2, 92.44],\n",
              " [0.21000000000000002, 88.38000000000001],\n",
              " [0.22, 84.54],\n",
              " [0.23, 81.3],\n",
              " [0.24000000000000002, 78.66],\n",
              " [0.25, 76.94],\n",
              " [0.26, 75.26],\n",
              " [0.27, 73.66],\n",
              " [0.28, 72.08],\n",
              " [0.29000000000000004, 70.22],\n",
              " [0.30000000000000004, 68.96],\n",
              " [0.31, 67.62],\n",
              " [0.32, 66.08000000000001],\n",
              " [0.33, 64.66],\n",
              " [0.33999999999999997, 63.3],\n",
              " [0.35, 62.18],\n",
              " [0.36, 61.419999999999995],\n",
              " [0.37, 60.64000000000001],\n",
              " [0.38, 59.84],\n",
              " [0.39, 58.919999999999995],\n",
              " [0.4, 58.06],\n",
              " [0.41000000000000003, 57.120000000000005],\n",
              " [0.42000000000000004, 56.2],\n",
              " [0.43000000000000005, 55.42],\n",
              " [0.44000000000000006, 54.14],\n",
              " [0.45000000000000007, 52.92],\n",
              " [0.45999999999999996, 51.559999999999995],\n",
              " [0.47, 49.96],\n",
              " [0.48, 48.16],\n",
              " [0.49, 45.800000000000004],\n",
              " [0.5, 44.28],\n",
              " [0.51, 42.28],\n",
              " [0.52, 40.58],\n",
              " [0.53, 39.04],\n",
              " [0.54, 38.080000000000005],\n",
              " [0.55, 37.019999999999996],\n",
              " [0.56, 36.08],\n",
              " [0.5700000000000001, 35.52],\n",
              " [0.58, 34.86],\n",
              " [0.59, 30.98],\n",
              " [0.6, 24.04],\n",
              " [0.61, 23.1],\n",
              " [0.62, 22.32],\n",
              " [0.63, 21.740000000000002],\n",
              " [0.64, 21.060000000000002],\n",
              " [0.65, 20.76],\n",
              " [0.66, 20.580000000000002],\n",
              " [0.67, 20.419999999999998],\n",
              " [0.6799999999999999, 20.34],\n",
              " [0.69, 20.18],\n",
              " [0.7, 20.080000000000002],\n",
              " [0.71, 19.96],\n",
              " [0.72, 19.900000000000002],\n",
              " [0.73, 19.3],\n",
              " [0.74, 14.74],\n",
              " [0.75, 10.5],\n",
              " [0.76, 10.12],\n",
              " [0.77, 10.100000000000001],\n",
              " [0.78, 10.08],\n",
              " [0.79, 10.08],\n",
              " [0.8, 10.040000000000001],\n",
              " [0.8099999999999999, 10.02],\n",
              " [0.82, 9.94],\n",
              " [0.83, 9.68],\n",
              " [0.84, 8.7],\n",
              " [0.85, 7.340000000000001],\n",
              " [0.86, 5.0200000000000005],\n",
              " [0.87, 2.5],\n",
              " [0.88, 0.8200000000000001],\n",
              " [0.89, 0.24],\n",
              " [0.9, 0.02],\n",
              " [0.91, 0.0],\n",
              " [0.92, 0.0],\n",
              " [0.93, 0.0],\n",
              " [0.94, 0.0],\n",
              " [0.95, 0.0],\n",
              " [0.96, 0.0],\n",
              " [0.97, 0.0],\n",
              " [0.98, 0.0],\n",
              " [0.99, 0.0],\n",
              " [0.99, 0.0],\n",
              " [0.991, 0.0],\n",
              " [0.992, 0.0],\n",
              " [0.993, 0.0],\n",
              " [0.994, 0.0],\n",
              " [0.995, 0.0],\n",
              " [0.996, 0.0],\n",
              " [0.997, 0.0],\n",
              " [0.998, 0.0],\n",
              " [0.999, 0.0]]"
            ]
          },
          "metadata": {},
          "execution_count": 24
        }
      ]
    },
    {
      "cell_type": "code",
      "metadata": {
        "colab": {
          "base_uri": "https://localhost:8080/"
        },
        "id": "BLpyiHoFmGCe",
        "outputId": "1d1be73e-5c61-4909-9ba7-cadb8ca5b215"
      },
      "source": [
        "misclassifyunknown(0.91)"
      ],
      "execution_count": null,
      "outputs": [
        {
          "output_type": "execute_result",
          "data": {
            "text/plain": [
              "0.0"
            ]
          },
          "metadata": {},
          "execution_count": 25
        }
      ]
    },
    {
      "cell_type": "markdown",
      "metadata": {
        "id": "x_R2zrVM1Mx7"
      },
      "source": [
        "#  OK, false positive rate (FP) = 0%"
      ]
    },
    {
      "cell_type": "code",
      "metadata": {
        "colab": {
          "base_uri": "https://localhost:8080/"
        },
        "id": "iIR-D4-wfxzl",
        "outputId": "aedb1204-41c6-4ffb-f959-8d7c3f1d4b9b"
      },
      "source": [
        "def misclassifyignore(threshold):\n",
        "  misclassifyignore = 0\n",
        "  for i in range(prediction_ignored.shape[0]):\n",
        "    if max(prediction_ignored[i]) > threshold:\n",
        "      misclassifyignore += 1\n",
        "  return misclassifyignore/(prediction_ignored.shape[0])\n",
        "  \n",
        "IgnoreThresholding = []\n",
        "for i in range(90):\n",
        "  IgnoreThresholding.append([0.1 + 0.01*i,100*misclassifyignore(0.1 + 0.01*i)])\n",
        "for i in range(10):\n",
        "  IgnoreThresholding.append([0.99 + 0.001*i,100*misclassifyignore(0.99 + 0.001*i)])\n",
        "IgnoreThresholding"
      ],
      "execution_count": null,
      "outputs": [
        {
          "output_type": "execute_result",
          "data": {
            "text/plain": [
              "[[0.1, 100.0],\n",
              " [0.11, 100.0],\n",
              " [0.12000000000000001, 99.94],\n",
              " [0.13, 99.64],\n",
              " [0.14, 99.46000000000001],\n",
              " [0.15000000000000002, 99.22],\n",
              " [0.16, 99.1],\n",
              " [0.17, 98.8],\n",
              " [0.18, 98.68],\n",
              " [0.19, 98.56],\n",
              " [0.2, 97.86],\n",
              " [0.21000000000000002, 96.94],\n",
              " [0.22, 95.19999999999999],\n",
              " [0.23, 93.54],\n",
              " [0.24000000000000002, 91.78],\n",
              " [0.25, 90.12],\n",
              " [0.26, 88.52],\n",
              " [0.27, 86.56],\n",
              " [0.28, 84.82],\n",
              " [0.29000000000000004, 81.8],\n",
              " [0.30000000000000004, 78.14],\n",
              " [0.31, 74.7],\n",
              " [0.32, 72.06],\n",
              " [0.33, 70.1],\n",
              " [0.33999999999999997, 68.7],\n",
              " [0.35, 66.46],\n",
              " [0.36, 61.63999999999999],\n",
              " [0.37, 57.220000000000006],\n",
              " [0.38, 54.98],\n",
              " [0.39, 54.14],\n",
              " [0.4, 53.620000000000005],\n",
              " [0.41000000000000003, 53.0],\n",
              " [0.42000000000000004, 52.559999999999995],\n",
              " [0.43000000000000005, 52.22],\n",
              " [0.44000000000000006, 51.85999999999999],\n",
              " [0.45000000000000007, 51.519999999999996],\n",
              " [0.45999999999999996, 51.2],\n",
              " [0.47, 50.78],\n",
              " [0.48, 50.36000000000001],\n",
              " [0.49, 49.980000000000004],\n",
              " [0.5, 49.64],\n",
              " [0.51, 49.419999999999995],\n",
              " [0.52, 49.1],\n",
              " [0.53, 48.84],\n",
              " [0.54, 48.3],\n",
              " [0.55, 47.64],\n",
              " [0.56, 46.9],\n",
              " [0.5700000000000001, 39.5],\n",
              " [0.58, 34.96],\n",
              " [0.59, 33.339999999999996],\n",
              " [0.6, 31.5],\n",
              " [0.61, 29.12],\n",
              " [0.62, 26.340000000000003],\n",
              " [0.63, 23.82],\n",
              " [0.64, 21.8],\n",
              " [0.65, 20.16],\n",
              " [0.66, 18.459999999999997],\n",
              " [0.67, 16.56],\n",
              " [0.6799999999999999, 14.82],\n",
              " [0.69, 13.94],\n",
              " [0.7, 13.100000000000001],\n",
              " [0.71, 12.379999999999999],\n",
              " [0.72, 11.700000000000001],\n",
              " [0.73, 11.14],\n",
              " [0.74, 10.48],\n",
              " [0.75, 9.24],\n",
              " [0.76, 7.28],\n",
              " [0.77, 5.4399999999999995],\n",
              " [0.78, 3.74],\n",
              " [0.79, 2.06],\n",
              " [0.8, 0.8],\n",
              " [0.8099999999999999, 0.3],\n",
              " [0.82, 0.12],\n",
              " [0.83, 0.06],\n",
              " [0.84, 0.0],\n",
              " [0.85, 0.0],\n",
              " [0.86, 0.0],\n",
              " [0.87, 0.0],\n",
              " [0.88, 0.0],\n",
              " [0.89, 0.0],\n",
              " [0.9, 0.0],\n",
              " [0.91, 0.0],\n",
              " [0.92, 0.0],\n",
              " [0.93, 0.0],\n",
              " [0.94, 0.0],\n",
              " [0.95, 0.0],\n",
              " [0.96, 0.0],\n",
              " [0.97, 0.0],\n",
              " [0.98, 0.0],\n",
              " [0.99, 0.0],\n",
              " [0.99, 0.0],\n",
              " [0.991, 0.0],\n",
              " [0.992, 0.0],\n",
              " [0.993, 0.0],\n",
              " [0.994, 0.0],\n",
              " [0.995, 0.0],\n",
              " [0.996, 0.0],\n",
              " [0.997, 0.0],\n",
              " [0.998, 0.0],\n",
              " [0.999, 0.0]]"
            ]
          },
          "metadata": {},
          "execution_count": 27
        }
      ]
    },
    {
      "cell_type": "code",
      "metadata": {
        "colab": {
          "base_uri": "https://localhost:8080/"
        },
        "id": "QvmY57WAea4F",
        "outputId": "edb9b352-f2d7-4d73-a44b-26bebb28c1b0"
      },
      "source": [
        "misclassifyignore(0.91)"
      ],
      "execution_count": null,
      "outputs": [
        {
          "output_type": "execute_result",
          "data": {
            "text/plain": [
              "0.0"
            ]
          },
          "metadata": {},
          "execution_count": 28
        }
      ]
    },
    {
      "cell_type": "markdown",
      "metadata": {
        "id": "ZXrcxTf01dvI"
      },
      "source": [
        "# The same with the ignored. As expected."
      ]
    },
    {
      "cell_type": "code",
      "metadata": {
        "colab": {
          "base_uri": "https://localhost:8080/"
        },
        "id": "EbnMMiUYfIAx",
        "outputId": "7cda64cb-7bb0-4ebd-9705-3d98dc0f1a03"
      },
      "source": [
        "CorrectThresholding = []\n",
        "for i in range(90):\n",
        "  CorrectThresholding.append([0.1 + 0.01*i,100*thresholding(0.1 + 0.01*i)])\n",
        "for i in range(10):\n",
        "  CorrectThresholding.append([0.99 + 0.001*i,100*thresholding(0.99 + 0.001*i)])\n",
        "CorrectThresholding"
      ],
      "execution_count": null,
      "outputs": [
        {
          "output_type": "execute_result",
          "data": {
            "text/plain": [
              "[[0.1, 99.99],\n",
              " [0.11, 99.99],\n",
              " [0.12000000000000001, 99.99],\n",
              " [0.13, 99.99],\n",
              " [0.14, 99.99],\n",
              " [0.15000000000000002, 99.99],\n",
              " [0.16, 99.99],\n",
              " [0.17, 99.99],\n",
              " [0.18, 99.99],\n",
              " [0.19, 99.99],\n",
              " [0.2, 99.99],\n",
              " [0.21000000000000002, 99.99],\n",
              " [0.22, 99.99],\n",
              " [0.23, 99.99],\n",
              " [0.24000000000000002, 99.99],\n",
              " [0.25, 99.99],\n",
              " [0.26, 99.99],\n",
              " [0.27, 99.99],\n",
              " [0.28, 99.99],\n",
              " [0.29000000000000004, 99.99],\n",
              " [0.30000000000000004, 99.99],\n",
              " [0.31, 99.99],\n",
              " [0.32, 99.99],\n",
              " [0.33, 99.99],\n",
              " [0.33999999999999997, 99.99],\n",
              " [0.35, 99.99],\n",
              " [0.36, 99.99],\n",
              " [0.37, 99.99],\n",
              " [0.38, 99.99],\n",
              " [0.39, 99.99],\n",
              " [0.4, 99.99],\n",
              " [0.41000000000000003, 99.99],\n",
              " [0.42000000000000004, 99.99],\n",
              " [0.43000000000000005, 99.99],\n",
              " [0.44000000000000006, 99.98],\n",
              " [0.45000000000000007, 99.98],\n",
              " [0.45999999999999996, 99.98],\n",
              " [0.47, 99.98],\n",
              " [0.48, 99.98],\n",
              " [0.49, 99.98],\n",
              " [0.5, 99.98],\n",
              " [0.51, 99.98],\n",
              " [0.52, 99.98],\n",
              " [0.53, 99.98],\n",
              " [0.54, 99.98],\n",
              " [0.55, 99.98],\n",
              " [0.56, 99.98],\n",
              " [0.5700000000000001, 99.98],\n",
              " [0.58, 99.98],\n",
              " [0.59, 99.98],\n",
              " [0.6, 99.98],\n",
              " [0.61, 99.98],\n",
              " [0.62, 99.98],\n",
              " [0.63, 99.98],\n",
              " [0.64, 99.98],\n",
              " [0.65, 99.98],\n",
              " [0.66, 99.97],\n",
              " [0.67, 99.97],\n",
              " [0.6799999999999999, 99.97],\n",
              " [0.69, 99.97],\n",
              " [0.7, 99.97],\n",
              " [0.71, 99.97],\n",
              " [0.72, 99.96000000000001],\n",
              " [0.73, 99.96000000000001],\n",
              " [0.74, 99.96000000000001],\n",
              " [0.75, 99.96000000000001],\n",
              " [0.76, 99.96000000000001],\n",
              " [0.77, 99.96000000000001],\n",
              " [0.78, 99.96000000000001],\n",
              " [0.79, 99.95],\n",
              " [0.8, 99.95],\n",
              " [0.8099999999999999, 99.95],\n",
              " [0.82, 99.95],\n",
              " [0.83, 99.94],\n",
              " [0.84, 99.92999999999999],\n",
              " [0.85, 99.92],\n",
              " [0.86, 99.92],\n",
              " [0.87, 99.92],\n",
              " [0.88, 99.92],\n",
              " [0.89, 99.89],\n",
              " [0.9, 99.83999999999999],\n",
              " [0.91, 99.74],\n",
              " [0.92, 99.56],\n",
              " [0.93, 99.39],\n",
              " [0.94, 99.08],\n",
              " [0.95, 98.75],\n",
              " [0.96, 98.31],\n",
              " [0.97, 96.92],\n",
              " [0.98, 93.28999999999999],\n",
              " [0.99, 89.92],\n",
              " [0.99, 89.92],\n",
              " [0.991, 89.63],\n",
              " [0.992, 89.03],\n",
              " [0.993, 87.69],\n",
              " [0.994, 85.85000000000001],\n",
              " [0.995, 84.78999999999999],\n",
              " [0.996, 84.49],\n",
              " [0.997, 83.66],\n",
              " [0.998, 79.29],\n",
              " [0.999, 72.41]]"
            ]
          },
          "metadata": {},
          "execution_count": 29
        }
      ]
    },
    {
      "cell_type": "code",
      "metadata": {
        "colab": {
          "base_uri": "https://localhost:8080/"
        },
        "id": "osxcM8p3fJHT",
        "outputId": "c5c913c9-4eee-4d32-9629-787a896e0129"
      },
      "source": [
        "def dontknow(threshold):\n",
        "  notknown = 0\n",
        "  for i in range(prediction_test.shape[0]):\n",
        "    if max(prediction_test[i]) <= threshold:\n",
        "      notknown += 1\n",
        "  return notknown/(prediction_test.shape[0])\n",
        "  \n",
        "DontKnowThresholding = []\n",
        "for i in range(90):\n",
        "  DontKnowThresholding.append([0.1 + 0.01*i,100*dontknow(0.1 + 0.01*i)])\n",
        "for i in range(10):\n",
        "  DontKnowThresholding.append([0.99 + 0.001*i,100*dontknow(0.99 + 0.001*i)])\n",
        "DontKnowThresholding"
      ],
      "execution_count": null,
      "outputs": [
        {
          "output_type": "execute_result",
          "data": {
            "text/plain": [
              "[[0.1, 0.0],\n",
              " [0.11, 0.0],\n",
              " [0.12000000000000001, 0.0],\n",
              " [0.13, 0.0],\n",
              " [0.14, 0.0],\n",
              " [0.15000000000000002, 0.0],\n",
              " [0.16, 0.0],\n",
              " [0.17, 0.0],\n",
              " [0.18, 0.0],\n",
              " [0.19, 0.0],\n",
              " [0.2, 0.0],\n",
              " [0.21000000000000002, 0.0],\n",
              " [0.22, 0.0],\n",
              " [0.23, 0.0],\n",
              " [0.24000000000000002, 0.0],\n",
              " [0.25, 0.0],\n",
              " [0.26, 0.0],\n",
              " [0.27, 0.0],\n",
              " [0.28, 0.0],\n",
              " [0.29000000000000004, 0.0],\n",
              " [0.30000000000000004, 0.0],\n",
              " [0.31, 0.0],\n",
              " [0.32, 0.0],\n",
              " [0.33, 0.0],\n",
              " [0.33999999999999997, 0.0],\n",
              " [0.35, 0.0],\n",
              " [0.36, 0.0],\n",
              " [0.37, 0.0],\n",
              " [0.38, 0.01],\n",
              " [0.39, 0.01],\n",
              " [0.4, 0.01],\n",
              " [0.41000000000000003, 0.01],\n",
              " [0.42000000000000004, 0.01],\n",
              " [0.43000000000000005, 0.01],\n",
              " [0.44000000000000006, 0.02],\n",
              " [0.45000000000000007, 0.02],\n",
              " [0.45999999999999996, 0.02],\n",
              " [0.47, 0.02],\n",
              " [0.48, 0.02],\n",
              " [0.49, 0.02],\n",
              " [0.5, 0.02],\n",
              " [0.51, 0.02],\n",
              " [0.52, 0.02],\n",
              " [0.53, 0.02],\n",
              " [0.54, 0.02],\n",
              " [0.55, 0.02],\n",
              " [0.56, 0.02],\n",
              " [0.5700000000000001, 0.02],\n",
              " [0.58, 0.02],\n",
              " [0.59, 0.02],\n",
              " [0.6, 0.02],\n",
              " [0.61, 0.02],\n",
              " [0.62, 0.02],\n",
              " [0.63, 0.02],\n",
              " [0.64, 0.02],\n",
              " [0.65, 0.02],\n",
              " [0.66, 0.03],\n",
              " [0.67, 0.03],\n",
              " [0.6799999999999999, 0.03],\n",
              " [0.69, 0.03],\n",
              " [0.7, 0.03],\n",
              " [0.71, 0.03],\n",
              " [0.72, 0.04],\n",
              " [0.73, 0.04],\n",
              " [0.74, 0.04],\n",
              " [0.75, 0.04],\n",
              " [0.76, 0.04],\n",
              " [0.77, 0.04],\n",
              " [0.78, 0.04],\n",
              " [0.79, 0.05],\n",
              " [0.8, 0.05],\n",
              " [0.8099999999999999, 0.05],\n",
              " [0.82, 0.05],\n",
              " [0.83, 0.06],\n",
              " [0.84, 0.06999999999999999],\n",
              " [0.85, 0.08],\n",
              " [0.86, 0.08],\n",
              " [0.87, 0.08],\n",
              " [0.88, 0.08],\n",
              " [0.89, 0.11],\n",
              " [0.9, 0.16],\n",
              " [0.91, 0.26],\n",
              " [0.92, 0.44],\n",
              " [0.93, 0.61],\n",
              " [0.94, 0.9199999999999999],\n",
              " [0.95, 1.25],\n",
              " [0.96, 1.69],\n",
              " [0.97, 3.08],\n",
              " [0.98, 6.710000000000001],\n",
              " [0.99, 10.08],\n",
              " [0.99, 10.08],\n",
              " [0.991, 10.37],\n",
              " [0.992, 10.97],\n",
              " [0.993, 12.31],\n",
              " [0.994, 14.149999999999999],\n",
              " [0.995, 15.21],\n",
              " [0.996, 15.509999999999998],\n",
              " [0.997, 16.34],\n",
              " [0.998, 20.71],\n",
              " [0.999, 27.589999999999996]]"
            ]
          },
          "metadata": {},
          "execution_count": 30
        }
      ]
    },
    {
      "cell_type": "code",
      "metadata": {
        "colab": {
          "base_uri": "https://localhost:8080/"
        },
        "id": "T5PabdETfhEl",
        "outputId": "04062815-5d51-48ae-81ef-2c959ab18cd3"
      },
      "source": [
        "def false_identify(threshold):\n",
        "  false_identify = 0\n",
        "  for i in range(prediction_test.shape[0]):\n",
        "    if prediction_test.argmax(axis=1)[i] != int(test_label[i]) and max(prediction_test[i]) > threshold:\n",
        "      false_identify += 1\n",
        "  return false_identify/(prediction_test.shape[0])\n",
        "\n",
        "FalseIdentify = []\n",
        "for i in range(90):\n",
        "  FalseIdentify.append([0.1 + 0.01*i,100*false_identify(0.1 + 0.01*i)])\n",
        "for i in range(10):\n",
        "  FalseIdentify.append([0.99 + 0.001*i,100*false_identify(0.99 + 0.001*i)])\n",
        "FalseIdentify"
      ],
      "execution_count": null,
      "outputs": [
        {
          "output_type": "execute_result",
          "data": {
            "text/plain": [
              "[[0.1, 0.01],\n",
              " [0.11, 0.01],\n",
              " [0.12000000000000001, 0.01],\n",
              " [0.13, 0.01],\n",
              " [0.14, 0.01],\n",
              " [0.15000000000000002, 0.01],\n",
              " [0.16, 0.01],\n",
              " [0.17, 0.01],\n",
              " [0.18, 0.01],\n",
              " [0.19, 0.01],\n",
              " [0.2, 0.01],\n",
              " [0.21000000000000002, 0.01],\n",
              " [0.22, 0.01],\n",
              " [0.23, 0.01],\n",
              " [0.24000000000000002, 0.01],\n",
              " [0.25, 0.01],\n",
              " [0.26, 0.01],\n",
              " [0.27, 0.01],\n",
              " [0.28, 0.01],\n",
              " [0.29000000000000004, 0.01],\n",
              " [0.30000000000000004, 0.01],\n",
              " [0.31, 0.01],\n",
              " [0.32, 0.01],\n",
              " [0.33, 0.01],\n",
              " [0.33999999999999997, 0.01],\n",
              " [0.35, 0.01],\n",
              " [0.36, 0.01],\n",
              " [0.37, 0.01],\n",
              " [0.38, 0.0],\n",
              " [0.39, 0.0],\n",
              " [0.4, 0.0],\n",
              " [0.41000000000000003, 0.0],\n",
              " [0.42000000000000004, 0.0],\n",
              " [0.43000000000000005, 0.0],\n",
              " [0.44000000000000006, 0.0],\n",
              " [0.45000000000000007, 0.0],\n",
              " [0.45999999999999996, 0.0],\n",
              " [0.47, 0.0],\n",
              " [0.48, 0.0],\n",
              " [0.49, 0.0],\n",
              " [0.5, 0.0],\n",
              " [0.51, 0.0],\n",
              " [0.52, 0.0],\n",
              " [0.53, 0.0],\n",
              " [0.54, 0.0],\n",
              " [0.55, 0.0],\n",
              " [0.56, 0.0],\n",
              " [0.5700000000000001, 0.0],\n",
              " [0.58, 0.0],\n",
              " [0.59, 0.0],\n",
              " [0.6, 0.0],\n",
              " [0.61, 0.0],\n",
              " [0.62, 0.0],\n",
              " [0.63, 0.0],\n",
              " [0.64, 0.0],\n",
              " [0.65, 0.0],\n",
              " [0.66, 0.0],\n",
              " [0.67, 0.0],\n",
              " [0.6799999999999999, 0.0],\n",
              " [0.69, 0.0],\n",
              " [0.7, 0.0],\n",
              " [0.71, 0.0],\n",
              " [0.72, 0.0],\n",
              " [0.73, 0.0],\n",
              " [0.74, 0.0],\n",
              " [0.75, 0.0],\n",
              " [0.76, 0.0],\n",
              " [0.77, 0.0],\n",
              " [0.78, 0.0],\n",
              " [0.79, 0.0],\n",
              " [0.8, 0.0],\n",
              " [0.8099999999999999, 0.0],\n",
              " [0.82, 0.0],\n",
              " [0.83, 0.0],\n",
              " [0.84, 0.0],\n",
              " [0.85, 0.0],\n",
              " [0.86, 0.0],\n",
              " [0.87, 0.0],\n",
              " [0.88, 0.0],\n",
              " [0.89, 0.0],\n",
              " [0.9, 0.0],\n",
              " [0.91, 0.0],\n",
              " [0.92, 0.0],\n",
              " [0.93, 0.0],\n",
              " [0.94, 0.0],\n",
              " [0.95, 0.0],\n",
              " [0.96, 0.0],\n",
              " [0.97, 0.0],\n",
              " [0.98, 0.0],\n",
              " [0.99, 0.0],\n",
              " [0.99, 0.0],\n",
              " [0.991, 0.0],\n",
              " [0.992, 0.0],\n",
              " [0.993, 0.0],\n",
              " [0.994, 0.0],\n",
              " [0.995, 0.0],\n",
              " [0.996, 0.0],\n",
              " [0.997, 0.0],\n",
              " [0.998, 0.0],\n",
              " [0.999, 0.0]]"
            ]
          },
          "metadata": {},
          "execution_count": 31
        }
      ]
    },
    {
      "cell_type": "code",
      "metadata": {
        "id": "z-fldZsvkSgB"
      },
      "source": [
        "def deep_feature(x, threshold1, threshold2):\n",
        "  true = 0\n",
        "  for i in range(x.shape[0]):\n",
        "    if threshold1 <= np.linalg.norm(x[i]) < threshold2:\n",
        "      true += 1\n",
        "  return true"
      ],
      "execution_count": null,
      "outputs": []
    },
    {
      "cell_type": "code",
      "metadata": {
        "colab": {
          "base_uri": "https://localhost:8080/"
        },
        "id": "Wm_jpcPpkeG2",
        "outputId": "a3c40329-0268-42e2-a268-ab2405f2af80"
      },
      "source": [
        "testFeatures = []\n",
        "for i in range(100):\n",
        "  testFeatures.append([i + 1/2,deep_feature(x, i, i + 1)/10000])\n",
        "testFeatures"
      ],
      "execution_count": null,
      "outputs": [
        {
          "output_type": "execute_result",
          "data": {
            "text/plain": [
              "[[0.5, 0.0],\n",
              " [1.5, 0.0],\n",
              " [2.5, 0.0],\n",
              " [3.5, 0.0],\n",
              " [4.5, 0.0],\n",
              " [5.5, 0.0],\n",
              " [6.5, 0.0003],\n",
              " [7.5, 0.0478],\n",
              " [8.5, 0.082],\n",
              " [9.5, 0.2117],\n",
              " [10.5, 0.5292],\n",
              " [11.5, 0.1179],\n",
              " [12.5, 0.011],\n",
              " [13.5, 0.0001],\n",
              " [14.5, 0.0],\n",
              " [15.5, 0.0],\n",
              " [16.5, 0.0],\n",
              " [17.5, 0.0],\n",
              " [18.5, 0.0],\n",
              " [19.5, 0.0],\n",
              " [20.5, 0.0],\n",
              " [21.5, 0.0],\n",
              " [22.5, 0.0],\n",
              " [23.5, 0.0],\n",
              " [24.5, 0.0],\n",
              " [25.5, 0.0],\n",
              " [26.5, 0.0],\n",
              " [27.5, 0.0],\n",
              " [28.5, 0.0],\n",
              " [29.5, 0.0],\n",
              " [30.5, 0.0],\n",
              " [31.5, 0.0],\n",
              " [32.5, 0.0],\n",
              " [33.5, 0.0],\n",
              " [34.5, 0.0],\n",
              " [35.5, 0.0],\n",
              " [36.5, 0.0],\n",
              " [37.5, 0.0],\n",
              " [38.5, 0.0],\n",
              " [39.5, 0.0],\n",
              " [40.5, 0.0],\n",
              " [41.5, 0.0],\n",
              " [42.5, 0.0],\n",
              " [43.5, 0.0],\n",
              " [44.5, 0.0],\n",
              " [45.5, 0.0],\n",
              " [46.5, 0.0],\n",
              " [47.5, 0.0],\n",
              " [48.5, 0.0],\n",
              " [49.5, 0.0],\n",
              " [50.5, 0.0],\n",
              " [51.5, 0.0],\n",
              " [52.5, 0.0],\n",
              " [53.5, 0.0],\n",
              " [54.5, 0.0],\n",
              " [55.5, 0.0],\n",
              " [56.5, 0.0],\n",
              " [57.5, 0.0],\n",
              " [58.5, 0.0],\n",
              " [59.5, 0.0],\n",
              " [60.5, 0.0],\n",
              " [61.5, 0.0],\n",
              " [62.5, 0.0],\n",
              " [63.5, 0.0],\n",
              " [64.5, 0.0],\n",
              " [65.5, 0.0],\n",
              " [66.5, 0.0],\n",
              " [67.5, 0.0],\n",
              " [68.5, 0.0],\n",
              " [69.5, 0.0],\n",
              " [70.5, 0.0],\n",
              " [71.5, 0.0],\n",
              " [72.5, 0.0],\n",
              " [73.5, 0.0],\n",
              " [74.5, 0.0],\n",
              " [75.5, 0.0],\n",
              " [76.5, 0.0],\n",
              " [77.5, 0.0],\n",
              " [78.5, 0.0],\n",
              " [79.5, 0.0],\n",
              " [80.5, 0.0],\n",
              " [81.5, 0.0],\n",
              " [82.5, 0.0],\n",
              " [83.5, 0.0],\n",
              " [84.5, 0.0],\n",
              " [85.5, 0.0],\n",
              " [86.5, 0.0],\n",
              " [87.5, 0.0],\n",
              " [88.5, 0.0],\n",
              " [89.5, 0.0],\n",
              " [90.5, 0.0],\n",
              " [91.5, 0.0],\n",
              " [92.5, 0.0],\n",
              " [93.5, 0.0],\n",
              " [94.5, 0.0],\n",
              " [95.5, 0.0],\n",
              " [96.5, 0.0],\n",
              " [97.5, 0.0],\n",
              " [98.5, 0.0],\n",
              " [99.5, 0.0]]"
            ]
          },
          "metadata": {},
          "execution_count": 44
        }
      ]
    },
    {
      "cell_type": "code",
      "metadata": {
        "colab": {
          "base_uri": "https://localhost:8080/"
        },
        "id": "5KtXHh21lTAi",
        "outputId": "f31f905b-ab0a-450b-8320-da469f04dcb0"
      },
      "source": [
        "ignoredFeatures = []\n",
        "for i in range(100):\n",
        "  ignoredFeatures.append([i + 1/2,deep_feature(y, i, i + 1)/5000])\n",
        "ignoredFeatures"
      ],
      "execution_count": null,
      "outputs": [
        {
          "output_type": "execute_result",
          "data": {
            "text/plain": [
              "[[0.5, 0.0],\n",
              " [1.5, 0.0],\n",
              " [2.5, 0.0],\n",
              " [3.5, 0.0],\n",
              " [4.5, 0.0096],\n",
              " [5.5, 0.0054],\n",
              " [6.5, 0.0454],\n",
              " [7.5, 0.1356],\n",
              " [8.5, 0.1698],\n",
              " [9.5, 0.0886],\n",
              " [10.5, 0.148],\n",
              " [11.5, 0.1974],\n",
              " [12.5, 0.0068],\n",
              " [13.5, 0.1932],\n",
              " [14.5, 0.0],\n",
              " [15.5, 0.0002],\n",
              " [16.5, 0.0],\n",
              " [17.5, 0.0],\n",
              " [18.5, 0.0],\n",
              " [19.5, 0.0],\n",
              " [20.5, 0.0],\n",
              " [21.5, 0.0],\n",
              " [22.5, 0.0],\n",
              " [23.5, 0.0],\n",
              " [24.5, 0.0],\n",
              " [25.5, 0.0],\n",
              " [26.5, 0.0],\n",
              " [27.5, 0.0],\n",
              " [28.5, 0.0],\n",
              " [29.5, 0.0],\n",
              " [30.5, 0.0],\n",
              " [31.5, 0.0],\n",
              " [32.5, 0.0],\n",
              " [33.5, 0.0],\n",
              " [34.5, 0.0],\n",
              " [35.5, 0.0],\n",
              " [36.5, 0.0],\n",
              " [37.5, 0.0],\n",
              " [38.5, 0.0],\n",
              " [39.5, 0.0],\n",
              " [40.5, 0.0],\n",
              " [41.5, 0.0],\n",
              " [42.5, 0.0],\n",
              " [43.5, 0.0],\n",
              " [44.5, 0.0],\n",
              " [45.5, 0.0],\n",
              " [46.5, 0.0],\n",
              " [47.5, 0.0],\n",
              " [48.5, 0.0],\n",
              " [49.5, 0.0],\n",
              " [50.5, 0.0],\n",
              " [51.5, 0.0],\n",
              " [52.5, 0.0],\n",
              " [53.5, 0.0],\n",
              " [54.5, 0.0],\n",
              " [55.5, 0.0],\n",
              " [56.5, 0.0],\n",
              " [57.5, 0.0],\n",
              " [58.5, 0.0],\n",
              " [59.5, 0.0],\n",
              " [60.5, 0.0],\n",
              " [61.5, 0.0],\n",
              " [62.5, 0.0],\n",
              " [63.5, 0.0],\n",
              " [64.5, 0.0],\n",
              " [65.5, 0.0],\n",
              " [66.5, 0.0],\n",
              " [67.5, 0.0],\n",
              " [68.5, 0.0],\n",
              " [69.5, 0.0],\n",
              " [70.5, 0.0],\n",
              " [71.5, 0.0],\n",
              " [72.5, 0.0],\n",
              " [73.5, 0.0],\n",
              " [74.5, 0.0],\n",
              " [75.5, 0.0],\n",
              " [76.5, 0.0],\n",
              " [77.5, 0.0],\n",
              " [78.5, 0.0],\n",
              " [79.5, 0.0],\n",
              " [80.5, 0.0],\n",
              " [81.5, 0.0],\n",
              " [82.5, 0.0],\n",
              " [83.5, 0.0],\n",
              " [84.5, 0.0],\n",
              " [85.5, 0.0],\n",
              " [86.5, 0.0],\n",
              " [87.5, 0.0],\n",
              " [88.5, 0.0],\n",
              " [89.5, 0.0],\n",
              " [90.5, 0.0],\n",
              " [91.5, 0.0],\n",
              " [92.5, 0.0],\n",
              " [93.5, 0.0],\n",
              " [94.5, 0.0],\n",
              " [95.5, 0.0],\n",
              " [96.5, 0.0],\n",
              " [97.5, 0.0],\n",
              " [98.5, 0.0],\n",
              " [99.5, 0.0]]"
            ]
          },
          "metadata": {},
          "execution_count": 45
        }
      ]
    },
    {
      "cell_type": "code",
      "metadata": {
        "colab": {
          "base_uri": "https://localhost:8080/"
        },
        "id": "K_gcrP8ylnO9",
        "outputId": "414c264a-d2c5-4ac0-ef65-7b6bdd913acd"
      },
      "source": [
        "unseenFeatures = []\n",
        "for i in range(100):\n",
        "  unseenFeatures.append([i + 1/2,deep_feature(z, i, i + 1)/5000])\n",
        "unseenFeatures"
      ],
      "execution_count": null,
      "outputs": [
        {
          "output_type": "execute_result",
          "data": {
            "text/plain": [
              "[[0.5, 0.0],\n",
              " [1.5, 0.0],\n",
              " [2.5, 0.0],\n",
              " [3.5, 0.0],\n",
              " [4.5, 0.0],\n",
              " [5.5, 0.0482],\n",
              " [6.5, 0.1184],\n",
              " [7.5, 0.2518],\n",
              " [8.5, 0.1364],\n",
              " [9.5, 0.1432],\n",
              " [10.5, 0.1016],\n",
              " [11.5, 0.0996],\n",
              " [12.5, 0.0006],\n",
              " [13.5, 0.0],\n",
              " [14.5, 0.0002],\n",
              " [15.5, 0.0776],\n",
              " [16.5, 0.0224],\n",
              " [17.5, 0.0],\n",
              " [18.5, 0.0],\n",
              " [19.5, 0.0],\n",
              " [20.5, 0.0],\n",
              " [21.5, 0.0],\n",
              " [22.5, 0.0],\n",
              " [23.5, 0.0],\n",
              " [24.5, 0.0],\n",
              " [25.5, 0.0],\n",
              " [26.5, 0.0],\n",
              " [27.5, 0.0],\n",
              " [28.5, 0.0],\n",
              " [29.5, 0.0],\n",
              " [30.5, 0.0],\n",
              " [31.5, 0.0],\n",
              " [32.5, 0.0],\n",
              " [33.5, 0.0],\n",
              " [34.5, 0.0],\n",
              " [35.5, 0.0],\n",
              " [36.5, 0.0],\n",
              " [37.5, 0.0],\n",
              " [38.5, 0.0],\n",
              " [39.5, 0.0],\n",
              " [40.5, 0.0],\n",
              " [41.5, 0.0],\n",
              " [42.5, 0.0],\n",
              " [43.5, 0.0],\n",
              " [44.5, 0.0],\n",
              " [45.5, 0.0],\n",
              " [46.5, 0.0],\n",
              " [47.5, 0.0],\n",
              " [48.5, 0.0],\n",
              " [49.5, 0.0],\n",
              " [50.5, 0.0],\n",
              " [51.5, 0.0],\n",
              " [52.5, 0.0],\n",
              " [53.5, 0.0],\n",
              " [54.5, 0.0],\n",
              " [55.5, 0.0],\n",
              " [56.5, 0.0],\n",
              " [57.5, 0.0],\n",
              " [58.5, 0.0],\n",
              " [59.5, 0.0],\n",
              " [60.5, 0.0],\n",
              " [61.5, 0.0],\n",
              " [62.5, 0.0],\n",
              " [63.5, 0.0],\n",
              " [64.5, 0.0],\n",
              " [65.5, 0.0],\n",
              " [66.5, 0.0],\n",
              " [67.5, 0.0],\n",
              " [68.5, 0.0],\n",
              " [69.5, 0.0],\n",
              " [70.5, 0.0],\n",
              " [71.5, 0.0],\n",
              " [72.5, 0.0],\n",
              " [73.5, 0.0],\n",
              " [74.5, 0.0],\n",
              " [75.5, 0.0],\n",
              " [76.5, 0.0],\n",
              " [77.5, 0.0],\n",
              " [78.5, 0.0],\n",
              " [79.5, 0.0],\n",
              " [80.5, 0.0],\n",
              " [81.5, 0.0],\n",
              " [82.5, 0.0],\n",
              " [83.5, 0.0],\n",
              " [84.5, 0.0],\n",
              " [85.5, 0.0],\n",
              " [86.5, 0.0],\n",
              " [87.5, 0.0],\n",
              " [88.5, 0.0],\n",
              " [89.5, 0.0],\n",
              " [90.5, 0.0],\n",
              " [91.5, 0.0],\n",
              " [92.5, 0.0],\n",
              " [93.5, 0.0],\n",
              " [94.5, 0.0],\n",
              " [95.5, 0.0],\n",
              " [96.5, 0.0],\n",
              " [97.5, 0.0],\n",
              " [98.5, 0.0],\n",
              " [99.5, 0.0]]"
            ]
          },
          "metadata": {},
          "execution_count": 46
        }
      ]
    },
    {
      "cell_type": "code",
      "metadata": {
        "colab": {
          "base_uri": "https://localhost:8080/"
        },
        "id": "Xf1wPVhB87vu",
        "outputId": "03b70596-502c-4c36-f964-d2b862a36021"
      },
      "source": [
        "misclassifyunknown(0.99)*100"
      ],
      "execution_count": null,
      "outputs": [
        {
          "output_type": "execute_result",
          "data": {
            "text/plain": [
              "0.98"
            ]
          },
          "metadata": {},
          "execution_count": 40
        }
      ]
    },
    {
      "cell_type": "code",
      "metadata": {
        "colab": {
          "base_uri": "https://localhost:8080/"
        },
        "id": "bemYuHSZTYJl",
        "outputId": "8b13486c-b055-44c9-c6fd-06e80b81290d"
      },
      "source": [
        " thresholding(0.96)*100"
      ],
      "execution_count": null,
      "outputs": [
        {
          "output_type": "execute_result",
          "data": {
            "text/plain": [
              "98.57000000000001"
            ]
          },
          "metadata": {},
          "execution_count": 33
        }
      ]
    },
    {
      "cell_type": "code",
      "metadata": {
        "colab": {
          "base_uri": "https://localhost:8080/"
        },
        "id": "121ROyUbTlGR",
        "outputId": "999875a1-7585-4584-83b6-432a79df370c"
      },
      "source": [
        "dontknow(0.96)*100"
      ],
      "execution_count": null,
      "outputs": [
        {
          "output_type": "execute_result",
          "data": {
            "text/plain": [
              "1.43"
            ]
          },
          "metadata": {},
          "execution_count": 35
        }
      ]
    },
    {
      "cell_type": "code",
      "metadata": {
        "colab": {
          "base_uri": "https://localhost:8080/"
        },
        "id": "UKzrmvniiHkd",
        "outputId": "be420b39-8593-442d-a6f8-c10306ce36d5"
      },
      "source": [
        "true = 0\n",
        "for i in range(20*500):\n",
        "  if prediction_test.argmax(axis=1)[i] == int(test_label[i]):\n",
        "    true += 1\n",
        "true/(20*500)"
      ],
      "execution_count": null,
      "outputs": [
        {
          "output_type": "execute_result",
          "data": {
            "text/plain": [
              "0.9999"
            ]
          },
          "metadata": {},
          "execution_count": 34
        }
      ]
    },
    {
      "cell_type": "markdown",
      "metadata": {
        "id": "O2tcG3D4N3nZ"
      },
      "source": [
        "# Accuracy on the knowns = 99.99%"
      ]
    },
    {
      "cell_type": "code",
      "metadata": {
        "colab": {
          "base_uri": "https://localhost:8080/"
        },
        "id": "pLSkRVTBkMzD",
        "outputId": "07bfc60f-2b50-4e4d-8910-df90b231391d"
      },
      "source": [
        "misclassifyunknown(0.93)*100"
      ],
      "execution_count": null,
      "outputs": [
        {
          "output_type": "execute_result",
          "data": {
            "text/plain": [
              "0.0"
            ]
          },
          "metadata": {},
          "execution_count": 22
        }
      ]
    },
    {
      "cell_type": "code",
      "metadata": {
        "id": "n7pCMneNzwvL"
      },
      "source": [
        "def thresholding(threshold):\n",
        "  true = 0\n",
        "  for i in range(prediction_test.shape[0]):\n",
        "    if prediction_test.argmax(axis=1)[i] == int(test_label[i]) and max(prediction_test[i]) > threshold:\n",
        "      true += 1\n",
        "  return true/(prediction_test.shape[0])"
      ],
      "execution_count": null,
      "outputs": []
    },
    {
      "cell_type": "code",
      "metadata": {
        "colab": {
          "base_uri": "https://localhost:8080/"
        },
        "id": "BHoa1UKgz8Xj",
        "outputId": "424a89e5-9a21-4be6-9c3a-28497b806bf6"
      },
      "source": [
        " thresholding(0.90)"
      ],
      "execution_count": null,
      "outputs": [
        {
          "output_type": "execute_result",
          "data": {
            "text/plain": [
              "0.9846"
            ]
          },
          "metadata": {},
          "execution_count": 28
        }
      ]
    },
    {
      "cell_type": "code",
      "metadata": {
        "id": "3JH5fkxL0GsQ"
      },
      "source": [
        "def dontknow(threshold):\n",
        "  notknown = 0\n",
        "  for i in range(prediction_test.shape[0]):\n",
        "    if max(prediction_test[i]) <= threshold:\n",
        "      notknown += 1\n",
        "  return notknown/(prediction_test.shape[0])"
      ],
      "execution_count": null,
      "outputs": []
    },
    {
      "cell_type": "code",
      "metadata": {
        "id": "hjw_HQgH2rMY"
      },
      "source": [
        "def false_identify(threshold):\n",
        "  false_identify = 0\n",
        "  for i in range(prediction_test.shape[0]):\n",
        "    if prediction_test.argmax(axis=1)[i] != test_label.argmax(axis=1)[i] and max(prediction_test[i]) > threshold:\n",
        "      false_identify += 1\n",
        "  return false_identify/(prediction_test.shape[0])"
      ],
      "execution_count": null,
      "outputs": []
    },
    {
      "cell_type": "code",
      "metadata": {
        "colab": {
          "base_uri": "https://localhost:8080/"
        },
        "id": "Db308MjGNdYP",
        "outputId": "6531bb76-31c2-4c08-86c7-af97e4b40ed2"
      },
      "source": [
        "CorrectThresholding = []\n",
        "for i in range(90):\n",
        "  CorrectThresholding.append([0.1 + 0.01*i,100*thresholding(0.1 + 0.01*i)])\n",
        "for i in range(10):\n",
        "  CorrectThresholding.append([0.99 + 0.001*i,100*thresholding(0.99 + 0.001*i)])\n",
        "CorrectThresholding"
      ],
      "execution_count": null,
      "outputs": [
        {
          "output_type": "execute_result",
          "data": {
            "text/plain": [
              "[[0.1, 99.99],\n",
              " [0.11, 99.99],\n",
              " [0.12000000000000001, 99.99],\n",
              " [0.13, 99.99],\n",
              " [0.14, 99.99],\n",
              " [0.15000000000000002, 99.99],\n",
              " [0.16, 99.99],\n",
              " [0.17, 99.99],\n",
              " [0.18, 99.99],\n",
              " [0.19, 99.99],\n",
              " [0.2, 99.99],\n",
              " [0.21000000000000002, 99.99],\n",
              " [0.22, 99.99],\n",
              " [0.23, 99.99],\n",
              " [0.24000000000000002, 99.99],\n",
              " [0.25, 99.99],\n",
              " [0.26, 99.99],\n",
              " [0.27, 99.99],\n",
              " [0.28, 99.99],\n",
              " [0.29000000000000004, 99.99],\n",
              " [0.30000000000000004, 99.99],\n",
              " [0.31, 99.99],\n",
              " [0.32, 99.99],\n",
              " [0.33, 99.99],\n",
              " [0.33999999999999997, 99.99],\n",
              " [0.35, 99.99],\n",
              " [0.36, 99.99],\n",
              " [0.37, 99.99],\n",
              " [0.38, 99.98],\n",
              " [0.39, 99.98],\n",
              " [0.4, 99.98],\n",
              " [0.41000000000000003, 99.98],\n",
              " [0.42000000000000004, 99.98],\n",
              " [0.43000000000000005, 99.98],\n",
              " [0.44000000000000006, 99.98],\n",
              " [0.45000000000000007, 99.98],\n",
              " [0.45999999999999996, 99.98],\n",
              " [0.47, 99.98],\n",
              " [0.48, 99.98],\n",
              " [0.49, 99.98],\n",
              " [0.5, 99.98],\n",
              " [0.51, 99.98],\n",
              " [0.52, 99.97],\n",
              " [0.53, 99.97],\n",
              " [0.54, 99.97],\n",
              " [0.55, 99.97],\n",
              " [0.56, 99.97],\n",
              " [0.5700000000000001, 99.97],\n",
              " [0.58, 99.97],\n",
              " [0.59, 99.97],\n",
              " [0.6, 99.97],\n",
              " [0.61, 99.97],\n",
              " [0.62, 99.97],\n",
              " [0.63, 99.97],\n",
              " [0.64, 99.96000000000001],\n",
              " [0.65, 99.96000000000001],\n",
              " [0.66, 99.96000000000001],\n",
              " [0.67, 99.96000000000001],\n",
              " [0.6799999999999999, 99.96000000000001],\n",
              " [0.69, 99.96000000000001],\n",
              " [0.7, 99.96000000000001],\n",
              " [0.71, 99.96000000000001],\n",
              " [0.72, 99.96000000000001],\n",
              " [0.73, 99.96000000000001],\n",
              " [0.74, 99.96000000000001],\n",
              " [0.75, 99.96000000000001],\n",
              " [0.76, 99.95],\n",
              " [0.77, 99.94],\n",
              " [0.78, 99.91],\n",
              " [0.79, 99.86],\n",
              " [0.8, 99.79],\n",
              " [0.8099999999999999, 99.72],\n",
              " [0.82, 99.62],\n",
              " [0.83, 99.51],\n",
              " [0.84, 99.38],\n",
              " [0.85, 99.2],\n",
              " [0.86, 99.03999999999999],\n",
              " [0.87, 98.86],\n",
              " [0.88, 98.75],\n",
              " [0.89, 98.61],\n",
              " [0.9, 98.46000000000001],\n",
              " [0.91, 98.22],\n",
              " [0.92, 97.96000000000001],\n",
              " [0.93, 97.63],\n",
              " [0.94, 96.88],\n",
              " [0.95, 96.3],\n",
              " [0.96, 95.58],\n",
              " [0.97, 94.87],\n",
              " [0.98, 93.71000000000001],\n",
              " [0.99, 90.39],\n",
              " [0.99, 90.39],\n",
              " [0.991, 89.45],\n",
              " [0.992, 88.16000000000001],\n",
              " [0.993, 86.32],\n",
              " [0.994, 85.21],\n",
              " [0.995, 84.7],\n",
              " [0.996, 84.04],\n",
              " [0.997, 81.64],\n",
              " [0.998, 77.14999999999999],\n",
              " [0.999, 73.3]]"
            ]
          },
          "metadata": {},
          "execution_count": 31
        }
      ]
    },
    {
      "cell_type": "code",
      "metadata": {
        "colab": {
          "base_uri": "https://localhost:8080/"
        },
        "id": "IUErsY5eN-8D",
        "outputId": "daf61a0f-030b-471e-c021-f47951bf3913"
      },
      "source": [
        "DontKnowThresholding = []\n",
        "for i in range(90):\n",
        "  DontKnowThresholding.append([0.1 + 0.01*i,100*dontknow(0.1 + 0.01*i)])\n",
        "for i in range(10): \n",
        "  DontKnowThresholding.append([0.99 + 0.001*i,100*dontknow(0.99 + 0.001*i)])\n",
        "DontKnowThresholding"
      ],
      "execution_count": null,
      "outputs": [
        {
          "output_type": "execute_result",
          "data": {
            "text/plain": [
              "[[0.1, 0.0],\n",
              " [0.11, 0.0],\n",
              " [0.12000000000000001, 0.0],\n",
              " [0.13, 0.0],\n",
              " [0.14, 0.0],\n",
              " [0.15000000000000002, 0.0],\n",
              " [0.16, 0.0],\n",
              " [0.17, 0.0],\n",
              " [0.18, 0.0],\n",
              " [0.19, 0.0],\n",
              " [0.2, 0.0],\n",
              " [0.21000000000000002, 0.0],\n",
              " [0.22, 0.0],\n",
              " [0.23, 0.0],\n",
              " [0.24000000000000002, 0.0],\n",
              " [0.25, 0.0],\n",
              " [0.26, 0.0],\n",
              " [0.27, 0.0],\n",
              " [0.28, 0.0],\n",
              " [0.29000000000000004, 0.0],\n",
              " [0.30000000000000004, 0.0],\n",
              " [0.31, 0.0],\n",
              " [0.32, 0.0],\n",
              " [0.33, 0.0],\n",
              " [0.33999999999999997, 0.0],\n",
              " [0.35, 0.01],\n",
              " [0.36, 0.01],\n",
              " [0.37, 0.01],\n",
              " [0.38, 0.02],\n",
              " [0.39, 0.02],\n",
              " [0.4, 0.02],\n",
              " [0.41000000000000003, 0.02],\n",
              " [0.42000000000000004, 0.02],\n",
              " [0.43000000000000005, 0.02],\n",
              " [0.44000000000000006, 0.02],\n",
              " [0.45000000000000007, 0.02],\n",
              " [0.45999999999999996, 0.02],\n",
              " [0.47, 0.02],\n",
              " [0.48, 0.02],\n",
              " [0.49, 0.02],\n",
              " [0.5, 0.02],\n",
              " [0.51, 0.02],\n",
              " [0.52, 0.03],\n",
              " [0.53, 0.03],\n",
              " [0.54, 0.03],\n",
              " [0.55, 0.03],\n",
              " [0.56, 0.03],\n",
              " [0.5700000000000001, 0.03],\n",
              " [0.58, 0.03],\n",
              " [0.59, 0.03],\n",
              " [0.6, 0.03],\n",
              " [0.61, 0.03],\n",
              " [0.62, 0.03],\n",
              " [0.63, 0.03],\n",
              " [0.64, 0.04],\n",
              " [0.65, 0.04],\n",
              " [0.66, 0.04],\n",
              " [0.67, 0.04],\n",
              " [0.6799999999999999, 0.04],\n",
              " [0.69, 0.04],\n",
              " [0.7, 0.04],\n",
              " [0.71, 0.04],\n",
              " [0.72, 0.04],\n",
              " [0.73, 0.04],\n",
              " [0.74, 0.04],\n",
              " [0.75, 0.04],\n",
              " [0.76, 0.05],\n",
              " [0.77, 0.06],\n",
              " [0.78, 0.09],\n",
              " [0.79, 0.13999999999999999],\n",
              " [0.8, 0.21],\n",
              " [0.8099999999999999, 0.27999999999999997],\n",
              " [0.82, 0.38],\n",
              " [0.83, 0.49],\n",
              " [0.84, 0.62],\n",
              " [0.85, 0.8],\n",
              " [0.86, 0.96],\n",
              " [0.87, 1.1400000000000001],\n",
              " [0.88, 1.25],\n",
              " [0.89, 1.39],\n",
              " [0.9, 1.54],\n",
              " [0.91, 1.78],\n",
              " [0.92, 2.04],\n",
              " [0.93, 2.37],\n",
              " [0.94, 3.1199999999999997],\n",
              " [0.95, 3.6999999999999997],\n",
              " [0.96, 4.42],\n",
              " [0.97, 5.13],\n",
              " [0.98, 6.29],\n",
              " [0.99, 9.610000000000001],\n",
              " [0.99, 9.610000000000001],\n",
              " [0.991, 10.549999999999999],\n",
              " [0.992, 11.84],\n",
              " [0.993, 13.68],\n",
              " [0.994, 14.790000000000001],\n",
              " [0.995, 15.299999999999999],\n",
              " [0.996, 15.959999999999999],\n",
              " [0.997, 18.360000000000003],\n",
              " [0.998, 22.85],\n",
              " [0.999, 26.700000000000003]]"
            ]
          },
          "metadata": {},
          "execution_count": 32
        }
      ]
    },
    {
      "cell_type": "code",
      "metadata": {
        "id": "5hYrL3b46ppu"
      },
      "source": [
        "def misclassifyignore(threshold):\n",
        "  misclassifyignore = 0\n",
        "  for i in range(prediction_ignored.shape[0]):\n",
        "    if max(prediction_ignored[i]) > threshold:\n",
        "      misclassifyignore += 1\n",
        "  return misclassifyignore/(prediction_ignored.shape[0])"
      ],
      "execution_count": null,
      "outputs": []
    },
    {
      "cell_type": "code",
      "metadata": {
        "colab": {
          "base_uri": "https://localhost:8080/"
        },
        "id": "Yje1HQoQODTZ",
        "outputId": "4f6fe678-04d9-468b-d794-93a7c13bacb5"
      },
      "source": [
        "IgnoreThresholding = []\n",
        "for i in range(90):\n",
        "  IgnoreThresholding.append([0.1 + 0.01*i,100*misclassifyignore(0.1 + 0.01*i)])\n",
        "for i in range(10):\n",
        "  IgnoreThresholding.append([0.99 + 0.001*i,100*misclassifyignore(0.99 + 0.001*i)])\n",
        "IgnoreThresholding"
      ],
      "execution_count": null,
      "outputs": [
        {
          "output_type": "execute_result",
          "data": {
            "text/plain": [
              "[[0.1, 100.0],\n",
              " [0.11, 100.0],\n",
              " [0.12000000000000001, 100.0],\n",
              " [0.13, 100.0],\n",
              " [0.14, 100.0],\n",
              " [0.15000000000000002, 99.88],\n",
              " [0.16, 99.68],\n",
              " [0.17, 99.42],\n",
              " [0.18, 98.76],\n",
              " [0.19, 97.78],\n",
              " [0.2, 96.34],\n",
              " [0.21000000000000002, 94.54],\n",
              " [0.22, 91.84],\n",
              " [0.23, 89.14],\n",
              " [0.24000000000000002, 87.06],\n",
              " [0.25, 85.66],\n",
              " [0.26, 84.38],\n",
              " [0.27, 83.22],\n",
              " [0.28, 82.26],\n",
              " [0.29000000000000004, 81.04],\n",
              " [0.30000000000000004, 79.72],\n",
              " [0.31, 78.44],\n",
              " [0.32, 77.18],\n",
              " [0.33, 75.96000000000001],\n",
              " [0.33999999999999997, 74.72],\n",
              " [0.35, 73.74000000000001],\n",
              " [0.36, 72.86],\n",
              " [0.37, 71.94],\n",
              " [0.38, 71.26],\n",
              " [0.39, 70.46],\n",
              " [0.4, 69.62],\n",
              " [0.41000000000000003, 68.54],\n",
              " [0.42000000000000004, 67.34],\n",
              " [0.43000000000000005, 65.66],\n",
              " [0.44000000000000006, 63.519999999999996],\n",
              " [0.45000000000000007, 60.84],\n",
              " [0.45999999999999996, 57.08],\n",
              " [0.47, 53.52],\n",
              " [0.48, 50.019999999999996],\n",
              " [0.49, 47.44],\n",
              " [0.5, 45.06],\n",
              " [0.51, 43.72],\n",
              " [0.52, 42.16],\n",
              " [0.53, 40.0],\n",
              " [0.54, 34.48],\n",
              " [0.55, 29.7],\n",
              " [0.56, 27.36],\n",
              " [0.5700000000000001, 26.5],\n",
              " [0.58, 25.72],\n",
              " [0.59, 24.959999999999997],\n",
              " [0.6, 24.34],\n",
              " [0.61, 23.799999999999997],\n",
              " [0.62, 23.44],\n",
              " [0.63, 23.119999999999997],\n",
              " [0.64, 22.759999999999998],\n",
              " [0.65, 22.400000000000002],\n",
              " [0.66, 21.64],\n",
              " [0.67, 20.919999999999998],\n",
              " [0.6799999999999999, 18.62],\n",
              " [0.69, 14.899999999999999],\n",
              " [0.7, 11.52],\n",
              " [0.71, 7.960000000000001],\n",
              " [0.72, 5.38],\n",
              " [0.73, 3.4000000000000004],\n",
              " [0.74, 1.94],\n",
              " [0.75, 1.0999999999999999],\n",
              " [0.76, 0.84],\n",
              " [0.77, 0.33999999999999997],\n",
              " [0.78, 0.2],\n",
              " [0.79, 0.06],\n",
              " [0.8, 0.04],\n",
              " [0.8099999999999999, 0.02],\n",
              " [0.82, 0.02],\n",
              " [0.83, 0.0],\n",
              " [0.84, 0.0],\n",
              " [0.85, 0.0],\n",
              " [0.86, 0.0],\n",
              " [0.87, 0.0],\n",
              " [0.88, 0.0],\n",
              " [0.89, 0.0],\n",
              " [0.9, 0.0],\n",
              " [0.91, 0.0],\n",
              " [0.92, 0.0],\n",
              " [0.93, 0.0],\n",
              " [0.94, 0.0],\n",
              " [0.95, 0.0],\n",
              " [0.96, 0.0],\n",
              " [0.97, 0.0],\n",
              " [0.98, 0.0],\n",
              " [0.99, 0.0],\n",
              " [0.99, 0.0],\n",
              " [0.991, 0.0],\n",
              " [0.992, 0.0],\n",
              " [0.993, 0.0],\n",
              " [0.994, 0.0],\n",
              " [0.995, 0.0],\n",
              " [0.996, 0.0],\n",
              " [0.997, 0.0],\n",
              " [0.998, 0.0],\n",
              " [0.999, 0.0]]"
            ]
          },
          "metadata": {},
          "execution_count": 36
        }
      ]
    },
    {
      "cell_type": "code",
      "metadata": {
        "id": "gbx0zkRiQ-lW"
      },
      "source": [
        "def false_identify(threshold):\n",
        "  false_identify = 0\n",
        "  for i in range(prediction_test.shape[0]):\n",
        "    if prediction_test.argmax(axis=1)[i] != int(test_label[i]) and max(prediction_test[i]) > threshold:\n",
        "      false_identify += 1\n",
        "  return false_identify/(prediction_test.shape[0])"
      ],
      "execution_count": null,
      "outputs": []
    },
    {
      "cell_type": "code",
      "metadata": {
        "colab": {
          "base_uri": "https://localhost:8080/"
        },
        "id": "83VCI7uyRCKJ",
        "outputId": "e77ea85c-c408-4e13-85ff-b68321881525"
      },
      "source": [
        "FalseIdentify = []\n",
        "for i in range(90):\n",
        "  FalseIdentify.append([0.1 + 0.01*i,100*false_identify(0.1 + 0.01*i)])\n",
        "for i in range(10):\n",
        "  FalseIdentify.append([0.99 + 0.001*i,100*false_identify(0.99 + 0.001*i)])\n",
        "FalseIdentify"
      ],
      "execution_count": null,
      "outputs": [
        {
          "output_type": "execute_result",
          "data": {
            "text/plain": [
              "[[0.1, 0.01],\n",
              " [0.11, 0.01],\n",
              " [0.12000000000000001, 0.01],\n",
              " [0.13, 0.01],\n",
              " [0.14, 0.01],\n",
              " [0.15000000000000002, 0.01],\n",
              " [0.16, 0.01],\n",
              " [0.17, 0.01],\n",
              " [0.18, 0.01],\n",
              " [0.19, 0.01],\n",
              " [0.2, 0.01],\n",
              " [0.21000000000000002, 0.01],\n",
              " [0.22, 0.01],\n",
              " [0.23, 0.01],\n",
              " [0.24000000000000002, 0.01],\n",
              " [0.25, 0.01],\n",
              " [0.26, 0.01],\n",
              " [0.27, 0.01],\n",
              " [0.28, 0.01],\n",
              " [0.29000000000000004, 0.01],\n",
              " [0.30000000000000004, 0.01],\n",
              " [0.31, 0.01],\n",
              " [0.32, 0.01],\n",
              " [0.33, 0.01],\n",
              " [0.33999999999999997, 0.01],\n",
              " [0.35, 0.0],\n",
              " [0.36, 0.0],\n",
              " [0.37, 0.0],\n",
              " [0.38, 0.0],\n",
              " [0.39, 0.0],\n",
              " [0.4, 0.0],\n",
              " [0.41000000000000003, 0.0],\n",
              " [0.42000000000000004, 0.0],\n",
              " [0.43000000000000005, 0.0],\n",
              " [0.44000000000000006, 0.0],\n",
              " [0.45000000000000007, 0.0],\n",
              " [0.45999999999999996, 0.0],\n",
              " [0.47, 0.0],\n",
              " [0.48, 0.0],\n",
              " [0.49, 0.0],\n",
              " [0.5, 0.0],\n",
              " [0.51, 0.0],\n",
              " [0.52, 0.0],\n",
              " [0.53, 0.0],\n",
              " [0.54, 0.0],\n",
              " [0.55, 0.0],\n",
              " [0.56, 0.0],\n",
              " [0.5700000000000001, 0.0],\n",
              " [0.58, 0.0],\n",
              " [0.59, 0.0],\n",
              " [0.6, 0.0],\n",
              " [0.61, 0.0],\n",
              " [0.62, 0.0],\n",
              " [0.63, 0.0],\n",
              " [0.64, 0.0],\n",
              " [0.65, 0.0],\n",
              " [0.66, 0.0],\n",
              " [0.67, 0.0],\n",
              " [0.6799999999999999, 0.0],\n",
              " [0.69, 0.0],\n",
              " [0.7, 0.0],\n",
              " [0.71, 0.0],\n",
              " [0.72, 0.0],\n",
              " [0.73, 0.0],\n",
              " [0.74, 0.0],\n",
              " [0.75, 0.0],\n",
              " [0.76, 0.0],\n",
              " [0.77, 0.0],\n",
              " [0.78, 0.0],\n",
              " [0.79, 0.0],\n",
              " [0.8, 0.0],\n",
              " [0.8099999999999999, 0.0],\n",
              " [0.82, 0.0],\n",
              " [0.83, 0.0],\n",
              " [0.84, 0.0],\n",
              " [0.85, 0.0],\n",
              " [0.86, 0.0],\n",
              " [0.87, 0.0],\n",
              " [0.88, 0.0],\n",
              " [0.89, 0.0],\n",
              " [0.9, 0.0],\n",
              " [0.91, 0.0],\n",
              " [0.92, 0.0],\n",
              " [0.93, 0.0],\n",
              " [0.94, 0.0],\n",
              " [0.95, 0.0],\n",
              " [0.96, 0.0],\n",
              " [0.97, 0.0],\n",
              " [0.98, 0.0],\n",
              " [0.99, 0.0],\n",
              " [0.99, 0.0],\n",
              " [0.991, 0.0],\n",
              " [0.992, 0.0],\n",
              " [0.993, 0.0],\n",
              " [0.994, 0.0],\n",
              " [0.995, 0.0],\n",
              " [0.996, 0.0],\n",
              " [0.997, 0.0],\n",
              " [0.998, 0.0],\n",
              " [0.999, 0.0]]"
            ]
          },
          "metadata": {},
          "execution_count": 41
        }
      ]
    },
    {
      "cell_type": "code",
      "metadata": {
        "colab": {
          "base_uri": "https://localhost:8080/"
        },
        "id": "JWX2i122OH6y",
        "outputId": "81b64755-22c3-4cfa-9c18-daece03e8b89"
      },
      "source": [
        "UnknownMisclassify = []\n",
        "for i in range(90):\n",
        "  UnknownMisclassify.append([0.1 + 0.01*i,100*misclassifyunknown(0.1 + 0.01*i)])\n",
        "for i in range(10):\n",
        "  UnknownMisclassify.append([0.99 + 0.001*i,100*misclassifyunknown(0.99 + 0.001*i)])\n",
        "UnknownMisclassify"
      ],
      "execution_count": null,
      "outputs": [
        {
          "output_type": "execute_result",
          "data": {
            "text/plain": [
              "[[0.1, 100.0],\n",
              " [0.11, 100.0],\n",
              " [0.12000000000000001, 100.0],\n",
              " [0.13, 100.0],\n",
              " [0.14, 100.0],\n",
              " [0.15000000000000002, 100.0],\n",
              " [0.16, 100.0],\n",
              " [0.17, 100.0],\n",
              " [0.18, 99.96000000000001],\n",
              " [0.19, 99.78],\n",
              " [0.2, 99.22],\n",
              " [0.21000000000000002, 97.68],\n",
              " [0.22, 95.32000000000001],\n",
              " [0.23, 91.97999999999999],\n",
              " [0.24000000000000002, 88.5],\n",
              " [0.25, 85.64],\n",
              " [0.26, 82.48],\n",
              " [0.27, 80.17999999999999],\n",
              " [0.28, 78.0],\n",
              " [0.29000000000000004, 75.88000000000001],\n",
              " [0.30000000000000004, 73.54],\n",
              " [0.31, 71.44],\n",
              " [0.32, 69.14],\n",
              " [0.33, 67.12],\n",
              " [0.33999999999999997, 64.53999999999999],\n",
              " [0.35, 62.2],\n",
              " [0.36, 59.98],\n",
              " [0.37, 57.66],\n",
              " [0.38, 55.84],\n",
              " [0.39, 54.0],\n",
              " [0.4, 52.22],\n",
              " [0.41000000000000003, 50.62],\n",
              " [0.42000000000000004, 49.16],\n",
              " [0.43000000000000005, 47.92],\n",
              " [0.44000000000000006, 46.78],\n",
              " [0.45000000000000007, 45.92],\n",
              " [0.45999999999999996, 44.96],\n",
              " [0.47, 44.080000000000005],\n",
              " [0.48, 43.44],\n",
              " [0.49, 42.9],\n",
              " [0.5, 42.54],\n",
              " [0.51, 42.08],\n",
              " [0.52, 41.18],\n",
              " [0.53, 33.040000000000006],\n",
              " [0.54, 31.259999999999998],\n",
              " [0.55, 31.019999999999996],\n",
              " [0.56, 30.78],\n",
              " [0.5700000000000001, 30.620000000000005],\n",
              " [0.58, 30.42],\n",
              " [0.59, 30.240000000000002],\n",
              " [0.6, 30.2],\n",
              " [0.61, 30.12],\n",
              " [0.62, 30.080000000000002],\n",
              " [0.63, 30.04],\n",
              " [0.64, 29.98],\n",
              " [0.65, 29.92],\n",
              " [0.66, 29.9],\n",
              " [0.67, 29.86],\n",
              " [0.6799999999999999, 29.74],\n",
              " [0.69, 29.5],\n",
              " [0.7, 29.26],\n",
              " [0.71, 28.939999999999998],\n",
              " [0.72, 28.52],\n",
              " [0.73, 28.060000000000002],\n",
              " [0.74, 27.04],\n",
              " [0.75, 24.58],\n",
              " [0.76, 21.099999999999998],\n",
              " [0.77, 17.62],\n",
              " [0.78, 15.840000000000002],\n",
              " [0.79, 14.92],\n",
              " [0.8, 14.34],\n",
              " [0.8099999999999999, 13.86],\n",
              " [0.82, 12.9],\n",
              " [0.83, 12.16],\n",
              " [0.84, 11.459999999999999],\n",
              " [0.85, 11.0],\n",
              " [0.86, 10.42],\n",
              " [0.87, 9.74],\n",
              " [0.88, 7.739999999999999],\n",
              " [0.89, 4.02],\n",
              " [0.9, 0.98],\n",
              " [0.91, 0.2],\n",
              " [0.92, 0.06],\n",
              " [0.93, 0.0],\n",
              " [0.94, 0.0],\n",
              " [0.95, 0.0],\n",
              " [0.96, 0.0],\n",
              " [0.97, 0.0],\n",
              " [0.98, 0.0],\n",
              " [0.99, 0.0],\n",
              " [0.99, 0.0],\n",
              " [0.991, 0.0],\n",
              " [0.992, 0.0],\n",
              " [0.993, 0.0],\n",
              " [0.994, 0.0],\n",
              " [0.995, 0.0],\n",
              " [0.996, 0.0],\n",
              " [0.997, 0.0],\n",
              " [0.998, 0.0],\n",
              " [0.999, 0.0]]"
            ]
          },
          "metadata": {},
          "execution_count": 37
        }
      ]
    },
    {
      "cell_type": "code",
      "metadata": {
        "id": "yHZhEAmARjBL"
      },
      "source": [
        "get_Deep_Feature_1 = K.function([res_net1.layers[0].input],\n",
        "                                  [res_net1.layers[-2].output])\n",
        "\n",
        "get_Deep_Feature_2 = K.function([res_net2.layers[0].input],\n",
        "                                  [res_net2.layers[-2].output])\n",
        "\n",
        "get_Deep_Feature_3 = K.function([res_net3.layers[0].input],\n",
        "                                  [res_net3.layers[-2].output])\n",
        "\n",
        "get_Deep_Feature_4 = K.function([res_net4.layers[0].input],\n",
        "                                  [res_net4.layers[-2].output])\n",
        "\n",
        "get_Deep_Feature_5 = K.function([res_net5.layers[0].input],\n",
        "                                  [res_net5.layers[-2].output])"
      ],
      "execution_count": null,
      "outputs": []
    },
    {
      "cell_type": "code",
      "metadata": {
        "id": "G6wLbDKSRmkP"
      },
      "source": [
        "x1 = get_Deep_Feature_1(test_rescaled)\n",
        "x2 = get_Deep_Feature_2(test_rescaled)\n",
        "x3 = get_Deep_Feature_3(test_rescaled)\n",
        "x4 = get_Deep_Feature_4(test_rescaled)\n",
        "x5 = get_Deep_Feature_5(test_rescaled)\n",
        "x = (x1[0] + x2[0] + x3[0] + x4[0] + x5[0])/5"
      ],
      "execution_count": null,
      "outputs": []
    },
    {
      "cell_type": "code",
      "metadata": {
        "id": "lczBxVICRpGz"
      },
      "source": [
        "y1 = get_Deep_Feature_1(ignored_data_rescaled)\n",
        "y2 = get_Deep_Feature_2(ignored_data_rescaled)\n",
        "y3 = get_Deep_Feature_3(ignored_data_rescaled)\n",
        "y4 = get_Deep_Feature_4(ignored_data_rescaled)\n",
        "y5 = get_Deep_Feature_5(ignored_data_rescaled)\n",
        "y = (y1[0] + y2[0] + y3[0] + y4[0] + y5[0])/5"
      ],
      "execution_count": null,
      "outputs": []
    },
    {
      "cell_type": "code",
      "metadata": {
        "id": "2l3j5960Rrlf"
      },
      "source": [
        "z1 = get_Deep_Feature_1(unseen_data_rescaled)\n",
        "z2 = get_Deep_Feature_2(unseen_data_rescaled)\n",
        "z3 = get_Deep_Feature_3(unseen_data_rescaled)\n",
        "z4 = get_Deep_Feature_4(unseen_data_rescaled)\n",
        "z5 = get_Deep_Feature_5(unseen_data_rescaled)"
      ],
      "execution_count": null,
      "outputs": []
    },
    {
      "cell_type": "code",
      "metadata": {
        "id": "M1VwMO0lR-iD"
      },
      "source": [
        "def deep_feature(x, threshold1, threshold2):\n",
        "  true = 0\n",
        "  for i in range(x.shape[0]):\n",
        "    if threshold1 <= np.linalg.norm(x[i]) < threshold2:\n",
        "      true += 1\n",
        "  return true"
      ],
      "execution_count": null,
      "outputs": []
    },
    {
      "cell_type": "code",
      "metadata": {
        "colab": {
          "base_uri": "https://localhost:8080/"
        },
        "id": "O1N3kqgZgH5i",
        "outputId": "bbde7818-47c0-4016-ece0-4138258e689f"
      },
      "source": [
        "deep_feature(x, 5, 25)"
      ],
      "execution_count": null,
      "outputs": [
        {
          "output_type": "execute_result",
          "data": {
            "text/plain": [
              "10000"
            ]
          },
          "metadata": {},
          "execution_count": 85
        }
      ]
    },
    {
      "cell_type": "code",
      "metadata": {
        "colab": {
          "base_uri": "https://localhost:8080/"
        },
        "id": "5Ck88NpDhBM6",
        "outputId": "6d4393ef-27e9-4a29-f7a4-92b64d442f1d"
      },
      "source": [
        "(20/100)*(i + 1/2)"
      ],
      "execution_count": null,
      "outputs": [
        {
          "output_type": "execute_result",
          "data": {
            "text/plain": [
              "19.900000000000002"
            ]
          },
          "metadata": {},
          "execution_count": 87
        }
      ]
    },
    {
      "cell_type": "code",
      "metadata": {
        "colab": {
          "base_uri": "https://localhost:8080/"
        },
        "id": "YiNUrJsmhpIW",
        "outputId": "f60b1578-a3d9-492d-93bf-daa7dc8250f6"
      },
      "source": [
        "prediction_test.shape[0]"
      ],
      "execution_count": null,
      "outputs": [
        {
          "output_type": "execute_result",
          "data": {
            "text/plain": [
              "10000"
            ]
          },
          "metadata": {},
          "execution_count": 91
        }
      ]
    },
    {
      "cell_type": "code",
      "metadata": {
        "colab": {
          "base_uri": "https://localhost:8080/"
        },
        "id": "rY39lmG3SCud",
        "outputId": "3c5f4a3b-07f7-47e0-c8ab-828df25ee63f"
      },
      "source": [
        "testFeatures = []\n",
        "for i in range(100):\n",
        "  testFeatures.append([(25/100)*(i + 1/2),deep_feature(x,(25/100)*(i),(25/100)*(i + 1))/prediction_test.shape[0]])\n",
        "testFeatures"
      ],
      "execution_count": null,
      "outputs": [
        {
          "output_type": "execute_result",
          "data": {
            "text/plain": [
              "[[0.125, 0.0],\n",
              " [0.375, 0.0],\n",
              " [0.625, 0.0],\n",
              " [0.875, 0.0],\n",
              " [1.125, 0.0],\n",
              " [1.375, 0.0],\n",
              " [1.625, 0.0],\n",
              " [1.875, 0.0],\n",
              " [2.125, 0.0],\n",
              " [2.375, 0.0],\n",
              " [2.625, 0.0],\n",
              " [2.875, 0.0],\n",
              " [3.125, 0.0],\n",
              " [3.375, 0.0],\n",
              " [3.625, 0.0],\n",
              " [3.875, 0.0],\n",
              " [4.125, 0.0],\n",
              " [4.375, 0.0],\n",
              " [4.625, 0.0],\n",
              " [4.875, 0.0],\n",
              " [5.125, 0.0],\n",
              " [5.375, 0.0],\n",
              " [5.625, 0.0],\n",
              " [5.875, 0.0],\n",
              " [6.125, 0.0001],\n",
              " [6.375, 0.0002],\n",
              " [6.625, 0.0004],\n",
              " [6.875, 0.0019],\n",
              " [7.125, 0.0324],\n",
              " [7.375, 0.0485],\n",
              " [7.625, 0.0401],\n",
              " [7.875, 0.0368],\n",
              " [8.125, 0.0473],\n",
              " [8.375, 0.1051],\n",
              " [8.625, 0.0421],\n",
              " [8.875, 0.0603],\n",
              " [9.125, 0.1929],\n",
              " [9.375, 0.1769],\n",
              " [9.625, 0.0825],\n",
              " [9.875, 0.0825],\n",
              " [10.125, 0.0243],\n",
              " [10.375, 0.0138],\n",
              " [10.625, 0.0077],\n",
              " [10.875, 0.0036],\n",
              " [11.125, 0.0003],\n",
              " [11.375, 0.0003],\n",
              " [11.625, 0.0],\n",
              " [11.875, 0.0],\n",
              " [12.125, 0.0],\n",
              " [12.375, 0.0],\n",
              " [12.625, 0.0],\n",
              " [12.875, 0.0],\n",
              " [13.125, 0.0],\n",
              " [13.375, 0.0],\n",
              " [13.625, 0.0],\n",
              " [13.875, 0.0],\n",
              " [14.125, 0.0],\n",
              " [14.375, 0.0],\n",
              " [14.625, 0.0],\n",
              " [14.875, 0.0],\n",
              " [15.125, 0.0],\n",
              " [15.375, 0.0],\n",
              " [15.625, 0.0],\n",
              " [15.875, 0.0],\n",
              " [16.125, 0.0],\n",
              " [16.375, 0.0],\n",
              " [16.625, 0.0],\n",
              " [16.875, 0.0],\n",
              " [17.125, 0.0],\n",
              " [17.375, 0.0],\n",
              " [17.625, 0.0],\n",
              " [17.875, 0.0],\n",
              " [18.125, 0.0],\n",
              " [18.375, 0.0],\n",
              " [18.625, 0.0],\n",
              " [18.875, 0.0],\n",
              " [19.125, 0.0],\n",
              " [19.375, 0.0],\n",
              " [19.625, 0.0],\n",
              " [19.875, 0.0],\n",
              " [20.125, 0.0],\n",
              " [20.375, 0.0],\n",
              " [20.625, 0.0],\n",
              " [20.875, 0.0],\n",
              " [21.125, 0.0],\n",
              " [21.375, 0.0],\n",
              " [21.625, 0.0],\n",
              " [21.875, 0.0],\n",
              " [22.125, 0.0],\n",
              " [22.375, 0.0],\n",
              " [22.625, 0.0],\n",
              " [22.875, 0.0],\n",
              " [23.125, 0.0],\n",
              " [23.375, 0.0],\n",
              " [23.625, 0.0],\n",
              " [23.875, 0.0],\n",
              " [24.125, 0.0],\n",
              " [24.375, 0.0],\n",
              " [24.625, 0.0],\n",
              " [24.875, 0.0]]"
            ]
          },
          "metadata": {},
          "execution_count": 105
        }
      ]
    },
    {
      "cell_type": "code",
      "metadata": {
        "colab": {
          "base_uri": "https://localhost:8080/"
        },
        "id": "tdjmjOlySF9U",
        "outputId": "bb3d1641-c9cb-4668-c5e5-debec10c97e6"
      },
      "source": [
        "sum = 0\n",
        "for i in range(100):\n",
        "  sum += testFeatures[i][-1]\n",
        "sum             "
      ],
      "execution_count": null,
      "outputs": [
        {
          "output_type": "execute_result",
          "data": {
            "text/plain": [
              "1.0"
            ]
          },
          "metadata": {},
          "execution_count": 110
        }
      ]
    },
    {
      "cell_type": "code",
      "metadata": {
        "colab": {
          "base_uri": "https://localhost:8080/"
        },
        "id": "CrNFHKs4iF-j",
        "outputId": "fc0e50be-46bd-49e3-d157-dd8fbcfb4e52"
      },
      "source": [
        "prediction_ignored.shape[0]"
      ],
      "execution_count": null,
      "outputs": [
        {
          "output_type": "execute_result",
          "data": {
            "text/plain": [
              "5000"
            ]
          },
          "metadata": {},
          "execution_count": 111
        }
      ]
    },
    {
      "cell_type": "code",
      "metadata": {
        "colab": {
          "base_uri": "https://localhost:8080/"
        },
        "id": "Sx-ormaki3C2",
        "outputId": "b42439e1-ad32-4645-a166-e281f294b300"
      },
      "source": [
        "deep_feature(z,0,25)"
      ],
      "execution_count": null,
      "outputs": [
        {
          "output_type": "execute_result",
          "data": {
            "text/plain": [
              "5000"
            ]
          },
          "metadata": {},
          "execution_count": 112
        }
      ]
    },
    {
      "cell_type": "code",
      "metadata": {
        "colab": {
          "base_uri": "https://localhost:8080/"
        },
        "id": "BGxFvJWjSK5Z",
        "outputId": "b5770d34-75c9-46dd-c955-215fc8d2acf0"
      },
      "source": [
        "ignoredFeatures = []\n",
        "for i in range(100):\n",
        "  ignoredFeatures.append([(25/100)*(i + 1/2),deep_feature(y,(25/100)*(i),(25/100)*(i + 1))/prediction_ignored.shape[0]])\n",
        "ignoredFeatures"
      ],
      "execution_count": null,
      "outputs": [
        {
          "output_type": "execute_result",
          "data": {
            "text/plain": [
              "[[0.125, 0.0],\n",
              " [0.375, 0.0],\n",
              " [0.625, 0.0],\n",
              " [0.875, 0.0],\n",
              " [1.125, 0.0],\n",
              " [1.375, 0.0],\n",
              " [1.625, 0.0],\n",
              " [1.875, 0.0],\n",
              " [2.125, 0.0],\n",
              " [2.375, 0.0],\n",
              " [2.625, 0.0],\n",
              " [2.875, 0.0],\n",
              " [3.125, 0.0],\n",
              " [3.375, 0.0],\n",
              " [3.625, 0.0],\n",
              " [3.875, 0.0032],\n",
              " [4.125, 0.0046],\n",
              " [4.375, 0.0012],\n",
              " [4.625, 0.001],\n",
              " [4.875, 0.0032],\n",
              " [5.125, 0.0002],\n",
              " [5.375, 0.0008],\n",
              " [5.625, 0.0026],\n",
              " [5.875, 0.0086],\n",
              " [6.125, 0.0316],\n",
              " [6.375, 0.054],\n",
              " [6.625, 0.0856],\n",
              " [6.875, 0.099],\n",
              " [7.125, 0.0566],\n",
              " [7.375, 0.0366],\n",
              " [7.625, 0.0582],\n",
              " [7.875, 0.0662],\n",
              " [8.125, 0.015],\n",
              " [8.375, 0.0194],\n",
              " [8.625, 0.0216],\n",
              " [8.875, 0.0124],\n",
              " [9.125, 0.0328],\n",
              " [9.375, 0.0856],\n",
              " [9.625, 0.0838],\n",
              " [9.875, 0.01],\n",
              " [10.125, 0.003],\n",
              " [10.375, 0.0024],\n",
              " [10.625, 0.001],\n",
              " [10.875, 0.0464],\n",
              " [11.125, 0.0538],\n",
              " [11.375, 0.0],\n",
              " [11.625, 0.0004],\n",
              " [11.875, 0.0044],\n",
              " [12.125, 0.0184],\n",
              " [12.375, 0.0534],\n",
              " [12.625, 0.0216],\n",
              " [12.875, 0.0012],\n",
              " [13.125, 0.0002],\n",
              " [13.375, 0.0],\n",
              " [13.625, 0.0],\n",
              " [13.875, 0.0],\n",
              " [14.125, 0.0],\n",
              " [14.375, 0.0],\n",
              " [14.625, 0.0],\n",
              " [14.875, 0.0],\n",
              " [15.125, 0.0],\n",
              " [15.375, 0.0],\n",
              " [15.625, 0.0],\n",
              " [15.875, 0.0],\n",
              " [16.125, 0.0],\n",
              " [16.375, 0.0],\n",
              " [16.625, 0.0],\n",
              " [16.875, 0.0],\n",
              " [17.125, 0.0],\n",
              " [17.375, 0.0],\n",
              " [17.625, 0.0],\n",
              " [17.875, 0.0],\n",
              " [18.125, 0.0],\n",
              " [18.375, 0.0],\n",
              " [18.625, 0.0],\n",
              " [18.875, 0.0],\n",
              " [19.125, 0.0],\n",
              " [19.375, 0.0],\n",
              " [19.625, 0.0],\n",
              " [19.875, 0.0],\n",
              " [20.125, 0.0],\n",
              " [20.375, 0.0],\n",
              " [20.625, 0.0],\n",
              " [20.875, 0.0],\n",
              " [21.125, 0.0],\n",
              " [21.375, 0.0],\n",
              " [21.625, 0.0],\n",
              " [21.875, 0.0],\n",
              " [22.125, 0.0],\n",
              " [22.375, 0.0],\n",
              " [22.625, 0.0],\n",
              " [22.875, 0.0],\n",
              " [23.125, 0.0],\n",
              " [23.375, 0.0],\n",
              " [23.625, 0.0],\n",
              " [23.875, 0.0],\n",
              " [24.125, 0.0],\n",
              " [24.375, 0.0],\n",
              " [24.625, 0.0],\n",
              " [24.875, 0.0]]"
            ]
          },
          "metadata": {},
          "execution_count": 113
        }
      ]
    },
    {
      "cell_type": "code",
      "metadata": {
        "colab": {
          "base_uri": "https://localhost:8080/"
        },
        "id": "ED4hp1IESNGR",
        "outputId": "8b0abdcf-8721-4931-9680-c35935236b2e"
      },
      "source": [
        "sum = 0\n",
        "for i in range(100):\n",
        "  sum += ignoredFeatures[i][-1]\n",
        "sum      "
      ],
      "execution_count": null,
      "outputs": [
        {
          "output_type": "execute_result",
          "data": {
            "text/plain": [
              "0.9999999999999997"
            ]
          },
          "metadata": {},
          "execution_count": 114
        }
      ]
    },
    {
      "cell_type": "code",
      "metadata": {
        "colab": {
          "base_uri": "https://localhost:8080/"
        },
        "id": "yxgA8vDxST-J",
        "outputId": "cb2ca522-acbd-4ba7-f9d6-fe618c17fe49"
      },
      "source": [
        "unseenFeatures = []\n",
        "for i in range(100):\n",
        "  unseenFeatures.append([(25/100)*(i + 1/2),deep_feature(z,(25/100)*(i),(25/100)*(i + 1))/prediction_ignored.shape[0]])\n",
        "unseenFeatures"
      ],
      "execution_count": null,
      "outputs": [
        {
          "output_type": "execute_result",
          "data": {
            "text/plain": [
              "[[0.125, 0.0],\n",
              " [0.375, 0.0],\n",
              " [0.625, 0.0],\n",
              " [0.875, 0.0],\n",
              " [1.125, 0.0],\n",
              " [1.375, 0.0],\n",
              " [1.625, 0.0],\n",
              " [1.875, 0.0],\n",
              " [2.125, 0.0],\n",
              " [2.375, 0.0],\n",
              " [2.625, 0.0],\n",
              " [2.875, 0.0],\n",
              " [3.125, 0.0],\n",
              " [3.375, 0.0],\n",
              " [3.625, 0.0],\n",
              " [3.875, 0.0],\n",
              " [4.125, 0.0],\n",
              " [4.375, 0.0],\n",
              " [4.625, 0.0],\n",
              " [4.875, 0.0168],\n",
              " [5.125, 0.0776],\n",
              " [5.375, 0.0044],\n",
              " [5.625, 0.0008],\n",
              " [5.875, 0.0174],\n",
              " [6.125, 0.073],\n",
              " [6.375, 0.0816],\n",
              " [6.625, 0.0592],\n",
              " [6.875, 0.042],\n",
              " [7.125, 0.0532],\n",
              " [7.375, 0.0588],\n",
              " [7.625, 0.055],\n",
              " [7.875, 0.0414],\n",
              " [8.125, 0.0194],\n",
              " [8.375, 0.0562],\n",
              " [8.625, 0.1232],\n",
              " [8.875, 0.0172],\n",
              " [9.125, 0.0026],\n",
              " [9.375, 0.0618],\n",
              " [9.625, 0.0364],\n",
              " [9.875, 0.0004],\n",
              " [10.125, 0.0008],\n",
              " [10.375, 0.0002],\n",
              " [10.625, 0.0002],\n",
              " [10.875, 0.0002],\n",
              " [11.125, 0.0],\n",
              " [11.375, 0.0002],\n",
              " [11.625, 0.0],\n",
              " [11.875, 0.0],\n",
              " [12.125, 0.0],\n",
              " [12.375, 0.0],\n",
              " [12.625, 0.0],\n",
              " [12.875, 0.0],\n",
              " [13.125, 0.0],\n",
              " [13.375, 0.0],\n",
              " [13.625, 0.0],\n",
              " [13.875, 0.0042],\n",
              " [14.125, 0.0948],\n",
              " [14.375, 0.001],\n",
              " [14.625, 0.0],\n",
              " [14.875, 0.0],\n",
              " [15.125, 0.0],\n",
              " [15.375, 0.0],\n",
              " [15.625, 0.0],\n",
              " [15.875, 0.0],\n",
              " [16.125, 0.0],\n",
              " [16.375, 0.0],\n",
              " [16.625, 0.0],\n",
              " [16.875, 0.0],\n",
              " [17.125, 0.0],\n",
              " [17.375, 0.0],\n",
              " [17.625, 0.0],\n",
              " [17.875, 0.0],\n",
              " [18.125, 0.0],\n",
              " [18.375, 0.0],\n",
              " [18.625, 0.0],\n",
              " [18.875, 0.0],\n",
              " [19.125, 0.0],\n",
              " [19.375, 0.0],\n",
              " [19.625, 0.0],\n",
              " [19.875, 0.0],\n",
              " [20.125, 0.0],\n",
              " [20.375, 0.0],\n",
              " [20.625, 0.0],\n",
              " [20.875, 0.0],\n",
              " [21.125, 0.0],\n",
              " [21.375, 0.0],\n",
              " [21.625, 0.0],\n",
              " [21.875, 0.0],\n",
              " [22.125, 0.0],\n",
              " [22.375, 0.0],\n",
              " [22.625, 0.0],\n",
              " [22.875, 0.0],\n",
              " [23.125, 0.0],\n",
              " [23.375, 0.0],\n",
              " [23.625, 0.0],\n",
              " [23.875, 0.0],\n",
              " [24.125, 0.0],\n",
              " [24.375, 0.0],\n",
              " [24.625, 0.0],\n",
              " [24.875, 0.0]]"
            ]
          },
          "metadata": {},
          "execution_count": 115
        }
      ]
    },
    {
      "cell_type": "code",
      "metadata": {
        "colab": {
          "base_uri": "https://localhost:8080/"
        },
        "id": "TIZarkVlkDu-",
        "outputId": "1e546d9d-ecb0-488c-ba83-fedf0c6101ea"
      },
      "source": [
        "sum = 0\n",
        "for i in range(100):\n",
        "  sum += unseenFeatures[i][-1]\n",
        "sum     "
      ],
      "execution_count": null,
      "outputs": [
        {
          "output_type": "execute_result",
          "data": {
            "text/plain": [
              "0.9999999999999998"
            ]
          },
          "metadata": {},
          "execution_count": 116
        }
      ]
    },
    {
      "cell_type": "code",
      "metadata": {
        "id": "eB-A3PwKkH-6"
      },
      "source": [
        ""
      ],
      "execution_count": null,
      "outputs": []
    },
    {
      "cell_type": "code",
      "metadata": {
        "id": "0-Ki_TC16QW3"
      },
      "source": [
        "from scipy.stats import entropy"
      ],
      "execution_count": null,
      "outputs": []
    },
    {
      "cell_type": "code",
      "metadata": {
        "colab": {
          "base_uri": "https://localhost:8080/"
        },
        "id": "rSlAZYPD6UjV",
        "outputId": "c256eb4c-2699-422d-a5f5-fbaf06ea5923"
      },
      "source": [
        "entropy(prediction_test[1], base=2)"
      ],
      "execution_count": null,
      "outputs": [
        {
          "data": {
            "text/plain": [
              "0.00019581534824829132"
            ]
          },
          "execution_count": 69,
          "metadata": {
            "tags": []
          },
          "output_type": "execute_result"
        }
      ]
    },
    {
      "cell_type": "code",
      "metadata": {
        "id": "jYMcCDWK6hLq"
      },
      "source": [
        "def entropy_counter(threshold1,threshold2):\n",
        "  true = 0\n",
        "  for i in range(5000):\n",
        "    if threshold1 <= entropy(prediction_unknown[i]) < threshold2:\n",
        "      true += 1\n",
        "  return  true/prediction_unknown.shape[0]"
      ],
      "execution_count": null,
      "outputs": []
    },
    {
      "cell_type": "code",
      "metadata": {
        "colab": {
          "base_uri": "https://localhost:8080/"
        },
        "id": "jp0GsqmejiP4",
        "outputId": "b7c70fc8-fb00-4aa2-9dba-85f62b36ffa1"
      },
      "source": [
        "prediction_unknown.shape"
      ],
      "execution_count": null,
      "outputs": [
        {
          "data": {
            "text/plain": [
              "(5000, 21)"
            ]
          },
          "execution_count": 147,
          "metadata": {
            "tags": []
          },
          "output_type": "execute_result"
        }
      ]
    },
    {
      "cell_type": "code",
      "metadata": {
        "colab": {
          "base_uri": "https://localhost:8080/"
        },
        "id": "V1VwnI6VbJ_f",
        "outputId": "0818683e-73d1-4640-e967-210d280594c7"
      },
      "source": [
        "Entropy_Test = []\n",
        "for i in range(100):\n",
        "  Entropy_Test.append([(4.33/100)*(i + 1/2), entropy_counter((4.33/100)*i,(4.33/100)*(i+1))])\n",
        "Entropy_Test\n",
        "  "
      ],
      "execution_count": null,
      "outputs": [
        {
          "data": {
            "text/plain": [
              "[[0.02165, 9397],\n",
              " [0.06495, 77],\n",
              " [0.10825, 6],\n",
              " [0.15155, 2],\n",
              " [0.19485, 4],\n",
              " [0.23815, 3],\n",
              " [0.28145, 0],\n",
              " [0.32475, 0],\n",
              " [0.36805, 2],\n",
              " [0.41135, 1],\n",
              " [0.45465, 57],\n",
              " [0.49795, 196],\n",
              " [0.54125, 102],\n",
              " [0.58455, 40],\n",
              " [0.62785, 25],\n",
              " [0.67115, 22],\n",
              " [0.7144499999999999, 16],\n",
              " [0.7577499999999999, 16],\n",
              " [0.8010499999999999, 14],\n",
              " [0.8443499999999999, 7],\n",
              " [0.8876499999999999, 6],\n",
              " [0.9309499999999999, 3],\n",
              " [0.97425, 0],\n",
              " [1.01755, 1],\n",
              " [1.0608499999999998, 1],\n",
              " [1.10415, 0],\n",
              " [1.1474499999999999, 0],\n",
              " [1.19075, 0],\n",
              " [1.2340499999999999, 0],\n",
              " [1.27735, 1],\n",
              " [1.3206499999999999, 0],\n",
              " [1.36395, 0],\n",
              " [1.40725, 0],\n",
              " [1.45055, 0],\n",
              " [1.49385, 0],\n",
              " [1.53715, 0],\n",
              " [1.58045, 1],\n",
              " [1.62375, 0],\n",
              " [1.66705, 0],\n",
              " [1.71035, 0],\n",
              " [1.75365, 0],\n",
              " [1.7969499999999998, 0],\n",
              " [1.84025, 0],\n",
              " [1.8835499999999998, 0],\n",
              " [1.92685, 0],\n",
              " [1.9701499999999998, 0],\n",
              " [2.0134499999999997, 0],\n",
              " [2.05675, 0],\n",
              " [2.10005, 0],\n",
              " [2.14335, 0],\n",
              " [2.1866499999999998, 0],\n",
              " [2.22995, 0],\n",
              " [2.27325, 0],\n",
              " [2.31655, 0],\n",
              " [2.35985, 0],\n",
              " [2.40315, 0],\n",
              " [2.44645, 0],\n",
              " [2.48975, 0],\n",
              " [2.53305, 0],\n",
              " [2.5763499999999997, 0],\n",
              " [2.61965, 0],\n",
              " [2.66295, 0],\n",
              " [2.70625, 0],\n",
              " [2.7495499999999997, 0],\n",
              " [2.79285, 0],\n",
              " [2.83615, 0],\n",
              " [2.87945, 0],\n",
              " [2.9227499999999997, 0],\n",
              " [2.96605, 0],\n",
              " [3.00935, 0],\n",
              " [3.05265, 0],\n",
              " [3.0959499999999998, 0],\n",
              " [3.1392499999999997, 0],\n",
              " [3.18255, 0],\n",
              " [3.22585, 0],\n",
              " [3.26915, 0],\n",
              " [3.3124499999999997, 0],\n",
              " [3.35575, 0],\n",
              " [3.39905, 0],\n",
              " [3.44235, 0],\n",
              " [3.4856499999999997, 0],\n",
              " [3.52895, 0],\n",
              " [3.57225, 0],\n",
              " [3.61555, 0],\n",
              " [3.6588499999999997, 0],\n",
              " [3.70215, 0],\n",
              " [3.74545, 0],\n",
              " [3.78875, 0],\n",
              " [3.8320499999999997, 0],\n",
              " [3.8753499999999996, 0],\n",
              " [3.91865, 0],\n",
              " [3.96195, 0],\n",
              " [4.00525, 0],\n",
              " [4.04855, 0],\n",
              " [4.09185, 0],\n",
              " [4.135149999999999, 0],\n",
              " [4.17845, 0],\n",
              " [4.22175, 0],\n",
              " [4.26505, 0],\n",
              " [4.30835, 0]]"
            ]
          },
          "execution_count": 106,
          "metadata": {
            "tags": []
          },
          "output_type": "execute_result"
        }
      ]
    },
    {
      "cell_type": "code",
      "metadata": {
        "colab": {
          "base_uri": "https://localhost:8080/"
        },
        "id": "qRqOkJW2TcAH",
        "outputId": "516263c3-10b0-4c7b-d85c-80aa9c8851db"
      },
      "source": [
        "entropy_counter(0.01,4)"
      ],
      "execution_count": null,
      "outputs": [
        {
          "data": {
            "text/plain": [
              "0.9996"
            ]
          },
          "execution_count": 145,
          "metadata": {
            "tags": []
          },
          "output_type": "execute_result"
        }
      ]
    },
    {
      "cell_type": "code",
      "metadata": {
        "id": "4YqmfJkEGifd"
      },
      "source": [
        "#res_net.save_weights(\"/content/gdrive/MyDrive/6_21_2021_run/Entropic_Run1.h5\", overwrite=True)"
      ],
      "execution_count": null,
      "outputs": []
    },
    {
      "cell_type": "code",
      "metadata": {
        "id": "COCdGHzsLwsN"
      },
      "source": [
        "ignored_data = np.zeros((10*500, 1024 - N_cut))\n",
        "unseen_data = np.zeros((10*500, 1024 - N_cut))\n",
        "\n",
        "\n",
        "for i in range(1024 - N_cut - 1):\n",
        "    for j in range(500):\n",
        "\n",
        "        # Ignored\n",
        "\n",
        "        # Ignored 1\n",
        "        # Anthrone_Test, label 21\n",
        "        ignored_data[j + 0*500][i] = (Anthrone_Test[i + N_cut][j])\n",
        "        \n",
        "        # Ignore 2\n",
        "        # beta_Estradiol_Test, label 22\n",
        "        ignored_data[j + 1*500][i] = (beta_Estradiol_Test[i + N_cut][j])\n",
        "\n",
        "        # Ignore 3\n",
        "        # Chloroquine_Test, label 24\n",
        "        ignored_data[j + 2*500][i] = (Chloroquine_Test[i + N_cut][j])\n",
        "\n",
        "        # Ignore 4\n",
        "        # Fluconazole_Test, label 26\n",
        "        ignored_data[j + 3*500][i] = (Fluconazole_Test[i + N_cut][j])\n",
        "\n",
        "        # Ignore 5\n",
        "        # Laminarin_Test, label 28\n",
        "        ignored_data[j + 4*500][i] = (Laminarin_Test[i + N_cut][j])\n",
        "\n",
        "        # Ignore 6\n",
        "        # Lauric_Acid_Test, label 29\n",
        "        ignored_data[j + 5*500][i] = (Lauric_Acid_Test[i + N_cut][j])\n",
        "\n",
        "        # Ignore 7\n",
        "        # Methyl_Viologen_Test, label 30\n",
        "        ignored_data[j + 6*500][i] = (Methyl_Viologen_Test[i + N_cut][j])\n",
        "\n",
        "        # Ignore 8\n",
        "        # MOPS_Test, label 31\n",
        "        ignored_data[j + 7*500][i] = (MOPS_Test[i + N_cut][j])\n",
        "\n",
        "        # Ignore 9\n",
        "        # Progesterone_Test, label 35\n",
        "        ignored_data[j + 8*500][i] = (Progesterone_Test[i + N_cut][j])\n",
        "        \n",
        "        # Ignore 10  \n",
        "        # Uridine_Test, label 38\n",
        "        ignored_data[j + 9*500][i] = (Uridine_Test[i + N_cut][j])\n",
        "\n",
        "\n",
        "        # Never Seen Before\n",
        "\n",
        "        # Never seen 1\n",
        "        # Ampicillin_Sodium_Test, label 20\n",
        "        unseen_data[j + 0*500][i] = (Ampicillin_Sodium_Test[i + N_cut][j])\n",
        "        \n",
        "        # Never seen 2\n",
        "        # CHAPS_Test, label 23\n",
        "        unseen_data[j + 1*500][i] = (CHAPS_Test[i + N_cut][j])\n",
        "\n",
        "        # Never seen 3\n",
        "        # D_PLUS_Maltose_Monohydrate_Test, label 25\n",
        "        unseen_data[j + 2*500][i] = (D_PLUS_Maltose_Monohydrate_Test[i + N_cut][j])\n",
        "        \n",
        "        # Never seen 4\n",
        "        # Forskolin_Test, label 27\n",
        "        unseen_data[j + 3*500][i] = (Forskolin_Test[i + N_cut][j])\n",
        "        \n",
        "        # Never seen 5\n",
        "        # Na_Salt_Test, label 32\n",
        "        unseen_data[j + 4*500][i] = (Na_Salt_Test[i + N_cut][j])\n",
        "\n",
        "        # Never seen 6\n",
        "        # Polyvinyl_Pyrrolidone_Test, label 33\n",
        "        unseen_data[j + 5*500][i] = (Polyvinyl_Pyrrolidone_Test[i + N_cut][j])\n",
        "\n",
        "        # Never seen 7\n",
        "        # Potato_Starch_Test, label 34\n",
        "        unseen_data[j + 6*500][i] = (Potato_Starch_Test[i + N_cut][j])\n",
        "\n",
        "        # Never seen 8\n",
        "        # Sodium_Deoxycholate_Test, label 36\n",
        "        unseen_data[j + 7*500][i] = (Sodium_Deoxycholate_Test[i + N_cut][j])\n",
        "        \n",
        "        # Never seen 9\n",
        "        # Sodium_Dodecylsulfate_Test, label 37\n",
        "        unseen_data[j + 8*500][i] = (Sodium_Dodecylsulfate_Test[i + N_cut][j])\n",
        "\n",
        "        # Never seen 10\n",
        "        # Silver_Nitrate_Test, label 39\n",
        "        unseen_data[j + 9*500][i] = (Silver_Nitrate_Test[i + N_cut][j])\n",
        "        \n",
        "ignored_data_rescaled = np.zeros((10*500, 1024 - N_cut))\n",
        "ignored_data_maximum = np.zeros(10*500)\n",
        "ignored_data_minimum = np.zeros(10*500)\n",
        "\n",
        "for j in range(1, 10*500):\n",
        "    ignored_data_minimum[j] = np.amin(ignored_data[j][:])\n",
        "    ignored_data_maximum[j] = np.amax(ignored_data[j][:])\n",
        "\n",
        "for i in range(1,1024 - N_cut):\n",
        "    for j in range(1,10*500):\n",
        "        ignored_data_rescaled[j][i] = (ignored_data[j][i] - ignored_data_minimum[j])\n",
        "        ignored_data_rescaled[j][i] = ignored_data_rescaled[j][i]/(ignored_data_maximum[j] - ignored_data_minimum[j])\n",
        "\n",
        "ignored_data_rescaled = ignored_data_rescaled.reshape((10*500, 1024 - N_cut, 1))\n",
        "ignored_data_rescaled = ignored_data_rescaled.astype('float32')\n",
        "\n",
        "ignored_data_rescaled_last = np.ones((10*500, 1024 - N_cut))\n",
        "ignored_data_rescaled_minimum = []\n",
        "\n",
        "for j in range(10*500):\n",
        "    ignored_data_rescaled_minimum.append(np.amin(ignored_data[j][:-1]))\n",
        "\n",
        "for i in range(1024 - N_cut):\n",
        "    for j in range(10*500):\n",
        "        ignored_data_rescaled_last[j][i] = (ignored_data[j][i] - ignored_data_rescaled_minimum[j])\n",
        "\n",
        "ignored_data_rescaled = np.zeros((10*500, 1024 - N_cut - 1))\n",
        "\n",
        "for i in range(1024 - N_cut - 1):\n",
        "    for j in range(10*500):\n",
        "      ignored_data_rescaled[j][i] = ignored_data_rescaled_last[j][i]\n",
        "\n",
        "ignored_data_rescaled_maximum = []\n",
        "\n",
        "for j in range(10*500):\n",
        "    ignored_data_rescaled_maximum.append(np.amax(ignored_data_rescaled_last[j][:-1]))\n",
        "for i in range(1024 - N_cut - 1):\n",
        "    for j in range(10*500):\n",
        "      ignored_data_rescaled[j][i] = ignored_data_rescaled_last[j][i]/ignored_data_rescaled_maximum[j]\n",
        "\n",
        "unseen_data_rescaled = np.zeros((10*500, 1024 - N_cut))\n",
        "unseen_data_maximum = np.zeros(10*500)\n",
        "unseen_data_minimum = np.zeros(10*500)\n",
        "\n",
        "for j in range(1, 10*500):\n",
        "    unseen_data_minimum[j] = np.amin(unseen_data[j][:])\n",
        "    unseen_data_maximum[j] = np.amax(unseen_data[j][:])\n",
        "\n",
        "for i in range(1,1024 - N_cut):\n",
        "    for j in range(1,10*500):\n",
        "        unseen_data_rescaled[j][i] = (unseen_data[j][i] - unseen_data_minimum[j])\n",
        "        unseen_data_rescaled[j][i] = unseen_data_rescaled[j][i]/(unseen_data_maximum[j] - unseen_data_minimum[j])\n",
        "\n",
        "unseen_data_rescaled = unseen_data_rescaled.reshape((10*500, 1024 - N_cut, 1))\n",
        "unseen_data_rescaled = unseen_data_rescaled.astype('float32')\n",
        "\n",
        "unseen_data_rescaled_last = np.ones((10*500, 1024 - N_cut))\n",
        "unseen_data_rescaled_minimum = []\n",
        "\n",
        "for j in range(10*500):\n",
        "    unseen_data_rescaled_minimum.append(np.amin(unseen_data[j][:-1]))\n",
        "\n",
        "for i in range(1024 - N_cut):\n",
        "    for j in range(10*500):\n",
        "        unseen_data_rescaled_last[j][i] = (unseen_data[j][i] - unseen_data_rescaled_minimum[j])\n",
        "\n",
        "unseen_data_rescaled = np.zeros((10*500, 1024 - N_cut - 1))\n",
        "\n",
        "for i in range(1024 - N_cut - 1):\n",
        "    for j in range(10*500):\n",
        "      unseen_data_rescaled[j][i] = unseen_data_rescaled_last[j][i]\n",
        "\n",
        "unseen_data_rescaled_maximum = []\n",
        "\n",
        "for j in range(10*500):\n",
        "    unseen_data_rescaled_maximum.append(np.amax(unseen_data_rescaled_last[j][:-1]))\n",
        "for i in range(1024 - N_cut - 1):\n",
        "    for j in range(10*500):\n",
        "      unseen_data_rescaled[j][i] = unseen_data_rescaled_last[j][i]/unseen_data_rescaled_maximum[j]"
      ],
      "execution_count": null,
      "outputs": []
    },
    {
      "cell_type": "code",
      "metadata": {
        "id": "wUNeL8teJmf7"
      },
      "source": [
        "def misclassifyunknown(threshold):\n",
        "  misclassifyunknown = 0\n",
        "  for i in range(unseen_predictions.shape[0]):\n",
        "    if max(unseen_predictions[i]) > threshold:\n",
        "      misclassifyunknown += 1\n",
        "  return misclassifyunknown/(unseen_predictions.shape[0])"
      ],
      "execution_count": null,
      "outputs": []
    },
    {
      "cell_type": "code",
      "metadata": {
        "id": "zawba8oWLTvp"
      },
      "source": [
        "def misclassifyignored(threshold):\n",
        "  misclassifyunknown = 0\n",
        "  for i in range(ignored_predictions.shape[0]):\n",
        "    if max(ignored_predictions[i]) > threshold:\n",
        "      misclassifyunknown += 1\n",
        "  return misclassifyunknown/(ignored_predictions.shape[0])"
      ],
      "execution_count": null,
      "outputs": []
    },
    {
      "cell_type": "code",
      "metadata": {
        "colab": {
          "base_uri": "https://localhost:8080/"
        },
        "id": "B__-2r5lKce6",
        "outputId": "ac4ccf09-d476-4af4-c1a0-2d805029c78a"
      },
      "source": [
        "misclassifyignored(0.99)"
      ],
      "execution_count": null,
      "outputs": [
        {
          "data": {
            "text/plain": [
              "0.01076"
            ]
          },
          "execution_count": 29,
          "metadata": {
            "tags": []
          },
          "output_type": "execute_result"
        }
      ]
    },
    {
      "cell_type": "code",
      "metadata": {
        "colab": {
          "base_uri": "https://localhost:8080/"
        },
        "id": "dQ1gk8UwHyFD",
        "outputId": "5e1d4116-93f0-470f-9a2e-aadfb2523eb9"
      },
      "source": [
        "misclassifyunknown(0.99)"
      ],
      "execution_count": null,
      "outputs": [
        {
          "data": {
            "text/plain": [
              "0.3992"
            ]
          },
          "execution_count": 99,
          "metadata": {
            "tags": []
          },
          "output_type": "execute_result"
        }
      ]
    },
    {
      "cell_type": "code",
      "metadata": {
        "id": "k_hqGoC0Kp-U"
      },
      "source": [
        "def Open_set_categorical_crossentropy_trial_first(target,output):\n",
        "  output = tf.convert_to_tensor(output)\n",
        "  target = tf.cast(target, target.dtype)\n",
        "\n",
        "  epsilon = tf.keras.backend.epsilon()\n",
        "  output = tf.clip_by_value(output, epsilon, 1. - epsilon)\n",
        "\n",
        "  Sum = tf.math.reduce_sum(output,axis=-1,keepdims=True)\n",
        "\n",
        "  output = tf.math.divide(output, Sum)\n",
        "\n",
        "  Checker = tf.math.reduce_sum(tf.math.multiply(Ignored_label, target),axis=-1)\n",
        "  One = tf.math.reduce_sum(tf.math.multiply(Ignored_label, Ignored_label),axis=-1)\n",
        "\n",
        "  output = - tf.math.reduce_sum(tf.math.multiply(target,tf.math.log(output)),axis=-1)\n",
        "  output = tf.math.multiply(tf.math.subtract(One,Checker),output)\n",
        "\n",
        "  return output"
      ],
      "execution_count": null,
      "outputs": []
    },
    {
      "cell_type": "code",
      "metadata": {
        "id": "KusEhptYN-jF"
      },
      "source": [
        "def Open_set_categorical_crossentropy_trial_second(target,output):\n",
        "  output = tf.convert_to_tensor(output)\n",
        "  target = tf.cast(target, target.dtype)\n",
        "\n",
        "  epsilon = tf.keras.backend.epsilon()\n",
        "  output = tf.clip_by_value(output, epsilon, 1. - epsilon)\n",
        "\n",
        "  Sum = tf.math.reduce_sum(output,axis=-1,keepdims=True)\n",
        "\n",
        "  output = tf.math.divide(output, Sum)\n",
        "\n",
        "  Checker = tf.math.reduce_sum(tf.math.multiply(Ignored_label, target),axis=-1)\n",
        "  One = tf.math.reduce_sum(tf.math.multiply(Ignored_label, Ignored_label),axis=-1)\n",
        "  Zero = tf.math.reduce_sum(tf.math.multiply(KnownLabels[1], KnownLabels[2]),axis=-1)\n",
        "  \n",
        "  for i in range(N_classes):\n",
        "    addon = - tf.math.reduce_sum(tf.math.multiply(KnownLabels[i], tf.math.log(output)),axis=-1)\n",
        "    addon = tf.math.divide(addon,N_classes)\n",
        "    Zero = tf.math.add(addon,Zero)\n",
        "  Zero = tf.math.multiply(Checker, Zero)\n",
        "\n",
        "  return Zero"
      ],
      "execution_count": null,
      "outputs": []
    },
    {
      "cell_type": "code",
      "metadata": {
        "id": "EFiVFI7tHhXd"
      },
      "source": [
        "def Open_set_categorical_crossentropy_trial_total(target,output):\n",
        "  def Open_set_categorical_crossentropy_trial_first(target,output):\n",
        "    output = tf.convert_to_tensor(output)\n",
        "    target = tf.cast(target, target.dtype)\n",
        "\n",
        "    epsilon = tf.keras.backend.epsilon()\n",
        "    output = tf.clip_by_value(output, epsilon, 1. - epsilon)\n",
        "\n",
        "    Sum = tf.math.reduce_sum(output,axis=-1,keepdims=True)\n",
        "\n",
        "    output = tf.math.divide(output, Sum)\n",
        "\n",
        "    Checker = tf.math.reduce_sum(tf.math.multiply(Ignored_label, target),axis=-1)\n",
        "    One = tf.math.reduce_sum(tf.math.multiply(Ignored_label, Ignored_label),axis=-1)\n",
        "\n",
        "    output = - tf.math.reduce_sum(tf.math.multiply(target,tf.math.log(output)),axis=-1)\n",
        "    output = tf.math.multiply(tf.math.subtract(One,Checker),output)\n",
        "\n",
        "    return output\n",
        "\n",
        "  def Open_set_categorical_crossentropy_trial_second(target,output):\n",
        "    output = tf.convert_to_tensor(output)\n",
        "    target = tf.cast(target, target.dtype)\n",
        "\n",
        "    epsilon = tf.keras.backend.epsilon()\n",
        "    output = tf.clip_by_value(output, epsilon, 1. - epsilon)\n",
        "\n",
        "    Sum = tf.math.reduce_sum(output,axis=-1,keepdims=True)\n",
        "\n",
        "    output = tf.math.divide(output, Sum)\n",
        "\n",
        "    Checker = tf.math.reduce_sum(tf.math.multiply(Ignored_label, target),axis=-1)\n",
        "    One = tf.math.reduce_sum(tf.math.multiply(Ignored_label, Ignored_label),axis=-1)\n",
        "    Zero = tf.math.reduce_sum(tf.math.multiply(KnownLabels[1], KnownLabels[2]),axis=-1)\n",
        "    \n",
        "    for i in range(N_classes):\n",
        "      addon = - tf.math.reduce_sum(tf.math.multiply(KnownLabels[i], tf.math.log(output)),axis=-1)\n",
        "      addon = tf.math.divide(addon,N_classes)\n",
        "      Zero = tf.math.add(addon,Zero)\n",
        "    Zero = tf.math.multiply(Checker, Zero)\n",
        "\n",
        "    return Zero\n",
        "\n",
        "  output1 = Open_set_categorical_crossentropy_trial_first(target,output)\n",
        "  output2 = Open_set_categorical_crossentropy_trial_second(target,output)\n",
        "  output = tf.math.add(output1,output2)\n",
        "\n",
        "  return output"
      ],
      "execution_count": null,
      "outputs": []
    },
    {
      "cell_type": "code",
      "metadata": {
        "colab": {
          "base_uri": "https://localhost:8080/"
        },
        "id": "Es5D3yVkG2uF",
        "outputId": "64bfb40a-2450-48e3-c100-9799bba8ad99"
      },
      "source": [
        "train_label[3]"
      ],
      "execution_count": null,
      "outputs": [
        {
          "data": {
            "text/plain": [
              "array([0., 0., 0., 0., 0., 0., 0., 0., 0., 0., 0., 0., 0., 0., 0., 0., 1.,\n",
              "       0., 0., 0., 0.], dtype=float32)"
            ]
          },
          "execution_count": 80,
          "metadata": {
            "tags": []
          },
          "output_type": "execute_result"
        }
      ]
    },
    {
      "cell_type": "code",
      "metadata": {
        "colab": {
          "base_uri": "https://localhost:8080/"
        },
        "id": "tZpzScJaKZhi",
        "outputId": "28c0fec7-9278-4753-a93a-101770b48b47"
      },
      "source": [
        "loss = Open_set_categorical_crossentropy_trial_total(Ignored_label, train_label[6])\n",
        "loss"
      ],
      "execution_count": null,
      "outputs": [
        {
          "data": {
            "text/plain": [
              "<tf.Tensor: shape=(), dtype=float32, numpy=15.312189>"
            ]
          },
          "execution_count": 94,
          "metadata": {
            "tags": []
          },
          "output_type": "execute_result"
        }
      ]
    },
    {
      "cell_type": "code",
      "metadata": {
        "id": "kDWQsRm0VtOG",
        "colab": {
          "base_uri": "https://localhost:8080/",
          "height": 201
        },
        "outputId": "a07680e7-7da3-434e-8919-c3801cde04db"
      },
      "source": [
        "prediction1_unknown = res_net1.predict(unseen_data_rescaled)\n",
        "prediction2_unknown = res_net2.predict(unseen_data_rescaled)\n",
        "prediction3_unknown = res_net3.predict(unseen_data_rescaled)\n",
        "prediction4_unknown = res_net4.predict(unseen_data_rescaled)\n",
        "prediction5_unknown = res_net5.predict(unseen_data_rescaled)"
      ],
      "execution_count": null,
      "outputs": [
        {
          "output_type": "error",
          "ename": "TypeError",
          "evalue": "ignored",
          "traceback": [
            "\u001b[0;31m---------------------------------------------------------------------------\u001b[0m",
            "\u001b[0;31mTypeError\u001b[0m                                 Traceback (most recent call last)",
            "\u001b[0;32m<ipython-input-37-bb45609e78f0>\u001b[0m in \u001b[0;36m<module>\u001b[0;34m()\u001b[0m\n\u001b[1;32m      4\u001b[0m \u001b[0mprediction4_unknown\u001b[0m \u001b[0;34m=\u001b[0m \u001b[0mres_net4\u001b[0m\u001b[0;34m.\u001b[0m\u001b[0mpredict\u001b[0m\u001b[0;34m(\u001b[0m\u001b[0munseen_data_rescaled\u001b[0m\u001b[0;34m)\u001b[0m\u001b[0;34m\u001b[0m\u001b[0;34m\u001b[0m\u001b[0m\n\u001b[1;32m      5\u001b[0m \u001b[0mprediction5_unknown\u001b[0m \u001b[0;34m=\u001b[0m \u001b[0mres_net5\u001b[0m\u001b[0;34m.\u001b[0m\u001b[0mpredict\u001b[0m\u001b[0;34m(\u001b[0m\u001b[0munseen_data_rescaled\u001b[0m\u001b[0;34m)\u001b[0m\u001b[0;34m\u001b[0m\u001b[0;34m\u001b[0m\u001b[0m\n\u001b[0;32m----> 6\u001b[0;31m \u001b[0mprediction_unknown\u001b[0m \u001b[0;34m=\u001b[0m \u001b[0;34m(\u001b[0m\u001b[0mprediction1_unknown\u001b[0m \u001b[0;34m+\u001b[0m \u001b[0mprediction2_unknown\u001b[0m \u001b[0;34m+\u001b[0m \u001b[0mprediction3_unknown\u001b[0m \u001b[0;34m+\u001b[0m \u001b[0mprediction4_unknown\u001b[0m \u001b[0;34m+\u001b[0m \u001b[0mprediction5_unknown\u001b[0m\u001b[0;34m)\u001b[0m\u001b[0;34m/\u001b[0m\u001b[0;36m5\u001b[0m\u001b[0;34m\u001b[0m\u001b[0;34m\u001b[0m\u001b[0m\n\u001b[0m",
            "\u001b[0;31mTypeError\u001b[0m: unsupported operand type(s) for /: 'list' and 'int'"
          ]
        }
      ]
    },
    {
      "cell_type": "code",
      "metadata": {
        "id": "v4JqYJXfWRQc"
      },
      "source": [
        "predictions_total = np.concatenate((prediction_test,prediction_unknown),axis=0)"
      ],
      "execution_count": null,
      "outputs": []
    },
    {
      "cell_type": "code",
      "metadata": {
        "id": "QQ7AjfaYWU44"
      },
      "source": [
        "Ignored_labels_total = np.zeros(10*500)\n",
        "for i in range(10*500):\n",
        "  Ignored_labels_total[i] = 20"
      ],
      "execution_count": null,
      "outputs": []
    },
    {
      "cell_type": "code",
      "metadata": {
        "colab": {
          "base_uri": "https://localhost:8080/"
        },
        "id": "ggmpw6cmWXHz",
        "outputId": "ff6bfaa2-303b-47ff-b066-31303b3409c4"
      },
      "source": [
        "predictions_total.shape"
      ],
      "execution_count": null,
      "outputs": [
        {
          "output_type": "execute_result",
          "data": {
            "text/plain": [
              "(15000, 21)"
            ]
          },
          "metadata": {},
          "execution_count": 37
        }
      ]
    },
    {
      "cell_type": "code",
      "metadata": {
        "id": "Iq1NqlDgWXM5"
      },
      "source": [
        "labels_total = np.concatenate((test_label,Ignored_labels_total),axis=0)"
      ],
      "execution_count": null,
      "outputs": []
    },
    {
      "cell_type": "code",
      "metadata": {
        "colab": {
          "base_uri": "https://localhost:8080/"
        },
        "id": "oMUS1lU0sijy",
        "outputId": "38b0af1b-b12e-4b7b-8be4-407306928bf8"
      },
      "source": [
        "!pip uninstall umap\n",
        "!pip install umap-learn\n",
        "import umap.umap_ as umap\n",
        "reducer = umap.UMAP()\n"
      ],
      "execution_count": null,
      "outputs": [
        {
          "output_type": "stream",
          "name": "stdout",
          "text": [
            "\u001b[33mWARNING: Skipping umap as it is not installed.\u001b[0m\n",
            "Collecting umap-learn\n",
            "  Downloading umap-learn-0.5.2.tar.gz (86 kB)\n",
            "\u001b[K     |████████████████████████████████| 86 kB 3.1 MB/s \n",
            "\u001b[?25hRequirement already satisfied: numpy>=1.17 in /usr/local/lib/python3.7/dist-packages (from umap-learn) (1.19.5)\n",
            "Requirement already satisfied: scikit-learn>=0.22 in /usr/local/lib/python3.7/dist-packages (from umap-learn) (0.22.2.post1)\n",
            "Requirement already satisfied: scipy>=1.0 in /usr/local/lib/python3.7/dist-packages (from umap-learn) (1.4.1)\n",
            "Requirement already satisfied: numba>=0.49 in /usr/local/lib/python3.7/dist-packages (from umap-learn) (0.51.2)\n",
            "Collecting pynndescent>=0.5\n",
            "  Downloading pynndescent-0.5.5.tar.gz (1.1 MB)\n",
            "\u001b[K     |████████████████████████████████| 1.1 MB 20.4 MB/s \n",
            "\u001b[?25hRequirement already satisfied: tqdm in /usr/local/lib/python3.7/dist-packages (from umap-learn) (4.62.3)\n",
            "Requirement already satisfied: llvmlite<0.35,>=0.34.0.dev0 in /usr/local/lib/python3.7/dist-packages (from numba>=0.49->umap-learn) (0.34.0)\n",
            "Requirement already satisfied: setuptools in /usr/local/lib/python3.7/dist-packages (from numba>=0.49->umap-learn) (57.4.0)\n",
            "Requirement already satisfied: joblib>=0.11 in /usr/local/lib/python3.7/dist-packages (from pynndescent>=0.5->umap-learn) (1.0.1)\n",
            "Building wheels for collected packages: umap-learn, pynndescent\n",
            "  Building wheel for umap-learn (setup.py) ... \u001b[?25l\u001b[?25hdone\n",
            "  Created wheel for umap-learn: filename=umap_learn-0.5.2-py3-none-any.whl size=82709 sha256=f1778e04b5beba76a17b92a579fd40cf6eaec2321a30357019e20baf39a24e20\n",
            "  Stored in directory: /root/.cache/pip/wheels/84/1b/c6/aaf68a748122632967cef4dffef68224eb16798b6793257d82\n",
            "  Building wheel for pynndescent (setup.py) ... \u001b[?25l\u001b[?25hdone\n",
            "  Created wheel for pynndescent: filename=pynndescent-0.5.5-py3-none-any.whl size=52603 sha256=8b53f41a76d90c1233459a4fa0f94cc6be539bdfe365a279fbf8435a12cbd41f\n",
            "  Stored in directory: /root/.cache/pip/wheels/af/e9/33/04db1436df0757c42fda8ea6796d7a8586e23c85fac355f476\n",
            "Successfully built umap-learn pynndescent\n",
            "Installing collected packages: pynndescent, umap-learn\n",
            "Successfully installed pynndescent-0.5.5 umap-learn-0.5.2\n"
          ]
        }
      ]
    },
    {
      "cell_type": "code",
      "metadata": {
        "id": "-q_cUwB1y_b4",
        "colab": {
          "base_uri": "https://localhost:8080/"
        },
        "outputId": "8bad7840-c225-4faf-9c4a-9496fa929d1c"
      },
      "source": [
        "mapper2 = umap.UMAP().fit(predictions_total)"
      ],
      "execution_count": null,
      "outputs": [
        {
          "output_type": "stream",
          "name": "stderr",
          "text": [
            "/usr/local/lib/python3.7/dist-packages/numba/np/ufunc/parallel.py:363: NumbaWarning: The TBB threading layer requires TBB version 2019.5 or later i.e., TBB_INTERFACE_VERSION >= 11005. Found TBB_INTERFACE_VERSION = 9107. The TBB threading layer is disabled.\n",
            "  warnings.warn(problem)\n"
          ]
        }
      ]
    },
    {
      "cell_type": "code",
      "metadata": {
        "colab": {
          "base_uri": "https://localhost:8080/",
          "height": 1000
        },
        "id": "FbGmpVW7xq5N",
        "outputId": "a1281cab-c9a0-42c9-f203-1d950354db9a"
      },
      "source": [
        "import umap\n",
        "!pip install umap-learn[plot]\n",
        "\n",
        "import umap.plot"
      ],
      "execution_count": null,
      "outputs": [
        {
          "output_type": "stream",
          "name": "stdout",
          "text": [
            "Requirement already satisfied: umap-learn[plot] in /usr/local/lib/python3.7/dist-packages (0.5.2)\n",
            "Requirement already satisfied: numpy>=1.17 in /usr/local/lib/python3.7/dist-packages (from umap-learn[plot]) (1.19.5)\n",
            "Requirement already satisfied: numba>=0.49 in /usr/local/lib/python3.7/dist-packages (from umap-learn[plot]) (0.51.2)\n",
            "Requirement already satisfied: pynndescent>=0.5 in /usr/local/lib/python3.7/dist-packages (from umap-learn[plot]) (0.5.5)\n",
            "Requirement already satisfied: scipy>=1.0 in /usr/local/lib/python3.7/dist-packages (from umap-learn[plot]) (1.4.1)\n",
            "Requirement already satisfied: tqdm in /usr/local/lib/python3.7/dist-packages (from umap-learn[plot]) (4.62.3)\n",
            "Requirement already satisfied: scikit-learn>=0.22 in /usr/local/lib/python3.7/dist-packages (from umap-learn[plot]) (0.22.2.post1)\n",
            "Requirement already satisfied: colorcet in /usr/local/lib/python3.7/dist-packages (from umap-learn[plot]) (2.0.6)\n",
            "Requirement already satisfied: matplotlib in /usr/local/lib/python3.7/dist-packages (from umap-learn[plot]) (3.2.2)\n",
            "Requirement already satisfied: pandas in /usr/local/lib/python3.7/dist-packages (from umap-learn[plot]) (1.1.5)\n",
            "Collecting datashader\n",
            "  Downloading datashader-0.13.0-py2.py3-none-any.whl (15.8 MB)\n",
            "\u001b[K     |████████████████████████████████| 15.8 MB 581 bytes/s \n",
            "\u001b[?25hRequirement already satisfied: seaborn in /usr/local/lib/python3.7/dist-packages (from umap-learn[plot]) (0.11.2)\n",
            "Requirement already satisfied: holoviews in /usr/local/lib/python3.7/dist-packages (from umap-learn[plot]) (1.14.6)\n",
            "Requirement already satisfied: scikit-image in /usr/local/lib/python3.7/dist-packages (from umap-learn[plot]) (0.16.2)\n",
            "Requirement already satisfied: bokeh in /usr/local/lib/python3.7/dist-packages (from umap-learn[plot]) (2.3.3)\n",
            "Requirement already satisfied: llvmlite<0.35,>=0.34.0.dev0 in /usr/local/lib/python3.7/dist-packages (from numba>=0.49->umap-learn[plot]) (0.34.0)\n",
            "Requirement already satisfied: setuptools in /usr/local/lib/python3.7/dist-packages (from numba>=0.49->umap-learn[plot]) (57.4.0)\n",
            "Requirement already satisfied: joblib>=0.11 in /usr/local/lib/python3.7/dist-packages (from pynndescent>=0.5->umap-learn[plot]) (1.0.1)\n",
            "Requirement already satisfied: Jinja2>=2.9 in /usr/local/lib/python3.7/dist-packages (from bokeh->umap-learn[plot]) (2.11.3)\n",
            "Requirement already satisfied: PyYAML>=3.10 in /usr/local/lib/python3.7/dist-packages (from bokeh->umap-learn[plot]) (3.13)\n",
            "Requirement already satisfied: pillow>=7.1.0 in /usr/local/lib/python3.7/dist-packages (from bokeh->umap-learn[plot]) (7.1.2)\n",
            "Requirement already satisfied: typing-extensions>=3.7.4 in /usr/local/lib/python3.7/dist-packages (from bokeh->umap-learn[plot]) (3.7.4.3)\n",
            "Requirement already satisfied: packaging>=16.8 in /usr/local/lib/python3.7/dist-packages (from bokeh->umap-learn[plot]) (21.0)\n",
            "Requirement already satisfied: tornado>=5.1 in /usr/local/lib/python3.7/dist-packages (from bokeh->umap-learn[plot]) (5.1.1)\n",
            "Requirement already satisfied: python-dateutil>=2.1 in /usr/local/lib/python3.7/dist-packages (from bokeh->umap-learn[plot]) (2.8.2)\n",
            "Requirement already satisfied: MarkupSafe>=0.23 in /usr/local/lib/python3.7/dist-packages (from Jinja2>=2.9->bokeh->umap-learn[plot]) (2.0.1)\n",
            "Requirement already satisfied: pyparsing>=2.0.2 in /usr/local/lib/python3.7/dist-packages (from packaging>=16.8->bokeh->umap-learn[plot]) (2.4.7)\n",
            "Requirement already satisfied: six>=1.5 in /usr/local/lib/python3.7/dist-packages (from python-dateutil>=2.1->bokeh->umap-learn[plot]) (1.15.0)\n",
            "Requirement already satisfied: pyct>=0.4.4 in /usr/local/lib/python3.7/dist-packages (from colorcet->umap-learn[plot]) (0.4.8)\n",
            "Requirement already satisfied: param>=1.7.0 in /usr/local/lib/python3.7/dist-packages (from colorcet->umap-learn[plot]) (1.11.1)\n",
            "Requirement already satisfied: dask[complete]>=0.18.0 in /usr/local/lib/python3.7/dist-packages (from datashader->umap-learn[plot]) (2.12.0)\n",
            "Requirement already satisfied: xarray>=0.9.6 in /usr/local/lib/python3.7/dist-packages (from datashader->umap-learn[plot]) (0.18.2)\n",
            "Collecting datashape>=0.5.1\n",
            "  Downloading datashape-0.5.2.tar.gz (76 kB)\n",
            "\u001b[K     |████████████████████████████████| 76 kB 4.1 MB/s \n",
            "\u001b[?25hCollecting distributed>=2.0\n",
            "  Downloading distributed-2021.10.0-py3-none-any.whl (791 kB)\n",
            "\u001b[K     |████████████████████████████████| 791 kB 44.6 MB/s \n",
            "\u001b[?25hRequirement already satisfied: toolz>=0.7.3 in /usr/local/lib/python3.7/dist-packages (from dask[complete]>=0.18.0->datashader->umap-learn[plot]) (0.11.1)\n",
            "Requirement already satisfied: cloudpickle>=0.2.1 in /usr/local/lib/python3.7/dist-packages (from dask[complete]>=0.18.0->datashader->umap-learn[plot]) (1.3.0)\n",
            "Collecting fsspec>=0.6.0\n",
            "  Downloading fsspec-2021.10.1-py3-none-any.whl (125 kB)\n",
            "\u001b[K     |████████████████████████████████| 125 kB 56.1 MB/s \n",
            "\u001b[?25hCollecting partd>=0.3.10\n",
            "  Downloading partd-1.2.0-py3-none-any.whl (19 kB)\n",
            "Collecting multipledispatch>=0.4.7\n",
            "  Downloading multipledispatch-0.6.0-py3-none-any.whl (11 kB)\n",
            "Requirement already satisfied: zict>=0.1.3 in /usr/local/lib/python3.7/dist-packages (from distributed>=2.0->dask[complete]>=0.18.0->datashader->umap-learn[plot]) (2.0.0)\n",
            "Collecting cloudpickle>=0.2.1\n",
            "  Downloading cloudpickle-2.0.0-py3-none-any.whl (25 kB)\n",
            "Requirement already satisfied: sortedcontainers!=2.0.0,!=2.0.1 in /usr/local/lib/python3.7/dist-packages (from distributed>=2.0->dask[complete]>=0.18.0->datashader->umap-learn[plot]) (2.4.0)\n",
            "Requirement already satisfied: msgpack>=0.6.0 in /usr/local/lib/python3.7/dist-packages (from distributed>=2.0->dask[complete]>=0.18.0->datashader->umap-learn[plot]) (1.0.2)\n",
            "Collecting distributed>=2.0\n",
            "  Downloading distributed-2021.9.1-py3-none-any.whl (786 kB)\n",
            "\u001b[K     |████████████████████████████████| 786 kB 32.7 MB/s \n",
            "\u001b[?25h  Downloading distributed-2021.9.0-py3-none-any.whl (779 kB)\n",
            "\u001b[K     |████████████████████████████████| 779 kB 46.2 MB/s \n",
            "\u001b[?25h  Downloading distributed-2021.8.1-py3-none-any.whl (778 kB)\n",
            "\u001b[K     |████████████████████████████████| 778 kB 45.1 MB/s \n",
            "\u001b[?25h  Downloading distributed-2021.8.0-py3-none-any.whl (776 kB)\n",
            "\u001b[K     |████████████████████████████████| 776 kB 44.3 MB/s \n",
            "\u001b[?25hRequirement already satisfied: tblib>=1.6.0 in /usr/local/lib/python3.7/dist-packages (from distributed>=2.0->dask[complete]>=0.18.0->datashader->umap-learn[plot]) (1.7.0)\n",
            "  Downloading distributed-2021.7.2-py3-none-any.whl (769 kB)\n",
            "\u001b[K     |████████████████████████████████| 769 kB 32.8 MB/s \n",
            "\u001b[?25h  Downloading distributed-2021.7.1-py3-none-any.whl (766 kB)\n",
            "\u001b[K     |████████████████████████████████| 766 kB 45.3 MB/s \n",
            "\u001b[?25h  Downloading distributed-2021.7.0-py3-none-any.whl (1.0 MB)\n",
            "\u001b[K     |████████████████████████████████| 1.0 MB 33.0 MB/s \n",
            "\u001b[?25h  Downloading distributed-2021.6.2-py3-none-any.whl (722 kB)\n",
            "\u001b[K     |████████████████████████████████| 722 kB 38.2 MB/s \n",
            "\u001b[?25h  Downloading distributed-2021.6.1-py3-none-any.whl (722 kB)\n",
            "\u001b[K     |████████████████████████████████| 722 kB 49.7 MB/s \n",
            "\u001b[?25h  Downloading distributed-2021.6.0-py3-none-any.whl (715 kB)\n",
            "\u001b[K     |████████████████████████████████| 715 kB 47.5 MB/s \n",
            "\u001b[?25h  Downloading distributed-2021.5.1-py3-none-any.whl (705 kB)\n",
            "\u001b[K     |████████████████████████████████| 705 kB 39.7 MB/s \n",
            "\u001b[?25h  Downloading distributed-2021.5.0-py3-none-any.whl (699 kB)\n",
            "\u001b[K     |████████████████████████████████| 699 kB 48.3 MB/s \n",
            "\u001b[?25h  Downloading distributed-2021.4.1-py3-none-any.whl (696 kB)\n",
            "\u001b[K     |████████████████████████████████| 696 kB 49.3 MB/s \n",
            "\u001b[?25h  Downloading distributed-2021.4.0-py3-none-any.whl (684 kB)\n",
            "\u001b[K     |████████████████████████████████| 684 kB 54.2 MB/s \n",
            "\u001b[?25h  Downloading distributed-2021.3.1-py3-none-any.whl (679 kB)\n",
            "\u001b[K     |████████████████████████████████| 679 kB 44.2 MB/s \n",
            "\u001b[?25h  Downloading distributed-2021.3.0-py3-none-any.whl (675 kB)\n",
            "\u001b[K     |████████████████████████████████| 675 kB 37.0 MB/s \n",
            "\u001b[?25h  Downloading distributed-2021.2.0-py3-none-any.whl (675 kB)\n",
            "\u001b[K     |████████████████████████████████| 675 kB 40.8 MB/s \n",
            "\u001b[?25h  Downloading distributed-2021.1.1-py3-none-any.whl (672 kB)\n",
            "\u001b[K     |████████████████████████████████| 672 kB 45.4 MB/s \n",
            "\u001b[?25h  Downloading distributed-2021.1.0-py3-none-any.whl (671 kB)\n",
            "\u001b[K     |████████████████████████████████| 671 kB 45.6 MB/s \n",
            "\u001b[?25h  Downloading distributed-2020.12.0-py3-none-any.whl (669 kB)\n",
            "\u001b[K     |████████████████████████████████| 669 kB 48.5 MB/s \n",
            "\u001b[?25h  Downloading distributed-2.30.1-py3-none-any.whl (656 kB)\n",
            "\u001b[K     |████████████████████████████████| 656 kB 50.5 MB/s \n",
            "\u001b[?25hRequirement already satisfied: psutil>=5.0 in /usr/local/lib/python3.7/dist-packages (from distributed>=2.0->dask[complete]>=0.18.0->datashader->umap-learn[plot]) (5.4.8)\n",
            "Requirement already satisfied: click>=6.6 in /usr/local/lib/python3.7/dist-packages (from distributed>=2.0->dask[complete]>=0.18.0->datashader->umap-learn[plot]) (7.1.2)\n",
            "Requirement already satisfied: pytz>=2017.2 in /usr/local/lib/python3.7/dist-packages (from pandas->umap-learn[plot]) (2018.9)\n",
            "Collecting locket\n",
            "  Downloading locket-0.2.1-py2.py3-none-any.whl (4.1 kB)\n",
            "Requirement already satisfied: heapdict in /usr/local/lib/python3.7/dist-packages (from zict>=0.1.3->distributed>=2.0->dask[complete]>=0.18.0->datashader->umap-learn[plot]) (1.0.1)\n",
            "Requirement already satisfied: panel>=0.8.0 in /usr/local/lib/python3.7/dist-packages (from holoviews->umap-learn[plot]) (0.12.1)\n",
            "Requirement already satisfied: pyviz-comms>=0.7.4 in /usr/local/lib/python3.7/dist-packages (from holoviews->umap-learn[plot]) (2.1.0)\n",
            "Requirement already satisfied: requests in /usr/local/lib/python3.7/dist-packages (from panel>=0.8.0->holoviews->umap-learn[plot]) (2.23.0)\n",
            "Requirement already satisfied: bleach in /usr/local/lib/python3.7/dist-packages (from panel>=0.8.0->holoviews->umap-learn[plot]) (4.1.0)\n",
            "Requirement already satisfied: markdown in /usr/local/lib/python3.7/dist-packages (from panel>=0.8.0->holoviews->umap-learn[plot]) (3.3.4)\n",
            "Requirement already satisfied: webencodings in /usr/local/lib/python3.7/dist-packages (from bleach->panel>=0.8.0->holoviews->umap-learn[plot]) (0.5.1)\n",
            "Requirement already satisfied: importlib-metadata in /usr/local/lib/python3.7/dist-packages (from markdown->panel>=0.8.0->holoviews->umap-learn[plot]) (4.8.1)\n",
            "Requirement already satisfied: zipp>=0.5 in /usr/local/lib/python3.7/dist-packages (from importlib-metadata->markdown->panel>=0.8.0->holoviews->umap-learn[plot]) (3.6.0)\n",
            "Requirement already satisfied: cycler>=0.10 in /usr/local/lib/python3.7/dist-packages (from matplotlib->umap-learn[plot]) (0.10.0)\n",
            "Requirement already satisfied: kiwisolver>=1.0.1 in /usr/local/lib/python3.7/dist-packages (from matplotlib->umap-learn[plot]) (1.3.2)\n",
            "Requirement already satisfied: chardet<4,>=3.0.2 in /usr/local/lib/python3.7/dist-packages (from requests->panel>=0.8.0->holoviews->umap-learn[plot]) (3.0.4)\n",
            "Requirement already satisfied: idna<3,>=2.5 in /usr/local/lib/python3.7/dist-packages (from requests->panel>=0.8.0->holoviews->umap-learn[plot]) (2.10)\n",
            "Requirement already satisfied: certifi>=2017.4.17 in /usr/local/lib/python3.7/dist-packages (from requests->panel>=0.8.0->holoviews->umap-learn[plot]) (2021.5.30)\n",
            "Requirement already satisfied: urllib3!=1.25.0,!=1.25.1,<1.26,>=1.21.1 in /usr/local/lib/python3.7/dist-packages (from requests->panel>=0.8.0->holoviews->umap-learn[plot]) (1.24.3)\n",
            "Requirement already satisfied: networkx>=2.0 in /usr/local/lib/python3.7/dist-packages (from scikit-image->umap-learn[plot]) (2.6.3)\n",
            "Requirement already satisfied: imageio>=2.3.0 in /usr/local/lib/python3.7/dist-packages (from scikit-image->umap-learn[plot]) (2.4.1)\n",
            "Requirement already satisfied: PyWavelets>=0.4.0 in /usr/local/lib/python3.7/dist-packages (from scikit-image->umap-learn[plot]) (1.1.1)\n",
            "Building wheels for collected packages: datashape\n",
            "  Building wheel for datashape (setup.py) ... \u001b[?25l\u001b[?25hdone\n",
            "  Created wheel for datashape: filename=datashape-0.5.2-py3-none-any.whl size=59438 sha256=dde8ff032632c23797e0cec18fe80a98c8221e0676254ba687ba2d173ad22a29\n",
            "  Stored in directory: /root/.cache/pip/wheels/b5/b7/80/333a5c3312ed4cd54f5d5b869868c14e0c6002cb5c7238b52d\n",
            "Successfully built datashape\n",
            "Installing collected packages: locket, cloudpickle, partd, multipledispatch, fsspec, distributed, datashape, datashader\n",
            "  Attempting uninstall: cloudpickle\n",
            "    Found existing installation: cloudpickle 1.3.0\n",
            "    Uninstalling cloudpickle-1.3.0:\n",
            "      Successfully uninstalled cloudpickle-1.3.0\n",
            "  Attempting uninstall: distributed\n",
            "    Found existing installation: distributed 1.25.3\n",
            "    Uninstalling distributed-1.25.3:\n",
            "      Successfully uninstalled distributed-1.25.3\n",
            "\u001b[31mERROR: pip's dependency resolver does not currently take into account all the packages that are installed. This behaviour is the source of the following dependency conflicts.\n",
            "gym 0.17.3 requires cloudpickle<1.7.0,>=1.2.0, but you have cloudpickle 2.0.0 which is incompatible.\u001b[0m\n",
            "Successfully installed cloudpickle-2.0.0 datashader-0.13.0 datashape-0.5.2 distributed-2.30.1 fsspec-2021.10.1 locket-0.2.1 multipledispatch-0.6.0 partd-1.2.0\n"
          ]
        },
        {
          "output_type": "display_data",
          "data": {
            "application/vnd.colab-display-data+json": {
              "pip_warning": {
                "packages": [
                  "cloudpickle"
                ]
              }
            }
          },
          "metadata": {}
        }
      ]
    },
    {
      "cell_type": "code",
      "metadata": {
        "colab": {
          "base_uri": "https://localhost:8080/",
          "height": 655
        },
        "id": "atqp6J9myWdJ",
        "outputId": "f95832d9-cfc0-4b82-f997-6310f0026838"
      },
      "source": [
        "umap.plot.points(mapper2, labels=labels_total)"
      ],
      "execution_count": null,
      "outputs": [
        {
          "output_type": "execute_result",
          "data": {
            "text/plain": [
              "<matplotlib.axes._subplots.AxesSubplot at 0x7fbf084adb90>"
            ]
          },
          "metadata": {},
          "execution_count": 42
        },
        {
          "output_type": "display_data",
          "data": {
            "image/png": "[encoded data removed]",
            "text/plain": [
              "<Figure size 800x800 with 1 Axes>"
            ]
          },
          "metadata": {}
        }
      ]
    },
    {
      "cell_type": "code",
      "metadata": {
        "id": "1pi-HYfAjZvc"
      },
      "source": [
        "c = [\"DL Alpha Alanine\",\"DL Aspartic Acid\",\"DL Isoleucine\",\"DL Leucine\",\n",
        "\"DL Methionine\", \"DL Phenylalanine\"\n",
        ", \"DL Serine\"\n",
        ", \"DL Threonine\"\n",
        ", \"DL Tyrosine\"\n",
        ", \"DL Valine\", \"Glycine\"\n",
        ", \"L Arginine HCl\"\n",
        ",\"L Asparagine Monohydrate\"\n",
        ", \"L Cystine\", \"L Glutamic Acid\",\"L Histidine HCl\",\n",
        "\"L Lysine HCl\",\n",
        "\"L (+) Cysteine HCl\",\n",
        " \"L Proline\",\"L Tryptophan\", \"Never seen before\"]"
      ],
      "execution_count": null,
      "outputs": []
    },
    {
      "cell_type": "code",
      "metadata": {
        "id": "SE4c4GWAjm1r",
        "colab": {
          "base_uri": "https://localhost:8080/",
          "height": 594
        },
        "outputId": "3062caf0-a88a-4aef-f8c9-bef9f933a298"
      },
      "source": [
        "embedding = umap.UMAP(n_neighbors=15,min_dist=0.1).fit_transform(predictions_total)\n",
        "\n",
        "target = np.hstack(labels_total)\n",
        "\n",
        "fig, ax = plt.subplots(1, figsize=(14, 10))\n",
        "plt.scatter(*embedding.T, s=0.3, c=target, cmap='Spectral', alpha=1.0)\n",
        "plt.setp(ax, xticks=[], yticks=[])\n",
        "cbar = plt.colorbar(boundaries=np.arange(22) -0.5)\n",
        "cbar.set_ticks(np.arange(21))\n",
        "cbar.set_ticklabels(c)\n",
        "plt.title('Objectosphere');"
      ],
      "execution_count": null,
      "outputs": [
        {
          "output_type": "display_data",
          "data": {
            "image/png": "[encoded data removed]",
            "text/plain": [
              "<Figure size 1008x720 with 2 Axes>"
            ]
          },
          "metadata": {
            "needs_background": "light"
          }
        }
      ]
    },
    {
      "cell_type": "code",
      "metadata": {
        "id": "WGkNlLcgX-uX"
      },
      "source": [
        "def misclassifyunknown(threshold):\n",
        "  misclassifyunknown = 0\n",
        "  for i in range(prediction_unknown.shape[0]):\n",
        "    if max(prediction_unknown[i]) > threshold:\n",
        "      misclassifyunknown += 1\n",
        "  return misclassifyunknown/(prediction_unknown.shape[0])"
      ],
      "execution_count": null,
      "outputs": []
    },
    {
      "cell_type": "code",
      "metadata": {
        "id": "Llq8Msb8ivMh",
        "colab": {
          "base_uri": "https://localhost:8080/"
        },
        "outputId": "ed38fda2-e688-4474-96c2-8946f7177298"
      },
      "source": [
        "misclassifyunknown(0.93)"
      ],
      "execution_count": null,
      "outputs": [
        {
          "output_type": "execute_result",
          "data": {
            "text/plain": [
              "0.0"
            ]
          },
          "metadata": {},
          "execution_count": 47
        }
      ]
    },
    {
      "cell_type": "code",
      "metadata": {
        "colab": {
          "base_uri": "https://localhost:8080/"
        },
        "id": "WYY70aXUsb9e",
        "outputId": "1a12a4e3-e3ca-4d40-fa15-9ce4695e1e81"
      },
      "source": [
        "UnknownMisclassify = []\n",
        "for i in range(90):\n",
        "  UnknownMisclassify.append([0.1 + 0.01*i,100*misclassifyunknown(0.1 + 0.01*i)])\n",
        "for i in range(10):\n",
        "  UnknownMisclassify.append([0.99 + 0.001*i,100*misclassifyunknown(0.99 + 0.001*i)])\n",
        "UnknownMisclassify"
      ],
      "execution_count": null,
      "outputs": [
        {
          "output_type": "execute_result",
          "data": {
            "text/plain": [
              "[[0.1, 100.0],\n",
              " [0.11, 100.0],\n",
              " [0.12000000000000001, 100.0],\n",
              " [0.13, 100.0],\n",
              " [0.14, 100.0],\n",
              " [0.15000000000000002, 100.0],\n",
              " [0.16, 100.0],\n",
              " [0.17, 100.0],\n",
              " [0.18, 99.96000000000001],\n",
              " [0.19, 99.78],\n",
              " [0.2, 99.22],\n",
              " [0.21000000000000002, 97.68],\n",
              " [0.22, 95.32000000000001],\n",
              " [0.23, 91.97999999999999],\n",
              " [0.24000000000000002, 88.5],\n",
              " [0.25, 85.64],\n",
              " [0.26, 82.48],\n",
              " [0.27, 80.17999999999999],\n",
              " [0.28, 78.0],\n",
              " [0.29000000000000004, 75.88000000000001],\n",
              " [0.30000000000000004, 73.54],\n",
              " [0.31, 71.44],\n",
              " [0.32, 69.14],\n",
              " [0.33, 67.12],\n",
              " [0.33999999999999997, 64.53999999999999],\n",
              " [0.35, 62.2],\n",
              " [0.36, 59.98],\n",
              " [0.37, 57.66],\n",
              " [0.38, 55.84],\n",
              " [0.39, 54.0],\n",
              " [0.4, 52.22],\n",
              " [0.41000000000000003, 50.62],\n",
              " [0.42000000000000004, 49.16],\n",
              " [0.43000000000000005, 47.92],\n",
              " [0.44000000000000006, 46.78],\n",
              " [0.45000000000000007, 45.92],\n",
              " [0.45999999999999996, 44.96],\n",
              " [0.47, 44.080000000000005],\n",
              " [0.48, 43.44],\n",
              " [0.49, 42.9],\n",
              " [0.5, 42.54],\n",
              " [0.51, 42.08],\n",
              " [0.52, 41.18],\n",
              " [0.53, 33.040000000000006],\n",
              " [0.54, 31.259999999999998],\n",
              " [0.55, 31.019999999999996],\n",
              " [0.56, 30.78],\n",
              " [0.5700000000000001, 30.620000000000005],\n",
              " [0.58, 30.42],\n",
              " [0.59, 30.240000000000002],\n",
              " [0.6, 30.2],\n",
              " [0.61, 30.12],\n",
              " [0.62, 30.080000000000002],\n",
              " [0.63, 30.04],\n",
              " [0.64, 29.98],\n",
              " [0.65, 29.92],\n",
              " [0.66, 29.9],\n",
              " [0.67, 29.86],\n",
              " [0.6799999999999999, 29.74],\n",
              " [0.69, 29.5],\n",
              " [0.7, 29.26],\n",
              " [0.71, 28.939999999999998],\n",
              " [0.72, 28.52],\n",
              " [0.73, 28.060000000000002],\n",
              " [0.74, 27.04],\n",
              " [0.75, 24.58],\n",
              " [0.76, 21.099999999999998],\n",
              " [0.77, 17.62],\n",
              " [0.78, 15.840000000000002],\n",
              " [0.79, 14.92],\n",
              " [0.8, 14.34],\n",
              " [0.8099999999999999, 13.86],\n",
              " [0.82, 12.9],\n",
              " [0.83, 12.16],\n",
              " [0.84, 11.459999999999999],\n",
              " [0.85, 11.0],\n",
              " [0.86, 10.42],\n",
              " [0.87, 9.74],\n",
              " [0.88, 7.739999999999999],\n",
              " [0.89, 4.02],\n",
              " [0.9, 0.98],\n",
              " [0.91, 0.2],\n",
              " [0.92, 0.06],\n",
              " [0.93, 0.0],\n",
              " [0.94, 0.0],\n",
              " [0.95, 0.0],\n",
              " [0.96, 0.0],\n",
              " [0.97, 0.0],\n",
              " [0.98, 0.0],\n",
              " [0.99, 0.0],\n",
              " [0.99, 0.0],\n",
              " [0.991, 0.0],\n",
              " [0.992, 0.0],\n",
              " [0.993, 0.0],\n",
              " [0.994, 0.0],\n",
              " [0.995, 0.0],\n",
              " [0.996, 0.0],\n",
              " [0.997, 0.0],\n",
              " [0.998, 0.0],\n",
              " [0.999, 0.0]]"
            ]
          },
          "metadata": {},
          "execution_count": 28
        }
      ]
    },
    {
      "cell_type": "code",
      "metadata": {
        "id": "J_cF7OeWYUqq"
      },
      "source": [
        "def thresholding(threshold):\n",
        "  true = 0\n",
        "  for i in range(prediction_test.shape[0]):\n",
        "    if prediction_test.argmax(axis=1)[i] == int(test_label[i]) and max(prediction_test[i]) > threshold:\n",
        "      true += 1\n",
        "  return true/(prediction_test.shape[0])"
      ],
      "execution_count": null,
      "outputs": []
    },
    {
      "cell_type": "code",
      "metadata": {
        "colab": {
          "base_uri": "https://localhost:8080/"
        },
        "id": "z6dE0NBmYZ0e",
        "outputId": "173caf87-27db-460b-e820-440743dab178"
      },
      "source": [
        "CorrectThresholding = []\n",
        "for i in range(90):\n",
        "  CorrectThresholding.append([0.1 + 0.01*i,100*thresholding(0.1 + 0.01*i)])\n",
        "for i in range(10):\n",
        "  CorrectThresholding.append([0.99 + 0.001*i,100*thresholding(0.99 + 0.001*i)])\n",
        "CorrectThresholding"
      ],
      "execution_count": null,
      "outputs": [
        {
          "output_type": "execute_result",
          "data": {
            "text/plain": [
              "[[0.1, 99.99],\n",
              " [0.11, 99.99],\n",
              " [0.12000000000000001, 99.99],\n",
              " [0.13, 99.99],\n",
              " [0.14, 99.99],\n",
              " [0.15000000000000002, 99.99],\n",
              " [0.16, 99.99],\n",
              " [0.17, 99.99],\n",
              " [0.18, 99.99],\n",
              " [0.19, 99.99],\n",
              " [0.2, 99.99],\n",
              " [0.21000000000000002, 99.99],\n",
              " [0.22, 99.99],\n",
              " [0.23, 99.99],\n",
              " [0.24000000000000002, 99.99],\n",
              " [0.25, 99.99],\n",
              " [0.26, 99.99],\n",
              " [0.27, 99.99],\n",
              " [0.28, 99.99],\n",
              " [0.29000000000000004, 99.99],\n",
              " [0.30000000000000004, 99.99],\n",
              " [0.31, 99.99],\n",
              " [0.32, 99.99],\n",
              " [0.33, 99.99],\n",
              " [0.33999999999999997, 99.99],\n",
              " [0.35, 99.99],\n",
              " [0.36, 99.99],\n",
              " [0.37, 99.99],\n",
              " [0.38, 99.98],\n",
              " [0.39, 99.98],\n",
              " [0.4, 99.98],\n",
              " [0.41000000000000003, 99.98],\n",
              " [0.42000000000000004, 99.98],\n",
              " [0.43000000000000005, 99.98],\n",
              " [0.44000000000000006, 99.98],\n",
              " [0.45000000000000007, 99.98],\n",
              " [0.45999999999999996, 99.98],\n",
              " [0.47, 99.98],\n",
              " [0.48, 99.98],\n",
              " [0.49, 99.98],\n",
              " [0.5, 99.98],\n",
              " [0.51, 99.98],\n",
              " [0.52, 99.97],\n",
              " [0.53, 99.97],\n",
              " [0.54, 99.97],\n",
              " [0.55, 99.97],\n",
              " [0.56, 99.97],\n",
              " [0.5700000000000001, 99.97],\n",
              " [0.58, 99.97],\n",
              " [0.59, 99.97],\n",
              " [0.6, 99.97],\n",
              " [0.61, 99.97],\n",
              " [0.62, 99.97],\n",
              " [0.63, 99.97],\n",
              " [0.64, 99.96000000000001],\n",
              " [0.65, 99.96000000000001],\n",
              " [0.66, 99.96000000000001],\n",
              " [0.67, 99.96000000000001],\n",
              " [0.6799999999999999, 99.96000000000001],\n",
              " [0.69, 99.96000000000001],\n",
              " [0.7, 99.96000000000001],\n",
              " [0.71, 99.96000000000001],\n",
              " [0.72, 99.96000000000001],\n",
              " [0.73, 99.96000000000001],\n",
              " [0.74, 99.96000000000001],\n",
              " [0.75, 99.96000000000001],\n",
              " [0.76, 99.95],\n",
              " [0.77, 99.94],\n",
              " [0.78, 99.91],\n",
              " [0.79, 99.86],\n",
              " [0.8, 99.79],\n",
              " [0.8099999999999999, 99.72],\n",
              " [0.82, 99.62],\n",
              " [0.83, 99.51],\n",
              " [0.84, 99.38],\n",
              " [0.85, 99.2],\n",
              " [0.86, 99.03999999999999],\n",
              " [0.87, 98.86],\n",
              " [0.88, 98.75],\n",
              " [0.89, 98.61],\n",
              " [0.9, 98.46000000000001],\n",
              " [0.91, 98.22],\n",
              " [0.92, 97.96000000000001],\n",
              " [0.93, 97.63],\n",
              " [0.94, 96.88],\n",
              " [0.95, 96.3],\n",
              " [0.96, 95.58],\n",
              " [0.97, 94.87],\n",
              " [0.98, 93.71000000000001],\n",
              " [0.99, 90.39],\n",
              " [0.99, 90.39],\n",
              " [0.991, 89.45],\n",
              " [0.992, 88.16000000000001],\n",
              " [0.993, 86.32],\n",
              " [0.994, 85.21],\n",
              " [0.995, 84.7],\n",
              " [0.996, 84.04],\n",
              " [0.997, 81.64],\n",
              " [0.998, 77.14999999999999],\n",
              " [0.999, 73.3]]"
            ]
          },
          "metadata": {},
          "execution_count": 30
        }
      ]
    },
    {
      "cell_type": "code",
      "metadata": {
        "id": "_0uIG6z7Yf3W"
      },
      "source": [
        "def dontknow(threshold):\n",
        "  notknown = 0\n",
        "  for i in range(prediction_test.shape[0]):\n",
        "    if max(prediction_test[i]) <= threshold:\n",
        "      notknown += 1\n",
        "  return notknown/(prediction_test.shape[0])"
      ],
      "execution_count": null,
      "outputs": []
    },
    {
      "cell_type": "code",
      "metadata": {
        "colab": {
          "base_uri": "https://localhost:8080/"
        },
        "id": "RQM_9EALYgna",
        "outputId": "36cc8886-4733-4edb-926f-6226b428e288"
      },
      "source": [
        "DontKnowThresholding = []\n",
        "for i in range(90):\n",
        "  DontKnowThresholding.append([0.1 + 0.01*i,100*dontknow(0.1 + 0.01*i)])\n",
        "for i in range(10):\n",
        "  DontKnowThresholding.append([0.99 + 0.001*i,100*dontknow(0.99 + 0.001*i)])\n",
        "DontKnowThresholding"
      ],
      "execution_count": null,
      "outputs": [
        {
          "output_type": "execute_result",
          "data": {
            "text/plain": [
              "[[0.1, 0.0],\n",
              " [0.11, 0.0],\n",
              " [0.12000000000000001, 0.0],\n",
              " [0.13, 0.0],\n",
              " [0.14, 0.0],\n",
              " [0.15000000000000002, 0.0],\n",
              " [0.16, 0.0],\n",
              " [0.17, 0.0],\n",
              " [0.18, 0.0],\n",
              " [0.19, 0.0],\n",
              " [0.2, 0.0],\n",
              " [0.21000000000000002, 0.0],\n",
              " [0.22, 0.0],\n",
              " [0.23, 0.0],\n",
              " [0.24000000000000002, 0.0],\n",
              " [0.25, 0.0],\n",
              " [0.26, 0.0],\n",
              " [0.27, 0.0],\n",
              " [0.28, 0.0],\n",
              " [0.29000000000000004, 0.0],\n",
              " [0.30000000000000004, 0.0],\n",
              " [0.31, 0.0],\n",
              " [0.32, 0.0],\n",
              " [0.33, 0.0],\n",
              " [0.33999999999999997, 0.0],\n",
              " [0.35, 0.01],\n",
              " [0.36, 0.01],\n",
              " [0.37, 0.01],\n",
              " [0.38, 0.02],\n",
              " [0.39, 0.02],\n",
              " [0.4, 0.02],\n",
              " [0.41000000000000003, 0.02],\n",
              " [0.42000000000000004, 0.02],\n",
              " [0.43000000000000005, 0.02],\n",
              " [0.44000000000000006, 0.02],\n",
              " [0.45000000000000007, 0.02],\n",
              " [0.45999999999999996, 0.02],\n",
              " [0.47, 0.02],\n",
              " [0.48, 0.02],\n",
              " [0.49, 0.02],\n",
              " [0.5, 0.02],\n",
              " [0.51, 0.02],\n",
              " [0.52, 0.03],\n",
              " [0.53, 0.03],\n",
              " [0.54, 0.03],\n",
              " [0.55, 0.03],\n",
              " [0.56, 0.03],\n",
              " [0.5700000000000001, 0.03],\n",
              " [0.58, 0.03],\n",
              " [0.59, 0.03],\n",
              " [0.6, 0.03],\n",
              " [0.61, 0.03],\n",
              " [0.62, 0.03],\n",
              " [0.63, 0.03],\n",
              " [0.64, 0.04],\n",
              " [0.65, 0.04],\n",
              " [0.66, 0.04],\n",
              " [0.67, 0.04],\n",
              " [0.6799999999999999, 0.04],\n",
              " [0.69, 0.04],\n",
              " [0.7, 0.04],\n",
              " [0.71, 0.04],\n",
              " [0.72, 0.04],\n",
              " [0.73, 0.04],\n",
              " [0.74, 0.04],\n",
              " [0.75, 0.04],\n",
              " [0.76, 0.05],\n",
              " [0.77, 0.06],\n",
              " [0.78, 0.09],\n",
              " [0.79, 0.13999999999999999],\n",
              " [0.8, 0.21],\n",
              " [0.8099999999999999, 0.27999999999999997],\n",
              " [0.82, 0.38],\n",
              " [0.83, 0.49],\n",
              " [0.84, 0.62],\n",
              " [0.85, 0.8],\n",
              " [0.86, 0.96],\n",
              " [0.87, 1.1400000000000001],\n",
              " [0.88, 1.25],\n",
              " [0.89, 1.39],\n",
              " [0.9, 1.54],\n",
              " [0.91, 1.78],\n",
              " [0.92, 2.04],\n",
              " [0.93, 2.37],\n",
              " [0.94, 3.1199999999999997],\n",
              " [0.95, 3.6999999999999997],\n",
              " [0.96, 4.42],\n",
              " [0.97, 5.13],\n",
              " [0.98, 6.29],\n",
              " [0.99, 9.610000000000001],\n",
              " [0.99, 9.610000000000001],\n",
              " [0.991, 10.549999999999999],\n",
              " [0.992, 11.84],\n",
              " [0.993, 13.68],\n",
              " [0.994, 14.790000000000001],\n",
              " [0.995, 15.299999999999999],\n",
              " [0.996, 15.959999999999999],\n",
              " [0.997, 18.360000000000003],\n",
              " [0.998, 22.85],\n",
              " [0.999, 26.700000000000003]]"
            ]
          },
          "metadata": {},
          "execution_count": 32
        }
      ]
    },
    {
      "cell_type": "code",
      "metadata": {
        "id": "bSAWafUNYkUj"
      },
      "source": [
        "prediction1_ignored = res_net1.predict(ignored_data_rescaled)\n",
        "prediction2_ignored = res_net2.predict(ignored_data_rescaled)\n",
        "prediction3_ignored = res_net3.predict(ignored_data_rescaled)\n",
        "prediction4_ignored = res_net4.predict(ignored_data_rescaled)\n",
        "prediction5_ignored = res_net5.predict(ignored_data_rescaled)\n",
        "\n",
        "prediction_ignored = (prediction1_ignored + prediction2_ignored + prediction3_ignored + prediction4_ignored + prediction5_ignored)/5"
      ],
      "execution_count": null,
      "outputs": []
    },
    {
      "cell_type": "code",
      "metadata": {
        "id": "aOCV2rOGYr-Q"
      },
      "source": [
        "def misclassifyignore(threshold):\n",
        "  misclassifyignore = 0\n",
        "  for i in range(prediction_ignored.shape[0]):\n",
        "    if max(prediction_ignored[i]) > threshold:\n",
        "      misclassifyignore += 1\n",
        "  return misclassifyignore/(prediction_ignored.shape[0])"
      ],
      "execution_count": null,
      "outputs": []
    },
    {
      "cell_type": "code",
      "metadata": {
        "colab": {
          "base_uri": "https://localhost:8080/"
        },
        "id": "Frei-UZ1YvBS",
        "outputId": "6d164419-58ec-456f-9052-cc5e6f53d808"
      },
      "source": [
        "IgnoreThresholding = []\n",
        "for i in range(90):\n",
        "  IgnoreThresholding.append([0.1 + 0.01*i,100*misclassifyignore(0.1 + 0.01*i)])\n",
        "for i in range(10):\n",
        "  IgnoreThresholding.append([0.99 + 0.001*i,100*misclassifyignore(0.99 + 0.001*i)])\n",
        "IgnoreThresholding"
      ],
      "execution_count": null,
      "outputs": [
        {
          "output_type": "execute_result",
          "data": {
            "text/plain": [
              "[[0.1, 100.0],\n",
              " [0.11, 100.0],\n",
              " [0.12000000000000001, 100.0],\n",
              " [0.13, 100.0],\n",
              " [0.14, 100.0],\n",
              " [0.15000000000000002, 100.0],\n",
              " [0.16, 100.0],\n",
              " [0.17, 99.996],\n",
              " [0.18, 99.976],\n",
              " [0.19, 99.71600000000001],\n",
              " [0.2, 98.10799999999999],\n",
              " [0.21000000000000002, 95.78],\n",
              " [0.22, 94.188],\n",
              " [0.23, 93.2],\n",
              " [0.24000000000000002, 92.392],\n",
              " [0.25, 91.508],\n",
              " [0.26, 90.58],\n",
              " [0.27, 89.916],\n",
              " [0.28, 89.452],\n",
              " [0.29000000000000004, 88.752],\n",
              " [0.30000000000000004, 87.272],\n",
              " [0.31, 85.652],\n",
              " [0.32, 84.152],\n",
              " [0.33, 82.772],\n",
              " [0.33999999999999997, 81.404],\n",
              " [0.35, 80.06400000000001],\n",
              " [0.36, 78.664],\n",
              " [0.37, 77.268],\n",
              " [0.38, 75.756],\n",
              " [0.39, 74.044],\n",
              " [0.4, 72.096],\n",
              " [0.41000000000000003, 69.65599999999999],\n",
              " [0.42000000000000004, 66.836],\n",
              " [0.43000000000000005, 64.404],\n",
              " [0.44000000000000006, 62.892],\n",
              " [0.45000000000000007, 61.712],\n",
              " [0.45999999999999996, 60.56399999999999],\n",
              " [0.47, 59.376],\n",
              " [0.48, 58.204],\n",
              " [0.49, 57.06],\n",
              " [0.5, 55.720000000000006],\n",
              " [0.51, 54.376000000000005],\n",
              " [0.52, 53.108],\n",
              " [0.53, 51.739999999999995],\n",
              " [0.54, 50.416000000000004],\n",
              " [0.55, 48.82],\n",
              " [0.56, 46.996],\n",
              " [0.5700000000000001, 45.084],\n",
              " [0.58, 43.136],\n",
              " [0.59, 41.28],\n",
              " [0.6, 39.300000000000004],\n",
              " [0.61, 37.272],\n",
              " [0.62, 35.144],\n",
              " [0.63, 32.944],\n",
              " [0.64, 30.864000000000004],\n",
              " [0.65, 29.004],\n",
              " [0.66, 27.028000000000002],\n",
              " [0.67, 24.064],\n",
              " [0.6799999999999999, 20.208000000000002],\n",
              " [0.69, 16.296],\n",
              " [0.7, 13.004],\n",
              " [0.71, 9.719999999999999],\n",
              " [0.72, 6.916],\n",
              " [0.73, 4.752],\n",
              " [0.74, 3.444],\n",
              " [0.75, 2.752],\n",
              " [0.76, 2.2800000000000002],\n",
              " [0.77, 1.908],\n",
              " [0.78, 1.5959999999999999],\n",
              " [0.79, 1.316],\n",
              " [0.8, 1.056],\n",
              " [0.8099999999999999, 0.8200000000000001],\n",
              " [0.82, 0.64],\n",
              " [0.83, 0.504],\n",
              " [0.84, 0.368],\n",
              " [0.85, 0.268],\n",
              " [0.86, 0.192],\n",
              " [0.87, 0.132],\n",
              " [0.88, 0.1],\n",
              " [0.89, 0.07200000000000001],\n",
              " [0.9, 0.052],\n",
              " [0.91, 0.04],\n",
              " [0.92, 0.027999999999999997],\n",
              " [0.93, 0.024],\n",
              " [0.94, 0.012],\n",
              " [0.95, 0.012],\n",
              " [0.96, 0.004],\n",
              " [0.97, 0.0],\n",
              " [0.98, 0.0],\n",
              " [0.99, 0.0],\n",
              " [0.99, 0.0],\n",
              " [0.991, 0.0],\n",
              " [0.992, 0.0],\n",
              " [0.993, 0.0],\n",
              " [0.994, 0.0],\n",
              " [0.995, 0.0],\n",
              " [0.996, 0.0],\n",
              " [0.997, 0.0],\n",
              " [0.998, 0.0],\n",
              " [0.999, 0.0]]"
            ]
          },
          "metadata": {},
          "execution_count": 35
        }
      ]
    },
    {
      "cell_type": "code",
      "metadata": {
        "id": "-OJtOZLdY3G1"
      },
      "source": [
        "def false_identify(threshold):\n",
        "  false_identify = 0\n",
        "  for i in range(prediction_test.shape[0]):\n",
        "    if prediction_test.argmax(axis=1)[i] != int(test_label[i]) and max(prediction_test[i]) > threshold:\n",
        "      false_identify += 1\n",
        "  return false_identify/(prediction_test.shape[0])"
      ],
      "execution_count": null,
      "outputs": []
    },
    {
      "cell_type": "code",
      "metadata": {
        "colab": {
          "base_uri": "https://localhost:8080/"
        },
        "id": "m1xGkfQbY60t",
        "outputId": "8ac482ad-d007-4180-8d98-8283438f0557"
      },
      "source": [
        "FalseIdentify = []\n",
        "for i in range(90):\n",
        "  FalseIdentify.append([0.1 + 0.01*i,100*false_identify(0.1 + 0.01*i)])\n",
        "for i in range(10):\n",
        "  FalseIdentify.append([0.99 + 0.001*i,100*false_identify(0.99 + 0.001*i)])\n",
        "FalseIdentify"
      ],
      "execution_count": null,
      "outputs": [
        {
          "output_type": "execute_result",
          "data": {
            "text/plain": [
              "[[0.1, 0.01],\n",
              " [0.11, 0.01],\n",
              " [0.12000000000000001, 0.01],\n",
              " [0.13, 0.01],\n",
              " [0.14, 0.01],\n",
              " [0.15000000000000002, 0.01],\n",
              " [0.16, 0.01],\n",
              " [0.17, 0.01],\n",
              " [0.18, 0.01],\n",
              " [0.19, 0.01],\n",
              " [0.2, 0.01],\n",
              " [0.21000000000000002, 0.01],\n",
              " [0.22, 0.01],\n",
              " [0.23, 0.01],\n",
              " [0.24000000000000002, 0.01],\n",
              " [0.25, 0.01],\n",
              " [0.26, 0.01],\n",
              " [0.27, 0.01],\n",
              " [0.28, 0.01],\n",
              " [0.29000000000000004, 0.01],\n",
              " [0.30000000000000004, 0.01],\n",
              " [0.31, 0.01],\n",
              " [0.32, 0.01],\n",
              " [0.33, 0.01],\n",
              " [0.33999999999999997, 0.01],\n",
              " [0.35, 0.0],\n",
              " [0.36, 0.0],\n",
              " [0.37, 0.0],\n",
              " [0.38, 0.0],\n",
              " [0.39, 0.0],\n",
              " [0.4, 0.0],\n",
              " [0.41000000000000003, 0.0],\n",
              " [0.42000000000000004, 0.0],\n",
              " [0.43000000000000005, 0.0],\n",
              " [0.44000000000000006, 0.0],\n",
              " [0.45000000000000007, 0.0],\n",
              " [0.45999999999999996, 0.0],\n",
              " [0.47, 0.0],\n",
              " [0.48, 0.0],\n",
              " [0.49, 0.0],\n",
              " [0.5, 0.0],\n",
              " [0.51, 0.0],\n",
              " [0.52, 0.0],\n",
              " [0.53, 0.0],\n",
              " [0.54, 0.0],\n",
              " [0.55, 0.0],\n",
              " [0.56, 0.0],\n",
              " [0.5700000000000001, 0.0],\n",
              " [0.58, 0.0],\n",
              " [0.59, 0.0],\n",
              " [0.6, 0.0],\n",
              " [0.61, 0.0],\n",
              " [0.62, 0.0],\n",
              " [0.63, 0.0],\n",
              " [0.64, 0.0],\n",
              " [0.65, 0.0],\n",
              " [0.66, 0.0],\n",
              " [0.67, 0.0],\n",
              " [0.6799999999999999, 0.0],\n",
              " [0.69, 0.0],\n",
              " [0.7, 0.0],\n",
              " [0.71, 0.0],\n",
              " [0.72, 0.0],\n",
              " [0.73, 0.0],\n",
              " [0.74, 0.0],\n",
              " [0.75, 0.0],\n",
              " [0.76, 0.0],\n",
              " [0.77, 0.0],\n",
              " [0.78, 0.0],\n",
              " [0.79, 0.0],\n",
              " [0.8, 0.0],\n",
              " [0.8099999999999999, 0.0],\n",
              " [0.82, 0.0],\n",
              " [0.83, 0.0],\n",
              " [0.84, 0.0],\n",
              " [0.85, 0.0],\n",
              " [0.86, 0.0],\n",
              " [0.87, 0.0],\n",
              " [0.88, 0.0],\n",
              " [0.89, 0.0],\n",
              " [0.9, 0.0],\n",
              " [0.91, 0.0],\n",
              " [0.92, 0.0],\n",
              " [0.93, 0.0],\n",
              " [0.94, 0.0],\n",
              " [0.95, 0.0],\n",
              " [0.96, 0.0],\n",
              " [0.97, 0.0],\n",
              " [0.98, 0.0],\n",
              " [0.99, 0.0],\n",
              " [0.99, 0.0],\n",
              " [0.991, 0.0],\n",
              " [0.992, 0.0],\n",
              " [0.993, 0.0],\n",
              " [0.994, 0.0],\n",
              " [0.995, 0.0],\n",
              " [0.996, 0.0],\n",
              " [0.997, 0.0],\n",
              " [0.998, 0.0],\n",
              " [0.999, 0.0]]"
            ]
          },
          "metadata": {},
          "execution_count": 37
        }
      ]
    },
    {
      "cell_type": "code",
      "metadata": {
        "id": "xih_ACAOYkX5"
      },
      "source": [
        ""
      ],
      "execution_count": null,
      "outputs": []
    }
  ]
}