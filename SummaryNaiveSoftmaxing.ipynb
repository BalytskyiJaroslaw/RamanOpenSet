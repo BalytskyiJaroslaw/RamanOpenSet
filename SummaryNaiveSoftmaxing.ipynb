{
  "nbformat": 4,
  "nbformat_minor": 0,
  "metadata": {
    "colab": {
      "name": "NaiveSoftmaxing.ipynb",
      "provenance": [],
      "collapsed_sections": []
    },
    "kernelspec": {
      "name": "python3",
      "display_name": "Python 3"
    },
    "language_info": {
      "name": "python"
    },
    "accelerator": "TPU"
  },
  "cells": [
    {
      "cell_type": "markdown",
      "metadata": {
        "id": "yeaeMeLBmXgy"
      },
      "source": [
        "#Importing the libraries"
      ]
    },
    {
      "cell_type": "code",
      "metadata": {
        "id": "jh2gBv0HfEef"
      },
      "source": [
        "from __future__ import absolute_import\n",
        "from __future__ import print_function\n",
        "\n",
        "import numpy as np\n",
        "from numpy import genfromtxt\n",
        "\n",
        "import pandas as pd\n",
        "from pandas import ExcelWriter\n",
        "from pandas import ExcelFile\n",
        "from pandas import read_csv\n",
        "\n",
        "import csv\n",
        "import pprint\n",
        "\n",
        "import tensorflow as tf\n",
        "from tensorflow import keras \n",
        "from tensorflow.keras import layers, models\n",
        "\n",
        "import keras\n",
        "from pandas import read_csv\n",
        "from keras.models import Sequential\n",
        "from keras import layers\n",
        "#from keras.optimizers import SGD\n",
        "from keras import regularizers\n",
        "from keras.models import Sequential\n",
        "from keras.layers import Dense\n",
        "#from keras.optimizers import SGD\n",
        "\n",
        "from sklearn.preprocessing import LabelEncoder\n",
        "from sklearn.model_selection import train_test_split\n",
        "\n",
        "import matplotlib.pyplot as plt\n",
        "import seaborn as sns\n",
        "import random\n",
        "from pprint import pprint\n",
        "\n",
        "from sklearn.preprocessing import LabelEncoder\n",
        "import gspread\n",
        "import pandas as pd\n",
        "import pickle \n",
        "import pywt\n",
        "import matplotlib.pyplot as plt\n",
        "from tensorflow.keras import regularizers\n",
        "from tensorflow.keras.utils import to_categorical\n",
        "\n",
        "from time import time\n",
        "t00 = time()\n",
        "import os\n",
        "from tensorflow.keras import layers\n",
        "from keras.layers import Input, Dense, concatenate\n",
        "from keras.models import Model"
      ],
      "execution_count": null,
      "outputs": []
    },
    {
      "cell_type": "code",
      "metadata": {
        "colab": {
          "base_uri": "https://localhost:8080/"
        },
        "id": "UXtkm8PkfQFu",
        "outputId": "c829adfb-315b-4021-d1e5-7a7c008353b2"
      },
      "source": [
        "# Initialize the TPU and spread the computations across the 8 cores\n",
        "import tensorflow as tf \n",
        "resolver = tf.distribute.cluster_resolver.TPUClusterResolver(tpu='')\n",
        "tf.config.experimental_connect_to_cluster(resolver)\n",
        "# This is the TPU initialization code that has to be at the beginning.\n",
        "tf.tpu.experimental.initialize_tpu_system(resolver)\n",
        "tf.config.list_logical_devices('TPU')\n",
        "#print(\"All devices: \", tf.config.list_logical_devices('TPU'))\n",
        "\n",
        "strategy = tf.distribute.TPUStrategy(resolver)"
      ],
      "execution_count": null,
      "outputs": [
        {
          "output_type": "stream",
          "name": "stdout",
          "text": [
            "INFO:tensorflow:Clearing out eager caches\n"
          ]
        },
        {
          "output_type": "stream",
          "name": "stderr",
          "text": [
            "INFO:tensorflow:Clearing out eager caches\n"
          ]
        },
        {
          "output_type": "stream",
          "name": "stdout",
          "text": [
            "INFO:tensorflow:Initializing the TPU system: grpc://10.125.170.26:8470\n"
          ]
        },
        {
          "output_type": "stream",
          "name": "stderr",
          "text": [
            "INFO:tensorflow:Initializing the TPU system: grpc://10.125.170.26:8470\n"
          ]
        },
        {
          "output_type": "stream",
          "name": "stdout",
          "text": [
            "INFO:tensorflow:Finished initializing TPU system.\n"
          ]
        },
        {
          "output_type": "stream",
          "name": "stderr",
          "text": [
            "INFO:tensorflow:Finished initializing TPU system.\n"
          ]
        },
        {
          "output_type": "stream",
          "name": "stdout",
          "text": [
            "INFO:tensorflow:Found TPU system:\n"
          ]
        },
        {
          "output_type": "stream",
          "name": "stderr",
          "text": [
            "INFO:tensorflow:Found TPU system:\n"
          ]
        },
        {
          "output_type": "stream",
          "name": "stdout",
          "text": [
            "INFO:tensorflow:*** Num TPU Cores: 8\n"
          ]
        },
        {
          "output_type": "stream",
          "name": "stderr",
          "text": [
            "INFO:tensorflow:*** Num TPU Cores: 8\n"
          ]
        },
        {
          "output_type": "stream",
          "name": "stdout",
          "text": [
            "INFO:tensorflow:*** Num TPU Workers: 1\n"
          ]
        },
        {
          "output_type": "stream",
          "name": "stderr",
          "text": [
            "INFO:tensorflow:*** Num TPU Workers: 1\n"
          ]
        },
        {
          "output_type": "stream",
          "name": "stdout",
          "text": [
            "INFO:tensorflow:*** Num TPU Cores Per Worker: 8\n"
          ]
        },
        {
          "output_type": "stream",
          "name": "stderr",
          "text": [
            "INFO:tensorflow:*** Num TPU Cores Per Worker: 8\n"
          ]
        },
        {
          "output_type": "stream",
          "name": "stdout",
          "text": [
            "INFO:tensorflow:*** Available Device: _DeviceAttributes(/job:localhost/replica:0/task:0/device:CPU:0, CPU, 0, 0)\n"
          ]
        },
        {
          "output_type": "stream",
          "name": "stderr",
          "text": [
            "INFO:tensorflow:*** Available Device: _DeviceAttributes(/job:localhost/replica:0/task:0/device:CPU:0, CPU, 0, 0)\n"
          ]
        },
        {
          "output_type": "stream",
          "name": "stdout",
          "text": [
            "INFO:tensorflow:*** Available Device: _DeviceAttributes(/job:worker/replica:0/task:0/device:CPU:0, CPU, 0, 0)\n"
          ]
        },
        {
          "output_type": "stream",
          "name": "stderr",
          "text": [
            "INFO:tensorflow:*** Available Device: _DeviceAttributes(/job:worker/replica:0/task:0/device:CPU:0, CPU, 0, 0)\n"
          ]
        },
        {
          "output_type": "stream",
          "name": "stdout",
          "text": [
            "INFO:tensorflow:*** Available Device: _DeviceAttributes(/job:worker/replica:0/task:0/device:TPU:0, TPU, 0, 0)\n"
          ]
        },
        {
          "output_type": "stream",
          "name": "stderr",
          "text": [
            "INFO:tensorflow:*** Available Device: _DeviceAttributes(/job:worker/replica:0/task:0/device:TPU:0, TPU, 0, 0)\n"
          ]
        },
        {
          "output_type": "stream",
          "name": "stdout",
          "text": [
            "INFO:tensorflow:*** Available Device: _DeviceAttributes(/job:worker/replica:0/task:0/device:TPU:1, TPU, 0, 0)\n"
          ]
        },
        {
          "output_type": "stream",
          "name": "stderr",
          "text": [
            "INFO:tensorflow:*** Available Device: _DeviceAttributes(/job:worker/replica:0/task:0/device:TPU:1, TPU, 0, 0)\n"
          ]
        },
        {
          "output_type": "stream",
          "name": "stdout",
          "text": [
            "INFO:tensorflow:*** Available Device: _DeviceAttributes(/job:worker/replica:0/task:0/device:TPU:2, TPU, 0, 0)\n"
          ]
        },
        {
          "output_type": "stream",
          "name": "stderr",
          "text": [
            "INFO:tensorflow:*** Available Device: _DeviceAttributes(/job:worker/replica:0/task:0/device:TPU:2, TPU, 0, 0)\n"
          ]
        },
        {
          "output_type": "stream",
          "name": "stdout",
          "text": [
            "INFO:tensorflow:*** Available Device: _DeviceAttributes(/job:worker/replica:0/task:0/device:TPU:3, TPU, 0, 0)\n"
          ]
        },
        {
          "output_type": "stream",
          "name": "stderr",
          "text": [
            "INFO:tensorflow:*** Available Device: _DeviceAttributes(/job:worker/replica:0/task:0/device:TPU:3, TPU, 0, 0)\n"
          ]
        },
        {
          "output_type": "stream",
          "name": "stdout",
          "text": [
            "INFO:tensorflow:*** Available Device: _DeviceAttributes(/job:worker/replica:0/task:0/device:TPU:4, TPU, 0, 0)\n"
          ]
        },
        {
          "output_type": "stream",
          "name": "stderr",
          "text": [
            "INFO:tensorflow:*** Available Device: _DeviceAttributes(/job:worker/replica:0/task:0/device:TPU:4, TPU, 0, 0)\n"
          ]
        },
        {
          "output_type": "stream",
          "name": "stdout",
          "text": [
            "INFO:tensorflow:*** Available Device: _DeviceAttributes(/job:worker/replica:0/task:0/device:TPU:5, TPU, 0, 0)\n"
          ]
        },
        {
          "output_type": "stream",
          "name": "stderr",
          "text": [
            "INFO:tensorflow:*** Available Device: _DeviceAttributes(/job:worker/replica:0/task:0/device:TPU:5, TPU, 0, 0)\n"
          ]
        },
        {
          "output_type": "stream",
          "name": "stdout",
          "text": [
            "INFO:tensorflow:*** Available Device: _DeviceAttributes(/job:worker/replica:0/task:0/device:TPU:6, TPU, 0, 0)\n"
          ]
        },
        {
          "output_type": "stream",
          "name": "stderr",
          "text": [
            "INFO:tensorflow:*** Available Device: _DeviceAttributes(/job:worker/replica:0/task:0/device:TPU:6, TPU, 0, 0)\n"
          ]
        },
        {
          "output_type": "stream",
          "name": "stdout",
          "text": [
            "INFO:tensorflow:*** Available Device: _DeviceAttributes(/job:worker/replica:0/task:0/device:TPU:7, TPU, 0, 0)\n"
          ]
        },
        {
          "output_type": "stream",
          "name": "stderr",
          "text": [
            "INFO:tensorflow:*** Available Device: _DeviceAttributes(/job:worker/replica:0/task:0/device:TPU:7, TPU, 0, 0)\n"
          ]
        },
        {
          "output_type": "stream",
          "name": "stdout",
          "text": [
            "INFO:tensorflow:*** Available Device: _DeviceAttributes(/job:worker/replica:0/task:0/device:TPU_SYSTEM:0, TPU_SYSTEM, 0, 0)\n"
          ]
        },
        {
          "output_type": "stream",
          "name": "stderr",
          "text": [
            "INFO:tensorflow:*** Available Device: _DeviceAttributes(/job:worker/replica:0/task:0/device:TPU_SYSTEM:0, TPU_SYSTEM, 0, 0)\n"
          ]
        },
        {
          "output_type": "stream",
          "name": "stdout",
          "text": [
            "INFO:tensorflow:*** Available Device: _DeviceAttributes(/job:worker/replica:0/task:0/device:XLA_CPU:0, XLA_CPU, 0, 0)\n"
          ]
        },
        {
          "output_type": "stream",
          "name": "stderr",
          "text": [
            "INFO:tensorflow:*** Available Device: _DeviceAttributes(/job:worker/replica:0/task:0/device:XLA_CPU:0, XLA_CPU, 0, 0)\n"
          ]
        }
      ]
    },
    {
      "cell_type": "code",
      "metadata": {
        "colab": {
          "base_uri": "https://localhost:8080/"
        },
        "id": "nHGdY72IfZSh",
        "outputId": "05b94839-409e-47a5-eb78-17f1865e51eb"
      },
      "source": [
        "from google.colab import drive\n",
        "\n",
        "drive.mount(\"/content/gdrive\")"
      ],
      "execution_count": null,
      "outputs": [
        {
          "output_type": "stream",
          "name": "stdout",
          "text": [
            "Mounted at /content/gdrive\n"
          ]
        }
      ]
    },
    {
      "cell_type": "markdown",
      "metadata": {
        "id": "okm8PnOIpaj8"
      },
      "source": [
        "#Importing the data"
      ]
    },
    {
      "cell_type": "code",
      "metadata": {
        "id": "X0TCT9KTft3P"
      },
      "source": [
        "N_cut = 52\n",
        "\n",
        "# Aminoacids\n",
        "\n",
        "# 0 - 4 \n",
        "DL_Alpha_Alanine_Train = genfromtxt(\"/content/gdrive/MyDrive/6_21_2021_run/DL_Alpha_Alanine_Train.csv\", delimiter=',', names=True, dtype=float)\n",
        "DL_Alpha_Alanine_Test = genfromtxt(\"/content/gdrive/MyDrive/6_21_2021_run/DL_Alpha_Alanine_Test.csv\", delimiter=',', names=True, dtype=float)\n",
        "\n",
        "DL_Aspartic_Acid_Train = genfromtxt(\"/content/gdrive/MyDrive/6_21_2021_run/DL_Aspartic_Acid_Train.csv\", delimiter=',', names=True, dtype=float)\n",
        "DL_Aspartic_Acid_Test = genfromtxt(\"/content/gdrive/MyDrive/6_21_2021_run/DL_Aspartic_Acid_Test.csv\", delimiter=',', names=True, dtype=float)\n",
        "\n",
        "DL_Isoleucine_Train = genfromtxt(\"/content/gdrive/MyDrive/6_21_2021_run/DL_Isoleucine_Train.csv\", delimiter=',', names=True, dtype=float)\n",
        "DL_Isoleucine_Test = genfromtxt(\"/content/gdrive/MyDrive/6_21_2021_run/DL_Isoleucine_Test.csv\", delimiter=',', names=True, dtype=float)\n",
        "\n",
        "DL_Leucine_Train = genfromtxt(\"/content/gdrive/MyDrive/6_21_2021_run/DL_Leucine_Train.csv\", delimiter=',', names=True, dtype=float)\n",
        "DL_Leucine_Test = genfromtxt(\"/content/gdrive/MyDrive/6_21_2021_run/DL_Leucine_Test.csv\", delimiter=',', names=True, dtype=float)\n",
        "\n",
        "DL_Methionine_Train = genfromtxt(\"/content/gdrive/MyDrive/6_21_2021_run/DL_Methionine_Train.csv\", delimiter=',', names=True, dtype=float)\n",
        "DL_Methionine_Test = genfromtxt(\"/content/gdrive/MyDrive/6_21_2021_run/DL_Methionine_Test.csv\", delimiter=',', names=True, dtype=float)\n",
        "\n",
        "# 5 - 9 \n",
        "\n",
        "DL_Phenylalanine_Train = genfromtxt(\"/content/gdrive/MyDrive/6_21_2021_run/DL_Phenylalanine_Train.csv\", delimiter=',', names=True, dtype=float)\n",
        "DL_Phenylalanine_Test = genfromtxt(\"/content/gdrive/MyDrive/6_21_2021_run/DL_Phenylalanine_Test.csv\", delimiter=',', names=True, dtype=float)\n",
        "\n",
        "DL_Serine_Train = genfromtxt(\"/content/gdrive/MyDrive/6_21_2021_run/DL_Serine_Train.csv\", delimiter=',', names=True, dtype=float)\n",
        "DL_Serine_Test = genfromtxt(\"/content/gdrive/MyDrive/6_21_2021_run/DL_Serine_Test.csv\", delimiter=',', names=True, dtype=float)\n",
        "\n",
        "DL_Threonine_Train = genfromtxt(\"/content/gdrive/MyDrive/6_21_2021_run/DL_Threonine_Train.csv\", delimiter=',', names=True, dtype=float)\n",
        "DL_Threonine_Test = genfromtxt(\"/content/gdrive/MyDrive/6_21_2021_run/DL_Threonine_Test.csv\", delimiter=',', names=True, dtype=float)\n",
        "\n",
        "DL_Tyrosine_Train = genfromtxt(\"/content/gdrive/MyDrive/6_21_2021_run/DL_Tyrosine_Train.csv\", delimiter=',', names=True, dtype=float)\n",
        "DL_Tyrosine_Test = genfromtxt(\"/content/gdrive/MyDrive/6_21_2021_run/DL_Tyrosine_Test.csv\", delimiter=',', names=True, dtype=float)\n",
        "\n",
        "DL_Valine_Train = genfromtxt(\"/content/gdrive/MyDrive/6_21_2021_run/DL_Valine_Train.csv\", delimiter=',', names=True, dtype=float)\n",
        "DL_Valine_Test = genfromtxt(\"/content/gdrive/MyDrive/6_21_2021_run/DL_Valine_Test.csv\", delimiter=',', names=True, dtype=float)\n",
        "\n",
        "# 10 - 14\n",
        "\n",
        "Glycine_Train = genfromtxt(\"/content/gdrive/MyDrive/6_21_2021_run/Glycine_Train.csv\", delimiter=',', names=True, dtype=float)\n",
        "Glycine_Test = genfromtxt(\"/content/gdrive/MyDrive/6_21_2021_run/Glycine_Test.csv\", delimiter=',', names=True, dtype=float)\n",
        "\n",
        "L_Arginine_HCl_Train = genfromtxt(\"/content/gdrive/MyDrive/6_21_2021_run/L_Arginine_HCl_Train.csv\", delimiter=',', names=True, dtype=float)\n",
        "L_Arginine_HCl_Test = genfromtxt(\"/content/gdrive/MyDrive/6_21_2021_run/L_Arginine_HCl_Test.csv\", delimiter=',', names=True, dtype=float)\n",
        "\n",
        "L_Asparagine_Monohydrate_Train = genfromtxt(\"/content/gdrive/MyDrive/6_21_2021_run/L_Asparagine_Monohydrate_Train.csv\", delimiter=',', names=True, dtype=float)\n",
        "L_Asparagine_Monohydrate_Test = genfromtxt(\"/content/gdrive/MyDrive/6_21_2021_run/L_Asparagine_Monohydrate_Test.csv\", delimiter=',', names=True, dtype=float)\n",
        "\n",
        "L_Cystine_Train = genfromtxt(\"/content/gdrive/MyDrive/6_21_2021_run/L_Cystine_Train.csv\", delimiter=',', names=True, dtype=float)\n",
        "L_Cystine_Test = genfromtxt(\"/content/gdrive/MyDrive/6_21_2021_run/L_Cystine_Test.csv\", delimiter=',', names=True, dtype=float)\n",
        "\n",
        "L_Glutamic_Acid_Train = genfromtxt(\"/content/gdrive/MyDrive/6_21_2021_run/L_Glutamic_Acid_Train.csv\", delimiter=',', names=True, dtype=float)\n",
        "L_Glutamic_Acid_Test = genfromtxt(\"/content/gdrive/MyDrive/6_21_2021_run/L_Glutamic_Acid_Test.csv\", delimiter=',', names=True, dtype=float)\n",
        "\n",
        "# 15 - 19\n",
        "\n",
        "L_Histidine_HCl_Train = genfromtxt(\"/content/gdrive/MyDrive/6_21_2021_run/L_Histidine_HCl_Train.csv\", delimiter=',', names=True, dtype=float)\n",
        "L_Histidine_HCl_Test = genfromtxt(\"/content/gdrive/MyDrive/6_21_2021_run/L_Histidine_HCl_Test.csv\", delimiter=',', names=True, dtype=float)\n",
        "\n",
        "L_Lysine_HCl_Train = genfromtxt(\"/content/gdrive/MyDrive/6_21_2021_run/L_Lysine_HCl_Train.csv\", delimiter=',', names=True, dtype=float)\n",
        "L_Lysine_HCl_Test = genfromtxt(\"/content/gdrive/MyDrive/6_21_2021_run/L_Lysine_HCl_Test.csv\", delimiter=',', names=True, dtype=float)\n",
        "\n",
        "L_PLUS_Cysteine_HCl_Train = genfromtxt(\"/content/gdrive/MyDrive/6_21_2021_run/L_PLUS_Cysteine_HCl_Train.csv\", delimiter=',', names=True, dtype=float)\n",
        "L_PLUS_Cysteine_HCl_Test = genfromtxt(\"/content/gdrive/MyDrive/6_21_2021_run/L_PLUS_CysteineHydrochloride_Test.csv\", delimiter=',', names=True, dtype=float)\n",
        "\n",
        "L_Proline_Train = genfromtxt(\"/content/gdrive/MyDrive/6_21_2021_run/L_Proline_Train.csv\", delimiter=',', names=True, dtype=float)\n",
        "L_Proline_Test = genfromtxt(\"/content/gdrive/MyDrive/6_21_2021_run/L_Proline_Test.csv\", delimiter=',', names=True, dtype=float)\n",
        "\n",
        "L_Tryptophan_Train = genfromtxt(\"/content/gdrive/MyDrive/6_21_2021_run/L_Tryptophan_Train.csv\", delimiter=',', names=True, dtype=float)\n",
        "L_Tryptophan_Test = genfromtxt(\"/content/gdrive/MyDrive/6_21_2021_run/L_Tryptophan_Test.csv\", delimiter=',', names=True, dtype=float)\n",
        "\n",
        "# Other chemicals\n",
        "# 20 - 24\n",
        "\n",
        "Ampicillin_Sodium_Train = genfromtxt(\"/content/gdrive/MyDrive/6_21_2021_run/Ampicillin_Sodium_Train.csv\", delimiter=',', names=True, dtype=float)\n",
        "Ampicillin_Sodium_Test = genfromtxt(\"/content/gdrive/MyDrive/6_21_2021_run/Ampicillin_Sodium_Test.csv\", delimiter=',', names=True, dtype=float)\n",
        "\n",
        "Anthrone_Train = genfromtxt(\"/content/gdrive/MyDrive/6_21_2021_run/Anthrone_Train.csv\", delimiter=',', names=True, dtype=float)\n",
        "Anthrone_Test = genfromtxt(\"/content/gdrive/MyDrive/6_21_2021_run/Anthrone_Test.csv\", delimiter=',', names=True, dtype=float)\n",
        "\n",
        "beta_Estradiol_Train = genfromtxt(\"/content/gdrive/MyDrive/6_21_2021_run/beta_Estradiol_Train.csv\", delimiter=',', names=True, dtype=float)\n",
        "beta_Estradiol_Test = genfromtxt(\"/content/gdrive/MyDrive/6_21_2021_run/beta_Estradiol_Test.csv\", delimiter=',', names=True, dtype=float)\n",
        "\n",
        "CHAPS_Train = genfromtxt(\"/content/gdrive/MyDrive/6_21_2021_run/CHAPS_Train.csv\", delimiter=',', names=True, dtype=float)\n",
        "CHAPS_Test = genfromtxt(\"/content/gdrive/MyDrive/6_21_2021_run/CHAPS_Test.csv\", delimiter=',', names=True, dtype=float)\n",
        "\n",
        "Chloroquine_Train = genfromtxt(\"/content/gdrive/MyDrive/6_21_2021_run/Chloroquine_Train.csv\", delimiter=',', names=True, dtype=float)\n",
        "Chloroquine_Test = genfromtxt(\"/content/gdrive/MyDrive/6_21_2021_run/Chloroquine_Test.csv\", delimiter=',', names=True, dtype=float)\n",
        "\n",
        "# 25 - 29\n",
        "\n",
        "D_PLUS_Maltose_Monohydrate_Train = genfromtxt(\"/content/gdrive/MyDrive/6_21_2021_run/D_PLUS_Maltose_Monohydrate_Train.csv\", delimiter=',', names=True, dtype=float)\n",
        "D_PLUS_Maltose_Monohydrate_Test = genfromtxt(\"/content/gdrive/MyDrive/6_21_2021_run/D_PLUS_MaltoseMonohydrate_Test.csv\", delimiter=',', names=True, dtype=float)\n",
        "\n",
        "Fluconazole_Train = genfromtxt(\"/content/gdrive/MyDrive/6_21_2021_run/Fluconazole_Train.csv\", delimiter=',', names=True, dtype=float)\n",
        "Fluconazole_Test = genfromtxt(\"/content/gdrive/MyDrive/6_21_2021_run/Fluconazole_Test.csv\", delimiter=',', names=True, dtype=float)\n",
        "\n",
        "Forskolin_Train = genfromtxt(\"/content/gdrive/MyDrive/6_21_2021_run/Forskolin_Train.csv\", delimiter=',', names=True, dtype=float)\n",
        "Forskolin_Test = genfromtxt(\"/content/gdrive/MyDrive/6_21_2021_run/Forskolin_Test.csv\", delimiter=',', names=True, dtype=float)\n",
        "\n",
        "Laminarin_Train = genfromtxt(\"/content/gdrive/MyDrive/6_21_2021_run/Laminarin_Train.csv\", delimiter=',', names=True, dtype=float)\n",
        "Laminarin_Test = genfromtxt(\"/content/gdrive/MyDrive/6_21_2021_run/Laminarin_Test.csv\", delimiter=',', names=True, dtype=float)\n",
        "\n",
        "Lauric_Acid_Train = genfromtxt(\"/content/gdrive/MyDrive/6_21_2021_run/Lauric_Acid_Train.csv\", delimiter=',', names=True, dtype=float)\n",
        "Lauric_Acid_Test = genfromtxt(\"/content/gdrive/MyDrive/6_21_2021_run/Lauric_Acid_Test.csv\", delimiter=',', names=True, dtype=float)\n",
        "\n",
        "# 30 - 34\n",
        "\n",
        "Methyl_Viologen_Train = genfromtxt(\"/content/gdrive/MyDrive/6_21_2021_run/Methyl_Viologen_Train.csv\", delimiter=',', names=True, dtype=float)\n",
        "Methyl_Viologen_Test = genfromtxt(\"/content/gdrive/MyDrive/6_21_2021_run/Methyl_Viologen_Test.csv\", delimiter=',', names=True, dtype=float)\n",
        "\n",
        "MOPS_Train = genfromtxt(\"/content/gdrive/MyDrive/6_21_2021_run/MOPS_Train.csv\", delimiter=',', names=True, dtype=float)\n",
        "MOPS_Test = genfromtxt(\"/content/gdrive/MyDrive/6_21_2021_run/MOPS_Test.csv\", delimiter=',', names=True, dtype=float)\n",
        "\n",
        "Na_Salt_Train = genfromtxt(\"/content/gdrive/MyDrive/6_21_2021_run/Na_Salt_Train.csv\", delimiter=',', names=True, dtype=float)\n",
        "Na_Salt_Test = genfromtxt(\"/content/gdrive/MyDrive/6_21_2021_run/Na_Salt_Test.csv\", delimiter=',', names=True, dtype=float)\n",
        "\n",
        "Polyvinyl_Pyrrolidone_Train = genfromtxt(\"/content/gdrive/MyDrive/6_21_2021_run/Polyvinyl_Pyrrolidone_Train.csv\", delimiter=',', names=True, dtype=float)\n",
        "Polyvinyl_Pyrrolidone_Test = genfromtxt(\"/content/gdrive/MyDrive/6_21_2021_run/Polyvinyl_Pyrrolidone_Test.csv\", delimiter=',', names=True, dtype=float)\n",
        "\n",
        "Potato_Starch_Train = genfromtxt(\"/content/gdrive/MyDrive/6_21_2021_run/Potato_Starch_Train.csv\", delimiter=',', names=True, dtype=float)\n",
        "Potato_Starch_Test = genfromtxt(\"/content/gdrive/MyDrive/6_21_2021_run/Potato_Starch_Test.csv\", delimiter=',', names=True, dtype=float)\n",
        "\n",
        "# 35 - 39\n",
        "\n",
        "Progesterone_Train = genfromtxt(\"/content/gdrive/MyDrive/6_21_2021_run/Progesterone_Train.csv\", delimiter=',', names=True, dtype=float)\n",
        "Progesterone_Test = genfromtxt(\"/content/gdrive/MyDrive/6_21_2021_run/Progesterone_Test.csv\", delimiter=',', names=True, dtype=float)\n",
        "\n",
        "Sodium_Deoxycholate_Train = genfromtxt(\"/content/gdrive/MyDrive/6_21_2021_run/Sodium_Deoxycholate_Train.csv\", delimiter=',', names=True, dtype=float)\n",
        "Sodium_Deoxycholate_Test = genfromtxt(\"/content/gdrive/MyDrive/6_21_2021_run/Sodium_Deoxycholate_Test.csv\", delimiter=',', names=True, dtype=float)\n",
        "\n",
        "Sodium_Dodecylsulfate_Train = genfromtxt(\"/content/gdrive/MyDrive/6_21_2021_run/Sodium_Dodecylsulfate_Train.csv\", delimiter=',', names=True, dtype=float)\n",
        "Sodium_Dodecylsulfate_Test = genfromtxt(\"/content/gdrive/MyDrive/6_21_2021_run/Sodium_Dodecylsulfate_Test.csv\", delimiter=',', names=True, dtype=float)\n",
        "\n",
        "Uridine_Train = genfromtxt(\"/content/gdrive/MyDrive/6_21_2021_run/Uridine_Train.csv\", delimiter=',', names=True, dtype=float)\n",
        "Uridine_Test = genfromtxt(\"/content/gdrive/MyDrive/6_21_2021_run/Uridine_Test.csv\", delimiter=',', names=True, dtype=float)\n",
        "\n",
        "Silver_Nitrate_Train = genfromtxt(\"/content/gdrive/MyDrive/6_21_2021_run/Silver_Nitrate_Train.csv\", delimiter=',', names=True, dtype=float)\n",
        "Silver_Nitrate_Test = genfromtxt(\"/content/gdrive/MyDrive/6_21_2021_run/Silver_Nitrate_Test.csv\", delimiter=',', names=True, dtype=float)"
      ],
      "execution_count": null,
      "outputs": []
    },
    {
      "cell_type": "markdown",
      "metadata": {
        "id": "eaVzbZxymxPR"
      },
      "source": [
        "#Train only on the first 20 classes"
      ]
    },
    {
      "cell_type": "code",
      "metadata": {
        "id": "-144CgMT-rGk"
      },
      "source": [
        "N_cut = 52\n",
        "N_classes = 20\n",
        "\n",
        "train_data = np.zeros((N_classes*2500, 1024 - N_cut))\n",
        "train_label = np.zeros(N_classes*2500)\n",
        "\n",
        "for i in range(1024 - N_cut - 1):\n",
        "    for j in range(2500):\n",
        "        \n",
        "        # DL_Alpha_Alanine_Train, label 0\n",
        "        train_data[j][i] = (DL_Alpha_Alanine_Train[i + N_cut][j])\n",
        "        train_label[j] = 0\n",
        "        \n",
        "        # DL_Aspartic_Acid_Train, label 1\n",
        "        train_data[j + 1*2500][i] = (DL_Aspartic_Acid_Train[i + N_cut][j])\n",
        "        train_label[j + 1*2500] = 1\n",
        "        \n",
        "        # DL_Isoleucine_Train, label 2\n",
        "        train_data[j + 2*2500][i] = (DL_Isoleucine_Train[i + N_cut][j])\n",
        "        train_label[j + 2*2500] = 2\n",
        "        \n",
        "        # DL_Leucine_Train, label 3\n",
        "        train_data[j + 3*2500][i] = (DL_Leucine_Train[i + N_cut][j])\n",
        "        train_label[j + 3*2500] = 3\n",
        "        \n",
        "        # DL_Methionine_Train, label 4\n",
        "        train_data[j + 4*2500][i] = (DL_Methionine_Train[i + N_cut][j])\n",
        "        train_label[j + 4*2500] = 4\n",
        "        \n",
        "        # DL_Phenylalanine_Train, label 5\n",
        "        train_data[j + 5*2500][i] = (DL_Phenylalanine_Train[i + N_cut][j])\n",
        "        train_label[j + 5*2500] = 5\n",
        "        \n",
        "        # DL_Serine_Train, label 6\n",
        "        train_data[j + 6*2500][i] = (DL_Serine_Train[i + N_cut][j])\n",
        "        train_label[j + 6*2500] = 6\n",
        "        \n",
        "        # DL_Serine_Train, label 7\n",
        "        train_data[j + 7*2500][i] = (DL_Threonine_Train[i + N_cut][j])\n",
        "        train_label[j + 7*2500] = 7\n",
        "        \n",
        "        # DL_Tyrosine_Train, label 8\n",
        "        train_data[j + 8*2500][i] = (DL_Tyrosine_Train[i + N_cut][j])\n",
        "        train_label[j + 8*2500] = 8\n",
        "        \n",
        "        # DL_Valine_Train, label 9\n",
        "        train_data[j + 9*2500][i] = (DL_Valine_Train[i + N_cut][j])\n",
        "        train_label[j + 9*2500] = 9\n",
        "        \n",
        "        # Glycine_Train, label 10\n",
        "        train_data[j + 10*2500][i] = (Glycine_Train[i + N_cut][j])\n",
        "        train_label[j + 10*2500] = 10\n",
        "        \n",
        "        # L_Arginine_HCl_Train, label 11\n",
        "        train_data[j + 11*2500][i] = (L_Arginine_HCl_Train[i + N_cut][j])\n",
        "        train_label[j + 11*2500] = 11\n",
        "        \n",
        "        # L_Asparagine_Monohydrate_Train, label 12\n",
        "        train_data[j + 12*2500][i] = (L_Asparagine_Monohydrate_Train[i + N_cut][j])\n",
        "        train_label[j + 12*2500] = 12\n",
        "        \n",
        "        # L_Cystine_Train, label 13\n",
        "        train_data[j + 13*2500][i] = (L_Cystine_Train[i + N_cut][j])\n",
        "        train_label[j + 13*2500] = 13\n",
        "        \n",
        "        # L_Glutamic_Acid_Train, label 14\n",
        "        train_data[j + 14*2500][i] = (L_Glutamic_Acid_Train[i + N_cut][j])\n",
        "        train_label[j + 14*2500] = 14\n",
        "        \n",
        "        # L_Histidine_HCl_Train, label 15\n",
        "        train_data[j + 15*2500][i] = (L_Histidine_HCl_Train[i + N_cut][j])\n",
        "        train_label[j + 15*2500] = 15\n",
        "        \n",
        "        # L_Lysine_HCl_Train, label 16\n",
        "        train_data[j + 16*2500][i] = (L_Lysine_HCl_Train[i + N_cut][j])\n",
        "        train_label[j + 16*2500] = 16\n",
        "        \n",
        "        # L_PLUS_Cysteine_HCl_Train, label 17\n",
        "        train_data[j + 17*2500][i] = (L_PLUS_Cysteine_HCl_Train[i + N_cut][j])\n",
        "        train_label[j + 17*2500] = 17\n",
        "        \n",
        "        # L_Proline_Train, label 18\n",
        "        train_data[j + 18*2500][i] = (L_Proline_Train[i + N_cut][j])\n",
        "        train_label[j + 18*2500] = 18\n",
        "        \n",
        "        # L_Tryptophan_Train, label 19\n",
        "        train_data[j + 19*2500][i] = (L_Tryptophan_Train[i + N_cut][j])\n",
        "        train_label[j + 19*2500] = 19\n",
        " \n",
        "train_rescaled = np.zeros((N_classes*2500, 1024 - N_cut))\n",
        "train_maximum = np.zeros(N_classes*2500)\n",
        "train_minimum = np.zeros(N_classes*2500)\n",
        "\n",
        "for j in range(1, N_classes*2500):\n",
        "    train_maximum[j] = np.amin(train_data[j][:])\n",
        "    train_maximum[j] = np.amax(train_data[j][:])\n",
        "\n",
        "for i in range(1,1024 - N_cut):\n",
        "    for j in range(1,N_classes*2500):\n",
        "        train_rescaled[j][i] = (train_data[j][i] - train_minimum[j])\n",
        "        train_rescaled[j][i] = train_rescaled[j][i]/(train_maximum[j] - train_minimum[j])\n",
        "\n",
        "train_rescaled = train_rescaled.reshape((N_classes*2500, 1024 - N_cut, 1))\n",
        "train_rescaled = train_rescaled.astype('float32')\n",
        "train_label = train_label.reshape(N_classes*2500)\n",
        "train_label = tf.keras.utils.to_categorical(train_label)"
      ],
      "execution_count": null,
      "outputs": []
    },
    {
      "cell_type": "code",
      "metadata": {
        "id": "qQiNg3K4f1jo"
      },
      "source": [
        "test_data = np.zeros((N_classes*500, 1024 - N_cut))\n",
        "test_label = np.zeros(N_classes*500)\n",
        "\n",
        "for i in range(1024 - N_cut - 1):\n",
        "    for j in range(500):\n",
        "        \n",
        "        # DL_Alpha_Alanine_Test, label 0\n",
        "        test_data[j][i] = (DL_Alpha_Alanine_Test[i + N_cut][j])\n",
        "        test_label[j] = 0\n",
        "        \n",
        "        # DL_Aspartic_Acid_Test, label 1\n",
        "        test_data[j + 1*500][i] = (DL_Aspartic_Acid_Test[i + N_cut][j])\n",
        "        test_label[j + 1*500] = 1\n",
        "        \n",
        "        # DL_Isoleucine_Test, label 2\n",
        "        test_data[j + 2*500][i] = (DL_Isoleucine_Test[i + N_cut][j])\n",
        "        test_label[j + 2*500] = 2\n",
        "        \n",
        "        # DL_Leucine_Test, label 3\n",
        "        test_data[j + 3*500][i] = (DL_Leucine_Test[i + N_cut][j])\n",
        "        test_label[j + 3*500] = 3\n",
        "        \n",
        "        # DL_Methionine_Test, label 4\n",
        "        test_data[j + 4*500][i] = (DL_Methionine_Test[i + N_cut][j])\n",
        "        test_label[j + 4*500] = 4\n",
        "        \n",
        "        # DL_Phenylalanine_Test, label 5\n",
        "        test_data[j + 5*500][i] = (DL_Phenylalanine_Test[i + N_cut][j])\n",
        "        test_label[j + 5*500] = 5\n",
        "        \n",
        "        # DL_Serine_Test, label 6\n",
        "        test_data[j + 6*500][i] = (DL_Serine_Test[i + N_cut][j])\n",
        "        test_label[j + 6*500] = 6\n",
        "        \n",
        "        # DL_Serine_Test, label 7\n",
        "        test_data[j + 7*500][i] = (DL_Threonine_Test[i + N_cut][j])\n",
        "        test_label[j + 7*500] = 7\n",
        "        \n",
        "        # DL_Tyrosine_Test, label 8\n",
        "        test_data[j + 8*500][i] = (DL_Tyrosine_Test[i + N_cut][j])\n",
        "        test_label[j + 8*500] = 8\n",
        "        \n",
        "        # DL_Valine_Test, label 9\n",
        "        test_data[j + 9*500][i] = (DL_Valine_Test[i + N_cut][j])\n",
        "        test_label[j + 9*500] = 9\n",
        "        \n",
        "        # Glycine_Test, label 10\n",
        "        test_data[j + 10*500][i] = (Glycine_Test[i + N_cut][j])\n",
        "        test_label[j + 10*500] = 10\n",
        "        \n",
        "        # L_Arginine_HCl_Test, label 11\n",
        "        test_data[j + 11*500][i] = (L_Arginine_HCl_Test[i + N_cut][j])\n",
        "        test_label[j + 11*500] = 11\n",
        "        \n",
        "        # L_Asparagine_Monohydrate_Test, label 12\n",
        "        test_data[j + 12*500][i] = (L_Asparagine_Monohydrate_Test[i + N_cut][j])\n",
        "        test_label[j + 12*500] = 12\n",
        "        \n",
        "        # L_Cystine_Test, label 13\n",
        "        test_data[j + 13*500][i] = (L_Cystine_Test[i + N_cut][j])\n",
        "        test_label[j + 13*500] = 13\n",
        "        \n",
        "        # L_Glutamic_Acid_Test, label 14\n",
        "        test_data[j + 14*500][i] = (L_Glutamic_Acid_Test[i + N_cut][j])\n",
        "        test_label[j + 14*500] = 14\n",
        "        \n",
        "        # L_Histidine_HCl_Test, label 15\n",
        "        test_data[j + 15*500][i] = (L_Histidine_HCl_Test[i + N_cut][j])\n",
        "        test_label[j + 15*500] = 15\n",
        "        \n",
        "        # L_Lysine_HCl_Test, label 16\n",
        "        test_data[j + 16*500][i] = (L_Lysine_HCl_Test[i + N_cut][j])\n",
        "        test_label[j + 16*500] = 16\n",
        "        \n",
        "        # L_PLUS_Cysteine_HCl_Test, label 17\n",
        "        test_data[j + 17*500][i] = (L_PLUS_Cysteine_HCl_Test[i + N_cut][j])\n",
        "        test_label[j + 17*500] = 17\n",
        "        \n",
        "        # L_Proline_Test, label 18\n",
        "        test_data[j + 18*500][i] = (L_Proline_Test[i + N_cut][j])\n",
        "        test_label[j + 18*500] = 18\n",
        "        \n",
        "        # L_Tryptophan_Test, label 19\n",
        "        test_data[j + 19*500][i] = (L_Tryptophan_Test[i + N_cut][j])\n",
        "        test_label[j + 19*500] = 19"
      ],
      "execution_count": null,
      "outputs": []
    },
    {
      "cell_type": "code",
      "metadata": {
        "colab": {
          "base_uri": "https://localhost:8080/"
        },
        "id": "J9Bq1pEcgFdA",
        "outputId": "3182a77d-6515-42f2-c29d-9524c3a8b50e"
      },
      "source": [
        "train_rescaled_last = np.ones((N_classes*2500, 1024 - N_cut))\n",
        "train_minimum = []\n",
        "\n",
        "for j in range(N_classes*2500):\n",
        "    train_minimum.append(np.amin(train_data[j][:-1]))\n",
        "\n",
        "for i in range(1024 - N_cut):\n",
        "    for j in range(N_classes*2500):\n",
        "        train_rescaled_last[j][i] = (train_data[j][i] - train_minimum[j])\n",
        "\n",
        "train_rescaled = np.zeros((N_classes*2500, 1024 - N_cut - 1))\n",
        "\n",
        "for i in range(1024 - N_cut - 1):\n",
        "    for j in range(N_classes*2500):\n",
        "      train_rescaled[j][i] = train_rescaled_last[j][i]\n",
        "\n",
        "train_maximum = []\n",
        "\n",
        "for j in range(N_classes*2500):\n",
        "    train_maximum.append(np.amax(train_rescaled[j][:-1]))\n",
        "for i in range(1024 - N_cut - 1):\n",
        "    for j in range(N_classes*2500):\n",
        "      train_rescaled[j][i] = train_rescaled[j][i]/train_maximum[j]\n",
        "\n",
        "test_rescaled_last = np.ones((N_classes*500, 1024 - N_cut))\n",
        "test_minimum = []\n",
        "\n",
        "for j in range(N_classes*500):\n",
        "    test_minimum.append(np.amin(test_data[j][:-1]))\n",
        "\n",
        "for i in range(1024 - N_cut):\n",
        "    for j in range(N_classes*500):\n",
        "        test_rescaled_last[j][i] = (test_data[j][i] - test_minimum[j])\n",
        "\n",
        "test_rescaled = np.zeros((N_classes*500, 1024 - N_cut - 1))\n",
        "\n",
        "for i in range(1024 - N_cut - 1):\n",
        "    for j in range(N_classes*500):\n",
        "      test_rescaled[j][i] = test_rescaled_last[j][i]\n",
        "\n",
        "test_maximum = []\n",
        "\n",
        "for j in range(N_classes*500):\n",
        "    test_maximum.append(np.amax(test_rescaled[j][:-1]))\n",
        "\n",
        "for i in range(1024 - N_cut - 1):\n",
        "    for j in range(N_classes*500):\n",
        "      test_rescaled[j][i] = test_rescaled[j][i]/test_maximum[j]\n",
        "\n",
        "from sklearn.utils import shuffle\n",
        "import numpy as np\n",
        "\n",
        "train_rescaled, train_label = shuffle(train_rescaled, train_label)\n",
        "\n",
        "test_rescaled = test_rescaled.reshape((N_classes*500, 1024 - N_cut - 1))\n",
        "test_rescaled = test_rescaled.astype('float32')\n",
        "test_label = test_label.reshape(N_classes*500)\n",
        "#test_label = tf.keras.utils.to_categorical(test_label)\n",
        "\n",
        "print(\"Rescaling finished\")"
      ],
      "execution_count": null,
      "outputs": [
        {
          "output_type": "stream",
          "name": "stdout",
          "text": [
            "Rescaling finished\n"
          ]
        }
      ]
    },
    {
      "cell_type": "code",
      "metadata": {
        "id": "Cw3yaMoegJLb"
      },
      "source": [
        "#test_label = tf.keras.utils.to_categorical(test_label)"
      ],
      "execution_count": null,
      "outputs": []
    },
    {
      "cell_type": "code",
      "metadata": {
        "id": "os4ANUOTXClZ"
      },
      "source": [
        "ignored_data = np.zeros((10*500, 1024 - N_cut))\n",
        "unseen_data = np.zeros((10*500, 1024 - N_cut))\n",
        "\n",
        "\n",
        "for i in range(1024 - N_cut - 1):\n",
        "    for j in range(500):\n",
        "\n",
        "        # Ignored\n",
        "\n",
        "        # Ignored 1\n",
        "        # Anthrone_Test, label 21\n",
        "        ignored_data[j + 0*500][i] = (Anthrone_Test[i + N_cut][j])\n",
        "        \n",
        "        # Ignore 2\n",
        "        # beta_Estradiol_Test, label 22\n",
        "        ignored_data[j + 1*500][i] = (beta_Estradiol_Test[i + N_cut][j])\n",
        "\n",
        "        # Ignore 3\n",
        "        # Chloroquine_Test, label 24\n",
        "        ignored_data[j + 2*500][i] = (Chloroquine_Test[i + N_cut][j])\n",
        "\n",
        "        # Ignore 4\n",
        "        # Fluconazole_Test, label 26\n",
        "        ignored_data[j + 3*500][i] = (Fluconazole_Test[i + N_cut][j])\n",
        "\n",
        "        # Ignore 5\n",
        "        # Laminarin_Test, label 28\n",
        "        ignored_data[j + 4*500][i] = (Laminarin_Test[i + N_cut][j])\n",
        "\n",
        "        # Ignore 6\n",
        "        # Lauric_Acid_Test, label 29\n",
        "        ignored_data[j + 5*500][i] = (Lauric_Acid_Test[i + N_cut][j])\n",
        "\n",
        "        # Ignore 7\n",
        "        # Methyl_Viologen_Test, label 30\n",
        "        ignored_data[j + 6*500][i] = (Methyl_Viologen_Test[i + N_cut][j])\n",
        "\n",
        "        # Ignore 8\n",
        "        # MOPS_Test, label 31\n",
        "        ignored_data[j + 7*500][i] = (MOPS_Test[i + N_cut][j])\n",
        "\n",
        "        # Ignore 9\n",
        "        # Progesterone_Test, label 35\n",
        "        ignored_data[j + 8*500][i] = (Progesterone_Test[i + N_cut][j])\n",
        "        \n",
        "        # Ignore 10  \n",
        "        # Uridine_Test, label 38\n",
        "        ignored_data[j + 9*500][i] = (Uridine_Test[i + N_cut][j])\n",
        "\n",
        "\n",
        "        # Never Seen Before\n",
        "\n",
        "        # Never seen 1\n",
        "        # Ampicillin_Sodium_Test, label 20\n",
        "        unseen_data[j + 0*500][i] = (Ampicillin_Sodium_Test[i + N_cut][j])\n",
        "        \n",
        "        # Never seen 2\n",
        "        # CHAPS_Test, label 23\n",
        "        unseen_data[j + 1*500][i] = (CHAPS_Test[i + N_cut][j])\n",
        "\n",
        "        # Never seen 3\n",
        "        # D_PLUS_Maltose_Monohydrate_Test, label 25\n",
        "        unseen_data[j + 2*500][i] = (D_PLUS_Maltose_Monohydrate_Test[i + N_cut][j])\n",
        "        \n",
        "        # Never seen 4\n",
        "        # Forskolin_Test, label 27\n",
        "        unseen_data[j + 3*500][i] = (Forskolin_Test[i + N_cut][j])\n",
        "        \n",
        "        # Never seen 5\n",
        "        # Na_Salt_Test, label 32\n",
        "        unseen_data[j + 4*500][i] = (Na_Salt_Test[i + N_cut][j])\n",
        "\n",
        "        # Never seen 6\n",
        "        # Polyvinyl_Pyrrolidone_Test, label 33\n",
        "        unseen_data[j + 5*500][i] = (Polyvinyl_Pyrrolidone_Test[i + N_cut][j])\n",
        "\n",
        "        # Never seen 7\n",
        "        # Potato_Starch_Test, label 34\n",
        "        unseen_data[j + 6*500][i] = (Potato_Starch_Test[i + N_cut][j])\n",
        "\n",
        "        # Never seen 8\n",
        "        # Sodium_Deoxycholate_Test, label 36\n",
        "        unseen_data[j + 7*500][i] = (Sodium_Deoxycholate_Test[i + N_cut][j])\n",
        "        \n",
        "        # Never seen 9\n",
        "        # Sodium_Dodecylsulfate_Test, label 37\n",
        "        unseen_data[j + 8*500][i] = (Sodium_Dodecylsulfate_Test[i + N_cut][j])\n",
        "\n",
        "        # Never seen 10\n",
        "        # Silver_Nitrate_Test, label 39\n",
        "        unseen_data[j + 9*500][i] = (Silver_Nitrate_Test[i + N_cut][j])\n"
      ],
      "execution_count": null,
      "outputs": []
    },
    {
      "cell_type": "code",
      "metadata": {
        "id": "0-oi4cqA4A9k"
      },
      "source": [
        "ignored_data_rescaled = np.zeros((10*500, 1024 - N_cut))\n",
        "ignored_data_maximum = np.zeros(10*500)\n",
        "ignored_data_minimum = np.zeros(10*500)\n",
        "\n",
        "for j in range(1, 10*500):\n",
        "    ignored_data_minimum[j] = np.amin(ignored_data[j][:])\n",
        "    ignored_data_maximum[j] = np.amax(ignored_data[j][:])\n",
        "\n",
        "for i in range(1,1024 - N_cut):\n",
        "    for j in range(1,10*500):\n",
        "        ignored_data_rescaled[j][i] = (ignored_data[j][i] - ignored_data_minimum[j])\n",
        "        ignored_data_rescaled[j][i] = ignored_data_rescaled[j][i]/(ignored_data_maximum[j] - ignored_data_minimum[j])\n",
        "\n",
        "ignored_data_rescaled = ignored_data_rescaled.reshape((10*500, 1024 - N_cut, 1))\n",
        "ignored_data_rescaled = ignored_data_rescaled.astype('float32')\n",
        "\n",
        "ignored_data_rescaled_last = np.ones((10*500, 1024 - N_cut))\n",
        "ignored_data_rescaled_minimum = []\n",
        "\n",
        "for j in range(10*500):\n",
        "    ignored_data_rescaled_minimum.append(np.amin(ignored_data[j][:-1]))\n",
        "\n",
        "for i in range(1024 - N_cut):\n",
        "    for j in range(10*500):\n",
        "        ignored_data_rescaled_last[j][i] = (ignored_data[j][i] - ignored_data_rescaled_minimum[j])\n",
        "\n",
        "ignored_data_rescaled = np.zeros((10*500, 1024 - N_cut - 1))\n",
        "\n",
        "for i in range(1024 - N_cut - 1):\n",
        "    for j in range(10*500):\n",
        "      ignored_data_rescaled[j][i] = ignored_data_rescaled_last[j][i]\n",
        "\n",
        "ignored_data_rescaled_maximum = []\n",
        "\n",
        "for j in range(10*500):\n",
        "    ignored_data_rescaled_maximum.append(np.amax(ignored_data_rescaled_last[j][:-1]))\n",
        "for i in range(1024 - N_cut - 1):\n",
        "    for j in range(10*500):\n",
        "      ignored_data_rescaled[j][i] = ignored_data_rescaled_last[j][i]/ignored_data_rescaled_maximum[j]"
      ],
      "execution_count": null,
      "outputs": []
    },
    {
      "cell_type": "code",
      "metadata": {
        "id": "F8y27wxM_S2I"
      },
      "source": [
        "unseen_data_rescaled = np.zeros((10*500, 1024 - N_cut))\n",
        "unseen_data_maximum = np.zeros(10*500)\n",
        "unseen_data_minimum = np.zeros(10*500)\n",
        "\n",
        "for j in range(1, 10*500):\n",
        "    unseen_data_minimum[j] = np.amin(unseen_data[j][:])\n",
        "    unseen_data_maximum[j] = np.amax(unseen_data[j][:])\n",
        "\n",
        "for i in range(1,1024 - N_cut):\n",
        "    for j in range(1,10*500):\n",
        "        unseen_data_rescaled[j][i] = (unseen_data[j][i] - unseen_data_minimum[j])\n",
        "        unseen_data_rescaled[j][i] = unseen_data_rescaled[j][i]/(unseen_data_maximum[j] - unseen_data_minimum[j])\n",
        "\n",
        "unseen_data_rescaled = unseen_data_rescaled.reshape((10*500, 1024 - N_cut, 1))\n",
        "unseen_data_rescaled = unseen_data_rescaled.astype('float32')\n",
        "\n",
        "unseen_data_rescaled_last = np.ones((10*500, 1024 - N_cut))\n",
        "unseen_data_rescaled_minimum = []\n",
        "\n",
        "for j in range(10*500):\n",
        "    unseen_data_rescaled_minimum.append(np.amin(unseen_data[j][:-1]))\n",
        "\n",
        "for i in range(1024 - N_cut):\n",
        "    for j in range(10*500):\n",
        "        unseen_data_rescaled_last[j][i] = (unseen_data[j][i] - unseen_data_rescaled_minimum[j])\n",
        "\n",
        "unseen_data_rescaled = np.zeros((10*500, 1024 - N_cut - 1))\n",
        "\n",
        "for i in range(1024 - N_cut - 1):\n",
        "    for j in range(10*500):\n",
        "      unseen_data_rescaled[j][i] = unseen_data_rescaled_last[j][i]\n",
        "\n",
        "unseen_data_rescaled_maximum = []\n",
        "\n",
        "for j in range(10*500):\n",
        "    unseen_data_rescaled_maximum.append(np.amax(unseen_data_rescaled_last[j][:-1]))\n",
        "for i in range(1024 - N_cut - 1):\n",
        "    for j in range(10*500):\n",
        "      unseen_data_rescaled[j][i] = unseen_data_rescaled_last[j][i]/unseen_data_rescaled_maximum[j]"
      ],
      "execution_count": null,
      "outputs": []
    },
    {
      "cell_type": "code",
      "metadata": {
        "id": "wRv37ErrgZ54"
      },
      "source": [
        "# Define the Identity and Convolutional Blocks\n",
        "\n",
        "from tensorflow.keras.layers import Conv1D, BatchNormalization, Activation, Add\n",
        "from tensorflow.keras import models, layers\n",
        "from tensorflow.keras import regularizers\n",
        "\n",
        "initializer = tf.keras.initializers.GlorotUniform(seed=0)\n",
        "initializer2 = tf.keras.initializers.HeUniform(seed=0)\n",
        "Stride=1\n",
        "\n",
        "def identity_block(X, f, filters, stage, block):\n",
        "\n",
        "  #defining name basis\n",
        "  ConvNameBase = 'res' + str(stage) + block + '_branch'\n",
        "  BatchNormBase = 'bn' + str(stage) + block + '_branch'\n",
        "\n",
        "  #retrieve filters\n",
        "  F1,F2,F3 = filters\n",
        "\n",
        "  #save the input value. You'll need this later to add back the main path\n",
        "  x_shortcut = X\n",
        "\n",
        "  ### First component of the main path ###\n",
        "  X = tf.keras.layers.Conv1D(filters=F1, kernel_size=1, strides=Stride, padding='same', \n",
        "             kernel_initializer=initializer#, name=ConvNameBase\n",
        "             )(X)\n",
        "  X = tf.keras.layers.BatchNormalization(axis=2, momentum=0.99, trainable=False,\n",
        "                         )(X)\n",
        "  X = tf.keras.layers.Activation('relu')(X)\n",
        "\n",
        "  ### Second component of main path ###\n",
        "  X = tf.keras.layers.Conv1D(filters=F2, kernel_size=f, strides=Stride, padding='same', \n",
        "             kernel_initializer=initializer, #name=ConvNameBase\n",
        "             )(X)\n",
        "  X = tf.keras.layers.BatchNormalization(axis=2, momentum=0.99, trainable=False,\n",
        "                         )(X)\n",
        "  X = tf.keras.layers.Activation('relu')(X)\n",
        "\n",
        "  #Third Component of main path\n",
        "  X = tf.keras.layers.Conv1D(filters=F3, kernel_size=1, strides=Stride, padding='same',\n",
        "             kernel_initializer=initializer#,name=ConvNameBase\n",
        "             )(X)\n",
        "  X = tf.keras.layers.BatchNormalization(axis=2, momentum=0.99, trainable=False,\n",
        "                         )(X)\n",
        "  \n",
        "  #Final step: add shortcut to the main path, and pass it through ReLU activation\n",
        "  X = tf.keras.layers.Add()([X, x_shortcut])\n",
        "  X = tf.keras.layers.Activation('relu')(X)\n",
        "\n",
        "  return X\n",
        "\n",
        "def convolutional_block(X, f, filters, stage, block, s=2):\n",
        "\n",
        "  #Defining name bases\n",
        "  ConvNameBase = 'res' + str(stage) + block + '_branch'\n",
        "  BatchNormBase = 'res' + str(stage) + block + '_branch'\n",
        "\n",
        "  #retrive n_filters\n",
        "  F1, F2, F3 = filters\n",
        "\n",
        "  #Save the input value\n",
        "  x_shortcut = X\n",
        "\n",
        "  #First component of the main path\n",
        "  X = tf.keras.layers.Conv1D(F1, strides=s, kernel_size=f, kernel_initializer=initializer,\n",
        "             padding='same'#, name=ConvNameBase\n",
        "             )(X)\n",
        "  X = tf.keras.layers.BatchNormalization(axis=2, momentum=0.99, trainable=False,\n",
        "                         )(X)\n",
        "  X = tf.keras.layers.Activation('relu')(X)\n",
        "\n",
        "  #Second Component of main path\n",
        "  X = tf.keras.layers.Conv1D(filters=F2, kernel_size=f, strides=Stride, padding='same',\n",
        "             kernel_initializer=initializer#, name=ConvNameBase\n",
        "             )(X)\n",
        "  X = tf.keras.layers.BatchNormalization(axis=2, momentum=0.99, trainable=False,\n",
        "                         )(X)\n",
        "  X = tf.keras.layers.Activation('relu')(X)\n",
        "\n",
        "  #Third component of main path\n",
        "  X = tf.keras.layers.Conv1D(filters=F3, kernel_size=f, strides=Stride, padding='same',\n",
        "             kernel_initializer=initializer, name=ConvNameBase)(X)\n",
        "  X = tf.keras.layers.BatchNormalization(axis=2, momentum=0.99, trainable=False,\n",
        "  )(X)\n",
        "\n",
        "  ###### SHORTCUT PATH ######\n",
        "  x_shortcut = tf.keras.layers.Conv1D(filters = F3, kernel_size=1, strides=s, \n",
        "                      padding='same', #name=ConvNameBase,\n",
        "                      kernel_initializer=initializer)(x_shortcut)\n",
        "  x_shortcut = tf.keras.layers.BatchNormalization(axis=2, momentum=0.99, trainable=False,\n",
        "                                  )(x_shortcut)\n",
        "\n",
        "  #Add shortcut to main path and pass in through ReLU activation\n",
        "  X = tf.keras.layers.Add()([X, x_shortcut])\n",
        "  X = tf.keras.layers.Activation('relu')(X)\n",
        "\n",
        "  return X"
      ],
      "execution_count": null,
      "outputs": []
    },
    {
      "cell_type": "code",
      "metadata": {
        "id": "C2X2nLdMgyjB"
      },
      "source": [
        "# ResNet26\n",
        "nb_classes = 20\n",
        "def create_model():\n",
        "\n",
        "\n",
        "    NoF = 64\n",
        "    \n",
        "    input_shape = (1024 - N_cut - 1, 1,) \n",
        "    classes = N_classes\n",
        "    x_input = tf.keras.layers.Input(input_shape)\n",
        "\n",
        "    X = tf.keras.layers.ZeroPadding1D(padding=3)(x_input)\n",
        "\n",
        "     #### stage 1 ####\n",
        "    X = tf.keras.layers.Conv1D(NoF, kernel_size=7, strides=2,\n",
        "              name='Convolution1', kernel_initializer=initializer)(X)\n",
        "    X = tf.keras.layers.BatchNormalization(name=\"BatchNormStage1\")(X)\n",
        "    X = tf.keras.layers.Activation('relu')(X)\n",
        "    X = tf.keras.layers.MaxPooling1D(3, strides=2)(X)\n",
        "\n",
        "    #### Stage 2 ####\n",
        "    X = convolutional_block(X, f=3, filters=[NoF, NoF, NoF*4], stage=2, block='a', s=1)\n",
        "    X = identity_block(X, 3, [NoF, NoF, NoF*4], stage=2, block='b')\n",
        "\n",
        "    #### Stage 3 ####\n",
        "    X = convolutional_block(X, f=3, filters=[NoF*2, NoF*2, NoF*8], stage=3, block='a')\n",
        "    X = identity_block(X, 3, [NoF*2, NoF*2, NoF*8], stage=3, block='b')\n",
        "\n",
        "    #### Stage 4 ####\n",
        "    X = convolutional_block(X, f=3, filters=[NoF*4, NoF*4, NoF*16], stage=4, block='a')\n",
        "    X = identity_block(X, 3, [NoF*4, NoF*4, NoF*16], stage=4, block='b')\n",
        "\n",
        "    #### Stage 5 ####\n",
        "    X = convolutional_block(X, f=3, filters=[NoF*4, NoF*4, NoF*32], stage=5, block='a')\n",
        "    X = identity_block(X, f=3, filters=[NoF*4, NoF*4, NoF*32], stage=5, block='b')\n",
        "\n",
        "    #### Stage 6 ####\n",
        "    X = tf.keras.layers.GlobalAveragePooling1D(name=\"GAP1D\")(X)\n",
        "\n",
        "    #### OUTPUT LAYER ####\n",
        "    X = tf.keras.layers.Flatten()(X)\n",
        "\n",
        "    X = tf.keras.layers.Dense(nb_classes, activation='softmax')(X)\n",
        "\n",
        "    res_net = tf.keras.Model(inputs = x_input, outputs=X, name='ResNet29')\n",
        "    return res_net"
      ],
      "execution_count": null,
      "outputs": []
    },
    {
      "cell_type": "code",
      "metadata": {
        "id": "w6mFTy7UgAY8"
      },
      "source": [
        "from keras import backend as K\n",
        "\n",
        "res_net1 = create_model()\n",
        "res_net2 = create_model()\n",
        "res_net3 = create_model()\n",
        "res_net4 = create_model()\n",
        "res_net5 = create_model()\n",
        "\n",
        "res_net1.load_weights(\"/content/gdrive/MyDrive/6_21_2021_run/Softmaxing_Simple_Run1.h5\")\n",
        "res_net2.load_weights(\"/content/gdrive/MyDrive/6_21_2021_run/Softmaxing_Simple_Run2.h5\")\n",
        "res_net3.load_weights(\"/content/gdrive/MyDrive/6_21_2021_run/Softmaxing_Simple_Run3.h5\")\n",
        "res_net4.load_weights(\"/content/gdrive/MyDrive/6_21_2021_run/Softmaxing_Simple_Run4.h5\")\n",
        "res_net5.load_weights(\"/content/gdrive/MyDrive/6_21_2021_run/Softmaxing_Simple_Run5.h5\")"
      ],
      "execution_count": null,
      "outputs": []
    },
    {
      "cell_type": "code",
      "metadata": {
        "id": "LOi_bayqxDn1"
      },
      "source": [
        "prediction1 = res_net1.predict(test_rescaled)\n",
        "prediction2 = res_net2.predict(test_rescaled)\n",
        "prediction3 = res_net3.predict(test_rescaled)\n",
        "prediction4 = res_net4.predict(test_rescaled)\n",
        "prediction5 = res_net5.predict(test_rescaled)\n",
        "\n",
        "prediction_test = (prediction1 + prediction2 + prediction3 + prediction4 + prediction5)/5"
      ],
      "execution_count": null,
      "outputs": []
    },
    {
      "cell_type": "markdown",
      "metadata": {
        "id": "sNv3ypjvXMsy"
      },
      "source": [
        "#Extracting Deep Features\n"
      ]
    },
    {
      "cell_type": "code",
      "metadata": {
        "id": "Th7hVWzWkf-P"
      },
      "source": [
        "get_Deep_Feature_1 = K.function([res_net1.layers[0].input],\n",
        "                                  [res_net1.layers[-2].output])\n",
        "\n",
        "get_Deep_Feature_2 = K.function([res_net2.layers[0].input],\n",
        "                                  [res_net2.layers[-2].output])\n",
        "\n",
        "get_Deep_Feature_3 = K.function([res_net3.layers[0].input],\n",
        "                                  [res_net3.layers[-2].output])\n",
        "\n",
        "get_Deep_Feature_4 = K.function([res_net4.layers[0].input],\n",
        "                                  [res_net4.layers[-2].output])\n",
        "\n",
        "get_Deep_Feature_5 = K.function([res_net5.layers[0].input],\n",
        "                                  [res_net5.layers[-2].output])\n"
      ],
      "execution_count": null,
      "outputs": []
    },
    {
      "cell_type": "code",
      "metadata": {
        "id": "rZoROriEgax5"
      },
      "source": [
        "x1 = get_Deep_Feature_1(test_rescaled)\n",
        "x2 = get_Deep_Feature_2(test_rescaled)\n",
        "x3 = get_Deep_Feature_3(test_rescaled)\n",
        "x4 = get_Deep_Feature_4(test_rescaled)\n",
        "x5 = get_Deep_Feature_5(test_rescaled)\n",
        "x = (x1[0] + x2[0] + x3[0] + x4[0] + x5[0])/5"
      ],
      "execution_count": null,
      "outputs": []
    },
    {
      "cell_type": "code",
      "metadata": {
        "id": "SX6s_b6wlxYQ"
      },
      "source": [
        "y1 = get_Deep_Feature_1(ignored_data_rescaled)\n",
        "y2 = get_Deep_Feature_2(ignored_data_rescaled)\n",
        "y3 = get_Deep_Feature_3(ignored_data_rescaled)\n",
        "y4 = get_Deep_Feature_4(ignored_data_rescaled)\n",
        "y5 = get_Deep_Feature_5(ignored_data_rescaled)\n",
        "y = (y1[0] + y2[0] + y3[0] + y4[0] + y5[0])/5"
      ],
      "execution_count": null,
      "outputs": []
    },
    {
      "cell_type": "code",
      "metadata": {
        "id": "_7Pi2W0asNTt"
      },
      "source": [
        "z1 = get_Deep_Feature_1(unseen_data_rescaled)\n",
        "z2 = get_Deep_Feature_2(unseen_data_rescaled)\n",
        "z3 = get_Deep_Feature_3(unseen_data_rescaled)\n",
        "z4 = get_Deep_Feature_4(unseen_data_rescaled)\n",
        "z5 = get_Deep_Feature_5(unseen_data_rescaled)\n",
        "z = (z1[0] + z2[0] + z3[0] + z4[0] + z5[0])/5"
      ],
      "execution_count": null,
      "outputs": []
    },
    {
      "cell_type": "code",
      "metadata": {
        "id": "41cYFDY-lqbb"
      },
      "source": [
        "def deep_feature(x, threshold1, threshold2):\n",
        "  true = 0\n",
        "  for i in range(x.shape[0]):\n",
        "    if threshold1 <= np.linalg.norm(x[i]) < threshold2:\n",
        "      true += 1\n",
        "  return true"
      ],
      "execution_count": null,
      "outputs": []
    },
    {
      "cell_type": "code",
      "metadata": {
        "colab": {
          "base_uri": "https://localhost:8080/"
        },
        "id": "IeWxensDmLj_",
        "outputId": "0995cd3f-d0fe-476c-f01d-29b4a5bac59d"
      },
      "source": [
        "deep_feature(y, 50,650)"
      ],
      "execution_count": null,
      "outputs": [
        {
          "output_type": "execute_result",
          "data": {
            "text/plain": [
              "5000"
            ]
          },
          "metadata": {},
          "execution_count": 20
        }
      ]
    },
    {
      "cell_type": "code",
      "metadata": {
        "colab": {
          "base_uri": "https://localhost:8080/"
        },
        "id": "1KahHCrPOrK2",
        "outputId": "13c55948-2d65-47c0-8a6a-260732225bd0"
      },
      "source": [
        "prediction_test.shape"
      ],
      "execution_count": null,
      "outputs": [
        {
          "output_type": "execute_result",
          "data": {
            "text/plain": [
              "(10000, 20)"
            ]
          },
          "metadata": {},
          "execution_count": 21
        }
      ]
    },
    {
      "cell_type": "code",
      "metadata": {
        "id": "doKyc4eJN08s"
      },
      "source": [
        "testFeatures = []\n",
        "for i in range(100):\n",
        "  testFeatures.append([50 + (600/100)*(i + 1/2),deep_feature(x,50 + (600/100)*i, 50 + (600/100)*(i + 1))/10000])"
      ],
      "execution_count": null,
      "outputs": []
    },
    {
      "cell_type": "code",
      "metadata": {
        "colab": {
          "base_uri": "https://localhost:8080/"
        },
        "id": "eMp_5STFP8IK",
        "outputId": "3e23020d-9a55-422d-dfeb-1f9d38e675d2"
      },
      "source": [
        "testFeatures"
      ],
      "execution_count": null,
      "outputs": [
        {
          "output_type": "execute_result",
          "data": {
            "text/plain": [
              "[[53.0, 0.0],\n",
              " [59.0, 0.0001],\n",
              " [65.0, 0.0001],\n",
              " [71.0, 0.0001],\n",
              " [77.0, 0.0001],\n",
              " [83.0, 0.0001],\n",
              " [89.0, 0.0],\n",
              " [95.0, 0.0],\n",
              " [101.0, 0.0001],\n",
              " [107.0, 0.0],\n",
              " [113.0, 0.0],\n",
              " [119.0, 0.0],\n",
              " [125.0, 0.0],\n",
              " [131.0, 0.0004],\n",
              " [137.0, 0.0],\n",
              " [143.0, 0.0001],\n",
              " [149.0, 0.0],\n",
              " [155.0, 0.0],\n",
              " [161.0, 0.005],\n",
              " [167.0, 0.0398],\n",
              " [173.0, 0.0173],\n",
              " [179.0, 0.0377],\n",
              " [185.0, 0.0007],\n",
              " [191.0, 0.0],\n",
              " [197.0, 0.0],\n",
              " [203.0, 0.0],\n",
              " [209.0, 0.0019],\n",
              " [215.0, 0.0167],\n",
              " [221.0, 0.0283],\n",
              " [227.0, 0.0196],\n",
              " [233.0, 0.0261],\n",
              " [239.0, 0.02],\n",
              " [245.0, 0.0447],\n",
              " [251.0, 0.0321],\n",
              " [257.0, 0.0094],\n",
              " [263.0, 0.0015],\n",
              " [269.0, 0.0061],\n",
              " [275.0, 0.0336],\n",
              " [281.0, 0.0424],\n",
              " [287.0, 0.0298],\n",
              " [293.0, 0.0267],\n",
              " [299.0, 0.0298],\n",
              " [305.0, 0.0208],\n",
              " [311.0, 0.0106],\n",
              " [317.0, 0.0101],\n",
              " [323.0, 0.0135],\n",
              " [329.0, 0.0158],\n",
              " [335.0, 0.0131],\n",
              " [341.0, 0.0212],\n",
              " [347.0, 0.0261],\n",
              " [353.0, 0.0231],\n",
              " [359.0, 0.0235],\n",
              " [365.0, 0.0297],\n",
              " [371.0, 0.0241],\n",
              " [377.0, 0.021],\n",
              " [383.0, 0.025],\n",
              " [389.0, 0.0275],\n",
              " [395.0, 0.0238],\n",
              " [401.0, 0.0163],\n",
              " [407.0, 0.0142],\n",
              " [413.0, 0.0086],\n",
              " [419.0, 0.0084],\n",
              " [425.0, 0.007],\n",
              " [431.0, 0.0045],\n",
              " [437.0, 0.0038],\n",
              " [443.0, 0.0053],\n",
              " [449.0, 0.0117],\n",
              " [455.0, 0.0172],\n",
              " [461.0, 0.0138],\n",
              " [467.0, 0.0109],\n",
              " [473.0, 0.0069],\n",
              " [479.0, 0.0047],\n",
              " [485.0, 0.0018],\n",
              " [491.0, 0.0021],\n",
              " [497.0, 0.0034],\n",
              " [503.0, 0.007],\n",
              " [509.0, 0.0107],\n",
              " [515.0, 0.0129],\n",
              " [521.0, 0.01],\n",
              " [527.0, 0.0068],\n",
              " [533.0, 0.0032],\n",
              " [539.0, 0.0017],\n",
              " [545.0, 0.0004],\n",
              " [551.0, 0.001],\n",
              " [557.0, 0.0008],\n",
              " [563.0, 0.0004],\n",
              " [569.0, 0.0009],\n",
              " [575.0, 0.0022],\n",
              " [581.0, 0.0021],\n",
              " [587.0, 0.0001],\n",
              " [593.0, 0.0],\n",
              " [599.0, 0.0],\n",
              " [605.0, 0.0],\n",
              " [611.0, 0.0],\n",
              " [617.0, 0.0],\n",
              " [623.0, 0.0],\n",
              " [629.0, 0.0],\n",
              " [635.0, 0.0],\n",
              " [641.0, 0.0],\n",
              " [647.0, 0.0]]"
            ]
          },
          "metadata": {},
          "execution_count": 23
        }
      ]
    },
    {
      "cell_type": "code",
      "metadata": {
        "colab": {
          "base_uri": "https://localhost:8080/"
        },
        "id": "CGEqVnRDQEF5",
        "outputId": "71284769-fa4d-4914-c932-d11719056656"
      },
      "source": [
        "sum = 0\n",
        "for i in range(100):\n",
        "  sum += testFeatures[i][-1]\n",
        "sum             "
      ],
      "execution_count": null,
      "outputs": [
        {
          "output_type": "execute_result",
          "data": {
            "text/plain": [
              "1.0000000000000002"
            ]
          },
          "metadata": {},
          "execution_count": 24
        }
      ]
    },
    {
      "cell_type": "code",
      "metadata": {
        "id": "vbjtyvtKQivl"
      },
      "source": [
        "ignoredFeatures = []\n",
        "for i in range(100):\n",
        "  ignoredFeatures.append([50 + (600/100)*(i + 1/2),deep_feature(y,50 + (600/100)*i, 50 + (600/100)*(i + 1))/5000])"
      ],
      "execution_count": null,
      "outputs": []
    },
    {
      "cell_type": "code",
      "metadata": {
        "colab": {
          "base_uri": "https://localhost:8080/"
        },
        "id": "WYtmzPXqSGke",
        "outputId": "0e2ee5e7-bd31-452a-f756-245078f9df9a"
      },
      "source": [
        "sum = 0\n",
        "for i in range(100):\n",
        "  sum += ignoredFeatures[i][-1]\n",
        "sum      "
      ],
      "execution_count": null,
      "outputs": [
        {
          "output_type": "execute_result",
          "data": {
            "text/plain": [
              "1.0"
            ]
          },
          "metadata": {},
          "execution_count": 26
        }
      ]
    },
    {
      "cell_type": "code",
      "metadata": {
        "colab": {
          "base_uri": "https://localhost:8080/"
        },
        "id": "vuNSoYb9SJ7j",
        "outputId": "bda91454-b5a1-48c7-83a9-2dbf74c0fa8a"
      },
      "source": [
        "ignoredFeatures"
      ],
      "execution_count": null,
      "outputs": [
        {
          "output_type": "execute_result",
          "data": {
            "text/plain": [
              "[[53.0, 0.0],\n",
              " [59.0, 0.0],\n",
              " [65.0, 0.0002],\n",
              " [71.0, 0.0],\n",
              " [77.0, 0.0],\n",
              " [83.0, 0.0],\n",
              " [89.0, 0.0004],\n",
              " [95.0, 0.0],\n",
              " [101.0, 0.0],\n",
              " [107.0, 0.0],\n",
              " [113.0, 0.0],\n",
              " [119.0, 0.0002],\n",
              " [125.0, 0.0],\n",
              " [131.0, 0.0002],\n",
              " [137.0, 0.0],\n",
              " [143.0, 0.0006],\n",
              " [149.0, 0.0],\n",
              " [155.0, 0.0],\n",
              " [161.0, 0.0002],\n",
              " [167.0, 0.0],\n",
              " [173.0, 0.0],\n",
              " [179.0, 0.0002],\n",
              " [185.0, 0.0002],\n",
              " [191.0, 0.0196],\n",
              " [197.0, 0.0744],\n",
              " [203.0, 0.0058],\n",
              " [209.0, 0.0002],\n",
              " [215.0, 0.0004],\n",
              " [221.0, 0.0002],\n",
              " [227.0, 0.001],\n",
              " [233.0, 0.018],\n",
              " [239.0, 0.0622],\n",
              " [245.0, 0.0152],\n",
              " [251.0, 0.0042],\n",
              " [257.0, 0.0044],\n",
              " [263.0, 0.0062],\n",
              " [269.0, 0.0238],\n",
              " [275.0, 0.0608],\n",
              " [281.0, 0.0734],\n",
              " [287.0, 0.0532],\n",
              " [293.0, 0.071],\n",
              " [299.0, 0.1026],\n",
              " [305.0, 0.0228],\n",
              " [311.0, 0.0108],\n",
              " [317.0, 0.0088],\n",
              " [323.0, 0.0104],\n",
              " [329.0, 0.0066],\n",
              " [335.0, 0.0122],\n",
              " [341.0, 0.0232],\n",
              " [347.0, 0.043],\n",
              " [353.0, 0.033],\n",
              " [359.0, 0.0146],\n",
              " [365.0, 0.0096],\n",
              " [371.0, 0.005],\n",
              " [377.0, 0.0008],\n",
              " [383.0, 0.0004],\n",
              " [389.0, 0.0],\n",
              " [395.0, 0.0],\n",
              " [401.0, 0.0],\n",
              " [407.0, 0.0],\n",
              " [413.0, 0.0],\n",
              " [419.0, 0.0032],\n",
              " [425.0, 0.0316],\n",
              " [431.0, 0.0334],\n",
              " [437.0, 0.0162],\n",
              " [443.0, 0.012],\n",
              " [449.0, 0.0162],\n",
              " [455.0, 0.0114],\n",
              " [461.0, 0.0054],\n",
              " [467.0, 0.0052],\n",
              " [473.0, 0.0056],\n",
              " [479.0, 0.0064],\n",
              " [485.0, 0.0064],\n",
              " [491.0, 0.0082],\n",
              " [497.0, 0.0064],\n",
              " [503.0, 0.0062],\n",
              " [509.0, 0.0044],\n",
              " [515.0, 0.0008],\n",
              " [521.0, 0.001],\n",
              " [527.0, 0.0006],\n",
              " [533.0, 0.0006],\n",
              " [539.0, 0.001],\n",
              " [545.0, 0.0],\n",
              " [551.0, 0.001],\n",
              " [557.0, 0.001],\n",
              " [563.0, 0.0008],\n",
              " [569.0, 0.001],\n",
              " [575.0, 0.0006],\n",
              " [581.0, 0.0006],\n",
              " [587.0, 0.0008],\n",
              " [593.0, 0.0016],\n",
              " [599.0, 0.001],\n",
              " [605.0, 0.0004],\n",
              " [611.0, 0.0008],\n",
              " [617.0, 0.002],\n",
              " [623.0, 0.0014],\n",
              " [629.0, 0.0022],\n",
              " [635.0, 0.0018],\n",
              " [641.0, 0.0008],\n",
              " [647.0, 0.0]]"
            ]
          },
          "metadata": {},
          "execution_count": 27
        }
      ]
    },
    {
      "cell_type": "code",
      "metadata": {
        "id": "7tqb1O9OSXi6"
      },
      "source": [
        "unseenFeatures = []\n",
        "for i in range(100):\n",
        "  unseenFeatures.append([50 + (600/100)*(i + 1/2),deep_feature(z,50 + (600/100)*i, 50 + (600/100)*(i + 1))/5000])"
      ],
      "execution_count": null,
      "outputs": []
    },
    {
      "cell_type": "code",
      "metadata": {
        "colab": {
          "base_uri": "https://localhost:8080/"
        },
        "id": "FyDkgwYBSb6-",
        "outputId": "5734586f-8831-4c44-b6ab-de6a53c9d6f6"
      },
      "source": [
        "sum = 0\n",
        "for i in range(100):\n",
        "  sum += unseenFeatures[i][-1]\n",
        "sum      "
      ],
      "execution_count": null,
      "outputs": [
        {
          "output_type": "execute_result",
          "data": {
            "text/plain": [
              "1.0000000000000002"
            ]
          },
          "metadata": {},
          "execution_count": 29
        }
      ]
    },
    {
      "cell_type": "code",
      "metadata": {
        "colab": {
          "base_uri": "https://localhost:8080/"
        },
        "id": "hcV80uD9SSWn",
        "outputId": "14bd2925-6aaf-40a6-fa2d-478b2d2095f8"
      },
      "source": [
        "unseenFeatures"
      ],
      "execution_count": null,
      "outputs": [
        {
          "output_type": "execute_result",
          "data": {
            "text/plain": [
              "[[53.0, 0.0],\n",
              " [59.0, 0.0],\n",
              " [65.0, 0.0],\n",
              " [71.0, 0.0],\n",
              " [77.0, 0.0],\n",
              " [83.0, 0.0],\n",
              " [89.0, 0.0],\n",
              " [95.0, 0.0],\n",
              " [101.0, 0.0],\n",
              " [107.0, 0.0],\n",
              " [113.0, 0.0],\n",
              " [119.0, 0.0002],\n",
              " [125.0, 0.0],\n",
              " [131.0, 0.0004],\n",
              " [137.0, 0.0],\n",
              " [143.0, 0.0],\n",
              " [149.0, 0.0],\n",
              " [155.0, 0.0],\n",
              " [161.0, 0.0],\n",
              " [167.0, 0.0114],\n",
              " [173.0, 0.035],\n",
              " [179.0, 0.052],\n",
              " [185.0, 0.0022],\n",
              " [191.0, 0.0076],\n",
              " [197.0, 0.0868],\n",
              " [203.0, 0.0082],\n",
              " [209.0, 0.0572],\n",
              " [215.0, 0.0568],\n",
              " [221.0, 0.1068],\n",
              " [227.0, 0.0658],\n",
              " [233.0, 0.0308],\n",
              " [239.0, 0.021],\n",
              " [245.0, 0.0268],\n",
              " [251.0, 0.0724],\n",
              " [257.0, 0.0296],\n",
              " [263.0, 0.0072],\n",
              " [269.0, 0.0258],\n",
              " [275.0, 0.061],\n",
              " [281.0, 0.069],\n",
              " [287.0, 0.041],\n",
              " [293.0, 0.0306],\n",
              " [299.0, 0.0238],\n",
              " [305.0, 0.034],\n",
              " [311.0, 0.0168],\n",
              " [317.0, 0.0084],\n",
              " [323.0, 0.004],\n",
              " [329.0, 0.0018],\n",
              " [335.0, 0.0034],\n",
              " [341.0, 0.0018],\n",
              " [347.0, 0.0004],\n",
              " [353.0, 0.0],\n",
              " [359.0, 0.0],\n",
              " [365.0, 0.0],\n",
              " [371.0, 0.0],\n",
              " [377.0, 0.0],\n",
              " [383.0, 0.0],\n",
              " [389.0, 0.0],\n",
              " [395.0, 0.0],\n",
              " [401.0, 0.0],\n",
              " [407.0, 0.0],\n",
              " [413.0, 0.0],\n",
              " [419.0, 0.0],\n",
              " [425.0, 0.0],\n",
              " [431.0, 0.0],\n",
              " [437.0, 0.0],\n",
              " [443.0, 0.0],\n",
              " [449.0, 0.0],\n",
              " [455.0, 0.0],\n",
              " [461.0, 0.0],\n",
              " [467.0, 0.0],\n",
              " [473.0, 0.0],\n",
              " [479.0, 0.0],\n",
              " [485.0, 0.0],\n",
              " [491.0, 0.0],\n",
              " [497.0, 0.0],\n",
              " [503.0, 0.0],\n",
              " [509.0, 0.0],\n",
              " [515.0, 0.0],\n",
              " [521.0, 0.0],\n",
              " [527.0, 0.0],\n",
              " [533.0, 0.0],\n",
              " [539.0, 0.0],\n",
              " [545.0, 0.0],\n",
              " [551.0, 0.0],\n",
              " [557.0, 0.0],\n",
              " [563.0, 0.0],\n",
              " [569.0, 0.0],\n",
              " [575.0, 0.0],\n",
              " [581.0, 0.0],\n",
              " [587.0, 0.0],\n",
              " [593.0, 0.0],\n",
              " [599.0, 0.0],\n",
              " [605.0, 0.0],\n",
              " [611.0, 0.0],\n",
              " [617.0, 0.0],\n",
              " [623.0, 0.0],\n",
              " [629.0, 0.0],\n",
              " [635.0, 0.0],\n",
              " [641.0, 0.0],\n",
              " [647.0, 0.0]]"
            ]
          },
          "metadata": {},
          "execution_count": 30
        }
      ]
    },
    {
      "cell_type": "code",
      "metadata": {
        "id": "5HRbX0dEg_57"
      },
      "source": [
        "order = {0,1,2,3,4,5,6,7,8,9,10,11,12,13,14,15,16,17,18,19}\n",
        "\n",
        "chem_species = {}\n",
        "# Labels 0 - 4\n",
        "chem_species[0] = \"DL Alpha Alanine\"\n",
        "chem_species[1] = \"DL Aspartic Acid\"\n",
        "chem_species[2] = \"DL Isoleucine\"\n",
        "chem_species[3] = \"DL Leucine\"\n",
        "chem_species[4] = \"DL Methionine\"\n",
        "\n",
        "# Labels 5 - 9\n",
        "chem_species[5] = \"DL Phenylalanine\"\n",
        "chem_species[6] = \"DL Serine\"\n",
        "chem_species[7] = \"DL Threonine\"\n",
        "chem_species[8] = \"DL Tyrosine\"\n",
        "chem_species[9] = \"DL Valine\"\n",
        "\n",
        "# Labels 10 - 14\n",
        "chem_species[10] = \"Glycine\"\n",
        "chem_species[11] = \"L Arginine HCl\"\n",
        "chem_species[12] = \"L Asparagine Monohydrate\"\n",
        "chem_species[13] = \"L Cystine\"\n",
        "chem_species[14] = \"L Glutamic Acid\"\n",
        "\n",
        "# Labels 15 - 19\n",
        "chem_species[15] = \"L Histidine HCl\"\n",
        "chem_species[16] = \"L Lysine HCl\"\n",
        "chem_species[17] = \"L (+) Cysteine HCl\"\n",
        "chem_species[18] = \"L Proline\"\n",
        "chem_species[19] = \"L Tryptophan\""
      ],
      "execution_count": null,
      "outputs": []
    },
    {
      "cell_type": "code",
      "metadata": {
        "id": "NLhFDVcZCK5d"
      },
      "source": [
        "#res_net.save_weights(\"/content/gdrive/MyDrive/6_21_2021_run/Softmaxing_Simple_Run5.h5\", overwrite=True)"
      ],
      "execution_count": null,
      "outputs": []
    },
    {
      "cell_type": "code",
      "metadata": {
        "id": "vZGmvKTtCxrB"
      },
      "source": [
        "res_net1 = create_model()\n",
        "res_net2 = create_model()\n",
        "res_net3 = create_model()\n",
        "res_net4 = create_model()\n",
        "res_net5 = create_model()\n",
        "\n",
        "res_net1.load_weights(\"/content/gdrive/MyDrive/6_21_2021_run/Softmaxing_Simple_Run1.h5\")\n",
        "res_net2.load_weights(\"/content/gdrive/MyDrive/6_21_2021_run/Softmaxing_Simple_Run2.h5\")\n",
        "res_net3.load_weights(\"/content/gdrive/MyDrive/6_21_2021_run/Softmaxing_Simple_Run3.h5\")\n",
        "res_net4.load_weights(\"/content/gdrive/MyDrive/6_21_2021_run/Softmaxing_Simple_Run4.h5\")\n",
        "res_net5.load_weights(\"/content/gdrive/MyDrive/6_21_2021_run/Softmaxing_Simple_Run5.h5\")\n",
        "prediction1 = res_net1.predict(test_rescaled)\n",
        "prediction2 = res_net2.predict(test_rescaled)\n",
        "prediction3 = res_net3.predict(test_rescaled)\n",
        "prediction4 = res_net4.predict(test_rescaled)\n",
        "prediction5 = res_net5.predict(test_rescaled)\n",
        "\n",
        "prediction_test = (prediction1 + prediction2 + prediction3 + prediction4 + prediction5)/5"
      ],
      "execution_count": null,
      "outputs": []
    },
    {
      "cell_type": "code",
      "metadata": {
        "colab": {
          "base_uri": "https://localhost:8080/"
        },
        "id": "tUWTSVlz-qt5",
        "outputId": "c0f01418-d9cb-4fff-f48f-605c2b1281c9"
      },
      "source": [
        "true = 0\n",
        "for i in range(20*500):\n",
        "  if prediction_test.argmax(axis=1)[i] == int(test_label[i]):\n",
        "    true += 1\n",
        "true/(20*500)"
      ],
      "execution_count": null,
      "outputs": [
        {
          "output_type": "execute_result",
          "data": {
            "text/plain": [
              "0.9995"
            ]
          },
          "metadata": {},
          "execution_count": 32
        }
      ]
    },
    {
      "cell_type": "markdown",
      "metadata": {
        "id": "7AAlGgdYZJfH"
      },
      "source": [
        "#Accuracy = 99.95%"
      ]
    },
    {
      "cell_type": "code",
      "metadata": {
        "id": "B71Vx6GFAkx2"
      },
      "source": [
        "def thresholding(threshold):\n",
        "  true = 0\n",
        "  for i in range(prediction_test.shape[0]):\n",
        "    if prediction_test.argmax(axis=1)[i] == int(test_label[i]) and max(prediction_test[i]) > threshold:\n",
        "      true += 1\n",
        "  return true/(prediction_test.shape[0])"
      ],
      "execution_count": null,
      "outputs": []
    },
    {
      "cell_type": "code",
      "metadata": {
        "colab": {
          "base_uri": "https://localhost:8080/"
        },
        "id": "LuvCnkINuqLQ",
        "outputId": "1e062a38-6eec-4681-dd2e-25300bf98ab3"
      },
      "source": [
        "CorrectThresholding = []\n",
        "for i in range(90):\n",
        "  CorrectThresholding.append([0.1 + 0.01*i,100*thresholding(0.1 + 0.01*i)])\n",
        "for i in range(10):\n",
        "  CorrectThresholding.append([0.99 + 0.001*i,100*thresholding(0.99 + 0.001*i)])\n",
        "CorrectThresholding"
      ],
      "execution_count": null,
      "outputs": [
        {
          "output_type": "execute_result",
          "data": {
            "text/plain": [
              "[[0.1, 99.95],\n",
              " [0.11, 99.95],\n",
              " [0.12000000000000001, 99.95],\n",
              " [0.13, 99.95],\n",
              " [0.14, 99.95],\n",
              " [0.15000000000000002, 99.95],\n",
              " [0.16, 99.95],\n",
              " [0.17, 99.95],\n",
              " [0.18, 99.95],\n",
              " [0.19, 99.95],\n",
              " [0.2, 99.95],\n",
              " [0.21000000000000002, 99.95],\n",
              " [0.22, 99.95],\n",
              " [0.23, 99.95],\n",
              " [0.24000000000000002, 99.95],\n",
              " [0.25, 99.95],\n",
              " [0.26, 99.95],\n",
              " [0.27, 99.95],\n",
              " [0.28, 99.95],\n",
              " [0.29000000000000004, 99.95],\n",
              " [0.30000000000000004, 99.95],\n",
              " [0.31, 99.95],\n",
              " [0.32, 99.95],\n",
              " [0.33, 99.95],\n",
              " [0.33999999999999997, 99.95],\n",
              " [0.35, 99.95],\n",
              " [0.36, 99.95],\n",
              " [0.37, 99.95],\n",
              " [0.38, 99.95],\n",
              " [0.39, 99.95],\n",
              " [0.4, 99.95],\n",
              " [0.41000000000000003, 99.94],\n",
              " [0.42000000000000004, 99.92],\n",
              " [0.43000000000000005, 99.92],\n",
              " [0.44000000000000006, 99.89],\n",
              " [0.45000000000000007, 99.87],\n",
              " [0.45999999999999996, 99.83999999999999],\n",
              " [0.47, 99.8],\n",
              " [0.48, 99.78],\n",
              " [0.49, 99.78],\n",
              " [0.5, 99.77000000000001],\n",
              " [0.51, 99.75],\n",
              " [0.52, 99.72],\n",
              " [0.53, 99.7],\n",
              " [0.54, 99.69],\n",
              " [0.55, 99.67],\n",
              " [0.56, 99.66000000000001],\n",
              " [0.5700000000000001, 99.66000000000001],\n",
              " [0.58, 99.64],\n",
              " [0.59, 99.58],\n",
              " [0.6, 99.53],\n",
              " [0.61, 99.38],\n",
              " [0.62, 98.72],\n",
              " [0.63, 98.02],\n",
              " [0.64, 97.46000000000001],\n",
              " [0.65, 97.1],\n",
              " [0.66, 96.75],\n",
              " [0.67, 96.39999999999999],\n",
              " [0.6799999999999999, 96.07],\n",
              " [0.69, 95.78999999999999],\n",
              " [0.7, 95.5],\n",
              " [0.71, 95.27],\n",
              " [0.72, 94.92],\n",
              " [0.73, 94.78999999999999],\n",
              " [0.74, 94.63000000000001],\n",
              " [0.75, 94.51],\n",
              " [0.76, 94.37],\n",
              " [0.77, 94.22],\n",
              " [0.78, 94.13],\n",
              " [0.79, 94.1],\n",
              " [0.8, 94.04],\n",
              " [0.8099999999999999, 94.03],\n",
              " [0.82, 94.01],\n",
              " [0.83, 93.99],\n",
              " [0.84, 93.97],\n",
              " [0.85, 93.94],\n",
              " [0.86, 93.92],\n",
              " [0.87, 93.89999999999999],\n",
              " [0.88, 93.88],\n",
              " [0.89, 93.84],\n",
              " [0.9, 93.83],\n",
              " [0.91, 93.82000000000001],\n",
              " [0.92, 93.78],\n",
              " [0.93, 93.7],\n",
              " [0.94, 93.65],\n",
              " [0.95, 93.54],\n",
              " [0.96, 93.46],\n",
              " [0.97, 93.37],\n",
              " [0.98, 93.27],\n",
              " [0.99, 92.99],\n",
              " [0.99, 92.99],\n",
              " [0.991, 92.92],\n",
              " [0.992, 92.81],\n",
              " [0.993, 92.69],\n",
              " [0.994, 92.63],\n",
              " [0.995, 92.44],\n",
              " [0.996, 92.27],\n",
              " [0.997, 92.09],\n",
              " [0.998, 91.49000000000001],\n",
              " [0.999, 90.92]]"
            ]
          },
          "metadata": {},
          "execution_count": 34
        }
      ]
    },
    {
      "cell_type": "code",
      "metadata": {
        "id": "9e6IqDE4DfWn"
      },
      "source": [
        "def dontknow(threshold):\n",
        "  notknown = 0\n",
        "  for i in range(prediction_test.shape[0]):\n",
        "    if max(prediction_test[i]) <= threshold:\n",
        "      notknown += 1\n",
        "  return notknown/(prediction_test.shape[0])"
      ],
      "execution_count": null,
      "outputs": []
    },
    {
      "cell_type": "code",
      "metadata": {
        "colab": {
          "base_uri": "https://localhost:8080/"
        },
        "id": "ugrkSoF03A9S",
        "outputId": "53f3b88d-d60d-4833-cfe2-a8b3e40eb744"
      },
      "source": [
        "DontKnowThresholding = []\n",
        "for i in range(90):\n",
        "  DontKnowThresholding.append([0.1 + 0.01*i,100*dontknow(0.1 + 0.01*i)])\n",
        "for i in range(10):\n",
        "  DontKnowThresholding.append([0.99 + 0.001*i,100*dontknow(0.99 + 0.001*i)])\n",
        "DontKnowThresholding"
      ],
      "execution_count": null,
      "outputs": [
        {
          "output_type": "execute_result",
          "data": {
            "text/plain": [
              "[[0.1, 0.0],\n",
              " [0.11, 0.0],\n",
              " [0.12000000000000001, 0.0],\n",
              " [0.13, 0.0],\n",
              " [0.14, 0.0],\n",
              " [0.15000000000000002, 0.0],\n",
              " [0.16, 0.0],\n",
              " [0.17, 0.0],\n",
              " [0.18, 0.0],\n",
              " [0.19, 0.0],\n",
              " [0.2, 0.0],\n",
              " [0.21000000000000002, 0.0],\n",
              " [0.22, 0.0],\n",
              " [0.23, 0.0],\n",
              " [0.24000000000000002, 0.0],\n",
              " [0.25, 0.0],\n",
              " [0.26, 0.0],\n",
              " [0.27, 0.0],\n",
              " [0.28, 0.0],\n",
              " [0.29000000000000004, 0.0],\n",
              " [0.30000000000000004, 0.0],\n",
              " [0.31, 0.0],\n",
              " [0.32, 0.0],\n",
              " [0.33, 0.0],\n",
              " [0.33999999999999997, 0.0],\n",
              " [0.35, 0.0],\n",
              " [0.36, 0.0],\n",
              " [0.37, 0.0],\n",
              " [0.38, 0.0],\n",
              " [0.39, 0.0],\n",
              " [0.4, 0.0],\n",
              " [0.41000000000000003, 0.01],\n",
              " [0.42000000000000004, 0.04],\n",
              " [0.43000000000000005, 0.04],\n",
              " [0.44000000000000006, 0.06999999999999999],\n",
              " [0.45000000000000007, 0.09],\n",
              " [0.45999999999999996, 0.12],\n",
              " [0.47, 0.16],\n",
              " [0.48, 0.18],\n",
              " [0.49, 0.18],\n",
              " [0.5, 0.19],\n",
              " [0.51, 0.21],\n",
              " [0.52, 0.24],\n",
              " [0.53, 0.26],\n",
              " [0.54, 0.27],\n",
              " [0.55, 0.29],\n",
              " [0.56, 0.3],\n",
              " [0.5700000000000001, 0.3],\n",
              " [0.58, 0.32],\n",
              " [0.59, 0.38999999999999996],\n",
              " [0.6, 0.44],\n",
              " [0.61, 0.59],\n",
              " [0.62, 1.25],\n",
              " [0.63, 1.95],\n",
              " [0.64, 2.5100000000000002],\n",
              " [0.65, 2.87],\n",
              " [0.66, 3.2300000000000004],\n",
              " [0.67, 3.58],\n",
              " [0.6799999999999999, 3.91],\n",
              " [0.69, 4.19],\n",
              " [0.7, 4.4799999999999995],\n",
              " [0.71, 4.71],\n",
              " [0.72, 5.07],\n",
              " [0.73, 5.2],\n",
              " [0.74, 5.36],\n",
              " [0.75, 5.48],\n",
              " [0.76, 5.62],\n",
              " [0.77, 5.7700000000000005],\n",
              " [0.78, 5.86],\n",
              " [0.79, 5.89],\n",
              " [0.8, 5.949999999999999],\n",
              " [0.8099999999999999, 5.96],\n",
              " [0.82, 5.9799999999999995],\n",
              " [0.83, 6.0],\n",
              " [0.84, 6.02],\n",
              " [0.85, 6.05],\n",
              " [0.86, 6.069999999999999],\n",
              " [0.87, 6.09],\n",
              " [0.88, 6.11],\n",
              " [0.89, 6.15],\n",
              " [0.9, 6.16],\n",
              " [0.91, 6.17],\n",
              " [0.92, 6.21],\n",
              " [0.93, 6.29],\n",
              " [0.94, 6.35],\n",
              " [0.95, 6.460000000000001],\n",
              " [0.96, 6.54],\n",
              " [0.97, 6.63],\n",
              " [0.98, 6.7299999999999995],\n",
              " [0.99, 7.01],\n",
              " [0.99, 7.01],\n",
              " [0.991, 7.08],\n",
              " [0.992, 7.19],\n",
              " [0.993, 7.31],\n",
              " [0.994, 7.37],\n",
              " [0.995, 7.5600000000000005],\n",
              " [0.996, 7.7299999999999995],\n",
              " [0.997, 7.91],\n",
              " [0.998, 8.51],\n",
              " [0.999, 9.08]]"
            ]
          },
          "metadata": {},
          "execution_count": 36
        }
      ]
    },
    {
      "cell_type": "code",
      "metadata": {
        "id": "fLdhbk0ZFM_b"
      },
      "source": [
        "prediction1_ignored = res_net1.predict(ignored_data_rescaled)\n",
        "prediction2_ignored = res_net2.predict(ignored_data_rescaled)\n",
        "prediction3_ignored = res_net3.predict(ignored_data_rescaled)\n",
        "prediction4_ignored = res_net4.predict(ignored_data_rescaled)\n",
        "prediction5_ignored = res_net5.predict(ignored_data_rescaled)\n",
        "\n",
        "prediction_ignored = (prediction1_ignored + prediction2_ignored + prediction3_ignored + prediction4_ignored + prediction5_ignored)/5"
      ],
      "execution_count": null,
      "outputs": []
    },
    {
      "cell_type": "code",
      "metadata": {
        "colab": {
          "base_uri": "https://localhost:8080/"
        },
        "id": "QbaronIcC1db",
        "outputId": "ee559a0a-fc5d-4e67-dc3b-df649f54dda3"
      },
      "source": [
        "prediction_ignored.shape"
      ],
      "execution_count": null,
      "outputs": [
        {
          "output_type": "execute_result",
          "data": {
            "text/plain": [
              "(5000, 20)"
            ]
          },
          "metadata": {},
          "execution_count": 38
        }
      ]
    },
    {
      "cell_type": "code",
      "metadata": {
        "id": "ZgTWvCo-Dt7V"
      },
      "source": [
        "def misclassifyignore(threshold):\n",
        "  misclassifyignore = 0\n",
        "  for i in range(prediction_ignored.shape[0]):\n",
        "    if max(prediction_ignored[i]) > threshold:\n",
        "      misclassifyignore += 1\n",
        "  return misclassifyignore/(prediction_ignored.shape[0])"
      ],
      "execution_count": null,
      "outputs": []
    },
    {
      "cell_type": "code",
      "metadata": {
        "colab": {
          "base_uri": "https://localhost:8080/"
        },
        "id": "EQ8hspEPGZhm",
        "outputId": "c25d0557-917e-4200-df5c-bd2a400d4a81"
      },
      "source": [
        "IgnoreThresholding = []\n",
        "for i in range(90):\n",
        "  IgnoreThresholding.append([0.1 + 0.01*i,100*misclassifyignore(0.1 + 0.01*i)])\n",
        "for i in range(10):\n",
        "  IgnoreThresholding.append([0.99 + 0.001*i,100*misclassifyignore(0.99 + 0.001*i)])\n",
        "IgnoreThresholding"
      ],
      "execution_count": null,
      "outputs": [
        {
          "output_type": "execute_result",
          "data": {
            "text/plain": [
              "[[0.1, 100.0],\n",
              " [0.11, 100.0],\n",
              " [0.12000000000000001, 100.0],\n",
              " [0.13, 100.0],\n",
              " [0.14, 100.0],\n",
              " [0.15000000000000002, 100.0],\n",
              " [0.16, 100.0],\n",
              " [0.17, 100.0],\n",
              " [0.18, 100.0],\n",
              " [0.19, 100.0],\n",
              " [0.2, 100.0],\n",
              " [0.21000000000000002, 100.0],\n",
              " [0.22, 100.0],\n",
              " [0.23, 100.0],\n",
              " [0.24000000000000002, 100.0],\n",
              " [0.25, 100.0],\n",
              " [0.26, 99.74],\n",
              " [0.27, 99.32],\n",
              " [0.28, 98.78],\n",
              " [0.29000000000000004, 97.78],\n",
              " [0.30000000000000004, 95.88],\n",
              " [0.31, 93.58],\n",
              " [0.32, 91.52],\n",
              " [0.33, 90.38000000000001],\n",
              " [0.33999999999999997, 89.94],\n",
              " [0.35, 89.84],\n",
              " [0.36, 89.74],\n",
              " [0.37, 89.60000000000001],\n",
              " [0.38, 89.48],\n",
              " [0.39, 89.36],\n",
              " [0.4, 89.14],\n",
              " [0.41000000000000003, 88.92],\n",
              " [0.42000000000000004, 88.86],\n",
              " [0.43000000000000005, 88.68],\n",
              " [0.44000000000000006, 88.46000000000001],\n",
              " [0.45000000000000007, 87.96000000000001],\n",
              " [0.45999999999999996, 87.62],\n",
              " [0.47, 87.38],\n",
              " [0.48, 87.1],\n",
              " [0.49, 86.83999999999999],\n",
              " [0.5, 86.38],\n",
              " [0.51, 85.98],\n",
              " [0.52, 85.56],\n",
              " [0.53, 85.14],\n",
              " [0.54, 84.76],\n",
              " [0.55, 84.34],\n",
              " [0.56, 83.96000000000001],\n",
              " [0.5700000000000001, 83.52000000000001],\n",
              " [0.58, 83.14],\n",
              " [0.59, 82.69999999999999],\n",
              " [0.6, 80.38],\n",
              " [0.61, 77.24],\n",
              " [0.62, 74.4],\n",
              " [0.63, 71.8],\n",
              " [0.64, 70.34],\n",
              " [0.65, 69.12],\n",
              " [0.66, 67.64],\n",
              " [0.67, 66.12],\n",
              " [0.6799999999999999, 64.4],\n",
              " [0.69, 61.839999999999996],\n",
              " [0.7, 58.720000000000006],\n",
              " [0.71, 54.67999999999999],\n",
              " [0.72, 50.760000000000005],\n",
              " [0.73, 46.98],\n",
              " [0.74, 44.879999999999995],\n",
              " [0.75, 42.980000000000004],\n",
              " [0.76, 41.14],\n",
              " [0.77, 39.28],\n",
              " [0.78, 37.72],\n",
              " [0.79, 36.42],\n",
              " [0.8, 33.48],\n",
              " [0.8099999999999999, 32.440000000000005],\n",
              " [0.82, 31.7],\n",
              " [0.83, 30.98],\n",
              " [0.84, 30.380000000000003],\n",
              " [0.85, 29.64],\n",
              " [0.86, 29.020000000000003],\n",
              " [0.87, 28.139999999999997],\n",
              " [0.88, 27.500000000000004],\n",
              " [0.89, 27.02],\n",
              " [0.9, 26.240000000000002],\n",
              " [0.91, 25.6],\n",
              " [0.92, 24.6],\n",
              " [0.93, 23.419999999999998],\n",
              " [0.94, 22.38],\n",
              " [0.95, 21.279999999999998],\n",
              " [0.96, 19.96],\n",
              " [0.97, 18.32],\n",
              " [0.98, 16.580000000000002],\n",
              " [0.99, 13.88],\n",
              " [0.99, 13.88],\n",
              " [0.991, 13.700000000000001],\n",
              " [0.992, 13.44],\n",
              " [0.993, 13.020000000000001],\n",
              " [0.994, 12.6],\n",
              " [0.995, 12.24],\n",
              " [0.996, 11.98],\n",
              " [0.997, 11.64],\n",
              " [0.998, 11.08],\n",
              " [0.999, 10.36]]"
            ]
          },
          "metadata": {},
          "execution_count": 40
        }
      ]
    },
    {
      "cell_type": "code",
      "metadata": {
        "id": "EtbTA9phGk8j"
      },
      "source": [
        "prediction1_unknown = res_net1.predict(unseen_data_rescaled)\n",
        "prediction2_unknown = res_net2.predict(unseen_data_rescaled)\n",
        "prediction3_unknown = res_net3.predict(unseen_data_rescaled)\n",
        "prediction4_unknown = res_net4.predict(unseen_data_rescaled)\n",
        "prediction5_unknown = res_net5.predict(unseen_data_rescaled)\n",
        "prediction_unknown = (prediction1_unknown + prediction2_unknown + prediction3_unknown + prediction4_unknown + prediction5_unknown)/5"
      ],
      "execution_count": null,
      "outputs": []
    },
    {
      "cell_type": "code",
      "metadata": {
        "id": "Q1MWJS5MG62C"
      },
      "source": [
        "def misclassifyunknown(threshold):\n",
        "  misclassifyunknown = 0\n",
        "  for i in range(prediction_unknown.shape[0]):\n",
        "    if max(prediction_unknown[i]) > threshold:\n",
        "      misclassifyunknown += 1\n",
        "  return misclassifyunknown/(prediction_unknown.shape[0])"
      ],
      "execution_count": null,
      "outputs": []
    },
    {
      "cell_type": "code",
      "metadata": {
        "colab": {
          "base_uri": "https://localhost:8080/"
        },
        "id": "GcGd1ovKH5z0",
        "outputId": "07d5f28b-d224-4349-bd51-6e5068c9208a"
      },
      "source": [
        "UnknownMisclassify = []\n",
        "for i in range(90):\n",
        "  UnknownMisclassify.append([0.1 + 0.01*i,100*misclassifyunknown(0.1 + 0.01*i)])\n",
        "for i in range(10):\n",
        "  UnknownMisclassify.append([0.99 + 0.001*i,100*misclassifyunknown(0.99 + 0.001*i)])\n",
        "UnknownMisclassify"
      ],
      "execution_count": null,
      "outputs": [
        {
          "output_type": "execute_result",
          "data": {
            "text/plain": [
              "[[0.1, 100.0],\n",
              " [0.11, 100.0],\n",
              " [0.12000000000000001, 100.0],\n",
              " [0.13, 100.0],\n",
              " [0.14, 100.0],\n",
              " [0.15000000000000002, 100.0],\n",
              " [0.16, 100.0],\n",
              " [0.17, 100.0],\n",
              " [0.18, 100.0],\n",
              " [0.19, 100.0],\n",
              " [0.2, 100.0],\n",
              " [0.21000000000000002, 100.0],\n",
              " [0.22, 100.0],\n",
              " [0.23, 100.0],\n",
              " [0.24000000000000002, 100.0],\n",
              " [0.25, 100.0],\n",
              " [0.26, 100.0],\n",
              " [0.27, 100.0],\n",
              " [0.28, 100.0],\n",
              " [0.29000000000000004, 100.0],\n",
              " [0.30000000000000004, 100.0],\n",
              " [0.31, 100.0],\n",
              " [0.32, 100.0],\n",
              " [0.33, 99.96000000000001],\n",
              " [0.33999999999999997, 99.88],\n",
              " [0.35, 99.83999999999999],\n",
              " [0.36, 99.7],\n",
              " [0.37, 99.0],\n",
              " [0.38, 98.52],\n",
              " [0.39, 97.66],\n",
              " [0.4, 95.89999999999999],\n",
              " [0.41000000000000003, 90.75999999999999],\n",
              " [0.42000000000000004, 87.26],\n",
              " [0.43000000000000005, 83.78],\n",
              " [0.44000000000000006, 80.76],\n",
              " [0.45000000000000007, 78.68],\n",
              " [0.45999999999999996, 76.75999999999999],\n",
              " [0.47, 75.7],\n",
              " [0.48, 74.2],\n",
              " [0.49, 73.16],\n",
              " [0.5, 72.04],\n",
              " [0.51, 71.08],\n",
              " [0.52, 70.02000000000001],\n",
              " [0.53, 68.47999999999999],\n",
              " [0.54, 67.52],\n",
              " [0.55, 66.67999999999999],\n",
              " [0.56, 65.82000000000001],\n",
              " [0.5700000000000001, 64.64],\n",
              " [0.58, 63.480000000000004],\n",
              " [0.59, 61.660000000000004],\n",
              " [0.6, 59.540000000000006],\n",
              " [0.61, 57.199999999999996],\n",
              " [0.62, 55.120000000000005],\n",
              " [0.63, 53.36],\n",
              " [0.64, 51.92],\n",
              " [0.65, 50.62],\n",
              " [0.66, 49.54],\n",
              " [0.67, 48.64],\n",
              " [0.6799999999999999, 47.78],\n",
              " [0.69, 47.12],\n",
              " [0.7, 46.56],\n",
              " [0.71, 45.92],\n",
              " [0.72, 45.32],\n",
              " [0.73, 44.54],\n",
              " [0.74, 43.6],\n",
              " [0.75, 42.38],\n",
              " [0.76, 41.199999999999996],\n",
              " [0.77, 39.26],\n",
              " [0.78, 35.44],\n",
              " [0.79, 30.599999999999998],\n",
              " [0.8, 27.6],\n",
              " [0.8099999999999999, 24.86],\n",
              " [0.82, 22.5],\n",
              " [0.83, 20.7],\n",
              " [0.84, 19.34],\n",
              " [0.85, 18.52],\n",
              " [0.86, 17.9],\n",
              " [0.87, 17.26],\n",
              " [0.88, 16.54],\n",
              " [0.89, 15.840000000000002],\n",
              " [0.9, 15.120000000000001],\n",
              " [0.91, 14.32],\n",
              " [0.92, 13.86],\n",
              " [0.93, 13.4],\n",
              " [0.94, 12.920000000000002],\n",
              " [0.95, 12.280000000000001],\n",
              " [0.96, 11.32],\n",
              " [0.97, 10.5],\n",
              " [0.98, 10.02],\n",
              " [0.99, 10.0],\n",
              " [0.99, 10.0],\n",
              " [0.991, 10.0],\n",
              " [0.992, 10.0],\n",
              " [0.993, 10.0],\n",
              " [0.994, 10.0],\n",
              " [0.995, 10.0],\n",
              " [0.996, 10.0],\n",
              " [0.997, 9.98],\n",
              " [0.998, 9.959999999999999],\n",
              " [0.999, 9.94]]"
            ]
          },
          "metadata": {},
          "execution_count": 43
        }
      ]
    },
    {
      "cell_type": "code",
      "metadata": {
        "id": "qwd5MbrSG1aO"
      },
      "source": [
        "def false_identify(threshold):\n",
        "  false_identify = 0\n",
        "  for i in range(prediction_test.shape[0]):\n",
        "    if prediction_test.argmax(axis=1)[i] != int(test_label[i]) and max(prediction_test[i]) > threshold:\n",
        "      false_identify += 1\n",
        "  return false_identify/(prediction_test.shape[0])"
      ],
      "execution_count": null,
      "outputs": []
    },
    {
      "cell_type": "code",
      "metadata": {
        "colab": {
          "base_uri": "https://localhost:8080/"
        },
        "id": "eJVqYHU-a4vV",
        "outputId": "9e57609e-56aa-4637-d20a-934aa24d9415"
      },
      "source": [
        "FalseIdentify = []\n",
        "for i in range(90):\n",
        "  FalseIdentify.append([0.1 + 0.01*i,100*false_identify(0.1 + 0.01*i)])\n",
        "for i in range(10):\n",
        "  FalseIdentify.append([0.99 + 0.001*i,100*false_identify(0.99 + 0.001*i)])\n",
        "FalseIdentify"
      ],
      "execution_count": null,
      "outputs": [
        {
          "output_type": "execute_result",
          "data": {
            "text/plain": [
              "[[0.1, 0.05],\n",
              " [0.11, 0.05],\n",
              " [0.12000000000000001, 0.05],\n",
              " [0.13, 0.05],\n",
              " [0.14, 0.05],\n",
              " [0.15000000000000002, 0.05],\n",
              " [0.16, 0.05],\n",
              " [0.17, 0.05],\n",
              " [0.18, 0.05],\n",
              " [0.19, 0.05],\n",
              " [0.2, 0.05],\n",
              " [0.21000000000000002, 0.05],\n",
              " [0.22, 0.05],\n",
              " [0.23, 0.05],\n",
              " [0.24000000000000002, 0.05],\n",
              " [0.25, 0.05],\n",
              " [0.26, 0.05],\n",
              " [0.27, 0.05],\n",
              " [0.28, 0.05],\n",
              " [0.29000000000000004, 0.05],\n",
              " [0.30000000000000004, 0.05],\n",
              " [0.31, 0.05],\n",
              " [0.32, 0.05],\n",
              " [0.33, 0.05],\n",
              " [0.33999999999999997, 0.05],\n",
              " [0.35, 0.05],\n",
              " [0.36, 0.05],\n",
              " [0.37, 0.05],\n",
              " [0.38, 0.05],\n",
              " [0.39, 0.05],\n",
              " [0.4, 0.05],\n",
              " [0.41000000000000003, 0.05],\n",
              " [0.42000000000000004, 0.04],\n",
              " [0.43000000000000005, 0.04],\n",
              " [0.44000000000000006, 0.04],\n",
              " [0.45000000000000007, 0.04],\n",
              " [0.45999999999999996, 0.04],\n",
              " [0.47, 0.04],\n",
              " [0.48, 0.04],\n",
              " [0.49, 0.04],\n",
              " [0.5, 0.04],\n",
              " [0.51, 0.04],\n",
              " [0.52, 0.04],\n",
              " [0.53, 0.04],\n",
              " [0.54, 0.04],\n",
              " [0.55, 0.04],\n",
              " [0.56, 0.04],\n",
              " [0.5700000000000001, 0.04],\n",
              " [0.58, 0.04],\n",
              " [0.59, 0.03],\n",
              " [0.6, 0.03],\n",
              " [0.61, 0.03],\n",
              " [0.62, 0.03],\n",
              " [0.63, 0.03],\n",
              " [0.64, 0.03],\n",
              " [0.65, 0.03],\n",
              " [0.66, 0.02],\n",
              " [0.67, 0.02],\n",
              " [0.6799999999999999, 0.02],\n",
              " [0.69, 0.02],\n",
              " [0.7, 0.02],\n",
              " [0.71, 0.02],\n",
              " [0.72, 0.01],\n",
              " [0.73, 0.01],\n",
              " [0.74, 0.01],\n",
              " [0.75, 0.01],\n",
              " [0.76, 0.01],\n",
              " [0.77, 0.01],\n",
              " [0.78, 0.01],\n",
              " [0.79, 0.01],\n",
              " [0.8, 0.01],\n",
              " [0.8099999999999999, 0.01],\n",
              " [0.82, 0.01],\n",
              " [0.83, 0.01],\n",
              " [0.84, 0.01],\n",
              " [0.85, 0.01],\n",
              " [0.86, 0.01],\n",
              " [0.87, 0.01],\n",
              " [0.88, 0.01],\n",
              " [0.89, 0.01],\n",
              " [0.9, 0.01],\n",
              " [0.91, 0.01],\n",
              " [0.92, 0.01],\n",
              " [0.93, 0.01],\n",
              " [0.94, 0.0],\n",
              " [0.95, 0.0],\n",
              " [0.96, 0.0],\n",
              " [0.97, 0.0],\n",
              " [0.98, 0.0],\n",
              " [0.99, 0.0],\n",
              " [0.99, 0.0],\n",
              " [0.991, 0.0],\n",
              " [0.992, 0.0],\n",
              " [0.993, 0.0],\n",
              " [0.994, 0.0],\n",
              " [0.995, 0.0],\n",
              " [0.996, 0.0],\n",
              " [0.997, 0.0],\n",
              " [0.998, 0.0],\n",
              " [0.999, 0.0]]"
            ]
          },
          "metadata": {},
          "execution_count": 46
        }
      ]
    },
    {
      "cell_type": "code",
      "metadata": {
        "id": "vVy1-BUOUBGE"
      },
      "source": [
        "prediction1_unknown = res_net1.predict(unseen_data_rescaled)\n",
        "prediction2_unknown = res_net2.predict(unseen_data_rescaled)\n",
        "prediction3_unknown = res_net3.predict(unseen_data_rescaled)\n",
        "prediction4_unknown = res_net4.predict(unseen_data_rescaled)\n",
        "prediction5_unknown = res_net5.predict(unseen_data_rescaled)\n",
        "prediction_unknown = (prediction1_unknown + prediction2_unknown + prediction3_unknown + prediction4_unknown + prediction5_unknown)/5"
      ],
      "execution_count": null,
      "outputs": []
    },
    {
      "cell_type": "code",
      "metadata": {
        "id": "7xMt1HIRKQJZ"
      },
      "source": [
        "Unseen_labels_total = np.zeros(10*500)\n",
        "for i in range(10*500):\n",
        "  Unseen_labels_total[i] = 20"
      ],
      "execution_count": null,
      "outputs": []
    },
    {
      "cell_type": "code",
      "metadata": {
        "id": "fLMVUbi2Zwv1"
      },
      "source": [
        "predictions_total = np.concatenate((prediction_test,prediction_unknown),axis=0)"
      ],
      "execution_count": null,
      "outputs": []
    },
    {
      "cell_type": "code",
      "metadata": {
        "colab": {
          "base_uri": "https://localhost:8080/"
        },
        "id": "IAdm0C-NKc4T",
        "outputId": "31d2b517-7626-4adb-ef14-ad0b806e1773"
      },
      "source": [
        "predictions_total.shape"
      ],
      "execution_count": null,
      "outputs": [
        {
          "output_type": "execute_result",
          "data": {
            "text/plain": [
              "(15000, 20)"
            ]
          },
          "metadata": {},
          "execution_count": 50
        }
      ]
    },
    {
      "cell_type": "code",
      "metadata": {
        "id": "yxnjJXa1KdzA"
      },
      "source": [
        "labels_total = np.concatenate((test_label,Unseen_labels_total),axis=0)"
      ],
      "execution_count": null,
      "outputs": []
    },
    {
      "cell_type": "code",
      "metadata": {
        "colab": {
          "base_uri": "https://localhost:8080/"
        },
        "id": "xlSKNqvEKr4p",
        "outputId": "d0d1fd2d-a5d2-459b-84fb-ae3e868382e2"
      },
      "source": [
        "!pip uninstall umap\n",
        "!pip install umap-learn\n",
        "import umap.umap_ as umap\n",
        "reducer = umap.UMAP()"
      ],
      "execution_count": null,
      "outputs": [
        {
          "output_type": "stream",
          "name": "stdout",
          "text": [
            "\u001b[33mWARNING: Skipping umap as it is not installed.\u001b[0m\n",
            "Collecting umap-learn\n",
            "  Downloading umap-learn-0.5.2.tar.gz (86 kB)\n",
            "\u001b[K     |████████████████████████████████| 86 kB 2.6 MB/s \n",
            "\u001b[?25hRequirement already satisfied: numpy>=1.17 in /usr/local/lib/python3.7/dist-packages (from umap-learn) (1.19.5)\n",
            "Requirement already satisfied: scikit-learn>=0.22 in /usr/local/lib/python3.7/dist-packages (from umap-learn) (0.22.2.post1)\n",
            "Requirement already satisfied: scipy>=1.0 in /usr/local/lib/python3.7/dist-packages (from umap-learn) (1.4.1)\n",
            "Requirement already satisfied: numba>=0.49 in /usr/local/lib/python3.7/dist-packages (from umap-learn) (0.51.2)\n",
            "Collecting pynndescent>=0.5\n",
            "  Downloading pynndescent-0.5.5.tar.gz (1.1 MB)\n",
            "\u001b[K     |████████████████████████████████| 1.1 MB 35.1 MB/s \n",
            "\u001b[?25hRequirement already satisfied: tqdm in /usr/local/lib/python3.7/dist-packages (from umap-learn) (4.62.3)\n",
            "Requirement already satisfied: setuptools in /usr/local/lib/python3.7/dist-packages (from numba>=0.49->umap-learn) (57.4.0)\n",
            "Requirement already satisfied: llvmlite<0.35,>=0.34.0.dev0 in /usr/local/lib/python3.7/dist-packages (from numba>=0.49->umap-learn) (0.34.0)\n",
            "Requirement already satisfied: joblib>=0.11 in /usr/local/lib/python3.7/dist-packages (from pynndescent>=0.5->umap-learn) (1.0.1)\n",
            "Building wheels for collected packages: umap-learn, pynndescent\n",
            "  Building wheel for umap-learn (setup.py) ... \u001b[?25l\u001b[?25hdone\n",
            "  Created wheel for umap-learn: filename=umap_learn-0.5.2-py3-none-any.whl size=82709 sha256=17812de8c9709679ba3b197ada98d09cb6da44b38613604d119ed75daaccc142\n",
            "  Stored in directory: /root/.cache/pip/wheels/84/1b/c6/aaf68a748122632967cef4dffef68224eb16798b6793257d82\n",
            "  Building wheel for pynndescent (setup.py) ... \u001b[?25l\u001b[?25hdone\n",
            "  Created wheel for pynndescent: filename=pynndescent-0.5.5-py3-none-any.whl size=52603 sha256=4e899c1c5b2e091cf9f5f0491688f3cd5833a622379b462bbabb1fed68e2e8b3\n",
            "  Stored in directory: /root/.cache/pip/wheels/af/e9/33/04db1436df0757c42fda8ea6796d7a8586e23c85fac355f476\n",
            "Successfully built umap-learn pynndescent\n",
            "Installing collected packages: pynndescent, umap-learn\n",
            "Successfully installed pynndescent-0.5.5 umap-learn-0.5.2\n"
          ]
        }
      ]
    },
    {
      "cell_type": "code",
      "metadata": {
        "colab": {
          "base_uri": "https://localhost:8080/"
        },
        "id": "RMSBrl2yKw5K",
        "outputId": "900fbaaa-35bf-4aab-9d1d-ba62293e892a"
      },
      "source": [
        "mapper2 = umap.UMAP().fit(predictions_total)"
      ],
      "execution_count": null,
      "outputs": [
        {
          "output_type": "stream",
          "name": "stderr",
          "text": [
            "/usr/local/lib/python3.7/dist-packages/numba/np/ufunc/parallel.py:363: NumbaWarning: The TBB threading layer requires TBB version 2019.5 or later i.e., TBB_INTERFACE_VERSION >= 11005. Found TBB_INTERFACE_VERSION = 9107. The TBB threading layer is disabled.\n",
            "  warnings.warn(problem)\n"
          ]
        }
      ]
    },
    {
      "cell_type": "code",
      "metadata": {
        "colab": {
          "base_uri": "https://localhost:8080/",
          "height": 1000
        },
        "id": "2vCP1eHZK79C",
        "outputId": "beb93fb9-e83f-40cd-ab54-ec1bbf85ecfc"
      },
      "source": [
        "import umap\n",
        "!pip install umap-learn[plot]\n",
        "\n",
        "import umap.plot"
      ],
      "execution_count": null,
      "outputs": [
        {
          "output_type": "stream",
          "name": "stdout",
          "text": [
            "Requirement already satisfied: umap-learn[plot] in /usr/local/lib/python3.7/dist-packages (0.5.2)\n",
            "Requirement already satisfied: tqdm in /usr/local/lib/python3.7/dist-packages (from umap-learn[plot]) (4.62.3)\n",
            "Requirement already satisfied: numpy>=1.17 in /usr/local/lib/python3.7/dist-packages (from umap-learn[plot]) (1.19.5)\n",
            "Requirement already satisfied: numba>=0.49 in /usr/local/lib/python3.7/dist-packages (from umap-learn[plot]) (0.51.2)\n",
            "Requirement already satisfied: scikit-learn>=0.22 in /usr/local/lib/python3.7/dist-packages (from umap-learn[plot]) (0.22.2.post1)\n",
            "Requirement already satisfied: scipy>=1.0 in /usr/local/lib/python3.7/dist-packages (from umap-learn[plot]) (1.4.1)\n",
            "Requirement already satisfied: pynndescent>=0.5 in /usr/local/lib/python3.7/dist-packages (from umap-learn[plot]) (0.5.5)\n",
            "Requirement already satisfied: matplotlib in /usr/local/lib/python3.7/dist-packages (from umap-learn[plot]) (3.2.2)\n",
            "Requirement already satisfied: scikit-image in /usr/local/lib/python3.7/dist-packages (from umap-learn[plot]) (0.16.2)\n",
            "Requirement already satisfied: holoviews in /usr/local/lib/python3.7/dist-packages (from umap-learn[plot]) (1.14.6)\n",
            "Collecting datashader\n",
            "  Downloading datashader-0.13.0-py2.py3-none-any.whl (15.8 MB)\n",
            "\u001b[K     |████████████████████████████████| 15.8 MB 584 bytes/s \n",
            "\u001b[?25hRequirement already satisfied: pandas in /usr/local/lib/python3.7/dist-packages (from umap-learn[plot]) (1.1.5)\n",
            "Requirement already satisfied: bokeh in /usr/local/lib/python3.7/dist-packages (from umap-learn[plot]) (2.3.3)\n",
            "Requirement already satisfied: colorcet in /usr/local/lib/python3.7/dist-packages (from umap-learn[plot]) (2.0.6)\n",
            "Requirement already satisfied: seaborn in /usr/local/lib/python3.7/dist-packages (from umap-learn[plot]) (0.11.2)\n",
            "Requirement already satisfied: setuptools in /usr/local/lib/python3.7/dist-packages (from numba>=0.49->umap-learn[plot]) (57.4.0)\n",
            "Requirement already satisfied: llvmlite<0.35,>=0.34.0.dev0 in /usr/local/lib/python3.7/dist-packages (from numba>=0.49->umap-learn[plot]) (0.34.0)\n",
            "Requirement already satisfied: joblib>=0.11 in /usr/local/lib/python3.7/dist-packages (from pynndescent>=0.5->umap-learn[plot]) (1.0.1)\n",
            "Requirement already satisfied: tornado>=5.1 in /usr/local/lib/python3.7/dist-packages (from bokeh->umap-learn[plot]) (5.1.1)\n",
            "Requirement already satisfied: typing-extensions>=3.7.4 in /usr/local/lib/python3.7/dist-packages (from bokeh->umap-learn[plot]) (3.7.4.3)\n",
            "Requirement already satisfied: packaging>=16.8 in /usr/local/lib/python3.7/dist-packages (from bokeh->umap-learn[plot]) (21.0)\n",
            "Requirement already satisfied: pillow>=7.1.0 in /usr/local/lib/python3.7/dist-packages (from bokeh->umap-learn[plot]) (7.1.2)\n",
            "Requirement already satisfied: python-dateutil>=2.1 in /usr/local/lib/python3.7/dist-packages (from bokeh->umap-learn[plot]) (2.8.2)\n",
            "Requirement already satisfied: Jinja2>=2.9 in /usr/local/lib/python3.7/dist-packages (from bokeh->umap-learn[plot]) (2.11.3)\n",
            "Requirement already satisfied: PyYAML>=3.10 in /usr/local/lib/python3.7/dist-packages (from bokeh->umap-learn[plot]) (3.13)\n",
            "Requirement already satisfied: MarkupSafe>=0.23 in /usr/local/lib/python3.7/dist-packages (from Jinja2>=2.9->bokeh->umap-learn[plot]) (2.0.1)\n",
            "Requirement already satisfied: pyparsing>=2.0.2 in /usr/local/lib/python3.7/dist-packages (from packaging>=16.8->bokeh->umap-learn[plot]) (2.4.7)\n",
            "Requirement already satisfied: six>=1.5 in /usr/local/lib/python3.7/dist-packages (from python-dateutil>=2.1->bokeh->umap-learn[plot]) (1.15.0)\n",
            "Requirement already satisfied: param>=1.7.0 in /usr/local/lib/python3.7/dist-packages (from colorcet->umap-learn[plot]) (1.11.1)\n",
            "Requirement already satisfied: pyct>=0.4.4 in /usr/local/lib/python3.7/dist-packages (from colorcet->umap-learn[plot]) (0.4.8)\n",
            "Collecting datashape>=0.5.1\n",
            "  Downloading datashape-0.5.2.tar.gz (76 kB)\n",
            "\u001b[K     |████████████████████████████████| 76 kB 3.9 MB/s \n",
            "\u001b[?25hRequirement already satisfied: xarray>=0.9.6 in /usr/local/lib/python3.7/dist-packages (from datashader->umap-learn[plot]) (0.18.2)\n",
            "Requirement already satisfied: dask[complete]>=0.18.0 in /usr/local/lib/python3.7/dist-packages (from datashader->umap-learn[plot]) (2.12.0)\n",
            "Collecting distributed>=2.0\n",
            "  Downloading distributed-2021.10.0-py3-none-any.whl (791 kB)\n",
            "\u001b[K     |████████████████████████████████| 791 kB 40.2 MB/s \n",
            "\u001b[?25hCollecting fsspec>=0.6.0\n",
            "  Downloading fsspec-2021.10.1-py3-none-any.whl (125 kB)\n",
            "\u001b[K     |████████████████████████████████| 125 kB 53.8 MB/s \n",
            "\u001b[?25hRequirement already satisfied: toolz>=0.7.3 in /usr/local/lib/python3.7/dist-packages (from dask[complete]>=0.18.0->datashader->umap-learn[plot]) (0.11.1)\n",
            "Collecting partd>=0.3.10\n",
            "  Downloading partd-1.2.0-py3-none-any.whl (19 kB)\n",
            "Requirement already satisfied: cloudpickle>=0.2.1 in /usr/local/lib/python3.7/dist-packages (from dask[complete]>=0.18.0->datashader->umap-learn[plot]) (1.3.0)\n",
            "Collecting multipledispatch>=0.4.7\n",
            "  Downloading multipledispatch-0.6.0-py3-none-any.whl (11 kB)\n",
            "Requirement already satisfied: msgpack>=0.6.0 in /usr/local/lib/python3.7/dist-packages (from distributed>=2.0->dask[complete]>=0.18.0->datashader->umap-learn[plot]) (1.0.2)\n",
            "Requirement already satisfied: sortedcontainers!=2.0.0,!=2.0.1 in /usr/local/lib/python3.7/dist-packages (from distributed>=2.0->dask[complete]>=0.18.0->datashader->umap-learn[plot]) (2.4.0)\n",
            "Requirement already satisfied: tblib>=1.6.0 in /usr/local/lib/python3.7/dist-packages (from distributed>=2.0->dask[complete]>=0.18.0->datashader->umap-learn[plot]) (1.7.0)\n",
            "Requirement already satisfied: zict>=0.1.3 in /usr/local/lib/python3.7/dist-packages (from distributed>=2.0->dask[complete]>=0.18.0->datashader->umap-learn[plot]) (2.0.0)\n",
            "Collecting distributed>=2.0\n",
            "  Downloading distributed-2021.9.1-py3-none-any.whl (786 kB)\n",
            "\u001b[K     |████████████████████████████████| 786 kB 67.5 MB/s \n",
            "\u001b[?25h  Downloading distributed-2021.9.0-py3-none-any.whl (779 kB)\n",
            "\u001b[K     |████████████████████████████████| 779 kB 56.3 MB/s \n",
            "\u001b[?25hRequirement already satisfied: click>=6.6 in /usr/local/lib/python3.7/dist-packages (from distributed>=2.0->dask[complete]>=0.18.0->datashader->umap-learn[plot]) (7.1.2)\n",
            "  Downloading distributed-2021.8.1-py3-none-any.whl (778 kB)\n",
            "\u001b[K     |████████████████████████████████| 778 kB 48.0 MB/s \n",
            "\u001b[?25h  Downloading distributed-2021.8.0-py3-none-any.whl (776 kB)\n",
            "\u001b[K     |████████████████████████████████| 776 kB 45.3 MB/s \n",
            "\u001b[?25h  Downloading distributed-2021.7.2-py3-none-any.whl (769 kB)\n",
            "\u001b[K     |████████████████████████████████| 769 kB 49.3 MB/s \n",
            "\u001b[?25h  Downloading distributed-2021.7.1-py3-none-any.whl (766 kB)\n",
            "\u001b[K     |████████████████████████████████| 766 kB 37.9 MB/s \n",
            "\u001b[?25h  Downloading distributed-2021.7.0-py3-none-any.whl (1.0 MB)\n",
            "\u001b[K     |████████████████████████████████| 1.0 MB 64.0 MB/s \n",
            "\u001b[?25h  Downloading distributed-2021.6.2-py3-none-any.whl (722 kB)\n",
            "\u001b[K     |████████████████████████████████| 722 kB 23.9 MB/s \n",
            "\u001b[?25h  Downloading distributed-2021.6.1-py3-none-any.whl (722 kB)\n",
            "\u001b[K     |████████████████████████████████| 722 kB 41.5 MB/s \n",
            "\u001b[?25h  Downloading distributed-2021.6.0-py3-none-any.whl (715 kB)\n",
            "\u001b[K     |████████████████████████████████| 715 kB 34.1 MB/s \n",
            "\u001b[?25h  Downloading distributed-2021.5.1-py3-none-any.whl (705 kB)\n",
            "\u001b[K     |████████████████████████████████| 705 kB 42.3 MB/s \n",
            "\u001b[?25h  Downloading distributed-2021.5.0-py3-none-any.whl (699 kB)\n",
            "\u001b[K     |████████████████████████████████| 699 kB 24.8 MB/s \n",
            "\u001b[?25h  Downloading distributed-2021.4.1-py3-none-any.whl (696 kB)\n",
            "\u001b[K     |████████████████████████████████| 696 kB 35.7 MB/s \n",
            "\u001b[?25h  Downloading distributed-2021.4.0-py3-none-any.whl (684 kB)\n",
            "\u001b[K     |████████████████████████████████| 684 kB 31.4 MB/s \n",
            "\u001b[?25h  Downloading distributed-2021.3.1-py3-none-any.whl (679 kB)\n",
            "\u001b[K     |████████████████████████████████| 679 kB 38.4 MB/s \n",
            "\u001b[?25h  Downloading distributed-2021.3.0-py3-none-any.whl (675 kB)\n",
            "\u001b[K     |████████████████████████████████| 675 kB 48.8 MB/s \n",
            "\u001b[?25h  Downloading distributed-2021.2.0-py3-none-any.whl (675 kB)\n",
            "\u001b[K     |████████████████████████████████| 675 kB 39.5 MB/s \n",
            "\u001b[?25h  Downloading distributed-2021.1.1-py3-none-any.whl (672 kB)\n",
            "\u001b[K     |████████████████████████████████| 672 kB 28.3 MB/s \n",
            "\u001b[?25h  Downloading distributed-2021.1.0-py3-none-any.whl (671 kB)\n",
            "\u001b[K     |████████████████████████████████| 671 kB 33.6 MB/s \n",
            "\u001b[?25h  Downloading distributed-2020.12.0-py3-none-any.whl (669 kB)\n",
            "\u001b[K     |████████████████████████████████| 669 kB 36.8 MB/s \n",
            "\u001b[?25h  Downloading distributed-2.30.1-py3-none-any.whl (656 kB)\n",
            "\u001b[K     |████████████████████████████████| 656 kB 40.3 MB/s \n",
            "\u001b[?25hRequirement already satisfied: psutil>=5.0 in /usr/local/lib/python3.7/dist-packages (from distributed>=2.0->dask[complete]>=0.18.0->datashader->umap-learn[plot]) (5.4.8)\n",
            "Collecting cloudpickle>=0.2.1\n",
            "  Downloading cloudpickle-2.0.0-py3-none-any.whl (25 kB)\n",
            "Requirement already satisfied: pytz>=2017.2 in /usr/local/lib/python3.7/dist-packages (from pandas->umap-learn[plot]) (2018.9)\n",
            "Collecting locket\n",
            "  Downloading locket-0.2.1-py2.py3-none-any.whl (4.1 kB)\n",
            "Requirement already satisfied: heapdict in /usr/local/lib/python3.7/dist-packages (from zict>=0.1.3->distributed>=2.0->dask[complete]>=0.18.0->datashader->umap-learn[plot]) (1.0.1)\n",
            "Requirement already satisfied: panel>=0.8.0 in /usr/local/lib/python3.7/dist-packages (from holoviews->umap-learn[plot]) (0.12.1)\n",
            "Requirement already satisfied: pyviz-comms>=0.7.4 in /usr/local/lib/python3.7/dist-packages (from holoviews->umap-learn[plot]) (2.1.0)\n",
            "Requirement already satisfied: requests in /usr/local/lib/python3.7/dist-packages (from panel>=0.8.0->holoviews->umap-learn[plot]) (2.23.0)\n",
            "Requirement already satisfied: bleach in /usr/local/lib/python3.7/dist-packages (from panel>=0.8.0->holoviews->umap-learn[plot]) (4.1.0)\n",
            "Requirement already satisfied: markdown in /usr/local/lib/python3.7/dist-packages (from panel>=0.8.0->holoviews->umap-learn[plot]) (3.3.4)\n",
            "Requirement already satisfied: webencodings in /usr/local/lib/python3.7/dist-packages (from bleach->panel>=0.8.0->holoviews->umap-learn[plot]) (0.5.1)\n",
            "Requirement already satisfied: importlib-metadata in /usr/local/lib/python3.7/dist-packages (from markdown->panel>=0.8.0->holoviews->umap-learn[plot]) (4.8.1)\n",
            "Requirement already satisfied: zipp>=0.5 in /usr/local/lib/python3.7/dist-packages (from importlib-metadata->markdown->panel>=0.8.0->holoviews->umap-learn[plot]) (3.6.0)\n",
            "Requirement already satisfied: cycler>=0.10 in /usr/local/lib/python3.7/dist-packages (from matplotlib->umap-learn[plot]) (0.10.0)\n",
            "Requirement already satisfied: kiwisolver>=1.0.1 in /usr/local/lib/python3.7/dist-packages (from matplotlib->umap-learn[plot]) (1.3.2)\n",
            "Requirement already satisfied: idna<3,>=2.5 in /usr/local/lib/python3.7/dist-packages (from requests->panel>=0.8.0->holoviews->umap-learn[plot]) (2.10)\n",
            "Requirement already satisfied: chardet<4,>=3.0.2 in /usr/local/lib/python3.7/dist-packages (from requests->panel>=0.8.0->holoviews->umap-learn[plot]) (3.0.4)\n",
            "Requirement already satisfied: certifi>=2017.4.17 in /usr/local/lib/python3.7/dist-packages (from requests->panel>=0.8.0->holoviews->umap-learn[plot]) (2021.5.30)\n",
            "Requirement already satisfied: urllib3!=1.25.0,!=1.25.1,<1.26,>=1.21.1 in /usr/local/lib/python3.7/dist-packages (from requests->panel>=0.8.0->holoviews->umap-learn[plot]) (1.24.3)\n",
            "Requirement already satisfied: imageio>=2.3.0 in /usr/local/lib/python3.7/dist-packages (from scikit-image->umap-learn[plot]) (2.4.1)\n",
            "Requirement already satisfied: PyWavelets>=0.4.0 in /usr/local/lib/python3.7/dist-packages (from scikit-image->umap-learn[plot]) (1.1.1)\n",
            "Requirement already satisfied: networkx>=2.0 in /usr/local/lib/python3.7/dist-packages (from scikit-image->umap-learn[plot]) (2.6.3)\n",
            "Building wheels for collected packages: datashape\n",
            "  Building wheel for datashape (setup.py) ... \u001b[?25l\u001b[?25hdone\n",
            "  Created wheel for datashape: filename=datashape-0.5.2-py3-none-any.whl size=59438 sha256=1caac201a499fe4b1d6d14024d3e115751d47a392c9a0c2a52a14057b5a9a319\n",
            "  Stored in directory: /root/.cache/pip/wheels/b5/b7/80/333a5c3312ed4cd54f5d5b869868c14e0c6002cb5c7238b52d\n",
            "Successfully built datashape\n",
            "Installing collected packages: locket, cloudpickle, partd, multipledispatch, fsspec, distributed, datashape, datashader\n",
            "  Attempting uninstall: cloudpickle\n",
            "    Found existing installation: cloudpickle 1.3.0\n",
            "    Uninstalling cloudpickle-1.3.0:\n",
            "      Successfully uninstalled cloudpickle-1.3.0\n",
            "  Attempting uninstall: distributed\n",
            "    Found existing installation: distributed 1.25.3\n",
            "    Uninstalling distributed-1.25.3:\n",
            "      Successfully uninstalled distributed-1.25.3\n",
            "\u001b[31mERROR: pip's dependency resolver does not currently take into account all the packages that are installed. This behaviour is the source of the following dependency conflicts.\n",
            "gym 0.17.3 requires cloudpickle<1.7.0,>=1.2.0, but you have cloudpickle 2.0.0 which is incompatible.\u001b[0m\n",
            "Successfully installed cloudpickle-2.0.0 datashader-0.13.0 datashape-0.5.2 distributed-2.30.1 fsspec-2021.10.1 locket-0.2.1 multipledispatch-0.6.0 partd-1.2.0\n"
          ]
        },
        {
          "output_type": "display_data",
          "data": {
            "application/vnd.colab-display-data+json": {
              "pip_warning": {
                "packages": [
                  "cloudpickle"
                ]
              }
            }
          },
          "metadata": {}
        }
      ]
    },
    {
      "cell_type": "code",
      "metadata": {
        "colab": {
          "base_uri": "https://localhost:8080/",
          "height": 655
        },
        "id": "0CvLf13wLHMT",
        "outputId": "c4d31121-74ce-4f4b-cbfc-c23567eccc2e"
      },
      "source": [
        "umap.plot.points(mapper2, labels=labels_total)"
      ],
      "execution_count": null,
      "outputs": [
        {
          "output_type": "execute_result",
          "data": {
            "text/plain": [
              "<matplotlib.axes._subplots.AxesSubplot at 0x7fc329cb2590>"
            ]
          },
          "metadata": {},
          "execution_count": 55
        },
        {
          "output_type": "display_data",
          "data": {
            "image/png": "[encoded data removed]",
            "text/plain": [
              "<Figure size 800x800 with 1 Axes>"
            ]
          },
          "metadata": {}
        }
      ]
    },
    {
      "cell_type": "code",
      "metadata": {
        "id": "GW3DCPT4cO8U"
      },
      "source": [
        "c = [\"DL Alpha Alanine\",\"DL Aspartic Acid\",\"DL Isoleucine\",\"DL Leucine\",\n",
        "\"DL Methionine\", \"DL Phenylalanine\"\n",
        ", \"DL Serine\"\n",
        ", \"DL Threonine\"\n",
        ", \"DL Tyrosine\"\n",
        ", \"DL Valine\", \"Glycine\"\n",
        ", \"L Arginine HCl\"\n",
        ",\"L Asparagine Monohydrate\"\n",
        ", \"L Cystine\", \"L Glutamic Acid\",\"L Histidine HCl\",\n",
        "\"L Lysine HCl\",\n",
        "\"L (+) Cysteine HCl\",\n",
        " \"L Proline\",\"L Tryptophan\", \"Never seen before\"]"
      ],
      "execution_count": null,
      "outputs": []
    },
    {
      "cell_type": "code",
      "metadata": {
        "colab": {
          "base_uri": "https://localhost:8080/",
          "height": 594
        },
        "id": "pKx2JdJAdX8m",
        "outputId": "43dbf693-f16f-4a2e-ff72-6592b8107765"
      },
      "source": [
        "embedding = umap.UMAP(n_neighbors=15,min_dist=0.1).fit_transform(predictions_total)\n",
        "\n",
        "target = np.hstack(labels_total)\n",
        "\n",
        "fig, ax = plt.subplots(1, figsize=(14, 10))\n",
        "plt.scatter(*embedding.T, s=0.3, c=target, cmap='Spectral', alpha=1.0)\n",
        "plt.setp(ax, xticks=[], yticks=[])\n",
        "cbar = plt.colorbar(boundaries=np.arange(22) -0.5)\n",
        "cbar.set_ticks(np.arange(21))\n",
        "cbar.set_ticklabels(c)\n",
        "plt.title('Naive thresholding of softmax score');"
      ],
      "execution_count": null,
      "outputs": [
        {
          "output_type": "display_data",
          "data": {
            "image/png": "[encoded data removed]",
            "text/plain": [
              "<Figure size 1008x720 with 2 Axes>"
            ]
          },
          "metadata": {
            "needs_background": "light"
          }
        }
      ]
    },
    {
      "cell_type": "code",
      "metadata": {
        "id": "R2YSbMeXdtCj"
      },
      "source": [
        ""
      ],
      "execution_count": null,
      "outputs": []
    }
  ]
}